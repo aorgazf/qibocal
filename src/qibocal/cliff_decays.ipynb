{
 "cells": [
  {
   "cell_type": "code",
   "execution_count": 1,
   "metadata": {},
   "outputs": [],
   "source": [
    "from copy import deepcopy\n",
    "import numpy as np\n",
    "from sympy import *\n",
    "from sympy.physics.quantum import TensorProduct\n",
    "from sympy.physics.quantum.dagger import Dagger\n",
    "# from qibocal.calibrations.protocols.abstract import SingleCliffordsFactory\n",
    "# from qibocal.calibrations.protocols.utils import ONEQUBIT_CLIFFORD_PARAMS"
   ]
  },
  {
   "cell_type": "code",
   "execution_count": 2,
   "metadata": {},
   "outputs": [],
   "source": [
    "from fourier_info import get_noisy_fourier, round_sympy, get_noise, get_decays, get_fourier, get_mql, get_povm_list, density_to_pauli, check_validation, get_noisy_fourier_sym, sympy_to_pauli_op, noisy_gates_dict"
   ]
  },
  {
   "cell_type": "code",
   "execution_count": null,
   "metadata": {},
   "outputs": [],
   "source": [
    "def disp(a):\n",
    "    display(Matirx(a.round(3)))"
   ]
  },
  {
   "cell_type": "code",
   "execution_count": 3,
   "metadata": {},
   "outputs": [],
   "source": [
    "import numpy as np\n",
    "from scipy.linalg import expm\n",
    "J = 0\n",
    "o1 = np.pi\n",
    "hamiltonian = np.array([[o1, 0, 0, J],\n",
    "                        [0, 0, J, 0],\n",
    "                        [0, J, 0, 0],\n",
    "                        [J, 0, 0, -o1]], dtype=complex)\n"
   ]
  },
  {
   "cell_type": "code",
   "execution_count": 8,
   "metadata": {},
   "outputs": [
    {
     "data": {
      "text/latex": [
       "$\\displaystyle \\left[\\begin{matrix}1.0 a \\overline{a} + 1.0 b \\overline{b} & 0 & 0 & 0\\\\0 & 0.5 a^{2} e^{- i \\varphi} - 0.5 b^{2} e^{- i \\varphi} + 0.5 e^{i \\varphi} \\overline{a}^{2} - 0.5 e^{i \\varphi} \\overline{b}^{2} & - 0.5 i a^{2} e^{- i \\varphi} - 0.5 i b^{2} e^{- i \\varphi} + 0.5 i e^{i \\varphi} \\overline{a}^{2} + 0.5 i e^{i \\varphi} \\overline{b}^{2} & - 1.0 a b e^{- i \\varphi} - 1.0 e^{i \\varphi} \\overline{a} \\overline{b}\\\\0 & 0.707106781186547 i \\left(0.707106781186547 a^{2} e^{- i \\varphi} - 0.707106781186547 b^{2} e^{- i \\varphi}\\right) - 0.707106781186547 i \\left(0.707106781186547 e^{i \\varphi} \\overline{a}^{2} - 0.707106781186547 e^{i \\varphi} \\overline{b}^{2}\\right) & 0.707106781186547 i \\left(- 0.707106781186547 i a^{2} e^{- i \\varphi} - 0.707106781186547 i b^{2} e^{- i \\varphi}\\right) - 0.707106781186547 i \\left(0.707106781186547 i e^{i \\varphi} \\overline{a}^{2} + 0.707106781186547 i e^{i \\varphi} \\overline{b}^{2}\\right) & - 1.0 i a b e^{- i \\varphi} + 1.0 i e^{i \\varphi} \\overline{a} \\overline{b}\\\\0 & 1.0 a \\overline{b} + 1.0 b \\overline{a} & - 1.0 i a \\overline{b} + 1.0 i b \\overline{a} & 1.0 a \\overline{a} - 1.0 b \\overline{b}\\end{matrix}\\right]$"
      ],
      "text/plain": [
       "Matrix([\n",
       "[1.0*a*conjugate(a) + 1.0*b*conjugate(b),                                                                                                                                                                                                                             0,                                                                                                                                                                                                                                      0,                                                                         0],\n",
       "[                                      0,                                                                                                     0.5*a**2*exp(-I*varphi) - 0.5*b**2*exp(-I*varphi) + 0.5*exp(I*varphi)*conjugate(a)**2 - 0.5*exp(I*varphi)*conjugate(b)**2,                                                                                                     -0.5*I*a**2*exp(-I*varphi) - 0.5*I*b**2*exp(-I*varphi) + 0.5*I*exp(I*varphi)*conjugate(a)**2 + 0.5*I*exp(I*varphi)*conjugate(b)**2,     -1.0*a*b*exp(-I*varphi) - 1.0*exp(I*varphi)*conjugate(a)*conjugate(b)],\n",
       "[                                      0, 0.707106781186547*I*(0.707106781186547*a**2*exp(-I*varphi) - 0.707106781186547*b**2*exp(-I*varphi)) - 0.707106781186547*I*(0.707106781186547*exp(I*varphi)*conjugate(a)**2 - 0.707106781186547*exp(I*varphi)*conjugate(b)**2), 0.707106781186547*I*(-0.707106781186547*I*a**2*exp(-I*varphi) - 0.707106781186547*I*b**2*exp(-I*varphi)) - 0.707106781186547*I*(0.707106781186547*I*exp(I*varphi)*conjugate(a)**2 + 0.707106781186547*I*exp(I*varphi)*conjugate(b)**2), -1.0*I*a*b*exp(-I*varphi) + 1.0*I*exp(I*varphi)*conjugate(a)*conjugate(b)],\n",
       "[                                      0,                                                                                                                                                                                       1.0*a*conjugate(b) + 1.0*b*conjugate(a),                                                                                                                                                                                           -1.0*I*a*conjugate(b) + 1.0*I*b*conjugate(a),                                   1.0*a*conjugate(a) - 1.0*b*conjugate(b)]])"
      ]
     },
     "execution_count": 8,
     "metadata": {},
     "output_type": "execute_result"
    }
   ],
   "source": [
    "noise"
   ]
  },
  {
   "cell_type": "code",
   "execution_count": 38,
   "metadata": {},
   "outputs": [
    {
     "data": {
      "text/latex": [
       "$\\displaystyle \\left[\\begin{matrix}a & b\\\\- e^{i p} \\overline{b} & e^{i p} \\overline{a}\\end{matrix}\\right]$"
      ],
      "text/plain": [
       "Matrix([\n",
       "[                     a,                     b],\n",
       "[-exp(I*p)*conjugate(b), exp(I*p)*conjugate(a)]])"
      ]
     },
     "metadata": {},
     "output_type": "display_data"
    },
    {
     "data": {
      "text/latex": [
       "$\\displaystyle \\left[\\begin{matrix}1.0 a \\overline{a} + 1.0 b \\overline{b} & 0 & 0 & 0\\\\0 & 0.5 a^{2} e^{- i p} - 0.5 b^{2} e^{- i p} + 0.5 e^{i p} \\overline{a}^{2} - 0.5 e^{i p} \\overline{b}^{2} & - 0.5 i a^{2} e^{- i p} - 0.5 i b^{2} e^{- i p} + 0.5 i e^{i p} \\overline{a}^{2} + 0.5 i e^{i p} \\overline{b}^{2} & - 1.0 a b e^{- i p} - 1.0 e^{i p} \\overline{a} \\overline{b}\\\\0 & 0.707106781186547 i \\left(0.707106781186547 a^{2} e^{- i p} - 0.707106781186547 b^{2} e^{- i p}\\right) - 0.707106781186547 i \\left(0.707106781186547 e^{i p} \\overline{a}^{2} - 0.707106781186547 e^{i p} \\overline{b}^{2}\\right) & 0.707106781186547 i \\left(- 0.707106781186547 i a^{2} e^{- i p} - 0.707106781186547 i b^{2} e^{- i p}\\right) - 0.707106781186547 i \\left(0.707106781186547 i e^{i p} \\overline{a}^{2} + 0.707106781186547 i e^{i p} \\overline{b}^{2}\\right) & - 1.0 i a b e^{- i p} + 1.0 i e^{i p} \\overline{a} \\overline{b}\\\\0 & 1.0 a \\overline{b} + 1.0 b \\overline{a} & - 1.0 i a \\overline{b} + 1.0 i b \\overline{a} & 1.0 a \\overline{a} - 1.0 b \\overline{b}\\end{matrix}\\right]$"
      ],
      "text/plain": [
       "Matrix([\n",
       "[1.0*a*conjugate(a) + 1.0*b*conjugate(b),                                                                                                                                                                                                         0,                                                                                                                                                                                                                  0,                                                               0],\n",
       "[                                      0,                                                                                                     0.5*a**2*exp(-I*p) - 0.5*b**2*exp(-I*p) + 0.5*exp(I*p)*conjugate(a)**2 - 0.5*exp(I*p)*conjugate(b)**2,                                                                                                     -0.5*I*a**2*exp(-I*p) - 0.5*I*b**2*exp(-I*p) + 0.5*I*exp(I*p)*conjugate(a)**2 + 0.5*I*exp(I*p)*conjugate(b)**2,     -1.0*a*b*exp(-I*p) - 1.0*exp(I*p)*conjugate(a)*conjugate(b)],\n",
       "[                                      0, 0.707106781186547*I*(0.707106781186547*a**2*exp(-I*p) - 0.707106781186547*b**2*exp(-I*p)) - 0.707106781186547*I*(0.707106781186547*exp(I*p)*conjugate(a)**2 - 0.707106781186547*exp(I*p)*conjugate(b)**2), 0.707106781186547*I*(-0.707106781186547*I*a**2*exp(-I*p) - 0.707106781186547*I*b**2*exp(-I*p)) - 0.707106781186547*I*(0.707106781186547*I*exp(I*p)*conjugate(a)**2 + 0.707106781186547*I*exp(I*p)*conjugate(b)**2), -1.0*I*a*b*exp(-I*p) + 1.0*I*exp(I*p)*conjugate(a)*conjugate(b)],\n",
       "[                                      0,                                                                                                                                                                   1.0*a*conjugate(b) + 1.0*b*conjugate(a),                                                                                                                                                                       -1.0*I*a*conjugate(b) + 1.0*I*b*conjugate(a),                         1.0*a*conjugate(a) - 1.0*b*conjugate(b)]])"
      ]
     },
     "metadata": {},
     "output_type": "display_data"
    },
    {
     "data": {
      "text/latex": [
       "$\\displaystyle \\left[\\begin{matrix}- 0.5 a \\overline{a} - 0.5 b \\overline{b} + 0.5 & 0 & 0 & 0\\\\0 & - 0.25 a^{2} e^{- i p} + 0.25 b^{2} e^{- i p} - 0.25 e^{i p} \\overline{a}^{2} + 0.25 e^{i p} \\overline{b}^{2} + 0.5 & - 0.25 i a^{2} e^{- i p} - 0.25 i b^{2} e^{- i p} + 0.25 i e^{i p} \\overline{a}^{2} + 0.25 i e^{i p} \\overline{b}^{2} & - 0.5 a b e^{- i p} - 0.5 e^{i p} \\overline{a} \\overline{b}\\\\0 & - 0.354 i \\left(0.707 a^{2} e^{- i p} - 0.707 b^{2} e^{- i p}\\right) + 0.354 i \\left(0.707 e^{i p} \\overline{a}^{2} - 0.707 e^{i p} \\overline{b}^{2}\\right) & 0.354 i \\left(- 0.707 i a^{2} e^{- i p} - 0.707 i b^{2} e^{- i p}\\right) - 0.354 i \\left(0.707 i e^{i p} \\overline{a}^{2} + 0.707 i e^{i p} \\overline{b}^{2}\\right) + 0.5 & - 0.5 i a b e^{- i p} + 0.5 i e^{i p} \\overline{a} \\overline{b}\\\\0 & - 0.5 a \\overline{b} - 0.5 b \\overline{a} & - 0.5 i a \\overline{b} + 0.5 i b \\overline{a} & 0.5 a \\overline{a} - 0.5 b \\overline{b} + 0.5\\end{matrix}\\right]$"
      ],
      "text/plain": [
       "Matrix([\n",
       "[-0.5*a*conjugate(a) - 0.5*b*conjugate(b) + 0.5,                                                                                                                                  0,                                                                                                                                                0,                                                               0],\n",
       "[                                             0,                   -0.25*a**2*exp(-I*p) + 0.25*b**2*exp(-I*p) - 0.25*exp(I*p)*conjugate(a)**2 + 0.25*exp(I*p)*conjugate(b)**2 + 0.5,                               -0.25*I*a**2*exp(-I*p) - 0.25*I*b**2*exp(-I*p) + 0.25*I*exp(I*p)*conjugate(a)**2 + 0.25*I*exp(I*p)*conjugate(b)**2,     -0.5*a*b*exp(-I*p) - 0.5*exp(I*p)*conjugate(a)*conjugate(b)],\n",
       "[                                             0, -0.354*I*(0.707*a**2*exp(-I*p) - 0.707*b**2*exp(-I*p)) + 0.354*I*(0.707*exp(I*p)*conjugate(a)**2 - 0.707*exp(I*p)*conjugate(b)**2), 0.354*I*(-0.707*I*a**2*exp(-I*p) - 0.707*I*b**2*exp(-I*p)) - 0.354*I*(0.707*I*exp(I*p)*conjugate(a)**2 + 0.707*I*exp(I*p)*conjugate(b)**2) + 0.5, -0.5*I*a*b*exp(-I*p) + 0.5*I*exp(I*p)*conjugate(a)*conjugate(b)],\n",
       "[                                             0,                                                                                           -0.5*a*conjugate(b) - 0.5*b*conjugate(a),                                                                                                     -0.5*I*a*conjugate(b) + 0.5*I*b*conjugate(a),                   0.5*a*conjugate(a) - 0.5*b*conjugate(b) + 0.5]])"
      ]
     },
     "metadata": {},
     "output_type": "display_data"
    }
   ],
   "source": [
    "gates_key = 'xid'\n",
    "noise_key = 'tr'\n",
    "a = Symbol('a')\n",
    "b = Symbol('b')\n",
    "phi = Symbol('p', real=True)\n",
    "u_matr = Matrix([[a, b], [-exp(I*phi)*conjugate(b), exp(I*phi)*conjugate(a)]])\n",
    "display(u_matr)\n",
    "noise = sympy_to_pauli_op(u_matr) \n",
    "display(noise)\n",
    "    # get_noise(noise_key)\n",
    "f = get_noisy_fourier_sym(noise, gates_key, noisy_gates_dict[gates_key])\n",
    "display(f)\n",
    "# ds = get_decays(gates_key, noise_key)\n",
    "# display(ds)\n",
    "# for d in ds.keys():\n",
    "#     display(simplify(d))\n",
    "# display(Matrix(f.round(3)))\n",
    "# import matplotlib.pyplot as plt\n",
    "# plt.imshow(f.real)"
   ]
  },
  {
   "cell_type": "code",
   "execution_count": 39,
   "metadata": {},
   "outputs": [
    {
     "data": {
      "text/latex": [
       "$\\displaystyle - 0.5 a \\overline{a} - 0.5 b \\overline{b} + 0.5$"
      ],
      "text/plain": [
       "-0.5*a*conjugate(a) - 0.5*b*conjugate(b) + 0.5"
      ]
     },
     "metadata": {},
     "output_type": "display_data"
    },
    {
     "name": "stdout",
     "output_type": "stream",
     "text": [
      " = \n"
     ]
    },
    {
     "data": {
      "text/latex": [
       "$\\displaystyle 0$"
      ],
      "text/plain": [
       "0"
      ]
     },
     "metadata": {},
     "output_type": "display_data"
    },
    {
     "data": {
      "text/latex": [
       "$\\displaystyle - 2.03 \\cdot 10^{-5} a^{2} e^{- i p} + 0.167 a \\overline{a} + 0.167 b^{2} e^{- i p} - 0.167 b \\overline{b} - \\frac{0.194 \\cdot \\left(9.16 \\cdot 10^{-5} a^{3} e^{- i p} \\overline{a} + 0.75 a^{2} \\overline{a}^{2} + 0.000183 a^{2} e^{- i p} + 0.75 a b^{2} e^{- i p} \\overline{a} + 9.16 \\cdot 10^{-5} a e^{i p} \\overline{a}^{3} + 0.75 a e^{i p} \\overline{a} \\overline{b}^{2} - 1.5 a \\overline{a} + 0.75 b^{3} e^{- i p} \\overline{b} - 0.75 b^{2} \\overline{b}^{2} - 1.5 b^{2} e^{- i p} + 0.75 b e^{i p} \\overline{b}^{3} + 1.5 b \\overline{b} + 2.25 \\left(4.07 \\cdot 10^{-5} a^{2} e^{- i p} - 0.333 a \\overline{a} - 0.333 b^{2} e^{- i p} + 0.333 b \\overline{b} + 4.07 \\cdot 10^{-5} e^{i p} \\overline{a}^{2} - 0.333 e^{i p} \\overline{b}^{2} - 1\\right)^{2} + 0.000183 e^{i p} \\overline{a}^{2} - 1.5 e^{i p} \\overline{b}^{2} - 2.25\\right)}{\\sqrt[3]{- 2.03 \\cdot 10^{-5} a^{4} b e^{- 2 i p} \\overline{b} - 8.14 \\cdot 10^{-5} a^{3} b^{2} e^{- 2 i p} \\overline{a} + 0.333 a^{3} \\overline{a}^{3} + 4.07 \\cdot 10^{-5} a^{3} e^{- i p} \\overline{a} - 8.14 \\cdot 10^{-5} a^{2} b^{3} e^{- 2 i p} \\overline{b} + 4.07 \\cdot 10^{-5} a^{2} b^{2} e^{- i p} \\overline{a}^{2} - 4.07 \\cdot 10^{-5} a^{2} b^{2} e^{- i p} \\overline{b}^{2} + a^{2} b \\overline{a}^{2} \\overline{b} + 4.07 \\cdot 10^{-5} a^{2} e^{i p} \\overline{a}^{2} \\overline{b}^{2} + 0.333 a^{2} \\overline{a}^{2} + 4.07 \\cdot 10^{-5} a^{2} e^{- i p} - 2.03 \\cdot 10^{-5} a b^{4} e^{- 2 i p} \\overline{a} + a b^{2} \\overline{a} \\overline{b}^{2} + 0.333 a b^{2} e^{- i p} \\overline{a} - 8.14 \\cdot 10^{-5} a e^{2 i p} \\overline{a}^{3} \\overline{b}^{2} - 2.03 \\cdot 10^{-5} a e^{2 i p} \\overline{a} \\overline{b}^{4} + 4.07 \\cdot 10^{-5} a e^{i p} \\overline{a}^{3} + 0.333 a e^{i p} \\overline{a} \\overline{b}^{2} - 0.333 a \\overline{a} + 0.333 b^{3} \\overline{b}^{3} + 0.333 b^{3} e^{- i p} \\overline{b} - 4.07 \\cdot 10^{-5} b^{2} e^{i p} \\overline{a}^{2} \\overline{b}^{2} - 0.333 b^{2} \\overline{b}^{2} - 0.333 b^{2} e^{- i p} - 2.03 \\cdot 10^{-5} b e^{2 i p} \\overline{a}^{4} \\overline{b} - 8.14 \\cdot 10^{-5} b e^{2 i p} \\overline{a}^{2} \\overline{b}^{3} + 0.333 b e^{i p} \\overline{b}^{3} + 0.333 b \\overline{b} + \\sqrt{- 0.444 \\left(4.07 \\cdot 10^{-5} a^{3} e^{- i p} \\overline{a} + 0.333 a^{2} \\overline{a}^{2} + 8.14 \\cdot 10^{-5} a^{2} e^{- i p} + 0.333 a b^{2} e^{- i p} \\overline{a} + 4.07 \\cdot 10^{-5} a e^{i p} \\overline{a}^{3} + 0.333 a e^{i p} \\overline{a} \\overline{b}^{2} - 0.667 a \\overline{a} + 0.333 b^{3} e^{- i p} \\overline{b} - 0.333 b^{2} \\overline{b}^{2} - 0.667 b^{2} e^{- i p} + 0.333 b e^{i p} \\overline{b}^{3} + 0.667 b \\overline{b} + \\left(4.07 \\cdot 10^{-5} a^{2} e^{- i p} - 0.333 a \\overline{a} - 0.333 b^{2} e^{- i p} + 0.333 b \\overline{b} + 4.07 \\cdot 10^{-5} e^{i p} \\overline{a}^{2} - 0.333 e^{i p} \\overline{b}^{2} - 1\\right)^{2} + 8.14 \\cdot 10^{-5} e^{i p} \\overline{a}^{2} - 0.667 e^{i p} \\overline{b}^{2} - 1\\right)^{3} + \\left(- 2.03 \\cdot 10^{-5} a^{4} b e^{- 2 i p} \\overline{b} - 8.14 \\cdot 10^{-5} a^{3} b^{2} e^{- 2 i p} \\overline{a} + 0.333 a^{3} \\overline{a}^{3} + 4.07 \\cdot 10^{-5} a^{3} e^{- i p} \\overline{a} - 8.14 \\cdot 10^{-5} a^{2} b^{3} e^{- 2 i p} \\overline{b} + 4.07 \\cdot 10^{-5} a^{2} b^{2} e^{- i p} \\overline{a}^{2} - 4.07 \\cdot 10^{-5} a^{2} b^{2} e^{- i p} \\overline{b}^{2} + a^{2} b \\overline{a}^{2} \\overline{b} + 4.07 \\cdot 10^{-5} a^{2} e^{i p} \\overline{a}^{2} \\overline{b}^{2} + 0.333 a^{2} \\overline{a}^{2} + 4.07 \\cdot 10^{-5} a^{2} e^{- i p} - 2.03 \\cdot 10^{-5} a b^{4} e^{- 2 i p} \\overline{a} + a b^{2} \\overline{a} \\overline{b}^{2} + 0.333 a b^{2} e^{- i p} \\overline{a} - 8.14 \\cdot 10^{-5} a e^{2 i p} \\overline{a}^{3} \\overline{b}^{2} - 2.03 \\cdot 10^{-5} a e^{2 i p} \\overline{a} \\overline{b}^{4} + 4.07 \\cdot 10^{-5} a e^{i p} \\overline{a}^{3} + 0.333 a e^{i p} \\overline{a} \\overline{b}^{2} - 0.333 a \\overline{a} + 0.333 b^{3} \\overline{b}^{3} + 0.333 b^{3} e^{- i p} \\overline{b} - 4.07 \\cdot 10^{-5} b^{2} e^{i p} \\overline{a}^{2} \\overline{b}^{2} - 0.333 b^{2} \\overline{b}^{2} - 0.333 b^{2} e^{- i p} - 2.03 \\cdot 10^{-5} b e^{2 i p} \\overline{a}^{4} \\overline{b} - 8.14 \\cdot 10^{-5} b e^{2 i p} \\overline{a}^{2} \\overline{b}^{3} + 0.333 b e^{i p} \\overline{b}^{3} + 0.333 b \\overline{b} + 0.667 \\left(4.07 \\cdot 10^{-5} a^{2} e^{- i p} - 0.333 a \\overline{a} - 0.333 b^{2} e^{- i p} + 0.333 b \\overline{b} + 4.07 \\cdot 10^{-5} e^{i p} \\overline{a}^{2} - 0.333 e^{i p} \\overline{b}^{2} - 1\\right)^{3} - 0.0988 \\cdot \\left(0.000549 a^{2} e^{- i p} - 4.5 a \\overline{a} - 4.5 b^{2} e^{- i p} + 4.5 b \\overline{b} + 0.000549 e^{i p} \\overline{a}^{2} - 4.5 e^{i p} \\overline{b}^{2} - 13.5\\right) \\left(- 3.05 \\cdot 10^{-5} a^{3} e^{- i p} \\overline{a} - 0.25 a^{2} \\overline{a}^{2} - 6.1 \\cdot 10^{-5} a^{2} e^{- i p} - 0.25 a b^{2} e^{- i p} \\overline{a} - 3.05 \\cdot 10^{-5} a e^{i p} \\overline{a}^{3} - 0.25 a e^{i p} \\overline{a} \\overline{b}^{2} + 0.5 a \\overline{a} - 0.25 b^{3} e^{- i p} \\overline{b} + 0.25 b^{2} \\overline{b}^{2} + 0.5 b^{2} e^{- i p} - 0.25 b e^{i p} \\overline{b}^{3} - 0.5 b \\overline{b} - 6.1 \\cdot 10^{-5} e^{i p} \\overline{a}^{2} + 0.5 e^{i p} \\overline{b}^{2} + 0.75\\right) + 4.07 \\cdot 10^{-5} e^{i p} \\overline{a}^{2} - 0.333 e^{i p} \\overline{b}^{2} - 0.333\\right)^{2}} + 0.667 \\left(4.07 \\cdot 10^{-5} a^{2} e^{- i p} - 0.333 a \\overline{a} - 0.333 b^{2} e^{- i p} + 0.333 b \\overline{b} + 4.07 \\cdot 10^{-5} e^{i p} \\overline{a}^{2} - 0.333 e^{i p} \\overline{b}^{2} - 1\\right)^{3} - 0.0988 \\cdot \\left(0.000549 a^{2} e^{- i p} - 4.5 a \\overline{a} - 4.5 b^{2} e^{- i p} + 4.5 b \\overline{b} + 0.000549 e^{i p} \\overline{a}^{2} - 4.5 e^{i p} \\overline{b}^{2} - 13.5\\right) \\left(- 3.05 \\cdot 10^{-5} a^{3} e^{- i p} \\overline{a} - 0.25 a^{2} \\overline{a}^{2} - 6.1 \\cdot 10^{-5} a^{2} e^{- i p} - 0.25 a b^{2} e^{- i p} \\overline{a} - 3.05 \\cdot 10^{-5} a e^{i p} \\overline{a}^{3} - 0.25 a e^{i p} \\overline{a} \\overline{b}^{2} + 0.5 a \\overline{a} - 0.25 b^{3} e^{- i p} \\overline{b} + 0.25 b^{2} \\overline{b}^{2} + 0.5 b^{2} e^{- i p} - 0.25 b e^{i p} \\overline{b}^{3} - 0.5 b \\overline{b} - 6.1 \\cdot 10^{-5} e^{i p} \\overline{a}^{2} + 0.5 e^{i p} \\overline{b}^{2} + 0.75\\right) + 4.07 \\cdot 10^{-5} e^{i p} \\overline{a}^{2} - 0.333 e^{i p} \\overline{b}^{2} - 0.333}} - 0.572 \\sqrt[3]{- 2.03 \\cdot 10^{-5} a^{4} b e^{- 2 i p} \\overline{b} - 8.14 \\cdot 10^{-5} a^{3} b^{2} e^{- 2 i p} \\overline{a} + 0.333 a^{3} \\overline{a}^{3} + 4.07 \\cdot 10^{-5} a^{3} e^{- i p} \\overline{a} - 8.14 \\cdot 10^{-5} a^{2} b^{3} e^{- 2 i p} \\overline{b} + 4.07 \\cdot 10^{-5} a^{2} b^{2} e^{- i p} \\overline{a}^{2} - 4.07 \\cdot 10^{-5} a^{2} b^{2} e^{- i p} \\overline{b}^{2} + a^{2} b \\overline{a}^{2} \\overline{b} + 4.07 \\cdot 10^{-5} a^{2} e^{i p} \\overline{a}^{2} \\overline{b}^{2} + 0.333 a^{2} \\overline{a}^{2} + 4.07 \\cdot 10^{-5} a^{2} e^{- i p} - 2.03 \\cdot 10^{-5} a b^{4} e^{- 2 i p} \\overline{a} + a b^{2} \\overline{a} \\overline{b}^{2} + 0.333 a b^{2} e^{- i p} \\overline{a} - 8.14 \\cdot 10^{-5} a e^{2 i p} \\overline{a}^{3} \\overline{b}^{2} - 2.03 \\cdot 10^{-5} a e^{2 i p} \\overline{a} \\overline{b}^{4} + 4.07 \\cdot 10^{-5} a e^{i p} \\overline{a}^{3} + 0.333 a e^{i p} \\overline{a} \\overline{b}^{2} - 0.333 a \\overline{a} + 0.333 b^{3} \\overline{b}^{3} + 0.333 b^{3} e^{- i p} \\overline{b} - 4.07 \\cdot 10^{-5} b^{2} e^{i p} \\overline{a}^{2} \\overline{b}^{2} - 0.333 b^{2} \\overline{b}^{2} - 0.333 b^{2} e^{- i p} - 2.03 \\cdot 10^{-5} b e^{2 i p} \\overline{a}^{4} \\overline{b} - 8.14 \\cdot 10^{-5} b e^{2 i p} \\overline{a}^{2} \\overline{b}^{3} + 0.333 b e^{i p} \\overline{b}^{3} + 0.333 b \\overline{b} + \\sqrt{- 0.444 \\left(4.07 \\cdot 10^{-5} a^{3} e^{- i p} \\overline{a} + 0.333 a^{2} \\overline{a}^{2} + 8.14 \\cdot 10^{-5} a^{2} e^{- i p} + 0.333 a b^{2} e^{- i p} \\overline{a} + 4.07 \\cdot 10^{-5} a e^{i p} \\overline{a}^{3} + 0.333 a e^{i p} \\overline{a} \\overline{b}^{2} - 0.667 a \\overline{a} + 0.333 b^{3} e^{- i p} \\overline{b} - 0.333 b^{2} \\overline{b}^{2} - 0.667 b^{2} e^{- i p} + 0.333 b e^{i p} \\overline{b}^{3} + 0.667 b \\overline{b} + \\left(4.07 \\cdot 10^{-5} a^{2} e^{- i p} - 0.333 a \\overline{a} - 0.333 b^{2} e^{- i p} + 0.333 b \\overline{b} + 4.07 \\cdot 10^{-5} e^{i p} \\overline{a}^{2} - 0.333 e^{i p} \\overline{b}^{2} - 1\\right)^{2} + 8.14 \\cdot 10^{-5} e^{i p} \\overline{a}^{2} - 0.667 e^{i p} \\overline{b}^{2} - 1\\right)^{3} + \\left(- 2.03 \\cdot 10^{-5} a^{4} b e^{- 2 i p} \\overline{b} - 8.14 \\cdot 10^{-5} a^{3} b^{2} e^{- 2 i p} \\overline{a} + 0.333 a^{3} \\overline{a}^{3} + 4.07 \\cdot 10^{-5} a^{3} e^{- i p} \\overline{a} - 8.14 \\cdot 10^{-5} a^{2} b^{3} e^{- 2 i p} \\overline{b} + 4.07 \\cdot 10^{-5} a^{2} b^{2} e^{- i p} \\overline{a}^{2} - 4.07 \\cdot 10^{-5} a^{2} b^{2} e^{- i p} \\overline{b}^{2} + a^{2} b \\overline{a}^{2} \\overline{b} + 4.07 \\cdot 10^{-5} a^{2} e^{i p} \\overline{a}^{2} \\overline{b}^{2} + 0.333 a^{2} \\overline{a}^{2} + 4.07 \\cdot 10^{-5} a^{2} e^{- i p} - 2.03 \\cdot 10^{-5} a b^{4} e^{- 2 i p} \\overline{a} + a b^{2} \\overline{a} \\overline{b}^{2} + 0.333 a b^{2} e^{- i p} \\overline{a} - 8.14 \\cdot 10^{-5} a e^{2 i p} \\overline{a}^{3} \\overline{b}^{2} - 2.03 \\cdot 10^{-5} a e^{2 i p} \\overline{a} \\overline{b}^{4} + 4.07 \\cdot 10^{-5} a e^{i p} \\overline{a}^{3} + 0.333 a e^{i p} \\overline{a} \\overline{b}^{2} - 0.333 a \\overline{a} + 0.333 b^{3} \\overline{b}^{3} + 0.333 b^{3} e^{- i p} \\overline{b} - 4.07 \\cdot 10^{-5} b^{2} e^{i p} \\overline{a}^{2} \\overline{b}^{2} - 0.333 b^{2} \\overline{b}^{2} - 0.333 b^{2} e^{- i p} - 2.03 \\cdot 10^{-5} b e^{2 i p} \\overline{a}^{4} \\overline{b} - 8.14 \\cdot 10^{-5} b e^{2 i p} \\overline{a}^{2} \\overline{b}^{3} + 0.333 b e^{i p} \\overline{b}^{3} + 0.333 b \\overline{b} + 0.667 \\left(4.07 \\cdot 10^{-5} a^{2} e^{- i p} - 0.333 a \\overline{a} - 0.333 b^{2} e^{- i p} + 0.333 b \\overline{b} + 4.07 \\cdot 10^{-5} e^{i p} \\overline{a}^{2} - 0.333 e^{i p} \\overline{b}^{2} - 1\\right)^{3} - 0.0988 \\cdot \\left(0.000549 a^{2} e^{- i p} - 4.5 a \\overline{a} - 4.5 b^{2} e^{- i p} + 4.5 b \\overline{b} + 0.000549 e^{i p} \\overline{a}^{2} - 4.5 e^{i p} \\overline{b}^{2} - 13.5\\right) \\left(- 3.05 \\cdot 10^{-5} a^{3} e^{- i p} \\overline{a} - 0.25 a^{2} \\overline{a}^{2} - 6.1 \\cdot 10^{-5} a^{2} e^{- i p} - 0.25 a b^{2} e^{- i p} \\overline{a} - 3.05 \\cdot 10^{-5} a e^{i p} \\overline{a}^{3} - 0.25 a e^{i p} \\overline{a} \\overline{b}^{2} + 0.5 a \\overline{a} - 0.25 b^{3} e^{- i p} \\overline{b} + 0.25 b^{2} \\overline{b}^{2} + 0.5 b^{2} e^{- i p} - 0.25 b e^{i p} \\overline{b}^{3} - 0.5 b \\overline{b} - 6.1 \\cdot 10^{-5} e^{i p} \\overline{a}^{2} + 0.5 e^{i p} \\overline{b}^{2} + 0.75\\right) + 4.07 \\cdot 10^{-5} e^{i p} \\overline{a}^{2} - 0.333 e^{i p} \\overline{b}^{2} - 0.333\\right)^{2}} + 0.667 \\left(4.07 \\cdot 10^{-5} a^{2} e^{- i p} - 0.333 a \\overline{a} - 0.333 b^{2} e^{- i p} + 0.333 b \\overline{b} + 4.07 \\cdot 10^{-5} e^{i p} \\overline{a}^{2} - 0.333 e^{i p} \\overline{b}^{2} - 1\\right)^{3} - 0.0988 \\cdot \\left(0.000549 a^{2} e^{- i p} - 4.5 a \\overline{a} - 4.5 b^{2} e^{- i p} + 4.5 b \\overline{b} + 0.000549 e^{i p} \\overline{a}^{2} - 4.5 e^{i p} \\overline{b}^{2} - 13.5\\right) \\left(- 3.05 \\cdot 10^{-5} a^{3} e^{- i p} \\overline{a} - 0.25 a^{2} \\overline{a}^{2} - 6.1 \\cdot 10^{-5} a^{2} e^{- i p} - 0.25 a b^{2} e^{- i p} \\overline{a} - 3.05 \\cdot 10^{-5} a e^{i p} \\overline{a}^{3} - 0.25 a e^{i p} \\overline{a} \\overline{b}^{2} + 0.5 a \\overline{a} - 0.25 b^{3} e^{- i p} \\overline{b} + 0.25 b^{2} \\overline{b}^{2} + 0.5 b^{2} e^{- i p} - 0.25 b e^{i p} \\overline{b}^{3} - 0.5 b \\overline{b} - 6.1 \\cdot 10^{-5} e^{i p} \\overline{a}^{2} + 0.5 e^{i p} \\overline{b}^{2} + 0.75\\right) + 4.07 \\cdot 10^{-5} e^{i p} \\overline{a}^{2} - 0.333 e^{i p} \\overline{b}^{2} - 0.333} - 2.03 \\cdot 10^{-5} e^{i p} \\overline{a}^{2} + 0.167 e^{i p} \\overline{b}^{2} + 0.5$"
      ],
      "text/plain": [
       "-2.03e-5*a**2*exp(-I*p) + 0.167*a*conjugate(a) + 0.167*b**2*exp(-I*p) - 0.167*b*conjugate(b) - 0.194*(9.16e-5*a**3*exp(-I*p)*conjugate(a) + 0.75*a**2*conjugate(a)**2 + 0.000183*a**2*exp(-I*p) + 0.75*a*b**2*exp(-I*p)*conjugate(a) + 9.16e-5*a*exp(I*p)*conjugate(a)**3 + 0.75*a*exp(I*p)*conjugate(a)*conjugate(b)**2 - 1.5*a*conjugate(a) + 0.75*b**3*exp(-I*p)*conjugate(b) - 0.75*b**2*conjugate(b)**2 - 1.5*b**2*exp(-I*p) + 0.75*b*exp(I*p)*conjugate(b)**3 + 1.5*b*conjugate(b) + 2.25*(4.07e-5*a**2*exp(-I*p) - 0.333*a*conjugate(a) - 0.333*b**2*exp(-I*p) + 0.333*b*conjugate(b) + 4.07e-5*exp(I*p)*conjugate(a)**2 - 0.333*exp(I*p)*conjugate(b)**2 - 1)**2 + 0.000183*exp(I*p)*conjugate(a)**2 - 1.5*exp(I*p)*conjugate(b)**2 - 2.25)/(-2.03e-5*a**4*b*exp(-2*I*p)*conjugate(b) - 8.14e-5*a**3*b**2*exp(-2*I*p)*conjugate(a) + 0.333*a**3*conjugate(a)**3 + 4.07e-5*a**3*exp(-I*p)*conjugate(a) - 8.14e-5*a**2*b**3*exp(-2*I*p)*conjugate(b) + 4.07e-5*a**2*b**2*exp(-I*p)*conjugate(a)**2 - 4.07e-5*a**2*b**2*exp(-I*p)*conjugate(b)**2 + a**2*b*conjugate(a)**2*conjugate(b) + 4.07e-5*a**2*exp(I*p)*conjugate(a)**2*conjugate(b)**2 + 0.333*a**2*conjugate(a)**2 + 4.07e-5*a**2*exp(-I*p) - 2.03e-5*a*b**4*exp(-2*I*p)*conjugate(a) + a*b**2*conjugate(a)*conjugate(b)**2 + 0.333*a*b**2*exp(-I*p)*conjugate(a) - 8.14e-5*a*exp(2*I*p)*conjugate(a)**3*conjugate(b)**2 - 2.03e-5*a*exp(2*I*p)*conjugate(a)*conjugate(b)**4 + 4.07e-5*a*exp(I*p)*conjugate(a)**3 + 0.333*a*exp(I*p)*conjugate(a)*conjugate(b)**2 - 0.333*a*conjugate(a) + 0.333*b**3*conjugate(b)**3 + 0.333*b**3*exp(-I*p)*conjugate(b) - 4.07e-5*b**2*exp(I*p)*conjugate(a)**2*conjugate(b)**2 - 0.333*b**2*conjugate(b)**2 - 0.333*b**2*exp(-I*p) - 2.03e-5*b*exp(2*I*p)*conjugate(a)**4*conjugate(b) - 8.14e-5*b*exp(2*I*p)*conjugate(a)**2*conjugate(b)**3 + 0.333*b*exp(I*p)*conjugate(b)**3 + 0.333*b*conjugate(b) + sqrt(-0.444*(4.07e-5*a**3*exp(-I*p)*conjugate(a) + 0.333*a**2*conjugate(a)**2 + 8.14e-5*a**2*exp(-I*p) + 0.333*a*b**2*exp(-I*p)*conjugate(a) + 4.07e-5*a*exp(I*p)*conjugate(a)**3 + 0.333*a*exp(I*p)*conjugate(a)*conjugate(b)**2 - 0.667*a*conjugate(a) + 0.333*b**3*exp(-I*p)*conjugate(b) - 0.333*b**2*conjugate(b)**2 - 0.667*b**2*exp(-I*p) + 0.333*b*exp(I*p)*conjugate(b)**3 + 0.667*b*conjugate(b) + (4.07e-5*a**2*exp(-I*p) - 0.333*a*conjugate(a) - 0.333*b**2*exp(-I*p) + 0.333*b*conjugate(b) + 4.07e-5*exp(I*p)*conjugate(a)**2 - 0.333*exp(I*p)*conjugate(b)**2 - 1)**2 + 8.14e-5*exp(I*p)*conjugate(a)**2 - 0.667*exp(I*p)*conjugate(b)**2 - 1)**3 + (-2.03e-5*a**4*b*exp(-2*I*p)*conjugate(b) - 8.14e-5*a**3*b**2*exp(-2*I*p)*conjugate(a) + 0.333*a**3*conjugate(a)**3 + 4.07e-5*a**3*exp(-I*p)*conjugate(a) - 8.14e-5*a**2*b**3*exp(-2*I*p)*conjugate(b) + 4.07e-5*a**2*b**2*exp(-I*p)*conjugate(a)**2 - 4.07e-5*a**2*b**2*exp(-I*p)*conjugate(b)**2 + a**2*b*conjugate(a)**2*conjugate(b) + 4.07e-5*a**2*exp(I*p)*conjugate(a)**2*conjugate(b)**2 + 0.333*a**2*conjugate(a)**2 + 4.07e-5*a**2*exp(-I*p) - 2.03e-5*a*b**4*exp(-2*I*p)*conjugate(a) + a*b**2*conjugate(a)*conjugate(b)**2 + 0.333*a*b**2*exp(-I*p)*conjugate(a) - 8.14e-5*a*exp(2*I*p)*conjugate(a)**3*conjugate(b)**2 - 2.03e-5*a*exp(2*I*p)*conjugate(a)*conjugate(b)**4 + 4.07e-5*a*exp(I*p)*conjugate(a)**3 + 0.333*a*exp(I*p)*conjugate(a)*conjugate(b)**2 - 0.333*a*conjugate(a) + 0.333*b**3*conjugate(b)**3 + 0.333*b**3*exp(-I*p)*conjugate(b) - 4.07e-5*b**2*exp(I*p)*conjugate(a)**2*conjugate(b)**2 - 0.333*b**2*conjugate(b)**2 - 0.333*b**2*exp(-I*p) - 2.03e-5*b*exp(2*I*p)*conjugate(a)**4*conjugate(b) - 8.14e-5*b*exp(2*I*p)*conjugate(a)**2*conjugate(b)**3 + 0.333*b*exp(I*p)*conjugate(b)**3 + 0.333*b*conjugate(b) + 0.667*(4.07e-5*a**2*exp(-I*p) - 0.333*a*conjugate(a) - 0.333*b**2*exp(-I*p) + 0.333*b*conjugate(b) + 4.07e-5*exp(I*p)*conjugate(a)**2 - 0.333*exp(I*p)*conjugate(b)**2 - 1)**3 - 0.0988*(0.000549*a**2*exp(-I*p) - 4.5*a*conjugate(a) - 4.5*b**2*exp(-I*p) + 4.5*b*conjugate(b) + 0.000549*exp(I*p)*conjugate(a)**2 - 4.5*exp(I*p)*conjugate(b)**2 - 13.5)*(-3.05e-5*a**3*exp(-I*p)*conjugate(a) - 0.25*a**2*conjugate(a)**2 - 6.1e-5*a**2*exp(-I*p) - 0.25*a*b**2*exp(-I*p)*conjugate(a) - 3.05e-5*a*exp(I*p)*conjugate(a)**3 - 0.25*a*exp(I*p)*conjugate(a)*conjugate(b)**2 + 0.5*a*conjugate(a) - 0.25*b**3*exp(-I*p)*conjugate(b) + 0.25*b**2*conjugate(b)**2 + 0.5*b**2*exp(-I*p) - 0.25*b*exp(I*p)*conjugate(b)**3 - 0.5*b*conjugate(b) - 6.1e-5*exp(I*p)*conjugate(a)**2 + 0.5*exp(I*p)*conjugate(b)**2 + 0.75) + 4.07e-5*exp(I*p)*conjugate(a)**2 - 0.333*exp(I*p)*conjugate(b)**2 - 0.333)**2) + 0.667*(4.07e-5*a**2*exp(-I*p) - 0.333*a*conjugate(a) - 0.333*b**2*exp(-I*p) + 0.333*b*conjugate(b) + 4.07e-5*exp(I*p)*conjugate(a)**2 - 0.333*exp(I*p)*conjugate(b)**2 - 1)**3 - 0.0988*(0.000549*a**2*exp(-I*p) - 4.5*a*conjugate(a) - 4.5*b**2*exp(-I*p) + 4.5*b*conjugate(b) + 0.000549*exp(I*p)*conjugate(a)**2 - 4.5*exp(I*p)*conjugate(b)**2 - 13.5)*(-3.05e-5*a**3*exp(-I*p)*conjugate(a) - 0.25*a**2*conjugate(a)**2 - 6.1e-5*a**2*exp(-I*p) - 0.25*a*b**2*exp(-I*p)*conjugate(a) - 3.05e-5*a*exp(I*p)*conjugate(a)**3 - 0.25*a*exp(I*p)*conjugate(a)*conjugate(b)**2 + 0.5*a*conjugate(a) - 0.25*b**3*exp(-I*p)*conjugate(b) + 0.25*b**2*conjugate(b)**2 + 0.5*b**2*exp(-I*p) - 0.25*b*exp(I*p)*conjugate(b)**3 - 0.5*b*conjugate(b) - 6.1e-5*exp(I*p)*conjugate(a)**2 + 0.5*exp(I*p)*conjugate(b)**2 + 0.75) + 4.07e-5*exp(I*p)*conjugate(a)**2 - 0.333*exp(I*p)*conjugate(b)**2 - 0.333)**(1/3) - 0.572*(-2.03e-5*a**4*b*exp(-2*I*p)*conjugate(b) - 8.14e-5*a**3*b**2*exp(-2*I*p)*conjugate(a) + 0.333*a**3*conjugate(a)**3 + 4.07e-5*a**3*exp(-I*p)*conjugate(a) - 8.14e-5*a**2*b**3*exp(-2*I*p)*conjugate(b) + 4.07e-5*a**2*b**2*exp(-I*p)*conjugate(a)**2 - 4.07e-5*a**2*b**2*exp(-I*p)*conjugate(b)**2 + a**2*b*conjugate(a)**2*conjugate(b) + 4.07e-5*a**2*exp(I*p)*conjugate(a)**2*conjugate(b)**2 + 0.333*a**2*conjugate(a)**2 + 4.07e-5*a**2*exp(-I*p) - 2.03e-5*a*b**4*exp(-2*I*p)*conjugate(a) + a*b**2*conjugate(a)*conjugate(b)**2 + 0.333*a*b**2*exp(-I*p)*conjugate(a) - 8.14e-5*a*exp(2*I*p)*conjugate(a)**3*conjugate(b)**2 - 2.03e-5*a*exp(2*I*p)*conjugate(a)*conjugate(b)**4 + 4.07e-5*a*exp(I*p)*conjugate(a)**3 + 0.333*a*exp(I*p)*conjugate(a)*conjugate(b)**2 - 0.333*a*conjugate(a) + 0.333*b**3*conjugate(b)**3 + 0.333*b**3*exp(-I*p)*conjugate(b) - 4.07e-5*b**2*exp(I*p)*conjugate(a)**2*conjugate(b)**2 - 0.333*b**2*conjugate(b)**2 - 0.333*b**2*exp(-I*p) - 2.03e-5*b*exp(2*I*p)*conjugate(a)**4*conjugate(b) - 8.14e-5*b*exp(2*I*p)*conjugate(a)**2*conjugate(b)**3 + 0.333*b*exp(I*p)*conjugate(b)**3 + 0.333*b*conjugate(b) + sqrt(-0.444*(4.07e-5*a**3*exp(-I*p)*conjugate(a) + 0.333*a**2*conjugate(a)**2 + 8.14e-5*a**2*exp(-I*p) + 0.333*a*b**2*exp(-I*p)*conjugate(a) + 4.07e-5*a*exp(I*p)*conjugate(a)**3 + 0.333*a*exp(I*p)*conjugate(a)*conjugate(b)**2 - 0.667*a*conjugate(a) + 0.333*b**3*exp(-I*p)*conjugate(b) - 0.333*b**2*conjugate(b)**2 - 0.667*b**2*exp(-I*p) + 0.333*b*exp(I*p)*conjugate(b)**3 + 0.667*b*conjugate(b) + (4.07e-5*a**2*exp(-I*p) - 0.333*a*conjugate(a) - 0.333*b**2*exp(-I*p) + 0.333*b*conjugate(b) + 4.07e-5*exp(I*p)*conjugate(a)**2 - 0.333*exp(I*p)*conjugate(b)**2 - 1)**2 + 8.14e-5*exp(I*p)*conjugate(a)**2 - 0.667*exp(I*p)*conjugate(b)**2 - 1)**3 + (-2.03e-5*a**4*b*exp(-2*I*p)*conjugate(b) - 8.14e-5*a**3*b**2*exp(-2*I*p)*conjugate(a) + 0.333*a**3*conjugate(a)**3 + 4.07e-5*a**3*exp(-I*p)*conjugate(a) - 8.14e-5*a**2*b**3*exp(-2*I*p)*conjugate(b) + 4.07e-5*a**2*b**2*exp(-I*p)*conjugate(a)**2 - 4.07e-5*a**2*b**2*exp(-I*p)*conjugate(b)**2 + a**2*b*conjugate(a)**2*conjugate(b) + 4.07e-5*a**2*exp(I*p)*conjugate(a)**2*conjugate(b)**2 + 0.333*a**2*conjugate(a)**2 + 4.07e-5*a**2*exp(-I*p) - 2.03e-5*a*b**4*exp(-2*I*p)*conjugate(a) + a*b**2*conjugate(a)*conjugate(b)**2 + 0.333*a*b**2*exp(-I*p)*conjugate(a) - 8.14e-5*a*exp(2*I*p)*conjugate(a)**3*conjugate(b)**2 - 2.03e-5*a*exp(2*I*p)*conjugate(a)*conjugate(b)**4 + 4.07e-5*a*exp(I*p)*conjugate(a)**3 + 0.333*a*exp(I*p)*conjugate(a)*conjugate(b)**2 - 0.333*a*conjugate(a) + 0.333*b**3*conjugate(b)**3 + 0.333*b**3*exp(-I*p)*conjugate(b) - 4.07e-5*b**2*exp(I*p)*conjugate(a)**2*conjugate(b)**2 - 0.333*b**2*conjugate(b)**2 - 0.333*b**2*exp(-I*p) - 2.03e-5*b*exp(2*I*p)*conjugate(a)**4*conjugate(b) - 8.14e-5*b*exp(2*I*p)*conjugate(a)**2*conjugate(b)**3 + 0.333*b*exp(I*p)*conjugate(b)**3 + 0.333*b*conjugate(b) + 0.667*(4.07e-5*a**2*exp(-I*p) - 0.333*a*conjugate(a) - 0.333*b**2*exp(-I*p) + 0.333*b*conjugate(b) + 4.07e-5*exp(I*p)*conjugate(a)**2 - 0.333*exp(I*p)*conjugate(b)**2 - 1)**3 - 0.0988*(0.000549*a**2*exp(-I*p) - 4.5*a*conjugate(a) - 4.5*b**2*exp(-I*p) + 4.5*b*conjugate(b) + 0.000549*exp(I*p)*conjugate(a)**2 - 4.5*exp(I*p)*conjugate(b)**2 - 13.5)*(-3.05e-5*a**3*exp(-I*p)*conjugate(a) - 0.25*a**2*conjugate(a)**2 - 6.1e-5*a**2*exp(-I*p) - 0.25*a*b**2*exp(-I*p)*conjugate(a) - 3.05e-5*a*exp(I*p)*conjugate(a)**3 - 0.25*a*exp(I*p)*conjugate(a)*conjugate(b)**2 + 0.5*a*conjugate(a) - 0.25*b**3*exp(-I*p)*conjugate(b) + 0.25*b**2*conjugate(b)**2 + 0.5*b**2*exp(-I*p) - 0.25*b*exp(I*p)*conjugate(b)**3 - 0.5*b*conjugate(b) - 6.1e-5*exp(I*p)*conjugate(a)**2 + 0.5*exp(I*p)*conjugate(b)**2 + 0.75) + 4.07e-5*exp(I*p)*conjugate(a)**2 - 0.333*exp(I*p)*conjugate(b)**2 - 0.333)**2) + 0.667*(4.07e-5*a**2*exp(-I*p) - 0.333*a*conjugate(a) - 0.333*b**2*exp(-I*p) + 0.333*b*conjugate(b) + 4.07e-5*exp(I*p)*conjugate(a)**2 - 0.333*exp(I*p)*conjugate(b)**2 - 1)**3 - 0.0988*(0.000549*a**2*exp(-I*p) - 4.5*a*conjugate(a) - 4.5*b**2*exp(-I*p) + 4.5*b*conjugate(b) + 0.000549*exp(I*p)*conjugate(a)**2 - 4.5*exp(I*p)*conjugate(b)**2 - 13.5)*(-3.05e-5*a**3*exp(-I*p)*conjugate(a) - 0.25*a**2*conjugate(a)**2 - 6.1e-5*a**2*exp(-I*p) - 0.25*a*b**2*exp(-I*p)*conjugate(a) - 3.05e-5*a*exp(I*p)*conjugate(a)**3 - 0.25*a*exp(I*p)*conjugate(a)*conjugate(b)**2 + 0.5*a*conjugate(a) - 0.25*b**3*exp(-I*p)*conjugate(b) + 0.25*b**2*conjugate(b)**2 + 0.5*b**2*exp(-I*p) - 0.25*b*exp(I*p)*conjugate(b)**3 - 0.5*b*conjugate(b) - 6.1e-5*exp(I*p)*conjugate(a)**2 + 0.5*exp(I*p)*conjugate(b)**2 + 0.75) + 4.07e-5*exp(I*p)*conjugate(a)**2 - 0.333*exp(I*p)*conjugate(b)**2 - 0.333)**(1/3) - 2.03e-5*exp(I*p)*conjugate(a)**2 + 0.167*exp(I*p)*conjugate(b)**2 + 0.5"
      ]
     },
     "metadata": {},
     "output_type": "display_data"
    },
    {
     "name": "stdout",
     "output_type": "stream",
     "text": [
      " = \n"
     ]
    },
    {
     "data": {
      "text/latex": [
       "$\\displaystyle - \\frac{0.167 \\cdot \\left(4.0 \\left(3.05 \\cdot 10^{-5} e^{i p} - 1.0 + 3.05 \\cdot 10^{-5} e^{- i p}\\right)^{2} + 0.000275 e^{i p} - 3.0 + 0.000275 e^{- i p}\\right)}{\\left(\\left(\\left(- 0.0625 \\left(- 9.16 \\cdot 10^{-5} e^{i p} + 1.0 - 9.16 \\cdot 10^{-5} e^{- i p}\\right) \\left(0.000549 e^{i p} - 18.0 + 0.000549 e^{- i p}\\right) + \\left(3.05 \\cdot 10^{-5} e^{i p} - 1.0 + 3.05 \\cdot 10^{-5} e^{- i p}\\right)^{3} + 5.15 \\cdot 10^{-5} e^{i p} + 5.15 \\cdot 10^{-5} e^{- i p}\\right)^{2} - \\left(\\left(3.05 \\cdot 10^{-5} e^{i p} - 1.0 + 3.05 \\cdot 10^{-5} e^{- i p}\\right)^{2} + 6.87 \\cdot 10^{-5} e^{i p} - 0.75 + 6.87 \\cdot 10^{-5} e^{- i p}\\right)^{3}\\right)^{0.5} - 0.0625 \\left(- 9.16 \\cdot 10^{-5} e^{i p} + 1.0 - 9.16 \\cdot 10^{-5} e^{- i p}\\right) \\left(0.000549 e^{i p} - 18.0 + 0.000549 e^{- i p}\\right) + \\left(3.05 \\cdot 10^{-5} e^{i p} - 1.0 + 3.05 \\cdot 10^{-5} e^{- i p}\\right)^{3} + 5.15 \\cdot 10^{-5} e^{i p} + 5.15 \\cdot 10^{-5} e^{- i p}\\right)^{0.333}} - 0.667 \\left(\\left(\\left(- 0.0625 \\left(- 9.16 \\cdot 10^{-5} e^{i p} + 1.0 - 9.16 \\cdot 10^{-5} e^{- i p}\\right) \\left(0.000549 e^{i p} - 18.0 + 0.000549 e^{- i p}\\right) + \\left(3.05 \\cdot 10^{-5} e^{i p} - 1.0 + 3.05 \\cdot 10^{-5} e^{- i p}\\right)^{3} + 5.15 \\cdot 10^{-5} e^{i p} + 5.15 \\cdot 10^{-5} e^{- i p}\\right)^{2} - \\left(\\left(3.05 \\cdot 10^{-5} e^{i p} - 1.0 + 3.05 \\cdot 10^{-5} e^{- i p}\\right)^{2} + 6.87 \\cdot 10^{-5} e^{i p} - 0.75 + 6.87 \\cdot 10^{-5} e^{- i p}\\right)^{3}\\right)^{0.5} - 0.0625 \\left(- 9.16 \\cdot 10^{-5} e^{i p} + 1.0 - 9.16 \\cdot 10^{-5} e^{- i p}\\right) \\left(0.000549 e^{i p} - 18.0 + 0.000549 e^{- i p}\\right) + \\left(3.05 \\cdot 10^{-5} e^{i p} - 1.0 + 3.05 \\cdot 10^{-5} e^{- i p}\\right)^{3} + 5.15 \\cdot 10^{-5} e^{i p} + 5.15 \\cdot 10^{-5} e^{- i p}\\right)^{0.333} - 2.03 \\cdot 10^{-5} e^{i p} + 0.667 - 2.03 \\cdot 10^{-5} e^{- i p}$"
      ],
      "text/plain": [
       "-0.167*(4.0*(3.05e-5*exp(I*p) - 1.0 + 3.05e-5*exp(-I*p))**2 + 0.000275*exp(I*p) - 3.0 + 0.000275*exp(-I*p))/(((-0.0625*(-9.16e-5*exp(I*p) + 1.0 - 9.16e-5*exp(-I*p))*(0.000549*exp(I*p) - 18.0 + 0.000549*exp(-I*p)) + (3.05e-5*exp(I*p) - 1.0 + 3.05e-5*exp(-I*p))**3 + 5.15e-5*exp(I*p) + 5.15e-5*exp(-I*p))**2 - ((3.05e-5*exp(I*p) - 1.0 + 3.05e-5*exp(-I*p))**2 + 6.87e-5*exp(I*p) - 0.75 + 6.87e-5*exp(-I*p))**3)**0.5 - 0.0625*(-9.16e-5*exp(I*p) + 1.0 - 9.16e-5*exp(-I*p))*(0.000549*exp(I*p) - 18.0 + 0.000549*exp(-I*p)) + (3.05e-5*exp(I*p) - 1.0 + 3.05e-5*exp(-I*p))**3 + 5.15e-5*exp(I*p) + 5.15e-5*exp(-I*p))**0.333 - 0.667*(((-0.0625*(-9.16e-5*exp(I*p) + 1.0 - 9.16e-5*exp(-I*p))*(0.000549*exp(I*p) - 18.0 + 0.000549*exp(-I*p)) + (3.05e-5*exp(I*p) - 1.0 + 3.05e-5*exp(-I*p))**3 + 5.15e-5*exp(I*p) + 5.15e-5*exp(-I*p))**2 - ((3.05e-5*exp(I*p) - 1.0 + 3.05e-5*exp(-I*p))**2 + 6.87e-5*exp(I*p) - 0.75 + 6.87e-5*exp(-I*p))**3)**0.5 - 0.0625*(-9.16e-5*exp(I*p) + 1.0 - 9.16e-5*exp(-I*p))*(0.000549*exp(I*p) - 18.0 + 0.000549*exp(-I*p)) + (3.05e-5*exp(I*p) - 1.0 + 3.05e-5*exp(-I*p))**3 + 5.15e-5*exp(I*p) + 5.15e-5*exp(-I*p))**0.333 - 2.03e-5*exp(I*p) + 0.667 - 2.03e-5*exp(-I*p)"
      ]
     },
     "metadata": {},
     "output_type": "display_data"
    },
    {
     "data": {
      "text/latex": [
       "$\\displaystyle - 2.03 \\cdot 10^{-5} a^{2} e^{- i p} + 0.167 a \\overline{a} + 0.167 b^{2} e^{- i p} - 0.167 b \\overline{b} - \\frac{0.194 \\cdot \\left(9.16 \\cdot 10^{-5} a^{3} e^{- i p} \\overline{a} + 0.75 a^{2} \\overline{a}^{2} + 0.000183 a^{2} e^{- i p} + 0.75 a b^{2} e^{- i p} \\overline{a} + 9.16 \\cdot 10^{-5} a e^{i p} \\overline{a}^{3} + 0.75 a e^{i p} \\overline{a} \\overline{b}^{2} - 1.5 a \\overline{a} + 0.75 b^{3} e^{- i p} \\overline{b} - 0.75 b^{2} \\overline{b}^{2} - 1.5 b^{2} e^{- i p} + 0.75 b e^{i p} \\overline{b}^{3} + 1.5 b \\overline{b} + 2.25 \\left(4.07 \\cdot 10^{-5} a^{2} e^{- i p} - 0.333 a \\overline{a} - 0.333 b^{2} e^{- i p} + 0.333 b \\overline{b} + 4.07 \\cdot 10^{-5} e^{i p} \\overline{a}^{2} - 0.333 e^{i p} \\overline{b}^{2} - 1\\right)^{2} + 0.000183 e^{i p} \\overline{a}^{2} - 1.5 e^{i p} \\overline{b}^{2} - 2.25\\right)}{\\left(- \\frac{1}{2} + \\frac{\\sqrt{3} i}{2}\\right) \\sqrt[3]{- 2.03 \\cdot 10^{-5} a^{4} b e^{- 2 i p} \\overline{b} - 8.14 \\cdot 10^{-5} a^{3} b^{2} e^{- 2 i p} \\overline{a} + 0.333 a^{3} \\overline{a}^{3} + 4.07 \\cdot 10^{-5} a^{3} e^{- i p} \\overline{a} - 8.14 \\cdot 10^{-5} a^{2} b^{3} e^{- 2 i p} \\overline{b} + 4.07 \\cdot 10^{-5} a^{2} b^{2} e^{- i p} \\overline{a}^{2} - 4.07 \\cdot 10^{-5} a^{2} b^{2} e^{- i p} \\overline{b}^{2} + a^{2} b \\overline{a}^{2} \\overline{b} + 4.07 \\cdot 10^{-5} a^{2} e^{i p} \\overline{a}^{2} \\overline{b}^{2} + 0.333 a^{2} \\overline{a}^{2} + 4.07 \\cdot 10^{-5} a^{2} e^{- i p} - 2.03 \\cdot 10^{-5} a b^{4} e^{- 2 i p} \\overline{a} + a b^{2} \\overline{a} \\overline{b}^{2} + 0.333 a b^{2} e^{- i p} \\overline{a} - 8.14 \\cdot 10^{-5} a e^{2 i p} \\overline{a}^{3} \\overline{b}^{2} - 2.03 \\cdot 10^{-5} a e^{2 i p} \\overline{a} \\overline{b}^{4} + 4.07 \\cdot 10^{-5} a e^{i p} \\overline{a}^{3} + 0.333 a e^{i p} \\overline{a} \\overline{b}^{2} - 0.333 a \\overline{a} + 0.333 b^{3} \\overline{b}^{3} + 0.333 b^{3} e^{- i p} \\overline{b} - 4.07 \\cdot 10^{-5} b^{2} e^{i p} \\overline{a}^{2} \\overline{b}^{2} - 0.333 b^{2} \\overline{b}^{2} - 0.333 b^{2} e^{- i p} - 2.03 \\cdot 10^{-5} b e^{2 i p} \\overline{a}^{4} \\overline{b} - 8.14 \\cdot 10^{-5} b e^{2 i p} \\overline{a}^{2} \\overline{b}^{3} + 0.333 b e^{i p} \\overline{b}^{3} + 0.333 b \\overline{b} + \\sqrt{- 0.444 \\left(4.07 \\cdot 10^{-5} a^{3} e^{- i p} \\overline{a} + 0.333 a^{2} \\overline{a}^{2} + 8.14 \\cdot 10^{-5} a^{2} e^{- i p} + 0.333 a b^{2} e^{- i p} \\overline{a} + 4.07 \\cdot 10^{-5} a e^{i p} \\overline{a}^{3} + 0.333 a e^{i p} \\overline{a} \\overline{b}^{2} - 0.667 a \\overline{a} + 0.333 b^{3} e^{- i p} \\overline{b} - 0.333 b^{2} \\overline{b}^{2} - 0.667 b^{2} e^{- i p} + 0.333 b e^{i p} \\overline{b}^{3} + 0.667 b \\overline{b} + \\left(4.07 \\cdot 10^{-5} a^{2} e^{- i p} - 0.333 a \\overline{a} - 0.333 b^{2} e^{- i p} + 0.333 b \\overline{b} + 4.07 \\cdot 10^{-5} e^{i p} \\overline{a}^{2} - 0.333 e^{i p} \\overline{b}^{2} - 1\\right)^{2} + 8.14 \\cdot 10^{-5} e^{i p} \\overline{a}^{2} - 0.667 e^{i p} \\overline{b}^{2} - 1\\right)^{3} + \\left(- 2.03 \\cdot 10^{-5} a^{4} b e^{- 2 i p} \\overline{b} - 8.14 \\cdot 10^{-5} a^{3} b^{2} e^{- 2 i p} \\overline{a} + 0.333 a^{3} \\overline{a}^{3} + 4.07 \\cdot 10^{-5} a^{3} e^{- i p} \\overline{a} - 8.14 \\cdot 10^{-5} a^{2} b^{3} e^{- 2 i p} \\overline{b} + 4.07 \\cdot 10^{-5} a^{2} b^{2} e^{- i p} \\overline{a}^{2} - 4.07 \\cdot 10^{-5} a^{2} b^{2} e^{- i p} \\overline{b}^{2} + a^{2} b \\overline{a}^{2} \\overline{b} + 4.07 \\cdot 10^{-5} a^{2} e^{i p} \\overline{a}^{2} \\overline{b}^{2} + 0.333 a^{2} \\overline{a}^{2} + 4.07 \\cdot 10^{-5} a^{2} e^{- i p} - 2.03 \\cdot 10^{-5} a b^{4} e^{- 2 i p} \\overline{a} + a b^{2} \\overline{a} \\overline{b}^{2} + 0.333 a b^{2} e^{- i p} \\overline{a} - 8.14 \\cdot 10^{-5} a e^{2 i p} \\overline{a}^{3} \\overline{b}^{2} - 2.03 \\cdot 10^{-5} a e^{2 i p} \\overline{a} \\overline{b}^{4} + 4.07 \\cdot 10^{-5} a e^{i p} \\overline{a}^{3} + 0.333 a e^{i p} \\overline{a} \\overline{b}^{2} - 0.333 a \\overline{a} + 0.333 b^{3} \\overline{b}^{3} + 0.333 b^{3} e^{- i p} \\overline{b} - 4.07 \\cdot 10^{-5} b^{2} e^{i p} \\overline{a}^{2} \\overline{b}^{2} - 0.333 b^{2} \\overline{b}^{2} - 0.333 b^{2} e^{- i p} - 2.03 \\cdot 10^{-5} b e^{2 i p} \\overline{a}^{4} \\overline{b} - 8.14 \\cdot 10^{-5} b e^{2 i p} \\overline{a}^{2} \\overline{b}^{3} + 0.333 b e^{i p} \\overline{b}^{3} + 0.333 b \\overline{b} + 0.667 \\left(4.07 \\cdot 10^{-5} a^{2} e^{- i p} - 0.333 a \\overline{a} - 0.333 b^{2} e^{- i p} + 0.333 b \\overline{b} + 4.07 \\cdot 10^{-5} e^{i p} \\overline{a}^{2} - 0.333 e^{i p} \\overline{b}^{2} - 1\\right)^{3} - 0.0988 \\cdot \\left(0.000549 a^{2} e^{- i p} - 4.5 a \\overline{a} - 4.5 b^{2} e^{- i p} + 4.5 b \\overline{b} + 0.000549 e^{i p} \\overline{a}^{2} - 4.5 e^{i p} \\overline{b}^{2} - 13.5\\right) \\left(- 3.05 \\cdot 10^{-5} a^{3} e^{- i p} \\overline{a} - 0.25 a^{2} \\overline{a}^{2} - 6.1 \\cdot 10^{-5} a^{2} e^{- i p} - 0.25 a b^{2} e^{- i p} \\overline{a} - 3.05 \\cdot 10^{-5} a e^{i p} \\overline{a}^{3} - 0.25 a e^{i p} \\overline{a} \\overline{b}^{2} + 0.5 a \\overline{a} - 0.25 b^{3} e^{- i p} \\overline{b} + 0.25 b^{2} \\overline{b}^{2} + 0.5 b^{2} e^{- i p} - 0.25 b e^{i p} \\overline{b}^{3} - 0.5 b \\overline{b} - 6.1 \\cdot 10^{-5} e^{i p} \\overline{a}^{2} + 0.5 e^{i p} \\overline{b}^{2} + 0.75\\right) + 4.07 \\cdot 10^{-5} e^{i p} \\overline{a}^{2} - 0.333 e^{i p} \\overline{b}^{2} - 0.333\\right)^{2}} + 0.667 \\left(4.07 \\cdot 10^{-5} a^{2} e^{- i p} - 0.333 a \\overline{a} - 0.333 b^{2} e^{- i p} + 0.333 b \\overline{b} + 4.07 \\cdot 10^{-5} e^{i p} \\overline{a}^{2} - 0.333 e^{i p} \\overline{b}^{2} - 1\\right)^{3} - 0.0988 \\cdot \\left(0.000549 a^{2} e^{- i p} - 4.5 a \\overline{a} - 4.5 b^{2} e^{- i p} + 4.5 b \\overline{b} + 0.000549 e^{i p} \\overline{a}^{2} - 4.5 e^{i p} \\overline{b}^{2} - 13.5\\right) \\left(- 3.05 \\cdot 10^{-5} a^{3} e^{- i p} \\overline{a} - 0.25 a^{2} \\overline{a}^{2} - 6.1 \\cdot 10^{-5} a^{2} e^{- i p} - 0.25 a b^{2} e^{- i p} \\overline{a} - 3.05 \\cdot 10^{-5} a e^{i p} \\overline{a}^{3} - 0.25 a e^{i p} \\overline{a} \\overline{b}^{2} + 0.5 a \\overline{a} - 0.25 b^{3} e^{- i p} \\overline{b} + 0.25 b^{2} \\overline{b}^{2} + 0.5 b^{2} e^{- i p} - 0.25 b e^{i p} \\overline{b}^{3} - 0.5 b \\overline{b} - 6.1 \\cdot 10^{-5} e^{i p} \\overline{a}^{2} + 0.5 e^{i p} \\overline{b}^{2} + 0.75\\right) + 4.07 \\cdot 10^{-5} e^{i p} \\overline{a}^{2} - 0.333 e^{i p} \\overline{b}^{2} - 0.333}} - 0.572 \\left(- \\frac{1}{2} + \\frac{\\sqrt{3} i}{2}\\right) \\sqrt[3]{- 2.03 \\cdot 10^{-5} a^{4} b e^{- 2 i p} \\overline{b} - 8.14 \\cdot 10^{-5} a^{3} b^{2} e^{- 2 i p} \\overline{a} + 0.333 a^{3} \\overline{a}^{3} + 4.07 \\cdot 10^{-5} a^{3} e^{- i p} \\overline{a} - 8.14 \\cdot 10^{-5} a^{2} b^{3} e^{- 2 i p} \\overline{b} + 4.07 \\cdot 10^{-5} a^{2} b^{2} e^{- i p} \\overline{a}^{2} - 4.07 \\cdot 10^{-5} a^{2} b^{2} e^{- i p} \\overline{b}^{2} + a^{2} b \\overline{a}^{2} \\overline{b} + 4.07 \\cdot 10^{-5} a^{2} e^{i p} \\overline{a}^{2} \\overline{b}^{2} + 0.333 a^{2} \\overline{a}^{2} + 4.07 \\cdot 10^{-5} a^{2} e^{- i p} - 2.03 \\cdot 10^{-5} a b^{4} e^{- 2 i p} \\overline{a} + a b^{2} \\overline{a} \\overline{b}^{2} + 0.333 a b^{2} e^{- i p} \\overline{a} - 8.14 \\cdot 10^{-5} a e^{2 i p} \\overline{a}^{3} \\overline{b}^{2} - 2.03 \\cdot 10^{-5} a e^{2 i p} \\overline{a} \\overline{b}^{4} + 4.07 \\cdot 10^{-5} a e^{i p} \\overline{a}^{3} + 0.333 a e^{i p} \\overline{a} \\overline{b}^{2} - 0.333 a \\overline{a} + 0.333 b^{3} \\overline{b}^{3} + 0.333 b^{3} e^{- i p} \\overline{b} - 4.07 \\cdot 10^{-5} b^{2} e^{i p} \\overline{a}^{2} \\overline{b}^{2} - 0.333 b^{2} \\overline{b}^{2} - 0.333 b^{2} e^{- i p} - 2.03 \\cdot 10^{-5} b e^{2 i p} \\overline{a}^{4} \\overline{b} - 8.14 \\cdot 10^{-5} b e^{2 i p} \\overline{a}^{2} \\overline{b}^{3} + 0.333 b e^{i p} \\overline{b}^{3} + 0.333 b \\overline{b} + \\sqrt{- 0.444 \\left(4.07 \\cdot 10^{-5} a^{3} e^{- i p} \\overline{a} + 0.333 a^{2} \\overline{a}^{2} + 8.14 \\cdot 10^{-5} a^{2} e^{- i p} + 0.333 a b^{2} e^{- i p} \\overline{a} + 4.07 \\cdot 10^{-5} a e^{i p} \\overline{a}^{3} + 0.333 a e^{i p} \\overline{a} \\overline{b}^{2} - 0.667 a \\overline{a} + 0.333 b^{3} e^{- i p} \\overline{b} - 0.333 b^{2} \\overline{b}^{2} - 0.667 b^{2} e^{- i p} + 0.333 b e^{i p} \\overline{b}^{3} + 0.667 b \\overline{b} + \\left(4.07 \\cdot 10^{-5} a^{2} e^{- i p} - 0.333 a \\overline{a} - 0.333 b^{2} e^{- i p} + 0.333 b \\overline{b} + 4.07 \\cdot 10^{-5} e^{i p} \\overline{a}^{2} - 0.333 e^{i p} \\overline{b}^{2} - 1\\right)^{2} + 8.14 \\cdot 10^{-5} e^{i p} \\overline{a}^{2} - 0.667 e^{i p} \\overline{b}^{2} - 1\\right)^{3} + \\left(- 2.03 \\cdot 10^{-5} a^{4} b e^{- 2 i p} \\overline{b} - 8.14 \\cdot 10^{-5} a^{3} b^{2} e^{- 2 i p} \\overline{a} + 0.333 a^{3} \\overline{a}^{3} + 4.07 \\cdot 10^{-5} a^{3} e^{- i p} \\overline{a} - 8.14 \\cdot 10^{-5} a^{2} b^{3} e^{- 2 i p} \\overline{b} + 4.07 \\cdot 10^{-5} a^{2} b^{2} e^{- i p} \\overline{a}^{2} - 4.07 \\cdot 10^{-5} a^{2} b^{2} e^{- i p} \\overline{b}^{2} + a^{2} b \\overline{a}^{2} \\overline{b} + 4.07 \\cdot 10^{-5} a^{2} e^{i p} \\overline{a}^{2} \\overline{b}^{2} + 0.333 a^{2} \\overline{a}^{2} + 4.07 \\cdot 10^{-5} a^{2} e^{- i p} - 2.03 \\cdot 10^{-5} a b^{4} e^{- 2 i p} \\overline{a} + a b^{2} \\overline{a} \\overline{b}^{2} + 0.333 a b^{2} e^{- i p} \\overline{a} - 8.14 \\cdot 10^{-5} a e^{2 i p} \\overline{a}^{3} \\overline{b}^{2} - 2.03 \\cdot 10^{-5} a e^{2 i p} \\overline{a} \\overline{b}^{4} + 4.07 \\cdot 10^{-5} a e^{i p} \\overline{a}^{3} + 0.333 a e^{i p} \\overline{a} \\overline{b}^{2} - 0.333 a \\overline{a} + 0.333 b^{3} \\overline{b}^{3} + 0.333 b^{3} e^{- i p} \\overline{b} - 4.07 \\cdot 10^{-5} b^{2} e^{i p} \\overline{a}^{2} \\overline{b}^{2} - 0.333 b^{2} \\overline{b}^{2} - 0.333 b^{2} e^{- i p} - 2.03 \\cdot 10^{-5} b e^{2 i p} \\overline{a}^{4} \\overline{b} - 8.14 \\cdot 10^{-5} b e^{2 i p} \\overline{a}^{2} \\overline{b}^{3} + 0.333 b e^{i p} \\overline{b}^{3} + 0.333 b \\overline{b} + 0.667 \\left(4.07 \\cdot 10^{-5} a^{2} e^{- i p} - 0.333 a \\overline{a} - 0.333 b^{2} e^{- i p} + 0.333 b \\overline{b} + 4.07 \\cdot 10^{-5} e^{i p} \\overline{a}^{2} - 0.333 e^{i p} \\overline{b}^{2} - 1\\right)^{3} - 0.0988 \\cdot \\left(0.000549 a^{2} e^{- i p} - 4.5 a \\overline{a} - 4.5 b^{2} e^{- i p} + 4.5 b \\overline{b} + 0.000549 e^{i p} \\overline{a}^{2} - 4.5 e^{i p} \\overline{b}^{2} - 13.5\\right) \\left(- 3.05 \\cdot 10^{-5} a^{3} e^{- i p} \\overline{a} - 0.25 a^{2} \\overline{a}^{2} - 6.1 \\cdot 10^{-5} a^{2} e^{- i p} - 0.25 a b^{2} e^{- i p} \\overline{a} - 3.05 \\cdot 10^{-5} a e^{i p} \\overline{a}^{3} - 0.25 a e^{i p} \\overline{a} \\overline{b}^{2} + 0.5 a \\overline{a} - 0.25 b^{3} e^{- i p} \\overline{b} + 0.25 b^{2} \\overline{b}^{2} + 0.5 b^{2} e^{- i p} - 0.25 b e^{i p} \\overline{b}^{3} - 0.5 b \\overline{b} - 6.1 \\cdot 10^{-5} e^{i p} \\overline{a}^{2} + 0.5 e^{i p} \\overline{b}^{2} + 0.75\\right) + 4.07 \\cdot 10^{-5} e^{i p} \\overline{a}^{2} - 0.333 e^{i p} \\overline{b}^{2} - 0.333\\right)^{2}} + 0.667 \\left(4.07 \\cdot 10^{-5} a^{2} e^{- i p} - 0.333 a \\overline{a} - 0.333 b^{2} e^{- i p} + 0.333 b \\overline{b} + 4.07 \\cdot 10^{-5} e^{i p} \\overline{a}^{2} - 0.333 e^{i p} \\overline{b}^{2} - 1\\right)^{3} - 0.0988 \\cdot \\left(0.000549 a^{2} e^{- i p} - 4.5 a \\overline{a} - 4.5 b^{2} e^{- i p} + 4.5 b \\overline{b} + 0.000549 e^{i p} \\overline{a}^{2} - 4.5 e^{i p} \\overline{b}^{2} - 13.5\\right) \\left(- 3.05 \\cdot 10^{-5} a^{3} e^{- i p} \\overline{a} - 0.25 a^{2} \\overline{a}^{2} - 6.1 \\cdot 10^{-5} a^{2} e^{- i p} - 0.25 a b^{2} e^{- i p} \\overline{a} - 3.05 \\cdot 10^{-5} a e^{i p} \\overline{a}^{3} - 0.25 a e^{i p} \\overline{a} \\overline{b}^{2} + 0.5 a \\overline{a} - 0.25 b^{3} e^{- i p} \\overline{b} + 0.25 b^{2} \\overline{b}^{2} + 0.5 b^{2} e^{- i p} - 0.25 b e^{i p} \\overline{b}^{3} - 0.5 b \\overline{b} - 6.1 \\cdot 10^{-5} e^{i p} \\overline{a}^{2} + 0.5 e^{i p} \\overline{b}^{2} + 0.75\\right) + 4.07 \\cdot 10^{-5} e^{i p} \\overline{a}^{2} - 0.333 e^{i p} \\overline{b}^{2} - 0.333} - 2.03 \\cdot 10^{-5} e^{i p} \\overline{a}^{2} + 0.167 e^{i p} \\overline{b}^{2} + 0.5$"
      ],
      "text/plain": [
       "-2.03e-5*a**2*exp(-I*p) + 0.167*a*conjugate(a) + 0.167*b**2*exp(-I*p) - 0.167*b*conjugate(b) - 0.194*(9.16e-5*a**3*exp(-I*p)*conjugate(a) + 0.75*a**2*conjugate(a)**2 + 0.000183*a**2*exp(-I*p) + 0.75*a*b**2*exp(-I*p)*conjugate(a) + 9.16e-5*a*exp(I*p)*conjugate(a)**3 + 0.75*a*exp(I*p)*conjugate(a)*conjugate(b)**2 - 1.5*a*conjugate(a) + 0.75*b**3*exp(-I*p)*conjugate(b) - 0.75*b**2*conjugate(b)**2 - 1.5*b**2*exp(-I*p) + 0.75*b*exp(I*p)*conjugate(b)**3 + 1.5*b*conjugate(b) + 2.25*(4.07e-5*a**2*exp(-I*p) - 0.333*a*conjugate(a) - 0.333*b**2*exp(-I*p) + 0.333*b*conjugate(b) + 4.07e-5*exp(I*p)*conjugate(a)**2 - 0.333*exp(I*p)*conjugate(b)**2 - 1)**2 + 0.000183*exp(I*p)*conjugate(a)**2 - 1.5*exp(I*p)*conjugate(b)**2 - 2.25)/((-1/2 + sqrt(3)*I/2)*(-2.03e-5*a**4*b*exp(-2*I*p)*conjugate(b) - 8.14e-5*a**3*b**2*exp(-2*I*p)*conjugate(a) + 0.333*a**3*conjugate(a)**3 + 4.07e-5*a**3*exp(-I*p)*conjugate(a) - 8.14e-5*a**2*b**3*exp(-2*I*p)*conjugate(b) + 4.07e-5*a**2*b**2*exp(-I*p)*conjugate(a)**2 - 4.07e-5*a**2*b**2*exp(-I*p)*conjugate(b)**2 + a**2*b*conjugate(a)**2*conjugate(b) + 4.07e-5*a**2*exp(I*p)*conjugate(a)**2*conjugate(b)**2 + 0.333*a**2*conjugate(a)**2 + 4.07e-5*a**2*exp(-I*p) - 2.03e-5*a*b**4*exp(-2*I*p)*conjugate(a) + a*b**2*conjugate(a)*conjugate(b)**2 + 0.333*a*b**2*exp(-I*p)*conjugate(a) - 8.14e-5*a*exp(2*I*p)*conjugate(a)**3*conjugate(b)**2 - 2.03e-5*a*exp(2*I*p)*conjugate(a)*conjugate(b)**4 + 4.07e-5*a*exp(I*p)*conjugate(a)**3 + 0.333*a*exp(I*p)*conjugate(a)*conjugate(b)**2 - 0.333*a*conjugate(a) + 0.333*b**3*conjugate(b)**3 + 0.333*b**3*exp(-I*p)*conjugate(b) - 4.07e-5*b**2*exp(I*p)*conjugate(a)**2*conjugate(b)**2 - 0.333*b**2*conjugate(b)**2 - 0.333*b**2*exp(-I*p) - 2.03e-5*b*exp(2*I*p)*conjugate(a)**4*conjugate(b) - 8.14e-5*b*exp(2*I*p)*conjugate(a)**2*conjugate(b)**3 + 0.333*b*exp(I*p)*conjugate(b)**3 + 0.333*b*conjugate(b) + sqrt(-0.444*(4.07e-5*a**3*exp(-I*p)*conjugate(a) + 0.333*a**2*conjugate(a)**2 + 8.14e-5*a**2*exp(-I*p) + 0.333*a*b**2*exp(-I*p)*conjugate(a) + 4.07e-5*a*exp(I*p)*conjugate(a)**3 + 0.333*a*exp(I*p)*conjugate(a)*conjugate(b)**2 - 0.667*a*conjugate(a) + 0.333*b**3*exp(-I*p)*conjugate(b) - 0.333*b**2*conjugate(b)**2 - 0.667*b**2*exp(-I*p) + 0.333*b*exp(I*p)*conjugate(b)**3 + 0.667*b*conjugate(b) + (4.07e-5*a**2*exp(-I*p) - 0.333*a*conjugate(a) - 0.333*b**2*exp(-I*p) + 0.333*b*conjugate(b) + 4.07e-5*exp(I*p)*conjugate(a)**2 - 0.333*exp(I*p)*conjugate(b)**2 - 1)**2 + 8.14e-5*exp(I*p)*conjugate(a)**2 - 0.667*exp(I*p)*conjugate(b)**2 - 1)**3 + (-2.03e-5*a**4*b*exp(-2*I*p)*conjugate(b) - 8.14e-5*a**3*b**2*exp(-2*I*p)*conjugate(a) + 0.333*a**3*conjugate(a)**3 + 4.07e-5*a**3*exp(-I*p)*conjugate(a) - 8.14e-5*a**2*b**3*exp(-2*I*p)*conjugate(b) + 4.07e-5*a**2*b**2*exp(-I*p)*conjugate(a)**2 - 4.07e-5*a**2*b**2*exp(-I*p)*conjugate(b)**2 + a**2*b*conjugate(a)**2*conjugate(b) + 4.07e-5*a**2*exp(I*p)*conjugate(a)**2*conjugate(b)**2 + 0.333*a**2*conjugate(a)**2 + 4.07e-5*a**2*exp(-I*p) - 2.03e-5*a*b**4*exp(-2*I*p)*conjugate(a) + a*b**2*conjugate(a)*conjugate(b)**2 + 0.333*a*b**2*exp(-I*p)*conjugate(a) - 8.14e-5*a*exp(2*I*p)*conjugate(a)**3*conjugate(b)**2 - 2.03e-5*a*exp(2*I*p)*conjugate(a)*conjugate(b)**4 + 4.07e-5*a*exp(I*p)*conjugate(a)**3 + 0.333*a*exp(I*p)*conjugate(a)*conjugate(b)**2 - 0.333*a*conjugate(a) + 0.333*b**3*conjugate(b)**3 + 0.333*b**3*exp(-I*p)*conjugate(b) - 4.07e-5*b**2*exp(I*p)*conjugate(a)**2*conjugate(b)**2 - 0.333*b**2*conjugate(b)**2 - 0.333*b**2*exp(-I*p) - 2.03e-5*b*exp(2*I*p)*conjugate(a)**4*conjugate(b) - 8.14e-5*b*exp(2*I*p)*conjugate(a)**2*conjugate(b)**3 + 0.333*b*exp(I*p)*conjugate(b)**3 + 0.333*b*conjugate(b) + 0.667*(4.07e-5*a**2*exp(-I*p) - 0.333*a*conjugate(a) - 0.333*b**2*exp(-I*p) + 0.333*b*conjugate(b) + 4.07e-5*exp(I*p)*conjugate(a)**2 - 0.333*exp(I*p)*conjugate(b)**2 - 1)**3 - 0.0988*(0.000549*a**2*exp(-I*p) - 4.5*a*conjugate(a) - 4.5*b**2*exp(-I*p) + 4.5*b*conjugate(b) + 0.000549*exp(I*p)*conjugate(a)**2 - 4.5*exp(I*p)*conjugate(b)**2 - 13.5)*(-3.05e-5*a**3*exp(-I*p)*conjugate(a) - 0.25*a**2*conjugate(a)**2 - 6.1e-5*a**2*exp(-I*p) - 0.25*a*b**2*exp(-I*p)*conjugate(a) - 3.05e-5*a*exp(I*p)*conjugate(a)**3 - 0.25*a*exp(I*p)*conjugate(a)*conjugate(b)**2 + 0.5*a*conjugate(a) - 0.25*b**3*exp(-I*p)*conjugate(b) + 0.25*b**2*conjugate(b)**2 + 0.5*b**2*exp(-I*p) - 0.25*b*exp(I*p)*conjugate(b)**3 - 0.5*b*conjugate(b) - 6.1e-5*exp(I*p)*conjugate(a)**2 + 0.5*exp(I*p)*conjugate(b)**2 + 0.75) + 4.07e-5*exp(I*p)*conjugate(a)**2 - 0.333*exp(I*p)*conjugate(b)**2 - 0.333)**2) + 0.667*(4.07e-5*a**2*exp(-I*p) - 0.333*a*conjugate(a) - 0.333*b**2*exp(-I*p) + 0.333*b*conjugate(b) + 4.07e-5*exp(I*p)*conjugate(a)**2 - 0.333*exp(I*p)*conjugate(b)**2 - 1)**3 - 0.0988*(0.000549*a**2*exp(-I*p) - 4.5*a*conjugate(a) - 4.5*b**2*exp(-I*p) + 4.5*b*conjugate(b) + 0.000549*exp(I*p)*conjugate(a)**2 - 4.5*exp(I*p)*conjugate(b)**2 - 13.5)*(-3.05e-5*a**3*exp(-I*p)*conjugate(a) - 0.25*a**2*conjugate(a)**2 - 6.1e-5*a**2*exp(-I*p) - 0.25*a*b**2*exp(-I*p)*conjugate(a) - 3.05e-5*a*exp(I*p)*conjugate(a)**3 - 0.25*a*exp(I*p)*conjugate(a)*conjugate(b)**2 + 0.5*a*conjugate(a) - 0.25*b**3*exp(-I*p)*conjugate(b) + 0.25*b**2*conjugate(b)**2 + 0.5*b**2*exp(-I*p) - 0.25*b*exp(I*p)*conjugate(b)**3 - 0.5*b*conjugate(b) - 6.1e-5*exp(I*p)*conjugate(a)**2 + 0.5*exp(I*p)*conjugate(b)**2 + 0.75) + 4.07e-5*exp(I*p)*conjugate(a)**2 - 0.333*exp(I*p)*conjugate(b)**2 - 0.333)**(1/3)) - 0.572*(-1/2 + sqrt(3)*I/2)*(-2.03e-5*a**4*b*exp(-2*I*p)*conjugate(b) - 8.14e-5*a**3*b**2*exp(-2*I*p)*conjugate(a) + 0.333*a**3*conjugate(a)**3 + 4.07e-5*a**3*exp(-I*p)*conjugate(a) - 8.14e-5*a**2*b**3*exp(-2*I*p)*conjugate(b) + 4.07e-5*a**2*b**2*exp(-I*p)*conjugate(a)**2 - 4.07e-5*a**2*b**2*exp(-I*p)*conjugate(b)**2 + a**2*b*conjugate(a)**2*conjugate(b) + 4.07e-5*a**2*exp(I*p)*conjugate(a)**2*conjugate(b)**2 + 0.333*a**2*conjugate(a)**2 + 4.07e-5*a**2*exp(-I*p) - 2.03e-5*a*b**4*exp(-2*I*p)*conjugate(a) + a*b**2*conjugate(a)*conjugate(b)**2 + 0.333*a*b**2*exp(-I*p)*conjugate(a) - 8.14e-5*a*exp(2*I*p)*conjugate(a)**3*conjugate(b)**2 - 2.03e-5*a*exp(2*I*p)*conjugate(a)*conjugate(b)**4 + 4.07e-5*a*exp(I*p)*conjugate(a)**3 + 0.333*a*exp(I*p)*conjugate(a)*conjugate(b)**2 - 0.333*a*conjugate(a) + 0.333*b**3*conjugate(b)**3 + 0.333*b**3*exp(-I*p)*conjugate(b) - 4.07e-5*b**2*exp(I*p)*conjugate(a)**2*conjugate(b)**2 - 0.333*b**2*conjugate(b)**2 - 0.333*b**2*exp(-I*p) - 2.03e-5*b*exp(2*I*p)*conjugate(a)**4*conjugate(b) - 8.14e-5*b*exp(2*I*p)*conjugate(a)**2*conjugate(b)**3 + 0.333*b*exp(I*p)*conjugate(b)**3 + 0.333*b*conjugate(b) + sqrt(-0.444*(4.07e-5*a**3*exp(-I*p)*conjugate(a) + 0.333*a**2*conjugate(a)**2 + 8.14e-5*a**2*exp(-I*p) + 0.333*a*b**2*exp(-I*p)*conjugate(a) + 4.07e-5*a*exp(I*p)*conjugate(a)**3 + 0.333*a*exp(I*p)*conjugate(a)*conjugate(b)**2 - 0.667*a*conjugate(a) + 0.333*b**3*exp(-I*p)*conjugate(b) - 0.333*b**2*conjugate(b)**2 - 0.667*b**2*exp(-I*p) + 0.333*b*exp(I*p)*conjugate(b)**3 + 0.667*b*conjugate(b) + (4.07e-5*a**2*exp(-I*p) - 0.333*a*conjugate(a) - 0.333*b**2*exp(-I*p) + 0.333*b*conjugate(b) + 4.07e-5*exp(I*p)*conjugate(a)**2 - 0.333*exp(I*p)*conjugate(b)**2 - 1)**2 + 8.14e-5*exp(I*p)*conjugate(a)**2 - 0.667*exp(I*p)*conjugate(b)**2 - 1)**3 + (-2.03e-5*a**4*b*exp(-2*I*p)*conjugate(b) - 8.14e-5*a**3*b**2*exp(-2*I*p)*conjugate(a) + 0.333*a**3*conjugate(a)**3 + 4.07e-5*a**3*exp(-I*p)*conjugate(a) - 8.14e-5*a**2*b**3*exp(-2*I*p)*conjugate(b) + 4.07e-5*a**2*b**2*exp(-I*p)*conjugate(a)**2 - 4.07e-5*a**2*b**2*exp(-I*p)*conjugate(b)**2 + a**2*b*conjugate(a)**2*conjugate(b) + 4.07e-5*a**2*exp(I*p)*conjugate(a)**2*conjugate(b)**2 + 0.333*a**2*conjugate(a)**2 + 4.07e-5*a**2*exp(-I*p) - 2.03e-5*a*b**4*exp(-2*I*p)*conjugate(a) + a*b**2*conjugate(a)*conjugate(b)**2 + 0.333*a*b**2*exp(-I*p)*conjugate(a) - 8.14e-5*a*exp(2*I*p)*conjugate(a)**3*conjugate(b)**2 - 2.03e-5*a*exp(2*I*p)*conjugate(a)*conjugate(b)**4 + 4.07e-5*a*exp(I*p)*conjugate(a)**3 + 0.333*a*exp(I*p)*conjugate(a)*conjugate(b)**2 - 0.333*a*conjugate(a) + 0.333*b**3*conjugate(b)**3 + 0.333*b**3*exp(-I*p)*conjugate(b) - 4.07e-5*b**2*exp(I*p)*conjugate(a)**2*conjugate(b)**2 - 0.333*b**2*conjugate(b)**2 - 0.333*b**2*exp(-I*p) - 2.03e-5*b*exp(2*I*p)*conjugate(a)**4*conjugate(b) - 8.14e-5*b*exp(2*I*p)*conjugate(a)**2*conjugate(b)**3 + 0.333*b*exp(I*p)*conjugate(b)**3 + 0.333*b*conjugate(b) + 0.667*(4.07e-5*a**2*exp(-I*p) - 0.333*a*conjugate(a) - 0.333*b**2*exp(-I*p) + 0.333*b*conjugate(b) + 4.07e-5*exp(I*p)*conjugate(a)**2 - 0.333*exp(I*p)*conjugate(b)**2 - 1)**3 - 0.0988*(0.000549*a**2*exp(-I*p) - 4.5*a*conjugate(a) - 4.5*b**2*exp(-I*p) + 4.5*b*conjugate(b) + 0.000549*exp(I*p)*conjugate(a)**2 - 4.5*exp(I*p)*conjugate(b)**2 - 13.5)*(-3.05e-5*a**3*exp(-I*p)*conjugate(a) - 0.25*a**2*conjugate(a)**2 - 6.1e-5*a**2*exp(-I*p) - 0.25*a*b**2*exp(-I*p)*conjugate(a) - 3.05e-5*a*exp(I*p)*conjugate(a)**3 - 0.25*a*exp(I*p)*conjugate(a)*conjugate(b)**2 + 0.5*a*conjugate(a) - 0.25*b**3*exp(-I*p)*conjugate(b) + 0.25*b**2*conjugate(b)**2 + 0.5*b**2*exp(-I*p) - 0.25*b*exp(I*p)*conjugate(b)**3 - 0.5*b*conjugate(b) - 6.1e-5*exp(I*p)*conjugate(a)**2 + 0.5*exp(I*p)*conjugate(b)**2 + 0.75) + 4.07e-5*exp(I*p)*conjugate(a)**2 - 0.333*exp(I*p)*conjugate(b)**2 - 0.333)**2) + 0.667*(4.07e-5*a**2*exp(-I*p) - 0.333*a*conjugate(a) - 0.333*b**2*exp(-I*p) + 0.333*b*conjugate(b) + 4.07e-5*exp(I*p)*conjugate(a)**2 - 0.333*exp(I*p)*conjugate(b)**2 - 1)**3 - 0.0988*(0.000549*a**2*exp(-I*p) - 4.5*a*conjugate(a) - 4.5*b**2*exp(-I*p) + 4.5*b*conjugate(b) + 0.000549*exp(I*p)*conjugate(a)**2 - 4.5*exp(I*p)*conjugate(b)**2 - 13.5)*(-3.05e-5*a**3*exp(-I*p)*conjugate(a) - 0.25*a**2*conjugate(a)**2 - 6.1e-5*a**2*exp(-I*p) - 0.25*a*b**2*exp(-I*p)*conjugate(a) - 3.05e-5*a*exp(I*p)*conjugate(a)**3 - 0.25*a*exp(I*p)*conjugate(a)*conjugate(b)**2 + 0.5*a*conjugate(a) - 0.25*b**3*exp(-I*p)*conjugate(b) + 0.25*b**2*conjugate(b)**2 + 0.5*b**2*exp(-I*p) - 0.25*b*exp(I*p)*conjugate(b)**3 - 0.5*b*conjugate(b) - 6.1e-5*exp(I*p)*conjugate(a)**2 + 0.5*exp(I*p)*conjugate(b)**2 + 0.75) + 4.07e-5*exp(I*p)*conjugate(a)**2 - 0.333*exp(I*p)*conjugate(b)**2 - 0.333)**(1/3) - 2.03e-5*exp(I*p)*conjugate(a)**2 + 0.167*exp(I*p)*conjugate(b)**2 + 0.5"
      ]
     },
     "metadata": {},
     "output_type": "display_data"
    },
    {
     "name": "stdout",
     "output_type": "stream",
     "text": [
      " = \n"
     ]
    },
    {
     "data": {
      "text/latex": [
       "$\\displaystyle \\frac{\\left(0.0833 + 0.144 i\\right) \\left(4.0 \\left(3.05 \\cdot 10^{-5} e^{i p} - 1.0 + 3.05 \\cdot 10^{-5} e^{- i p}\\right)^{2} + 0.000275 e^{i p} - 3.0 + 0.000275 e^{- i p}\\right)}{\\left(\\left(\\left(- 0.0625 \\left(- 9.16 \\cdot 10^{-5} e^{i p} + 1.0 - 9.16 \\cdot 10^{-5} e^{- i p}\\right) \\left(0.000549 e^{i p} - 18.0 + 0.000549 e^{- i p}\\right) + \\left(3.05 \\cdot 10^{-5} e^{i p} - 1.0 + 3.05 \\cdot 10^{-5} e^{- i p}\\right)^{3} + 5.15 \\cdot 10^{-5} e^{i p} + 5.15 \\cdot 10^{-5} e^{- i p}\\right)^{2} - \\left(\\left(3.05 \\cdot 10^{-5} e^{i p} - 1.0 + 3.05 \\cdot 10^{-5} e^{- i p}\\right)^{2} + 6.87 \\cdot 10^{-5} e^{i p} - 0.75 + 6.87 \\cdot 10^{-5} e^{- i p}\\right)^{3}\\right)^{0.5} - 0.0625 \\left(- 9.16 \\cdot 10^{-5} e^{i p} + 1.0 - 9.16 \\cdot 10^{-5} e^{- i p}\\right) \\left(0.000549 e^{i p} - 18.0 + 0.000549 e^{- i p}\\right) + \\left(3.05 \\cdot 10^{-5} e^{i p} - 1.0 + 3.05 \\cdot 10^{-5} e^{- i p}\\right)^{3} + 5.15 \\cdot 10^{-5} e^{i p} + 5.15 \\cdot 10^{-5} e^{- i p}\\right)^{0.333}} + \\left(0.333 - 0.577 i\\right) \\left(\\left(\\left(- 0.0625 \\left(- 9.16 \\cdot 10^{-5} e^{i p} + 1.0 - 9.16 \\cdot 10^{-5} e^{- i p}\\right) \\left(0.000549 e^{i p} - 18.0 + 0.000549 e^{- i p}\\right) + \\left(3.05 \\cdot 10^{-5} e^{i p} - 1.0 + 3.05 \\cdot 10^{-5} e^{- i p}\\right)^{3} + 5.15 \\cdot 10^{-5} e^{i p} + 5.15 \\cdot 10^{-5} e^{- i p}\\right)^{2} - \\left(\\left(3.05 \\cdot 10^{-5} e^{i p} - 1.0 + 3.05 \\cdot 10^{-5} e^{- i p}\\right)^{2} + 6.87 \\cdot 10^{-5} e^{i p} - 0.75 + 6.87 \\cdot 10^{-5} e^{- i p}\\right)^{3}\\right)^{0.5} - 0.0625 \\left(- 9.16 \\cdot 10^{-5} e^{i p} + 1.0 - 9.16 \\cdot 10^{-5} e^{- i p}\\right) \\left(0.000549 e^{i p} - 18.0 + 0.000549 e^{- i p}\\right) + \\left(3.05 \\cdot 10^{-5} e^{i p} - 1.0 + 3.05 \\cdot 10^{-5} e^{- i p}\\right)^{3} + 5.15 \\cdot 10^{-5} e^{i p} + 5.15 \\cdot 10^{-5} e^{- i p}\\right)^{0.333} - 2.03 \\cdot 10^{-5} e^{i p} + 0.667 - 2.03 \\cdot 10^{-5} e^{- i p}$"
      ],
      "text/plain": [
       "(0.0833 + 0.144*I)*(4.0*(3.05e-5*exp(I*p) - 1.0 + 3.05e-5*exp(-I*p))**2 + 0.000275*exp(I*p) - 3.0 + 0.000275*exp(-I*p))/(((-0.0625*(-9.16e-5*exp(I*p) + 1.0 - 9.16e-5*exp(-I*p))*(0.000549*exp(I*p) - 18.0 + 0.000549*exp(-I*p)) + (3.05e-5*exp(I*p) - 1.0 + 3.05e-5*exp(-I*p))**3 + 5.15e-5*exp(I*p) + 5.15e-5*exp(-I*p))**2 - ((3.05e-5*exp(I*p) - 1.0 + 3.05e-5*exp(-I*p))**2 + 6.87e-5*exp(I*p) - 0.75 + 6.87e-5*exp(-I*p))**3)**0.5 - 0.0625*(-9.16e-5*exp(I*p) + 1.0 - 9.16e-5*exp(-I*p))*(0.000549*exp(I*p) - 18.0 + 0.000549*exp(-I*p)) + (3.05e-5*exp(I*p) - 1.0 + 3.05e-5*exp(-I*p))**3 + 5.15e-5*exp(I*p) + 5.15e-5*exp(-I*p))**0.333 + (0.333 - 0.577*I)*(((-0.0625*(-9.16e-5*exp(I*p) + 1.0 - 9.16e-5*exp(-I*p))*(0.000549*exp(I*p) - 18.0 + 0.000549*exp(-I*p)) + (3.05e-5*exp(I*p) - 1.0 + 3.05e-5*exp(-I*p))**3 + 5.15e-5*exp(I*p) + 5.15e-5*exp(-I*p))**2 - ((3.05e-5*exp(I*p) - 1.0 + 3.05e-5*exp(-I*p))**2 + 6.87e-5*exp(I*p) - 0.75 + 6.87e-5*exp(-I*p))**3)**0.5 - 0.0625*(-9.16e-5*exp(I*p) + 1.0 - 9.16e-5*exp(-I*p))*(0.000549*exp(I*p) - 18.0 + 0.000549*exp(-I*p)) + (3.05e-5*exp(I*p) - 1.0 + 3.05e-5*exp(-I*p))**3 + 5.15e-5*exp(I*p) + 5.15e-5*exp(-I*p))**0.333 - 2.03e-5*exp(I*p) + 0.667 - 2.03e-5*exp(-I*p)"
      ]
     },
     "metadata": {},
     "output_type": "display_data"
    },
    {
     "data": {
      "text/latex": [
       "$\\displaystyle - 2.03 \\cdot 10^{-5} a^{2} e^{- i p} + 0.167 a \\overline{a} + 0.167 b^{2} e^{- i p} - 0.167 b \\overline{b} - \\frac{0.194 \\cdot \\left(9.16 \\cdot 10^{-5} a^{3} e^{- i p} \\overline{a} + 0.75 a^{2} \\overline{a}^{2} + 0.000183 a^{2} e^{- i p} + 0.75 a b^{2} e^{- i p} \\overline{a} + 9.16 \\cdot 10^{-5} a e^{i p} \\overline{a}^{3} + 0.75 a e^{i p} \\overline{a} \\overline{b}^{2} - 1.5 a \\overline{a} + 0.75 b^{3} e^{- i p} \\overline{b} - 0.75 b^{2} \\overline{b}^{2} - 1.5 b^{2} e^{- i p} + 0.75 b e^{i p} \\overline{b}^{3} + 1.5 b \\overline{b} + 2.25 \\left(4.07 \\cdot 10^{-5} a^{2} e^{- i p} - 0.333 a \\overline{a} - 0.333 b^{2} e^{- i p} + 0.333 b \\overline{b} + 4.07 \\cdot 10^{-5} e^{i p} \\overline{a}^{2} - 0.333 e^{i p} \\overline{b}^{2} - 1\\right)^{2} + 0.000183 e^{i p} \\overline{a}^{2} - 1.5 e^{i p} \\overline{b}^{2} - 2.25\\right)}{\\left(- \\frac{1}{2} - \\frac{\\sqrt{3} i}{2}\\right) \\sqrt[3]{- 2.03 \\cdot 10^{-5} a^{4} b e^{- 2 i p} \\overline{b} - 8.14 \\cdot 10^{-5} a^{3} b^{2} e^{- 2 i p} \\overline{a} + 0.333 a^{3} \\overline{a}^{3} + 4.07 \\cdot 10^{-5} a^{3} e^{- i p} \\overline{a} - 8.14 \\cdot 10^{-5} a^{2} b^{3} e^{- 2 i p} \\overline{b} + 4.07 \\cdot 10^{-5} a^{2} b^{2} e^{- i p} \\overline{a}^{2} - 4.07 \\cdot 10^{-5} a^{2} b^{2} e^{- i p} \\overline{b}^{2} + a^{2} b \\overline{a}^{2} \\overline{b} + 4.07 \\cdot 10^{-5} a^{2} e^{i p} \\overline{a}^{2} \\overline{b}^{2} + 0.333 a^{2} \\overline{a}^{2} + 4.07 \\cdot 10^{-5} a^{2} e^{- i p} - 2.03 \\cdot 10^{-5} a b^{4} e^{- 2 i p} \\overline{a} + a b^{2} \\overline{a} \\overline{b}^{2} + 0.333 a b^{2} e^{- i p} \\overline{a} - 8.14 \\cdot 10^{-5} a e^{2 i p} \\overline{a}^{3} \\overline{b}^{2} - 2.03 \\cdot 10^{-5} a e^{2 i p} \\overline{a} \\overline{b}^{4} + 4.07 \\cdot 10^{-5} a e^{i p} \\overline{a}^{3} + 0.333 a e^{i p} \\overline{a} \\overline{b}^{2} - 0.333 a \\overline{a} + 0.333 b^{3} \\overline{b}^{3} + 0.333 b^{3} e^{- i p} \\overline{b} - 4.07 \\cdot 10^{-5} b^{2} e^{i p} \\overline{a}^{2} \\overline{b}^{2} - 0.333 b^{2} \\overline{b}^{2} - 0.333 b^{2} e^{- i p} - 2.03 \\cdot 10^{-5} b e^{2 i p} \\overline{a}^{4} \\overline{b} - 8.14 \\cdot 10^{-5} b e^{2 i p} \\overline{a}^{2} \\overline{b}^{3} + 0.333 b e^{i p} \\overline{b}^{3} + 0.333 b \\overline{b} + \\sqrt{- 0.444 \\left(4.07 \\cdot 10^{-5} a^{3} e^{- i p} \\overline{a} + 0.333 a^{2} \\overline{a}^{2} + 8.14 \\cdot 10^{-5} a^{2} e^{- i p} + 0.333 a b^{2} e^{- i p} \\overline{a} + 4.07 \\cdot 10^{-5} a e^{i p} \\overline{a}^{3} + 0.333 a e^{i p} \\overline{a} \\overline{b}^{2} - 0.667 a \\overline{a} + 0.333 b^{3} e^{- i p} \\overline{b} - 0.333 b^{2} \\overline{b}^{2} - 0.667 b^{2} e^{- i p} + 0.333 b e^{i p} \\overline{b}^{3} + 0.667 b \\overline{b} + \\left(4.07 \\cdot 10^{-5} a^{2} e^{- i p} - 0.333 a \\overline{a} - 0.333 b^{2} e^{- i p} + 0.333 b \\overline{b} + 4.07 \\cdot 10^{-5} e^{i p} \\overline{a}^{2} - 0.333 e^{i p} \\overline{b}^{2} - 1\\right)^{2} + 8.14 \\cdot 10^{-5} e^{i p} \\overline{a}^{2} - 0.667 e^{i p} \\overline{b}^{2} - 1\\right)^{3} + \\left(- 2.03 \\cdot 10^{-5} a^{4} b e^{- 2 i p} \\overline{b} - 8.14 \\cdot 10^{-5} a^{3} b^{2} e^{- 2 i p} \\overline{a} + 0.333 a^{3} \\overline{a}^{3} + 4.07 \\cdot 10^{-5} a^{3} e^{- i p} \\overline{a} - 8.14 \\cdot 10^{-5} a^{2} b^{3} e^{- 2 i p} \\overline{b} + 4.07 \\cdot 10^{-5} a^{2} b^{2} e^{- i p} \\overline{a}^{2} - 4.07 \\cdot 10^{-5} a^{2} b^{2} e^{- i p} \\overline{b}^{2} + a^{2} b \\overline{a}^{2} \\overline{b} + 4.07 \\cdot 10^{-5} a^{2} e^{i p} \\overline{a}^{2} \\overline{b}^{2} + 0.333 a^{2} \\overline{a}^{2} + 4.07 \\cdot 10^{-5} a^{2} e^{- i p} - 2.03 \\cdot 10^{-5} a b^{4} e^{- 2 i p} \\overline{a} + a b^{2} \\overline{a} \\overline{b}^{2} + 0.333 a b^{2} e^{- i p} \\overline{a} - 8.14 \\cdot 10^{-5} a e^{2 i p} \\overline{a}^{3} \\overline{b}^{2} - 2.03 \\cdot 10^{-5} a e^{2 i p} \\overline{a} \\overline{b}^{4} + 4.07 \\cdot 10^{-5} a e^{i p} \\overline{a}^{3} + 0.333 a e^{i p} \\overline{a} \\overline{b}^{2} - 0.333 a \\overline{a} + 0.333 b^{3} \\overline{b}^{3} + 0.333 b^{3} e^{- i p} \\overline{b} - 4.07 \\cdot 10^{-5} b^{2} e^{i p} \\overline{a}^{2} \\overline{b}^{2} - 0.333 b^{2} \\overline{b}^{2} - 0.333 b^{2} e^{- i p} - 2.03 \\cdot 10^{-5} b e^{2 i p} \\overline{a}^{4} \\overline{b} - 8.14 \\cdot 10^{-5} b e^{2 i p} \\overline{a}^{2} \\overline{b}^{3} + 0.333 b e^{i p} \\overline{b}^{3} + 0.333 b \\overline{b} + 0.667 \\left(4.07 \\cdot 10^{-5} a^{2} e^{- i p} - 0.333 a \\overline{a} - 0.333 b^{2} e^{- i p} + 0.333 b \\overline{b} + 4.07 \\cdot 10^{-5} e^{i p} \\overline{a}^{2} - 0.333 e^{i p} \\overline{b}^{2} - 1\\right)^{3} - 0.0988 \\cdot \\left(0.000549 a^{2} e^{- i p} - 4.5 a \\overline{a} - 4.5 b^{2} e^{- i p} + 4.5 b \\overline{b} + 0.000549 e^{i p} \\overline{a}^{2} - 4.5 e^{i p} \\overline{b}^{2} - 13.5\\right) \\left(- 3.05 \\cdot 10^{-5} a^{3} e^{- i p} \\overline{a} - 0.25 a^{2} \\overline{a}^{2} - 6.1 \\cdot 10^{-5} a^{2} e^{- i p} - 0.25 a b^{2} e^{- i p} \\overline{a} - 3.05 \\cdot 10^{-5} a e^{i p} \\overline{a}^{3} - 0.25 a e^{i p} \\overline{a} \\overline{b}^{2} + 0.5 a \\overline{a} - 0.25 b^{3} e^{- i p} \\overline{b} + 0.25 b^{2} \\overline{b}^{2} + 0.5 b^{2} e^{- i p} - 0.25 b e^{i p} \\overline{b}^{3} - 0.5 b \\overline{b} - 6.1 \\cdot 10^{-5} e^{i p} \\overline{a}^{2} + 0.5 e^{i p} \\overline{b}^{2} + 0.75\\right) + 4.07 \\cdot 10^{-5} e^{i p} \\overline{a}^{2} - 0.333 e^{i p} \\overline{b}^{2} - 0.333\\right)^{2}} + 0.667 \\left(4.07 \\cdot 10^{-5} a^{2} e^{- i p} - 0.333 a \\overline{a} - 0.333 b^{2} e^{- i p} + 0.333 b \\overline{b} + 4.07 \\cdot 10^{-5} e^{i p} \\overline{a}^{2} - 0.333 e^{i p} \\overline{b}^{2} - 1\\right)^{3} - 0.0988 \\cdot \\left(0.000549 a^{2} e^{- i p} - 4.5 a \\overline{a} - 4.5 b^{2} e^{- i p} + 4.5 b \\overline{b} + 0.000549 e^{i p} \\overline{a}^{2} - 4.5 e^{i p} \\overline{b}^{2} - 13.5\\right) \\left(- 3.05 \\cdot 10^{-5} a^{3} e^{- i p} \\overline{a} - 0.25 a^{2} \\overline{a}^{2} - 6.1 \\cdot 10^{-5} a^{2} e^{- i p} - 0.25 a b^{2} e^{- i p} \\overline{a} - 3.05 \\cdot 10^{-5} a e^{i p} \\overline{a}^{3} - 0.25 a e^{i p} \\overline{a} \\overline{b}^{2} + 0.5 a \\overline{a} - 0.25 b^{3} e^{- i p} \\overline{b} + 0.25 b^{2} \\overline{b}^{2} + 0.5 b^{2} e^{- i p} - 0.25 b e^{i p} \\overline{b}^{3} - 0.5 b \\overline{b} - 6.1 \\cdot 10^{-5} e^{i p} \\overline{a}^{2} + 0.5 e^{i p} \\overline{b}^{2} + 0.75\\right) + 4.07 \\cdot 10^{-5} e^{i p} \\overline{a}^{2} - 0.333 e^{i p} \\overline{b}^{2} - 0.333}} - 0.572 \\left(- \\frac{1}{2} - \\frac{\\sqrt{3} i}{2}\\right) \\sqrt[3]{- 2.03 \\cdot 10^{-5} a^{4} b e^{- 2 i p} \\overline{b} - 8.14 \\cdot 10^{-5} a^{3} b^{2} e^{- 2 i p} \\overline{a} + 0.333 a^{3} \\overline{a}^{3} + 4.07 \\cdot 10^{-5} a^{3} e^{- i p} \\overline{a} - 8.14 \\cdot 10^{-5} a^{2} b^{3} e^{- 2 i p} \\overline{b} + 4.07 \\cdot 10^{-5} a^{2} b^{2} e^{- i p} \\overline{a}^{2} - 4.07 \\cdot 10^{-5} a^{2} b^{2} e^{- i p} \\overline{b}^{2} + a^{2} b \\overline{a}^{2} \\overline{b} + 4.07 \\cdot 10^{-5} a^{2} e^{i p} \\overline{a}^{2} \\overline{b}^{2} + 0.333 a^{2} \\overline{a}^{2} + 4.07 \\cdot 10^{-5} a^{2} e^{- i p} - 2.03 \\cdot 10^{-5} a b^{4} e^{- 2 i p} \\overline{a} + a b^{2} \\overline{a} \\overline{b}^{2} + 0.333 a b^{2} e^{- i p} \\overline{a} - 8.14 \\cdot 10^{-5} a e^{2 i p} \\overline{a}^{3} \\overline{b}^{2} - 2.03 \\cdot 10^{-5} a e^{2 i p} \\overline{a} \\overline{b}^{4} + 4.07 \\cdot 10^{-5} a e^{i p} \\overline{a}^{3} + 0.333 a e^{i p} \\overline{a} \\overline{b}^{2} - 0.333 a \\overline{a} + 0.333 b^{3} \\overline{b}^{3} + 0.333 b^{3} e^{- i p} \\overline{b} - 4.07 \\cdot 10^{-5} b^{2} e^{i p} \\overline{a}^{2} \\overline{b}^{2} - 0.333 b^{2} \\overline{b}^{2} - 0.333 b^{2} e^{- i p} - 2.03 \\cdot 10^{-5} b e^{2 i p} \\overline{a}^{4} \\overline{b} - 8.14 \\cdot 10^{-5} b e^{2 i p} \\overline{a}^{2} \\overline{b}^{3} + 0.333 b e^{i p} \\overline{b}^{3} + 0.333 b \\overline{b} + \\sqrt{- 0.444 \\left(4.07 \\cdot 10^{-5} a^{3} e^{- i p} \\overline{a} + 0.333 a^{2} \\overline{a}^{2} + 8.14 \\cdot 10^{-5} a^{2} e^{- i p} + 0.333 a b^{2} e^{- i p} \\overline{a} + 4.07 \\cdot 10^{-5} a e^{i p} \\overline{a}^{3} + 0.333 a e^{i p} \\overline{a} \\overline{b}^{2} - 0.667 a \\overline{a} + 0.333 b^{3} e^{- i p} \\overline{b} - 0.333 b^{2} \\overline{b}^{2} - 0.667 b^{2} e^{- i p} + 0.333 b e^{i p} \\overline{b}^{3} + 0.667 b \\overline{b} + \\left(4.07 \\cdot 10^{-5} a^{2} e^{- i p} - 0.333 a \\overline{a} - 0.333 b^{2} e^{- i p} + 0.333 b \\overline{b} + 4.07 \\cdot 10^{-5} e^{i p} \\overline{a}^{2} - 0.333 e^{i p} \\overline{b}^{2} - 1\\right)^{2} + 8.14 \\cdot 10^{-5} e^{i p} \\overline{a}^{2} - 0.667 e^{i p} \\overline{b}^{2} - 1\\right)^{3} + \\left(- 2.03 \\cdot 10^{-5} a^{4} b e^{- 2 i p} \\overline{b} - 8.14 \\cdot 10^{-5} a^{3} b^{2} e^{- 2 i p} \\overline{a} + 0.333 a^{3} \\overline{a}^{3} + 4.07 \\cdot 10^{-5} a^{3} e^{- i p} \\overline{a} - 8.14 \\cdot 10^{-5} a^{2} b^{3} e^{- 2 i p} \\overline{b} + 4.07 \\cdot 10^{-5} a^{2} b^{2} e^{- i p} \\overline{a}^{2} - 4.07 \\cdot 10^{-5} a^{2} b^{2} e^{- i p} \\overline{b}^{2} + a^{2} b \\overline{a}^{2} \\overline{b} + 4.07 \\cdot 10^{-5} a^{2} e^{i p} \\overline{a}^{2} \\overline{b}^{2} + 0.333 a^{2} \\overline{a}^{2} + 4.07 \\cdot 10^{-5} a^{2} e^{- i p} - 2.03 \\cdot 10^{-5} a b^{4} e^{- 2 i p} \\overline{a} + a b^{2} \\overline{a} \\overline{b}^{2} + 0.333 a b^{2} e^{- i p} \\overline{a} - 8.14 \\cdot 10^{-5} a e^{2 i p} \\overline{a}^{3} \\overline{b}^{2} - 2.03 \\cdot 10^{-5} a e^{2 i p} \\overline{a} \\overline{b}^{4} + 4.07 \\cdot 10^{-5} a e^{i p} \\overline{a}^{3} + 0.333 a e^{i p} \\overline{a} \\overline{b}^{2} - 0.333 a \\overline{a} + 0.333 b^{3} \\overline{b}^{3} + 0.333 b^{3} e^{- i p} \\overline{b} - 4.07 \\cdot 10^{-5} b^{2} e^{i p} \\overline{a}^{2} \\overline{b}^{2} - 0.333 b^{2} \\overline{b}^{2} - 0.333 b^{2} e^{- i p} - 2.03 \\cdot 10^{-5} b e^{2 i p} \\overline{a}^{4} \\overline{b} - 8.14 \\cdot 10^{-5} b e^{2 i p} \\overline{a}^{2} \\overline{b}^{3} + 0.333 b e^{i p} \\overline{b}^{3} + 0.333 b \\overline{b} + 0.667 \\left(4.07 \\cdot 10^{-5} a^{2} e^{- i p} - 0.333 a \\overline{a} - 0.333 b^{2} e^{- i p} + 0.333 b \\overline{b} + 4.07 \\cdot 10^{-5} e^{i p} \\overline{a}^{2} - 0.333 e^{i p} \\overline{b}^{2} - 1\\right)^{3} - 0.0988 \\cdot \\left(0.000549 a^{2} e^{- i p} - 4.5 a \\overline{a} - 4.5 b^{2} e^{- i p} + 4.5 b \\overline{b} + 0.000549 e^{i p} \\overline{a}^{2} - 4.5 e^{i p} \\overline{b}^{2} - 13.5\\right) \\left(- 3.05 \\cdot 10^{-5} a^{3} e^{- i p} \\overline{a} - 0.25 a^{2} \\overline{a}^{2} - 6.1 \\cdot 10^{-5} a^{2} e^{- i p} - 0.25 a b^{2} e^{- i p} \\overline{a} - 3.05 \\cdot 10^{-5} a e^{i p} \\overline{a}^{3} - 0.25 a e^{i p} \\overline{a} \\overline{b}^{2} + 0.5 a \\overline{a} - 0.25 b^{3} e^{- i p} \\overline{b} + 0.25 b^{2} \\overline{b}^{2} + 0.5 b^{2} e^{- i p} - 0.25 b e^{i p} \\overline{b}^{3} - 0.5 b \\overline{b} - 6.1 \\cdot 10^{-5} e^{i p} \\overline{a}^{2} + 0.5 e^{i p} \\overline{b}^{2} + 0.75\\right) + 4.07 \\cdot 10^{-5} e^{i p} \\overline{a}^{2} - 0.333 e^{i p} \\overline{b}^{2} - 0.333\\right)^{2}} + 0.667 \\left(4.07 \\cdot 10^{-5} a^{2} e^{- i p} - 0.333 a \\overline{a} - 0.333 b^{2} e^{- i p} + 0.333 b \\overline{b} + 4.07 \\cdot 10^{-5} e^{i p} \\overline{a}^{2} - 0.333 e^{i p} \\overline{b}^{2} - 1\\right)^{3} - 0.0988 \\cdot \\left(0.000549 a^{2} e^{- i p} - 4.5 a \\overline{a} - 4.5 b^{2} e^{- i p} + 4.5 b \\overline{b} + 0.000549 e^{i p} \\overline{a}^{2} - 4.5 e^{i p} \\overline{b}^{2} - 13.5\\right) \\left(- 3.05 \\cdot 10^{-5} a^{3} e^{- i p} \\overline{a} - 0.25 a^{2} \\overline{a}^{2} - 6.1 \\cdot 10^{-5} a^{2} e^{- i p} - 0.25 a b^{2} e^{- i p} \\overline{a} - 3.05 \\cdot 10^{-5} a e^{i p} \\overline{a}^{3} - 0.25 a e^{i p} \\overline{a} \\overline{b}^{2} + 0.5 a \\overline{a} - 0.25 b^{3} e^{- i p} \\overline{b} + 0.25 b^{2} \\overline{b}^{2} + 0.5 b^{2} e^{- i p} - 0.25 b e^{i p} \\overline{b}^{3} - 0.5 b \\overline{b} - 6.1 \\cdot 10^{-5} e^{i p} \\overline{a}^{2} + 0.5 e^{i p} \\overline{b}^{2} + 0.75\\right) + 4.07 \\cdot 10^{-5} e^{i p} \\overline{a}^{2} - 0.333 e^{i p} \\overline{b}^{2} - 0.333} - 2.03 \\cdot 10^{-5} e^{i p} \\overline{a}^{2} + 0.167 e^{i p} \\overline{b}^{2} + 0.5$"
      ],
      "text/plain": [
       "-2.03e-5*a**2*exp(-I*p) + 0.167*a*conjugate(a) + 0.167*b**2*exp(-I*p) - 0.167*b*conjugate(b) - 0.194*(9.16e-5*a**3*exp(-I*p)*conjugate(a) + 0.75*a**2*conjugate(a)**2 + 0.000183*a**2*exp(-I*p) + 0.75*a*b**2*exp(-I*p)*conjugate(a) + 9.16e-5*a*exp(I*p)*conjugate(a)**3 + 0.75*a*exp(I*p)*conjugate(a)*conjugate(b)**2 - 1.5*a*conjugate(a) + 0.75*b**3*exp(-I*p)*conjugate(b) - 0.75*b**2*conjugate(b)**2 - 1.5*b**2*exp(-I*p) + 0.75*b*exp(I*p)*conjugate(b)**3 + 1.5*b*conjugate(b) + 2.25*(4.07e-5*a**2*exp(-I*p) - 0.333*a*conjugate(a) - 0.333*b**2*exp(-I*p) + 0.333*b*conjugate(b) + 4.07e-5*exp(I*p)*conjugate(a)**2 - 0.333*exp(I*p)*conjugate(b)**2 - 1)**2 + 0.000183*exp(I*p)*conjugate(a)**2 - 1.5*exp(I*p)*conjugate(b)**2 - 2.25)/((-1/2 - sqrt(3)*I/2)*(-2.03e-5*a**4*b*exp(-2*I*p)*conjugate(b) - 8.14e-5*a**3*b**2*exp(-2*I*p)*conjugate(a) + 0.333*a**3*conjugate(a)**3 + 4.07e-5*a**3*exp(-I*p)*conjugate(a) - 8.14e-5*a**2*b**3*exp(-2*I*p)*conjugate(b) + 4.07e-5*a**2*b**2*exp(-I*p)*conjugate(a)**2 - 4.07e-5*a**2*b**2*exp(-I*p)*conjugate(b)**2 + a**2*b*conjugate(a)**2*conjugate(b) + 4.07e-5*a**2*exp(I*p)*conjugate(a)**2*conjugate(b)**2 + 0.333*a**2*conjugate(a)**2 + 4.07e-5*a**2*exp(-I*p) - 2.03e-5*a*b**4*exp(-2*I*p)*conjugate(a) + a*b**2*conjugate(a)*conjugate(b)**2 + 0.333*a*b**2*exp(-I*p)*conjugate(a) - 8.14e-5*a*exp(2*I*p)*conjugate(a)**3*conjugate(b)**2 - 2.03e-5*a*exp(2*I*p)*conjugate(a)*conjugate(b)**4 + 4.07e-5*a*exp(I*p)*conjugate(a)**3 + 0.333*a*exp(I*p)*conjugate(a)*conjugate(b)**2 - 0.333*a*conjugate(a) + 0.333*b**3*conjugate(b)**3 + 0.333*b**3*exp(-I*p)*conjugate(b) - 4.07e-5*b**2*exp(I*p)*conjugate(a)**2*conjugate(b)**2 - 0.333*b**2*conjugate(b)**2 - 0.333*b**2*exp(-I*p) - 2.03e-5*b*exp(2*I*p)*conjugate(a)**4*conjugate(b) - 8.14e-5*b*exp(2*I*p)*conjugate(a)**2*conjugate(b)**3 + 0.333*b*exp(I*p)*conjugate(b)**3 + 0.333*b*conjugate(b) + sqrt(-0.444*(4.07e-5*a**3*exp(-I*p)*conjugate(a) + 0.333*a**2*conjugate(a)**2 + 8.14e-5*a**2*exp(-I*p) + 0.333*a*b**2*exp(-I*p)*conjugate(a) + 4.07e-5*a*exp(I*p)*conjugate(a)**3 + 0.333*a*exp(I*p)*conjugate(a)*conjugate(b)**2 - 0.667*a*conjugate(a) + 0.333*b**3*exp(-I*p)*conjugate(b) - 0.333*b**2*conjugate(b)**2 - 0.667*b**2*exp(-I*p) + 0.333*b*exp(I*p)*conjugate(b)**3 + 0.667*b*conjugate(b) + (4.07e-5*a**2*exp(-I*p) - 0.333*a*conjugate(a) - 0.333*b**2*exp(-I*p) + 0.333*b*conjugate(b) + 4.07e-5*exp(I*p)*conjugate(a)**2 - 0.333*exp(I*p)*conjugate(b)**2 - 1)**2 + 8.14e-5*exp(I*p)*conjugate(a)**2 - 0.667*exp(I*p)*conjugate(b)**2 - 1)**3 + (-2.03e-5*a**4*b*exp(-2*I*p)*conjugate(b) - 8.14e-5*a**3*b**2*exp(-2*I*p)*conjugate(a) + 0.333*a**3*conjugate(a)**3 + 4.07e-5*a**3*exp(-I*p)*conjugate(a) - 8.14e-5*a**2*b**3*exp(-2*I*p)*conjugate(b) + 4.07e-5*a**2*b**2*exp(-I*p)*conjugate(a)**2 - 4.07e-5*a**2*b**2*exp(-I*p)*conjugate(b)**2 + a**2*b*conjugate(a)**2*conjugate(b) + 4.07e-5*a**2*exp(I*p)*conjugate(a)**2*conjugate(b)**2 + 0.333*a**2*conjugate(a)**2 + 4.07e-5*a**2*exp(-I*p) - 2.03e-5*a*b**4*exp(-2*I*p)*conjugate(a) + a*b**2*conjugate(a)*conjugate(b)**2 + 0.333*a*b**2*exp(-I*p)*conjugate(a) - 8.14e-5*a*exp(2*I*p)*conjugate(a)**3*conjugate(b)**2 - 2.03e-5*a*exp(2*I*p)*conjugate(a)*conjugate(b)**4 + 4.07e-5*a*exp(I*p)*conjugate(a)**3 + 0.333*a*exp(I*p)*conjugate(a)*conjugate(b)**2 - 0.333*a*conjugate(a) + 0.333*b**3*conjugate(b)**3 + 0.333*b**3*exp(-I*p)*conjugate(b) - 4.07e-5*b**2*exp(I*p)*conjugate(a)**2*conjugate(b)**2 - 0.333*b**2*conjugate(b)**2 - 0.333*b**2*exp(-I*p) - 2.03e-5*b*exp(2*I*p)*conjugate(a)**4*conjugate(b) - 8.14e-5*b*exp(2*I*p)*conjugate(a)**2*conjugate(b)**3 + 0.333*b*exp(I*p)*conjugate(b)**3 + 0.333*b*conjugate(b) + 0.667*(4.07e-5*a**2*exp(-I*p) - 0.333*a*conjugate(a) - 0.333*b**2*exp(-I*p) + 0.333*b*conjugate(b) + 4.07e-5*exp(I*p)*conjugate(a)**2 - 0.333*exp(I*p)*conjugate(b)**2 - 1)**3 - 0.0988*(0.000549*a**2*exp(-I*p) - 4.5*a*conjugate(a) - 4.5*b**2*exp(-I*p) + 4.5*b*conjugate(b) + 0.000549*exp(I*p)*conjugate(a)**2 - 4.5*exp(I*p)*conjugate(b)**2 - 13.5)*(-3.05e-5*a**3*exp(-I*p)*conjugate(a) - 0.25*a**2*conjugate(a)**2 - 6.1e-5*a**2*exp(-I*p) - 0.25*a*b**2*exp(-I*p)*conjugate(a) - 3.05e-5*a*exp(I*p)*conjugate(a)**3 - 0.25*a*exp(I*p)*conjugate(a)*conjugate(b)**2 + 0.5*a*conjugate(a) - 0.25*b**3*exp(-I*p)*conjugate(b) + 0.25*b**2*conjugate(b)**2 + 0.5*b**2*exp(-I*p) - 0.25*b*exp(I*p)*conjugate(b)**3 - 0.5*b*conjugate(b) - 6.1e-5*exp(I*p)*conjugate(a)**2 + 0.5*exp(I*p)*conjugate(b)**2 + 0.75) + 4.07e-5*exp(I*p)*conjugate(a)**2 - 0.333*exp(I*p)*conjugate(b)**2 - 0.333)**2) + 0.667*(4.07e-5*a**2*exp(-I*p) - 0.333*a*conjugate(a) - 0.333*b**2*exp(-I*p) + 0.333*b*conjugate(b) + 4.07e-5*exp(I*p)*conjugate(a)**2 - 0.333*exp(I*p)*conjugate(b)**2 - 1)**3 - 0.0988*(0.000549*a**2*exp(-I*p) - 4.5*a*conjugate(a) - 4.5*b**2*exp(-I*p) + 4.5*b*conjugate(b) + 0.000549*exp(I*p)*conjugate(a)**2 - 4.5*exp(I*p)*conjugate(b)**2 - 13.5)*(-3.05e-5*a**3*exp(-I*p)*conjugate(a) - 0.25*a**2*conjugate(a)**2 - 6.1e-5*a**2*exp(-I*p) - 0.25*a*b**2*exp(-I*p)*conjugate(a) - 3.05e-5*a*exp(I*p)*conjugate(a)**3 - 0.25*a*exp(I*p)*conjugate(a)*conjugate(b)**2 + 0.5*a*conjugate(a) - 0.25*b**3*exp(-I*p)*conjugate(b) + 0.25*b**2*conjugate(b)**2 + 0.5*b**2*exp(-I*p) - 0.25*b*exp(I*p)*conjugate(b)**3 - 0.5*b*conjugate(b) - 6.1e-5*exp(I*p)*conjugate(a)**2 + 0.5*exp(I*p)*conjugate(b)**2 + 0.75) + 4.07e-5*exp(I*p)*conjugate(a)**2 - 0.333*exp(I*p)*conjugate(b)**2 - 0.333)**(1/3)) - 0.572*(-1/2 - sqrt(3)*I/2)*(-2.03e-5*a**4*b*exp(-2*I*p)*conjugate(b) - 8.14e-5*a**3*b**2*exp(-2*I*p)*conjugate(a) + 0.333*a**3*conjugate(a)**3 + 4.07e-5*a**3*exp(-I*p)*conjugate(a) - 8.14e-5*a**2*b**3*exp(-2*I*p)*conjugate(b) + 4.07e-5*a**2*b**2*exp(-I*p)*conjugate(a)**2 - 4.07e-5*a**2*b**2*exp(-I*p)*conjugate(b)**2 + a**2*b*conjugate(a)**2*conjugate(b) + 4.07e-5*a**2*exp(I*p)*conjugate(a)**2*conjugate(b)**2 + 0.333*a**2*conjugate(a)**2 + 4.07e-5*a**2*exp(-I*p) - 2.03e-5*a*b**4*exp(-2*I*p)*conjugate(a) + a*b**2*conjugate(a)*conjugate(b)**2 + 0.333*a*b**2*exp(-I*p)*conjugate(a) - 8.14e-5*a*exp(2*I*p)*conjugate(a)**3*conjugate(b)**2 - 2.03e-5*a*exp(2*I*p)*conjugate(a)*conjugate(b)**4 + 4.07e-5*a*exp(I*p)*conjugate(a)**3 + 0.333*a*exp(I*p)*conjugate(a)*conjugate(b)**2 - 0.333*a*conjugate(a) + 0.333*b**3*conjugate(b)**3 + 0.333*b**3*exp(-I*p)*conjugate(b) - 4.07e-5*b**2*exp(I*p)*conjugate(a)**2*conjugate(b)**2 - 0.333*b**2*conjugate(b)**2 - 0.333*b**2*exp(-I*p) - 2.03e-5*b*exp(2*I*p)*conjugate(a)**4*conjugate(b) - 8.14e-5*b*exp(2*I*p)*conjugate(a)**2*conjugate(b)**3 + 0.333*b*exp(I*p)*conjugate(b)**3 + 0.333*b*conjugate(b) + sqrt(-0.444*(4.07e-5*a**3*exp(-I*p)*conjugate(a) + 0.333*a**2*conjugate(a)**2 + 8.14e-5*a**2*exp(-I*p) + 0.333*a*b**2*exp(-I*p)*conjugate(a) + 4.07e-5*a*exp(I*p)*conjugate(a)**3 + 0.333*a*exp(I*p)*conjugate(a)*conjugate(b)**2 - 0.667*a*conjugate(a) + 0.333*b**3*exp(-I*p)*conjugate(b) - 0.333*b**2*conjugate(b)**2 - 0.667*b**2*exp(-I*p) + 0.333*b*exp(I*p)*conjugate(b)**3 + 0.667*b*conjugate(b) + (4.07e-5*a**2*exp(-I*p) - 0.333*a*conjugate(a) - 0.333*b**2*exp(-I*p) + 0.333*b*conjugate(b) + 4.07e-5*exp(I*p)*conjugate(a)**2 - 0.333*exp(I*p)*conjugate(b)**2 - 1)**2 + 8.14e-5*exp(I*p)*conjugate(a)**2 - 0.667*exp(I*p)*conjugate(b)**2 - 1)**3 + (-2.03e-5*a**4*b*exp(-2*I*p)*conjugate(b) - 8.14e-5*a**3*b**2*exp(-2*I*p)*conjugate(a) + 0.333*a**3*conjugate(a)**3 + 4.07e-5*a**3*exp(-I*p)*conjugate(a) - 8.14e-5*a**2*b**3*exp(-2*I*p)*conjugate(b) + 4.07e-5*a**2*b**2*exp(-I*p)*conjugate(a)**2 - 4.07e-5*a**2*b**2*exp(-I*p)*conjugate(b)**2 + a**2*b*conjugate(a)**2*conjugate(b) + 4.07e-5*a**2*exp(I*p)*conjugate(a)**2*conjugate(b)**2 + 0.333*a**2*conjugate(a)**2 + 4.07e-5*a**2*exp(-I*p) - 2.03e-5*a*b**4*exp(-2*I*p)*conjugate(a) + a*b**2*conjugate(a)*conjugate(b)**2 + 0.333*a*b**2*exp(-I*p)*conjugate(a) - 8.14e-5*a*exp(2*I*p)*conjugate(a)**3*conjugate(b)**2 - 2.03e-5*a*exp(2*I*p)*conjugate(a)*conjugate(b)**4 + 4.07e-5*a*exp(I*p)*conjugate(a)**3 + 0.333*a*exp(I*p)*conjugate(a)*conjugate(b)**2 - 0.333*a*conjugate(a) + 0.333*b**3*conjugate(b)**3 + 0.333*b**3*exp(-I*p)*conjugate(b) - 4.07e-5*b**2*exp(I*p)*conjugate(a)**2*conjugate(b)**2 - 0.333*b**2*conjugate(b)**2 - 0.333*b**2*exp(-I*p) - 2.03e-5*b*exp(2*I*p)*conjugate(a)**4*conjugate(b) - 8.14e-5*b*exp(2*I*p)*conjugate(a)**2*conjugate(b)**3 + 0.333*b*exp(I*p)*conjugate(b)**3 + 0.333*b*conjugate(b) + 0.667*(4.07e-5*a**2*exp(-I*p) - 0.333*a*conjugate(a) - 0.333*b**2*exp(-I*p) + 0.333*b*conjugate(b) + 4.07e-5*exp(I*p)*conjugate(a)**2 - 0.333*exp(I*p)*conjugate(b)**2 - 1)**3 - 0.0988*(0.000549*a**2*exp(-I*p) - 4.5*a*conjugate(a) - 4.5*b**2*exp(-I*p) + 4.5*b*conjugate(b) + 0.000549*exp(I*p)*conjugate(a)**2 - 4.5*exp(I*p)*conjugate(b)**2 - 13.5)*(-3.05e-5*a**3*exp(-I*p)*conjugate(a) - 0.25*a**2*conjugate(a)**2 - 6.1e-5*a**2*exp(-I*p) - 0.25*a*b**2*exp(-I*p)*conjugate(a) - 3.05e-5*a*exp(I*p)*conjugate(a)**3 - 0.25*a*exp(I*p)*conjugate(a)*conjugate(b)**2 + 0.5*a*conjugate(a) - 0.25*b**3*exp(-I*p)*conjugate(b) + 0.25*b**2*conjugate(b)**2 + 0.5*b**2*exp(-I*p) - 0.25*b*exp(I*p)*conjugate(b)**3 - 0.5*b*conjugate(b) - 6.1e-5*exp(I*p)*conjugate(a)**2 + 0.5*exp(I*p)*conjugate(b)**2 + 0.75) + 4.07e-5*exp(I*p)*conjugate(a)**2 - 0.333*exp(I*p)*conjugate(b)**2 - 0.333)**2) + 0.667*(4.07e-5*a**2*exp(-I*p) - 0.333*a*conjugate(a) - 0.333*b**2*exp(-I*p) + 0.333*b*conjugate(b) + 4.07e-5*exp(I*p)*conjugate(a)**2 - 0.333*exp(I*p)*conjugate(b)**2 - 1)**3 - 0.0988*(0.000549*a**2*exp(-I*p) - 4.5*a*conjugate(a) - 4.5*b**2*exp(-I*p) + 4.5*b*conjugate(b) + 0.000549*exp(I*p)*conjugate(a)**2 - 4.5*exp(I*p)*conjugate(b)**2 - 13.5)*(-3.05e-5*a**3*exp(-I*p)*conjugate(a) - 0.25*a**2*conjugate(a)**2 - 6.1e-5*a**2*exp(-I*p) - 0.25*a*b**2*exp(-I*p)*conjugate(a) - 3.05e-5*a*exp(I*p)*conjugate(a)**3 - 0.25*a*exp(I*p)*conjugate(a)*conjugate(b)**2 + 0.5*a*conjugate(a) - 0.25*b**3*exp(-I*p)*conjugate(b) + 0.25*b**2*conjugate(b)**2 + 0.5*b**2*exp(-I*p) - 0.25*b*exp(I*p)*conjugate(b)**3 - 0.5*b*conjugate(b) - 6.1e-5*exp(I*p)*conjugate(a)**2 + 0.5*exp(I*p)*conjugate(b)**2 + 0.75) + 4.07e-5*exp(I*p)*conjugate(a)**2 - 0.333*exp(I*p)*conjugate(b)**2 - 0.333)**(1/3) - 2.03e-5*exp(I*p)*conjugate(a)**2 + 0.167*exp(I*p)*conjugate(b)**2 + 0.5"
      ]
     },
     "metadata": {},
     "output_type": "display_data"
    },
    {
     "name": "stdout",
     "output_type": "stream",
     "text": [
      " = \n"
     ]
    },
    {
     "data": {
      "text/latex": [
       "$\\displaystyle \\frac{\\left(0.0833 - 0.144 i\\right) \\left(4.0 \\left(3.05 \\cdot 10^{-5} e^{i p} - 1.0 + 3.05 \\cdot 10^{-5} e^{- i p}\\right)^{2} + 0.000275 e^{i p} - 3.0 + 0.000275 e^{- i p}\\right)}{\\left(\\left(\\left(- 0.0625 \\left(- 9.16 \\cdot 10^{-5} e^{i p} + 1.0 - 9.16 \\cdot 10^{-5} e^{- i p}\\right) \\left(0.000549 e^{i p} - 18.0 + 0.000549 e^{- i p}\\right) + \\left(3.05 \\cdot 10^{-5} e^{i p} - 1.0 + 3.05 \\cdot 10^{-5} e^{- i p}\\right)^{3} + 5.15 \\cdot 10^{-5} e^{i p} + 5.15 \\cdot 10^{-5} e^{- i p}\\right)^{2} - \\left(\\left(3.05 \\cdot 10^{-5} e^{i p} - 1.0 + 3.05 \\cdot 10^{-5} e^{- i p}\\right)^{2} + 6.87 \\cdot 10^{-5} e^{i p} - 0.75 + 6.87 \\cdot 10^{-5} e^{- i p}\\right)^{3}\\right)^{0.5} - 0.0625 \\left(- 9.16 \\cdot 10^{-5} e^{i p} + 1.0 - 9.16 \\cdot 10^{-5} e^{- i p}\\right) \\left(0.000549 e^{i p} - 18.0 + 0.000549 e^{- i p}\\right) + \\left(3.05 \\cdot 10^{-5} e^{i p} - 1.0 + 3.05 \\cdot 10^{-5} e^{- i p}\\right)^{3} + 5.15 \\cdot 10^{-5} e^{i p} + 5.15 \\cdot 10^{-5} e^{- i p}\\right)^{0.333}} + \\left(0.333 + 0.577 i\\right) \\left(\\left(\\left(- 0.0625 \\left(- 9.16 \\cdot 10^{-5} e^{i p} + 1.0 - 9.16 \\cdot 10^{-5} e^{- i p}\\right) \\left(0.000549 e^{i p} - 18.0 + 0.000549 e^{- i p}\\right) + \\left(3.05 \\cdot 10^{-5} e^{i p} - 1.0 + 3.05 \\cdot 10^{-5} e^{- i p}\\right)^{3} + 5.15 \\cdot 10^{-5} e^{i p} + 5.15 \\cdot 10^{-5} e^{- i p}\\right)^{2} - \\left(\\left(3.05 \\cdot 10^{-5} e^{i p} - 1.0 + 3.05 \\cdot 10^{-5} e^{- i p}\\right)^{2} + 6.87 \\cdot 10^{-5} e^{i p} - 0.75 + 6.87 \\cdot 10^{-5} e^{- i p}\\right)^{3}\\right)^{0.5} - 0.0625 \\left(- 9.16 \\cdot 10^{-5} e^{i p} + 1.0 - 9.16 \\cdot 10^{-5} e^{- i p}\\right) \\left(0.000549 e^{i p} - 18.0 + 0.000549 e^{- i p}\\right) + \\left(3.05 \\cdot 10^{-5} e^{i p} - 1.0 + 3.05 \\cdot 10^{-5} e^{- i p}\\right)^{3} + 5.15 \\cdot 10^{-5} e^{i p} + 5.15 \\cdot 10^{-5} e^{- i p}\\right)^{0.333} - 2.03 \\cdot 10^{-5} e^{i p} + 0.667 - 2.03 \\cdot 10^{-5} e^{- i p}$"
      ],
      "text/plain": [
       "(0.0833 - 0.144*I)*(4.0*(3.05e-5*exp(I*p) - 1.0 + 3.05e-5*exp(-I*p))**2 + 0.000275*exp(I*p) - 3.0 + 0.000275*exp(-I*p))/(((-0.0625*(-9.16e-5*exp(I*p) + 1.0 - 9.16e-5*exp(-I*p))*(0.000549*exp(I*p) - 18.0 + 0.000549*exp(-I*p)) + (3.05e-5*exp(I*p) - 1.0 + 3.05e-5*exp(-I*p))**3 + 5.15e-5*exp(I*p) + 5.15e-5*exp(-I*p))**2 - ((3.05e-5*exp(I*p) - 1.0 + 3.05e-5*exp(-I*p))**2 + 6.87e-5*exp(I*p) - 0.75 + 6.87e-5*exp(-I*p))**3)**0.5 - 0.0625*(-9.16e-5*exp(I*p) + 1.0 - 9.16e-5*exp(-I*p))*(0.000549*exp(I*p) - 18.0 + 0.000549*exp(-I*p)) + (3.05e-5*exp(I*p) - 1.0 + 3.05e-5*exp(-I*p))**3 + 5.15e-5*exp(I*p) + 5.15e-5*exp(-I*p))**0.333 + (0.333 + 0.577*I)*(((-0.0625*(-9.16e-5*exp(I*p) + 1.0 - 9.16e-5*exp(-I*p))*(0.000549*exp(I*p) - 18.0 + 0.000549*exp(-I*p)) + (3.05e-5*exp(I*p) - 1.0 + 3.05e-5*exp(-I*p))**3 + 5.15e-5*exp(I*p) + 5.15e-5*exp(-I*p))**2 - ((3.05e-5*exp(I*p) - 1.0 + 3.05e-5*exp(-I*p))**2 + 6.87e-5*exp(I*p) - 0.75 + 6.87e-5*exp(-I*p))**3)**0.5 - 0.0625*(-9.16e-5*exp(I*p) + 1.0 - 9.16e-5*exp(-I*p))*(0.000549*exp(I*p) - 18.0 + 0.000549*exp(-I*p)) + (3.05e-5*exp(I*p) - 1.0 + 3.05e-5*exp(-I*p))**3 + 5.15e-5*exp(I*p) + 5.15e-5*exp(-I*p))**0.333 - 2.03e-5*exp(I*p) + 0.667 - 2.03e-5*exp(-I*p)"
      ]
     },
     "metadata": {},
     "output_type": "display_data"
    }
   ],
   "source": [
    "ds = f.eigenvals()\n",
    "for d in ds.keys():\n",
    "    display(d)\n"
   ]
  },
  {
   "cell_type": "code",
   "execution_count": 21,
   "metadata": {},
   "outputs": [
    {
     "ename": "KeyboardInterrupt",
     "evalue": "",
     "output_type": "error",
     "traceback": [
      "\u001b[0;31m---------------------------------------------------------------------------\u001b[0m",
      "\u001b[0;31mKeyboardInterrupt\u001b[0m                         Traceback (most recent call last)",
      "\u001b[0;32m/tmp/ipykernel_616581/1587929023.py\u001b[0m in \u001b[0;36m<cell line: 1>\u001b[0;34m()\u001b[0m\n\u001b[0;32m----> 1\u001b[0;31m \u001b[0msimplify\u001b[0m\u001b[0;34m(\u001b[0m\u001b[0mlist\u001b[0m\u001b[0;34m(\u001b[0m\u001b[0mds\u001b[0m\u001b[0;34m.\u001b[0m\u001b[0mkeys\u001b[0m\u001b[0;34m(\u001b[0m\u001b[0;34m)\u001b[0m\u001b[0;34m)\u001b[0m\u001b[0;34m[\u001b[0m\u001b[0;36m1\u001b[0m\u001b[0;34m]\u001b[0m\u001b[0;34m)\u001b[0m\u001b[0;34m\u001b[0m\u001b[0;34m\u001b[0m\u001b[0m\n\u001b[0m",
      "\u001b[0;32m~/.conda/envs/qibocal-env/lib/python3.9/site-packages/sympy/simplify/simplify.py\u001b[0m in \u001b[0;36msimplify\u001b[0;34m(expr, ratio, measure, rational, inverse, doit, **kwargs)\u001b[0m\n\u001b[1;32m    643\u001b[0m     \u001b[0mexpr\u001b[0m \u001b[0;34m=\u001b[0m \u001b[0mMul\u001b[0m\u001b[0;34m(\u001b[0m\u001b[0;34m*\u001b[0m\u001b[0mpowsimp\u001b[0m\u001b[0;34m(\u001b[0m\u001b[0mexpr\u001b[0m\u001b[0;34m)\u001b[0m\u001b[0;34m.\u001b[0m\u001b[0mas_content_primitive\u001b[0m\u001b[0;34m(\u001b[0m\u001b[0;34m)\u001b[0m\u001b[0;34m)\u001b[0m\u001b[0;34m\u001b[0m\u001b[0;34m\u001b[0m\u001b[0m\n\u001b[1;32m    644\u001b[0m     \u001b[0m_e\u001b[0m \u001b[0;34m=\u001b[0m \u001b[0mcancel\u001b[0m\u001b[0;34m(\u001b[0m\u001b[0mexpr\u001b[0m\u001b[0;34m)\u001b[0m\u001b[0;34m\u001b[0m\u001b[0;34m\u001b[0m\u001b[0m\n\u001b[0;32m--> 645\u001b[0;31m     \u001b[0mexpr1\u001b[0m \u001b[0;34m=\u001b[0m \u001b[0mshorter\u001b[0m\u001b[0;34m(\u001b[0m\u001b[0m_e\u001b[0m\u001b[0;34m,\u001b[0m \u001b[0m_mexpand\u001b[0m\u001b[0;34m(\u001b[0m\u001b[0m_e\u001b[0m\u001b[0;34m)\u001b[0m\u001b[0;34m.\u001b[0m\u001b[0mcancel\u001b[0m\u001b[0;34m(\u001b[0m\u001b[0;34m)\u001b[0m\u001b[0;34m)\u001b[0m  \u001b[0;31m# issue 6829\u001b[0m\u001b[0;34m\u001b[0m\u001b[0;34m\u001b[0m\u001b[0m\n\u001b[0m\u001b[1;32m    646\u001b[0m     \u001b[0mexpr2\u001b[0m \u001b[0;34m=\u001b[0m \u001b[0mshorter\u001b[0m\u001b[0;34m(\u001b[0m\u001b[0mtogether\u001b[0m\u001b[0;34m(\u001b[0m\u001b[0mexpr\u001b[0m\u001b[0;34m,\u001b[0m \u001b[0mdeep\u001b[0m\u001b[0;34m=\u001b[0m\u001b[0;32mTrue\u001b[0m\u001b[0;34m)\u001b[0m\u001b[0;34m,\u001b[0m \u001b[0mtogether\u001b[0m\u001b[0;34m(\u001b[0m\u001b[0mexpr1\u001b[0m\u001b[0;34m,\u001b[0m \u001b[0mdeep\u001b[0m\u001b[0;34m=\u001b[0m\u001b[0;32mTrue\u001b[0m\u001b[0;34m)\u001b[0m\u001b[0;34m)\u001b[0m\u001b[0;34m\u001b[0m\u001b[0;34m\u001b[0m\u001b[0m\n\u001b[1;32m    647\u001b[0m \u001b[0;34m\u001b[0m\u001b[0m\n",
      "\u001b[0;32m~/.conda/envs/qibocal-env/lib/python3.9/site-packages/sympy/simplify/simplify.py\u001b[0m in \u001b[0;36mshorter\u001b[0;34m(*choices)\u001b[0m\n\u001b[1;32m    580\u001b[0m         \u001b[0;32mif\u001b[0m \u001b[0;32mnot\u001b[0m \u001b[0mhas_variety\u001b[0m\u001b[0;34m(\u001b[0m\u001b[0mchoices\u001b[0m\u001b[0;34m)\u001b[0m\u001b[0;34m:\u001b[0m\u001b[0;34m\u001b[0m\u001b[0;34m\u001b[0m\u001b[0m\n\u001b[1;32m    581\u001b[0m             \u001b[0;32mreturn\u001b[0m \u001b[0mchoices\u001b[0m\u001b[0;34m[\u001b[0m\u001b[0;36m0\u001b[0m\u001b[0;34m]\u001b[0m\u001b[0;34m\u001b[0m\u001b[0;34m\u001b[0m\u001b[0m\n\u001b[0;32m--> 582\u001b[0;31m         \u001b[0;32mreturn\u001b[0m \u001b[0mmin\u001b[0m\u001b[0;34m(\u001b[0m\u001b[0mchoices\u001b[0m\u001b[0;34m,\u001b[0m \u001b[0mkey\u001b[0m\u001b[0;34m=\u001b[0m\u001b[0mmeasure\u001b[0m\u001b[0;34m)\u001b[0m\u001b[0;34m\u001b[0m\u001b[0;34m\u001b[0m\u001b[0m\n\u001b[0m\u001b[1;32m    583\u001b[0m \u001b[0;34m\u001b[0m\u001b[0m\n\u001b[1;32m    584\u001b[0m     \u001b[0;32mdef\u001b[0m \u001b[0mdone\u001b[0m\u001b[0;34m(\u001b[0m\u001b[0me\u001b[0m\u001b[0;34m)\u001b[0m\u001b[0;34m:\u001b[0m\u001b[0;34m\u001b[0m\u001b[0;34m\u001b[0m\u001b[0m\n",
      "\u001b[0;32m~/.conda/envs/qibocal-env/lib/python3.9/site-packages/sympy/core/function.py\u001b[0m in \u001b[0;36mcount_ops\u001b[0;34m(expr, visual)\u001b[0m\n\u001b[1;32m   3167\u001b[0m                     \u001b[0;32melse\u001b[0m\u001b[0;34m:\u001b[0m\u001b[0;34m\u001b[0m\u001b[0;34m\u001b[0m\u001b[0m\n\u001b[1;32m   3168\u001b[0m                         \u001b[0ma\u001b[0m \u001b[0;34m=\u001b[0m \u001b[0;34m-\u001b[0m\u001b[0ma\u001b[0m\u001b[0;34m\u001b[0m\u001b[0;34m\u001b[0m\u001b[0m\n\u001b[0;32m-> 3169\u001b[0;31m                 \u001b[0mn\u001b[0m\u001b[0;34m,\u001b[0m \u001b[0md\u001b[0m \u001b[0;34m=\u001b[0m \u001b[0mfraction\u001b[0m\u001b[0;34m(\u001b[0m\u001b[0ma\u001b[0m\u001b[0;34m)\u001b[0m\u001b[0;34m\u001b[0m\u001b[0;34m\u001b[0m\u001b[0m\n\u001b[0m\u001b[1;32m   3170\u001b[0m                 \u001b[0;32mif\u001b[0m \u001b[0mn\u001b[0m\u001b[0;34m.\u001b[0m\u001b[0mis_Integer\u001b[0m\u001b[0;34m:\u001b[0m\u001b[0;34m\u001b[0m\u001b[0;34m\u001b[0m\u001b[0m\n\u001b[1;32m   3171\u001b[0m                     \u001b[0mops\u001b[0m\u001b[0;34m.\u001b[0m\u001b[0mappend\u001b[0m\u001b[0;34m(\u001b[0m\u001b[0mDIV\u001b[0m\u001b[0;34m)\u001b[0m\u001b[0;34m\u001b[0m\u001b[0;34m\u001b[0m\u001b[0m\n",
      "\u001b[0;32m~/.conda/envs/qibocal-env/lib/python3.9/site-packages/sympy/simplify/radsimp.py\u001b[0m in \u001b[0;36mfraction\u001b[0;34m(expr, exact)\u001b[0m\n\u001b[1;32m   1127\u001b[0m                 \u001b[0mnumer\u001b[0m\u001b[0;34m.\u001b[0m\u001b[0mappend\u001b[0m\u001b[0;34m(\u001b[0m\u001b[0mterm\u001b[0m\u001b[0;34m)\u001b[0m\u001b[0;34m\u001b[0m\u001b[0;34m\u001b[0m\u001b[0m\n\u001b[1;32m   1128\u001b[0m             \u001b[0;32melif\u001b[0m \u001b[0;32mnot\u001b[0m \u001b[0mexact\u001b[0m \u001b[0;32mand\u001b[0m \u001b[0mex\u001b[0m\u001b[0;34m.\u001b[0m\u001b[0mis_Mul\u001b[0m\u001b[0;34m:\u001b[0m\u001b[0;34m\u001b[0m\u001b[0;34m\u001b[0m\u001b[0m\n\u001b[0;32m-> 1129\u001b[0;31m                 \u001b[0mn\u001b[0m\u001b[0;34m,\u001b[0m \u001b[0md\u001b[0m \u001b[0;34m=\u001b[0m \u001b[0mterm\u001b[0m\u001b[0;34m.\u001b[0m\u001b[0mas_numer_denom\u001b[0m\u001b[0;34m(\u001b[0m\u001b[0;34m)\u001b[0m\u001b[0;34m\u001b[0m\u001b[0;34m\u001b[0m\u001b[0m\n\u001b[0m\u001b[1;32m   1130\u001b[0m                 \u001b[0;32mif\u001b[0m \u001b[0mn\u001b[0m \u001b[0;34m!=\u001b[0m \u001b[0;36m1\u001b[0m\u001b[0;34m:\u001b[0m\u001b[0;34m\u001b[0m\u001b[0;34m\u001b[0m\u001b[0m\n\u001b[1;32m   1131\u001b[0m                     \u001b[0mnumer\u001b[0m\u001b[0;34m.\u001b[0m\u001b[0mappend\u001b[0m\u001b[0;34m(\u001b[0m\u001b[0mn\u001b[0m\u001b[0;34m)\u001b[0m\u001b[0;34m\u001b[0m\u001b[0;34m\u001b[0m\u001b[0m\n",
      "\u001b[0;32m~/.conda/envs/qibocal-env/lib/python3.9/site-packages/sympy/functions/elementary/exponential.py\u001b[0m in \u001b[0;36mas_numer_denom\u001b[0;34m(self)\u001b[0m\n\u001b[1;32m     68\u001b[0m         \u001b[0mneg_exp\u001b[0m \u001b[0;34m=\u001b[0m \u001b[0mexp\u001b[0m\u001b[0;34m.\u001b[0m\u001b[0mis_negative\u001b[0m\u001b[0;34m\u001b[0m\u001b[0;34m\u001b[0m\u001b[0m\n\u001b[1;32m     69\u001b[0m         \u001b[0;32mif\u001b[0m \u001b[0;32mnot\u001b[0m \u001b[0mneg_exp\u001b[0m \u001b[0;32mand\u001b[0m \u001b[0;32mnot\u001b[0m \u001b[0;34m(\u001b[0m\u001b[0;34m-\u001b[0m\u001b[0mexp\u001b[0m\u001b[0;34m)\u001b[0m\u001b[0;34m.\u001b[0m\u001b[0mis_negative\u001b[0m\u001b[0;34m:\u001b[0m\u001b[0;34m\u001b[0m\u001b[0;34m\u001b[0m\u001b[0m\n\u001b[0;32m---> 70\u001b[0;31m             \u001b[0mneg_exp\u001b[0m \u001b[0;34m=\u001b[0m \u001b[0mexp\u001b[0m\u001b[0;34m.\u001b[0m\u001b[0mcould_extract_minus_sign\u001b[0m\u001b[0;34m(\u001b[0m\u001b[0;34m)\u001b[0m\u001b[0;34m\u001b[0m\u001b[0;34m\u001b[0m\u001b[0m\n\u001b[0m\u001b[1;32m     71\u001b[0m         \u001b[0;32mif\u001b[0m \u001b[0mneg_exp\u001b[0m\u001b[0;34m:\u001b[0m\u001b[0;34m\u001b[0m\u001b[0;34m\u001b[0m\u001b[0m\n\u001b[1;32m     72\u001b[0m             \u001b[0;32mreturn\u001b[0m \u001b[0mS\u001b[0m\u001b[0;34m.\u001b[0m\u001b[0mOne\u001b[0m\u001b[0;34m,\u001b[0m \u001b[0mself\u001b[0m\u001b[0;34m.\u001b[0m\u001b[0mfunc\u001b[0m\u001b[0;34m(\u001b[0m\u001b[0;34m-\u001b[0m\u001b[0mexp\u001b[0m\u001b[0;34m)\u001b[0m\u001b[0;34m\u001b[0m\u001b[0;34m\u001b[0m\u001b[0m\n",
      "\u001b[0;32m~/.conda/envs/qibocal-env/lib/python3.9/site-packages/sympy/core/mul.py\u001b[0m in \u001b[0;36mcould_extract_minus_sign\u001b[0;34m(self)\u001b[0m\n\u001b[1;32m    175\u001b[0m \u001b[0;34m\u001b[0m\u001b[0m\n\u001b[1;32m    176\u001b[0m     \u001b[0;32mdef\u001b[0m \u001b[0mcould_extract_minus_sign\u001b[0m\u001b[0;34m(\u001b[0m\u001b[0mself\u001b[0m\u001b[0;34m)\u001b[0m\u001b[0;34m:\u001b[0m\u001b[0;34m\u001b[0m\u001b[0;34m\u001b[0m\u001b[0m\n\u001b[0;32m--> 177\u001b[0;31m         \u001b[0;32mif\u001b[0m \u001b[0mself\u001b[0m \u001b[0;34m==\u001b[0m \u001b[0;34m(\u001b[0m\u001b[0;34m-\u001b[0m\u001b[0mself\u001b[0m\u001b[0;34m)\u001b[0m\u001b[0;34m:\u001b[0m\u001b[0;34m\u001b[0m\u001b[0;34m\u001b[0m\u001b[0m\n\u001b[0m\u001b[1;32m    178\u001b[0m             \u001b[0;32mreturn\u001b[0m \u001b[0;32mFalse\u001b[0m  \u001b[0;31m# e.g. zoo*x == -zoo*x\u001b[0m\u001b[0;34m\u001b[0m\u001b[0;34m\u001b[0m\u001b[0m\n\u001b[1;32m    179\u001b[0m         \u001b[0mc\u001b[0m \u001b[0;34m=\u001b[0m \u001b[0mself\u001b[0m\u001b[0;34m.\u001b[0m\u001b[0margs\u001b[0m\u001b[0;34m[\u001b[0m\u001b[0;36m0\u001b[0m\u001b[0;34m]\u001b[0m\u001b[0;34m\u001b[0m\u001b[0;34m\u001b[0m\u001b[0m\n",
      "\u001b[0;32m~/.conda/envs/qibocal-env/lib/python3.9/site-packages/sympy/core/mul.py\u001b[0m in \u001b[0;36m__neg__\u001b[0;34m(self)\u001b[0m\n\u001b[1;32m    193\u001b[0m             \u001b[0;32melse\u001b[0m\u001b[0;34m:\u001b[0m\u001b[0;34m\u001b[0m\u001b[0;34m\u001b[0m\u001b[0m\n\u001b[1;32m    194\u001b[0m                 \u001b[0margs\u001b[0m \u001b[0;34m=\u001b[0m \u001b[0;34m(\u001b[0m\u001b[0mc\u001b[0m\u001b[0;34m,\u001b[0m\u001b[0;34m)\u001b[0m \u001b[0;34m+\u001b[0m \u001b[0margs\u001b[0m\u001b[0;34m\u001b[0m\u001b[0;34m\u001b[0m\u001b[0m\n\u001b[0;32m--> 195\u001b[0;31m         \u001b[0;32mreturn\u001b[0m \u001b[0mself\u001b[0m\u001b[0;34m.\u001b[0m\u001b[0m_from_args\u001b[0m\u001b[0;34m(\u001b[0m\u001b[0margs\u001b[0m\u001b[0;34m,\u001b[0m \u001b[0mself\u001b[0m\u001b[0;34m.\u001b[0m\u001b[0mis_commutative\u001b[0m\u001b[0;34m)\u001b[0m\u001b[0;34m\u001b[0m\u001b[0;34m\u001b[0m\u001b[0m\n\u001b[0m\u001b[1;32m    196\u001b[0m \u001b[0;34m\u001b[0m\u001b[0m\n\u001b[1;32m    197\u001b[0m     \u001b[0;34m@\u001b[0m\u001b[0mclassmethod\u001b[0m\u001b[0;34m\u001b[0m\u001b[0;34m\u001b[0m\u001b[0m\n",
      "\u001b[0;32m~/.conda/envs/qibocal-env/lib/python3.9/site-packages/sympy/core/operations.py\u001b[0m in \u001b[0;36m_from_args\u001b[0;34m(cls, args, is_commutative)\u001b[0m\n\u001b[1;32m    117\u001b[0m             \u001b[0;32mreturn\u001b[0m \u001b[0margs\u001b[0m\u001b[0;34m[\u001b[0m\u001b[0;36m0\u001b[0m\u001b[0;34m]\u001b[0m\u001b[0;34m\u001b[0m\u001b[0;34m\u001b[0m\u001b[0m\n\u001b[1;32m    118\u001b[0m \u001b[0;34m\u001b[0m\u001b[0m\n\u001b[0;32m--> 119\u001b[0;31m         \u001b[0mobj\u001b[0m \u001b[0;34m=\u001b[0m \u001b[0msuper\u001b[0m\u001b[0;34m(\u001b[0m\u001b[0;34m)\u001b[0m\u001b[0;34m.\u001b[0m\u001b[0m__new__\u001b[0m\u001b[0;34m(\u001b[0m\u001b[0mcls\u001b[0m\u001b[0;34m,\u001b[0m \u001b[0;34m*\u001b[0m\u001b[0margs\u001b[0m\u001b[0;34m)\u001b[0m\u001b[0;34m\u001b[0m\u001b[0;34m\u001b[0m\u001b[0m\n\u001b[0m\u001b[1;32m    120\u001b[0m         \u001b[0;32mif\u001b[0m \u001b[0mis_commutative\u001b[0m \u001b[0;32mis\u001b[0m \u001b[0;32mNone\u001b[0m\u001b[0;34m:\u001b[0m\u001b[0;34m\u001b[0m\u001b[0;34m\u001b[0m\u001b[0m\n\u001b[1;32m    121\u001b[0m             \u001b[0mis_commutative\u001b[0m \u001b[0;34m=\u001b[0m \u001b[0mfuzzy_and\u001b[0m\u001b[0;34m(\u001b[0m\u001b[0ma\u001b[0m\u001b[0;34m.\u001b[0m\u001b[0mis_commutative\u001b[0m \u001b[0;32mfor\u001b[0m \u001b[0ma\u001b[0m \u001b[0;32min\u001b[0m \u001b[0margs\u001b[0m\u001b[0;34m)\u001b[0m\u001b[0;34m\u001b[0m\u001b[0;34m\u001b[0m\u001b[0m\n",
      "\u001b[0;31mKeyboardInterrupt\u001b[0m: "
     ]
    }
   ],
   "source": [
    "simplify(list(ds.keys())[1])"
   ]
  },
  {
   "cell_type": "code",
   "execution_count": 17,
   "metadata": {},
   "outputs": [
    {
     "ename": "KeyboardInterrupt",
     "evalue": "",
     "output_type": "error",
     "traceback": [
      "\u001b[0;31m---------------------------------------------------------------------------\u001b[0m",
      "\u001b[0;31mKeyError\u001b[0m                                  Traceback (most recent call last)",
      "\u001b[0;32m~/.conda/envs/qibocal-env/lib/python3.9/site-packages/sympy/core/assumptions.py\u001b[0m in \u001b[0;36mgetit\u001b[0;34m(self)\u001b[0m\n\u001b[1;32m    478\u001b[0m         \u001b[0;32mtry\u001b[0m\u001b[0;34m:\u001b[0m\u001b[0;34m\u001b[0m\u001b[0;34m\u001b[0m\u001b[0m\n\u001b[0;32m--> 479\u001b[0;31m             \u001b[0;32mreturn\u001b[0m \u001b[0mself\u001b[0m\u001b[0;34m.\u001b[0m\u001b[0m_assumptions\u001b[0m\u001b[0;34m[\u001b[0m\u001b[0mfact\u001b[0m\u001b[0;34m]\u001b[0m\u001b[0;34m\u001b[0m\u001b[0;34m\u001b[0m\u001b[0m\n\u001b[0m\u001b[1;32m    480\u001b[0m         \u001b[0;32mexcept\u001b[0m \u001b[0mKeyError\u001b[0m\u001b[0;34m:\u001b[0m\u001b[0;34m\u001b[0m\u001b[0;34m\u001b[0m\u001b[0m\n",
      "\u001b[0;31mKeyError\u001b[0m: 'zero'",
      "\nDuring handling of the above exception, another exception occurred:\n",
      "\u001b[0;31mKeyError\u001b[0m                                  Traceback (most recent call last)",
      "\u001b[0;32m~/.conda/envs/qibocal-env/lib/python3.9/site-packages/sympy/core/assumptions.py\u001b[0m in \u001b[0;36mgetit\u001b[0;34m(self)\u001b[0m\n\u001b[1;32m    478\u001b[0m         \u001b[0;32mtry\u001b[0m\u001b[0;34m:\u001b[0m\u001b[0;34m\u001b[0m\u001b[0;34m\u001b[0m\u001b[0m\n\u001b[0;32m--> 479\u001b[0;31m             \u001b[0;32mreturn\u001b[0m \u001b[0mself\u001b[0m\u001b[0;34m.\u001b[0m\u001b[0m_assumptions\u001b[0m\u001b[0;34m[\u001b[0m\u001b[0mfact\u001b[0m\u001b[0;34m]\u001b[0m\u001b[0;34m\u001b[0m\u001b[0;34m\u001b[0m\u001b[0m\n\u001b[0m\u001b[1;32m    480\u001b[0m         \u001b[0;32mexcept\u001b[0m \u001b[0mKeyError\u001b[0m\u001b[0;34m:\u001b[0m\u001b[0;34m\u001b[0m\u001b[0;34m\u001b[0m\u001b[0m\n",
      "\u001b[0;31mKeyError\u001b[0m: 'extended_negative'",
      "\nDuring handling of the above exception, another exception occurred:\n",
      "\u001b[0;31mKeyboardInterrupt\u001b[0m                         Traceback (most recent call last)",
      "\u001b[0;32m/tmp/ipykernel_616581/1953918491.py\u001b[0m in \u001b[0;36m<cell line: 1>\u001b[0;34m()\u001b[0m\n\u001b[0;32m----> 1\u001b[0;31m \u001b[0mP\u001b[0m\u001b[0;34m,\u001b[0m \u001b[0mD\u001b[0m \u001b[0;34m=\u001b[0m \u001b[0mf\u001b[0m\u001b[0;34m.\u001b[0m\u001b[0mdiagonalize\u001b[0m\u001b[0;34m(\u001b[0m\u001b[0;34m)\u001b[0m\u001b[0;34m\u001b[0m\u001b[0;34m\u001b[0m\u001b[0m\n\u001b[0m\u001b[1;32m      2\u001b[0m \u001b[0mD\u001b[0m\u001b[0;34m\u001b[0m\u001b[0;34m\u001b[0m\u001b[0m\n",
      "\u001b[0;32m~/.conda/envs/qibocal-env/lib/python3.9/site-packages/sympy/matrices/matrices.py\u001b[0m in \u001b[0;36mdiagonalize\u001b[0;34m(self, reals_only, sort, normalize)\u001b[0m\n\u001b[1;32m    386\u001b[0m \u001b[0;34m\u001b[0m\u001b[0m\n\u001b[1;32m    387\u001b[0m     \u001b[0;32mdef\u001b[0m \u001b[0mdiagonalize\u001b[0m\u001b[0;34m(\u001b[0m\u001b[0mself\u001b[0m\u001b[0;34m,\u001b[0m \u001b[0mreals_only\u001b[0m\u001b[0;34m=\u001b[0m\u001b[0;32mFalse\u001b[0m\u001b[0;34m,\u001b[0m \u001b[0msort\u001b[0m\u001b[0;34m=\u001b[0m\u001b[0;32mFalse\u001b[0m\u001b[0;34m,\u001b[0m \u001b[0mnormalize\u001b[0m\u001b[0;34m=\u001b[0m\u001b[0;32mFalse\u001b[0m\u001b[0;34m)\u001b[0m\u001b[0;34m:\u001b[0m\u001b[0;34m\u001b[0m\u001b[0;34m\u001b[0m\u001b[0m\n\u001b[0;32m--> 388\u001b[0;31m         return _diagonalize(self, reals_only=reals_only, sort=sort,\n\u001b[0m\u001b[1;32m    389\u001b[0m                 normalize=normalize)\n\u001b[1;32m    390\u001b[0m \u001b[0;34m\u001b[0m\u001b[0m\n",
      "\u001b[0;32m~/.conda/envs/qibocal-env/lib/python3.9/site-packages/sympy/matrices/eigen.py\u001b[0m in \u001b[0;36m_diagonalize\u001b[0;34m(M, reals_only, sort, normalize)\u001b[0m\n\u001b[1;32m    715\u001b[0m         \u001b[0;32mraise\u001b[0m \u001b[0mNonSquareMatrixError\u001b[0m\u001b[0;34m(\u001b[0m\u001b[0;34m)\u001b[0m\u001b[0;34m\u001b[0m\u001b[0;34m\u001b[0m\u001b[0m\n\u001b[1;32m    716\u001b[0m \u001b[0;34m\u001b[0m\u001b[0m\n\u001b[0;32m--> 717\u001b[0;31m     is_diagonalizable, eigenvecs = _is_diagonalizable_with_eigen(M,\n\u001b[0m\u001b[1;32m    718\u001b[0m                 reals_only=reals_only)\n\u001b[1;32m    719\u001b[0m \u001b[0;34m\u001b[0m\u001b[0m\n",
      "\u001b[0;32m~/.conda/envs/qibocal-env/lib/python3.9/site-packages/sympy/matrices/eigen.py\u001b[0m in \u001b[0;36m_is_diagonalizable_with_eigen\u001b[0;34m(M, reals_only)\u001b[0m\n\u001b[1;32m    447\u001b[0m         \u001b[0;32mreturn\u001b[0m \u001b[0;32mFalse\u001b[0m\u001b[0;34m,\u001b[0m \u001b[0;34m[\u001b[0m\u001b[0;34m]\u001b[0m\u001b[0;34m\u001b[0m\u001b[0;34m\u001b[0m\u001b[0m\n\u001b[1;32m    448\u001b[0m \u001b[0;34m\u001b[0m\u001b[0m\n\u001b[0;32m--> 449\u001b[0;31m     \u001b[0meigenvecs\u001b[0m \u001b[0;34m=\u001b[0m \u001b[0mM\u001b[0m\u001b[0;34m.\u001b[0m\u001b[0meigenvects\u001b[0m\u001b[0;34m(\u001b[0m\u001b[0msimplify\u001b[0m\u001b[0;34m=\u001b[0m\u001b[0;32mTrue\u001b[0m\u001b[0;34m)\u001b[0m\u001b[0;34m\u001b[0m\u001b[0;34m\u001b[0m\u001b[0m\n\u001b[0m\u001b[1;32m    450\u001b[0m \u001b[0;34m\u001b[0m\u001b[0m\n\u001b[1;32m    451\u001b[0m     \u001b[0;32mfor\u001b[0m \u001b[0mval\u001b[0m\u001b[0;34m,\u001b[0m \u001b[0mmult\u001b[0m\u001b[0;34m,\u001b[0m \u001b[0mbasis\u001b[0m \u001b[0;32min\u001b[0m \u001b[0meigenvecs\u001b[0m\u001b[0;34m:\u001b[0m\u001b[0;34m\u001b[0m\u001b[0;34m\u001b[0m\u001b[0m\n",
      "\u001b[0;32m~/.conda/envs/qibocal-env/lib/python3.9/site-packages/sympy/matrices/matrices.py\u001b[0m in \u001b[0;36meigenvects\u001b[0;34m(self, error_when_incomplete, iszerofunc, **flags)\u001b[0m\n\u001b[1;32m    379\u001b[0m \u001b[0;34m\u001b[0m\u001b[0m\n\u001b[1;32m    380\u001b[0m     \u001b[0;32mdef\u001b[0m \u001b[0meigenvects\u001b[0m\u001b[0;34m(\u001b[0m\u001b[0mself\u001b[0m\u001b[0;34m,\u001b[0m \u001b[0merror_when_incomplete\u001b[0m\u001b[0;34m=\u001b[0m\u001b[0;32mTrue\u001b[0m\u001b[0;34m,\u001b[0m \u001b[0miszerofunc\u001b[0m\u001b[0;34m=\u001b[0m\u001b[0m_iszero\u001b[0m\u001b[0;34m,\u001b[0m \u001b[0;34m**\u001b[0m\u001b[0mflags\u001b[0m\u001b[0;34m)\u001b[0m\u001b[0;34m:\u001b[0m\u001b[0;34m\u001b[0m\u001b[0;34m\u001b[0m\u001b[0m\n\u001b[0;32m--> 381\u001b[0;31m         return _eigenvects(self, error_when_incomplete=error_when_incomplete,\n\u001b[0m\u001b[1;32m    382\u001b[0m                 iszerofunc=iszerofunc, **flags)\n\u001b[1;32m    383\u001b[0m \u001b[0;34m\u001b[0m\u001b[0m\n",
      "\u001b[0;32m~/.conda/envs/qibocal-env/lib/python3.9/site-packages/sympy/matrices/eigen.py\u001b[0m in \u001b[0;36m_eigenvects\u001b[0;34m(M, error_when_incomplete, iszerofunc, chop, **flags)\u001b[0m\n\u001b[1;32m    421\u001b[0m     \u001b[0mret\u001b[0m \u001b[0;34m=\u001b[0m \u001b[0m_eigenvects_DOM\u001b[0m\u001b[0;34m(\u001b[0m\u001b[0mM\u001b[0m\u001b[0;34m)\u001b[0m\u001b[0;34m\u001b[0m\u001b[0;34m\u001b[0m\u001b[0m\n\u001b[1;32m    422\u001b[0m     \u001b[0;32mif\u001b[0m \u001b[0mret\u001b[0m \u001b[0;32mis\u001b[0m \u001b[0;32mNone\u001b[0m\u001b[0;34m:\u001b[0m\u001b[0;34m\u001b[0m\u001b[0;34m\u001b[0m\u001b[0m\n\u001b[0;32m--> 423\u001b[0;31m         \u001b[0mret\u001b[0m \u001b[0;34m=\u001b[0m \u001b[0m_eigenvects_sympy\u001b[0m\u001b[0;34m(\u001b[0m\u001b[0mM\u001b[0m\u001b[0;34m,\u001b[0m \u001b[0miszerofunc\u001b[0m\u001b[0;34m,\u001b[0m \u001b[0msimplify\u001b[0m\u001b[0;34m=\u001b[0m\u001b[0msimplify\u001b[0m\u001b[0;34m,\u001b[0m \u001b[0;34m**\u001b[0m\u001b[0mflags\u001b[0m\u001b[0;34m)\u001b[0m\u001b[0;34m\u001b[0m\u001b[0;34m\u001b[0m\u001b[0m\n\u001b[0m\u001b[1;32m    424\u001b[0m \u001b[0;34m\u001b[0m\u001b[0m\n\u001b[1;32m    425\u001b[0m     \u001b[0;32mif\u001b[0m \u001b[0mprimitive\u001b[0m\u001b[0;34m:\u001b[0m\u001b[0;34m\u001b[0m\u001b[0;34m\u001b[0m\u001b[0m\n",
      "\u001b[0;32m~/.conda/envs/qibocal-env/lib/python3.9/site-packages/sympy/matrices/eigen.py\u001b[0m in \u001b[0;36m_eigenvects_sympy\u001b[0;34m(M, iszerofunc, simplify, **flags)\u001b[0m\n\u001b[1;32m    322\u001b[0m     \u001b[0mret\u001b[0m \u001b[0;34m=\u001b[0m \u001b[0;34m[\u001b[0m\u001b[0;34m]\u001b[0m\u001b[0;34m\u001b[0m\u001b[0;34m\u001b[0m\u001b[0m\n\u001b[1;32m    323\u001b[0m     \u001b[0;32mfor\u001b[0m \u001b[0mval\u001b[0m\u001b[0;34m,\u001b[0m \u001b[0mmult\u001b[0m \u001b[0;32min\u001b[0m \u001b[0meigenvals\u001b[0m\u001b[0;34m:\u001b[0m\u001b[0;34m\u001b[0m\u001b[0;34m\u001b[0m\u001b[0m\n\u001b[0;32m--> 324\u001b[0;31m         \u001b[0mvects\u001b[0m \u001b[0;34m=\u001b[0m \u001b[0m_eigenspace\u001b[0m\u001b[0;34m(\u001b[0m\u001b[0mM\u001b[0m\u001b[0;34m,\u001b[0m \u001b[0mval\u001b[0m\u001b[0;34m,\u001b[0m \u001b[0miszerofunc\u001b[0m\u001b[0;34m=\u001b[0m\u001b[0miszerofunc\u001b[0m\u001b[0;34m,\u001b[0m \u001b[0msimplify\u001b[0m\u001b[0;34m=\u001b[0m\u001b[0msimplify\u001b[0m\u001b[0;34m)\u001b[0m\u001b[0;34m\u001b[0m\u001b[0;34m\u001b[0m\u001b[0m\n\u001b[0m\u001b[1;32m    325\u001b[0m         \u001b[0mret\u001b[0m\u001b[0;34m.\u001b[0m\u001b[0mappend\u001b[0m\u001b[0;34m(\u001b[0m\u001b[0;34m(\u001b[0m\u001b[0mval\u001b[0m\u001b[0;34m,\u001b[0m \u001b[0mmult\u001b[0m\u001b[0;34m,\u001b[0m \u001b[0mvects\u001b[0m\u001b[0;34m)\u001b[0m\u001b[0;34m)\u001b[0m\u001b[0;34m\u001b[0m\u001b[0;34m\u001b[0m\u001b[0m\n\u001b[1;32m    326\u001b[0m     \u001b[0;32mreturn\u001b[0m \u001b[0mret\u001b[0m\u001b[0;34m\u001b[0m\u001b[0;34m\u001b[0m\u001b[0m\n",
      "\u001b[0;32m~/.conda/envs/qibocal-env/lib/python3.9/site-packages/sympy/matrices/eigen.py\u001b[0m in \u001b[0;36m_eigenspace\u001b[0;34m(M, eigenval, iszerofunc, simplify)\u001b[0m\n\u001b[1;32m    283\u001b[0m     \u001b[0;34m\"\"\"Get a basis for the eigenspace for a particular eigenvalue\"\"\"\u001b[0m\u001b[0;34m\u001b[0m\u001b[0;34m\u001b[0m\u001b[0m\n\u001b[1;32m    284\u001b[0m     \u001b[0mm\u001b[0m   \u001b[0;34m=\u001b[0m \u001b[0mM\u001b[0m \u001b[0;34m-\u001b[0m \u001b[0mM\u001b[0m\u001b[0;34m.\u001b[0m\u001b[0meye\u001b[0m\u001b[0;34m(\u001b[0m\u001b[0mM\u001b[0m\u001b[0;34m.\u001b[0m\u001b[0mrows\u001b[0m\u001b[0;34m)\u001b[0m \u001b[0;34m*\u001b[0m \u001b[0meigenval\u001b[0m\u001b[0;34m\u001b[0m\u001b[0;34m\u001b[0m\u001b[0m\n\u001b[0;32m--> 285\u001b[0;31m     \u001b[0mret\u001b[0m \u001b[0;34m=\u001b[0m \u001b[0mm\u001b[0m\u001b[0;34m.\u001b[0m\u001b[0mnullspace\u001b[0m\u001b[0;34m(\u001b[0m\u001b[0miszerofunc\u001b[0m\u001b[0;34m=\u001b[0m\u001b[0miszerofunc\u001b[0m\u001b[0;34m)\u001b[0m\u001b[0;34m\u001b[0m\u001b[0;34m\u001b[0m\u001b[0m\n\u001b[0m\u001b[1;32m    286\u001b[0m \u001b[0;34m\u001b[0m\u001b[0m\n\u001b[1;32m    287\u001b[0m     \u001b[0;31m# The nullspace for a real eigenvalue should be non-trivial.\u001b[0m\u001b[0;34m\u001b[0m\u001b[0;34m\u001b[0m\u001b[0m\n",
      "\u001b[0;32m~/.conda/envs/qibocal-env/lib/python3.9/site-packages/sympy/matrices/matrices.py\u001b[0m in \u001b[0;36mnullspace\u001b[0;34m(self, simplify, iszerofunc)\u001b[0m\n\u001b[1;32m    351\u001b[0m \u001b[0;34m\u001b[0m\u001b[0m\n\u001b[1;32m    352\u001b[0m     \u001b[0;32mdef\u001b[0m \u001b[0mnullspace\u001b[0m\u001b[0;34m(\u001b[0m\u001b[0mself\u001b[0m\u001b[0;34m,\u001b[0m \u001b[0msimplify\u001b[0m\u001b[0;34m=\u001b[0m\u001b[0;32mFalse\u001b[0m\u001b[0;34m,\u001b[0m \u001b[0miszerofunc\u001b[0m\u001b[0;34m=\u001b[0m\u001b[0m_iszero\u001b[0m\u001b[0;34m)\u001b[0m\u001b[0;34m:\u001b[0m\u001b[0;34m\u001b[0m\u001b[0;34m\u001b[0m\u001b[0m\n\u001b[0;32m--> 353\u001b[0;31m         \u001b[0;32mreturn\u001b[0m \u001b[0m_nullspace\u001b[0m\u001b[0;34m(\u001b[0m\u001b[0mself\u001b[0m\u001b[0;34m,\u001b[0m \u001b[0msimplify\u001b[0m\u001b[0;34m=\u001b[0m\u001b[0msimplify\u001b[0m\u001b[0;34m,\u001b[0m \u001b[0miszerofunc\u001b[0m\u001b[0;34m=\u001b[0m\u001b[0miszerofunc\u001b[0m\u001b[0;34m)\u001b[0m\u001b[0;34m\u001b[0m\u001b[0;34m\u001b[0m\u001b[0m\n\u001b[0m\u001b[1;32m    354\u001b[0m \u001b[0;34m\u001b[0m\u001b[0m\n\u001b[1;32m    355\u001b[0m     \u001b[0;32mdef\u001b[0m \u001b[0mrowspace\u001b[0m\u001b[0;34m(\u001b[0m\u001b[0mself\u001b[0m\u001b[0;34m,\u001b[0m \u001b[0msimplify\u001b[0m\u001b[0;34m=\u001b[0m\u001b[0;32mFalse\u001b[0m\u001b[0;34m)\u001b[0m\u001b[0;34m:\u001b[0m\u001b[0;34m\u001b[0m\u001b[0;34m\u001b[0m\u001b[0m\n",
      "\u001b[0;32m~/.conda/envs/qibocal-env/lib/python3.9/site-packages/sympy/matrices/subspaces.py\u001b[0m in \u001b[0;36m_nullspace\u001b[0;34m(M, simplify, iszerofunc)\u001b[0m\n\u001b[1;32m     62\u001b[0m     \"\"\"\n\u001b[1;32m     63\u001b[0m \u001b[0;34m\u001b[0m\u001b[0m\n\u001b[0;32m---> 64\u001b[0;31m     \u001b[0mreduced\u001b[0m\u001b[0;34m,\u001b[0m \u001b[0mpivots\u001b[0m \u001b[0;34m=\u001b[0m \u001b[0mM\u001b[0m\u001b[0;34m.\u001b[0m\u001b[0mrref\u001b[0m\u001b[0;34m(\u001b[0m\u001b[0miszerofunc\u001b[0m\u001b[0;34m=\u001b[0m\u001b[0miszerofunc\u001b[0m\u001b[0;34m,\u001b[0m \u001b[0msimplify\u001b[0m\u001b[0;34m=\u001b[0m\u001b[0msimplify\u001b[0m\u001b[0;34m)\u001b[0m\u001b[0;34m\u001b[0m\u001b[0;34m\u001b[0m\u001b[0m\n\u001b[0m\u001b[1;32m     65\u001b[0m \u001b[0;34m\u001b[0m\u001b[0m\n\u001b[1;32m     66\u001b[0m     \u001b[0mfree_vars\u001b[0m \u001b[0;34m=\u001b[0m \u001b[0;34m[\u001b[0m\u001b[0mi\u001b[0m \u001b[0;32mfor\u001b[0m \u001b[0mi\u001b[0m \u001b[0;32min\u001b[0m \u001b[0mrange\u001b[0m\u001b[0;34m(\u001b[0m\u001b[0mM\u001b[0m\u001b[0;34m.\u001b[0m\u001b[0mcols\u001b[0m\u001b[0;34m)\u001b[0m \u001b[0;32mif\u001b[0m \u001b[0mi\u001b[0m \u001b[0;32mnot\u001b[0m \u001b[0;32min\u001b[0m \u001b[0mpivots\u001b[0m\u001b[0;34m]\u001b[0m\u001b[0;34m\u001b[0m\u001b[0;34m\u001b[0m\u001b[0m\n",
      "\u001b[0;32m~/.conda/envs/qibocal-env/lib/python3.9/site-packages/sympy/matrices/matrices.py\u001b[0m in \u001b[0;36mrref\u001b[0;34m(self, iszerofunc, simplify, pivots, normalize_last)\u001b[0m\n\u001b[1;32m    172\u001b[0m     def rref(self, iszerofunc=_iszero, simplify=False, pivots=True,\n\u001b[1;32m    173\u001b[0m             normalize_last=True):\n\u001b[0;32m--> 174\u001b[0;31m         return _rref(self, iszerofunc=iszerofunc, simplify=simplify,\n\u001b[0m\u001b[1;32m    175\u001b[0m             pivots=pivots, normalize_last=normalize_last)\n\u001b[1;32m    176\u001b[0m \u001b[0;34m\u001b[0m\u001b[0m\n",
      "\u001b[0;32m~/.conda/envs/qibocal-env/lib/python3.9/site-packages/sympy/matrices/reductions.py\u001b[0m in \u001b[0;36m_rref\u001b[0;34m(M, iszerofunc, simplify, pivots, normalize_last)\u001b[0m\n\u001b[1;32m    318\u001b[0m     \u001b[0msimpfunc\u001b[0m \u001b[0;34m=\u001b[0m \u001b[0msimplify\u001b[0m \u001b[0;32mif\u001b[0m \u001b[0misinstance\u001b[0m\u001b[0;34m(\u001b[0m\u001b[0msimplify\u001b[0m\u001b[0;34m,\u001b[0m \u001b[0mFunctionType\u001b[0m\u001b[0;34m)\u001b[0m \u001b[0;32melse\u001b[0m \u001b[0m_simplify\u001b[0m\u001b[0;34m\u001b[0m\u001b[0;34m\u001b[0m\u001b[0m\n\u001b[1;32m    319\u001b[0m \u001b[0;34m\u001b[0m\u001b[0m\n\u001b[0;32m--> 320\u001b[0;31m     mat, pivot_cols, _ = _row_reduce(M, iszerofunc, simpfunc,\n\u001b[0m\u001b[1;32m    321\u001b[0m             normalize_last, normalize=True, zero_above=True)\n\u001b[1;32m    322\u001b[0m \u001b[0;34m\u001b[0m\u001b[0m\n",
      "\u001b[0;32m~/.conda/envs/qibocal-env/lib/python3.9/site-packages/sympy/matrices/reductions.py\u001b[0m in \u001b[0;36m_row_reduce\u001b[0;34m(M, iszerofunc, simpfunc, normalize_last, normalize, zero_above)\u001b[0m\n\u001b[1;32m    122\u001b[0m                 normalize=True, zero_above=True):\n\u001b[1;32m    123\u001b[0m \u001b[0;34m\u001b[0m\u001b[0m\n\u001b[0;32m--> 124\u001b[0;31m     mat, pivot_cols, swaps = _row_reduce_list(list(M), M.rows, M.cols, M.one,\n\u001b[0m\u001b[1;32m    125\u001b[0m             \u001b[0miszerofunc\u001b[0m\u001b[0;34m,\u001b[0m \u001b[0msimpfunc\u001b[0m\u001b[0;34m,\u001b[0m \u001b[0mnormalize_last\u001b[0m\u001b[0;34m=\u001b[0m\u001b[0mnormalize_last\u001b[0m\u001b[0;34m,\u001b[0m\u001b[0;34m\u001b[0m\u001b[0;34m\u001b[0m\u001b[0m\n\u001b[1;32m    126\u001b[0m             normalize=normalize, zero_above=zero_above)\n",
      "\u001b[0;32m~/.conda/envs/qibocal-env/lib/python3.9/site-packages/sympy/matrices/reductions.py\u001b[0m in \u001b[0;36m_row_reduce_list\u001b[0;34m(mat, rows, cols, one, iszerofunc, simpfunc, normalize_last, normalize, zero_above)\u001b[0m\n\u001b[1;32m     63\u001b[0m     \u001b[0;32mwhile\u001b[0m \u001b[0mpiv_col\u001b[0m \u001b[0;34m<\u001b[0m \u001b[0mcols\u001b[0m \u001b[0;32mand\u001b[0m \u001b[0mpiv_row\u001b[0m \u001b[0;34m<\u001b[0m \u001b[0mrows\u001b[0m\u001b[0;34m:\u001b[0m\u001b[0;34m\u001b[0m\u001b[0;34m\u001b[0m\u001b[0m\n\u001b[1;32m     64\u001b[0m         \u001b[0mpivot_offset\u001b[0m\u001b[0;34m,\u001b[0m \u001b[0mpivot_val\u001b[0m\u001b[0;34m,\u001b[0m\u001b[0;31m \u001b[0m\u001b[0;31m\\\u001b[0m\u001b[0;34m\u001b[0m\u001b[0;34m\u001b[0m\u001b[0m\n\u001b[0;32m---> 65\u001b[0;31m         assumed_nonzero, newly_determined = _find_reasonable_pivot(\n\u001b[0m\u001b[1;32m     66\u001b[0m                 get_col(piv_col)[piv_row:], iszerofunc, simpfunc)\n\u001b[1;32m     67\u001b[0m \u001b[0;34m\u001b[0m\u001b[0m\n",
      "\u001b[0;32m~/.conda/envs/qibocal-env/lib/python3.9/site-packages/sympy/matrices/determinant.py\u001b[0m in \u001b[0;36m_find_reasonable_pivot\u001b[0;34m(col, iszerofunc, simpfunc)\u001b[0m\n\u001b[1;32m    100\u001b[0m         \u001b[0;32mif\u001b[0m \u001b[0mpossible_zeros\u001b[0m\u001b[0;34m[\u001b[0m\u001b[0mi\u001b[0m\u001b[0;34m]\u001b[0m \u001b[0;32mis\u001b[0m \u001b[0;32mnot\u001b[0m \u001b[0;32mNone\u001b[0m\u001b[0;34m:\u001b[0m\u001b[0;34m\u001b[0m\u001b[0;34m\u001b[0m\u001b[0m\n\u001b[1;32m    101\u001b[0m             \u001b[0;32mcontinue\u001b[0m\u001b[0;34m\u001b[0m\u001b[0;34m\u001b[0m\u001b[0m\n\u001b[0;32m--> 102\u001b[0;31m         \u001b[0;32mif\u001b[0m \u001b[0mx\u001b[0m\u001b[0;34m.\u001b[0m\u001b[0mequals\u001b[0m\u001b[0;34m(\u001b[0m\u001b[0mS\u001b[0m\u001b[0;34m.\u001b[0m\u001b[0mZero\u001b[0m\u001b[0;34m)\u001b[0m\u001b[0;34m:\u001b[0m\u001b[0;34m\u001b[0m\u001b[0;34m\u001b[0m\u001b[0m\n\u001b[0m\u001b[1;32m    103\u001b[0m             \u001b[0;31m# ``.iszero`` may return False with\u001b[0m\u001b[0;34m\u001b[0m\u001b[0;34m\u001b[0m\u001b[0m\n\u001b[1;32m    104\u001b[0m             \u001b[0;31m# an implicit assumption (e.g., ``x.equals(0)``\u001b[0m\u001b[0;34m\u001b[0m\u001b[0;34m\u001b[0m\u001b[0m\n",
      "\u001b[0;32m~/.conda/envs/qibocal-env/lib/python3.9/site-packages/sympy/core/expr.py\u001b[0m in \u001b[0;36mequals\u001b[0;34m(self, other, failing_expression)\u001b[0m\n\u001b[1;32m    755\u001b[0m                 \u001b[0;32mreturn\u001b[0m \u001b[0many\u001b[0m\u001b[0;34m(\u001b[0m\u001b[0mfac_zero\u001b[0m\u001b[0;34m)\u001b[0m\u001b[0;34m\u001b[0m\u001b[0;34m\u001b[0m\u001b[0m\n\u001b[1;32m    756\u001b[0m \u001b[0;34m\u001b[0m\u001b[0m\n\u001b[0;32m--> 757\u001b[0;31m         \u001b[0mconstant\u001b[0m \u001b[0;34m=\u001b[0m \u001b[0mdiff\u001b[0m\u001b[0;34m.\u001b[0m\u001b[0mis_constant\u001b[0m\u001b[0;34m(\u001b[0m\u001b[0msimplify\u001b[0m\u001b[0;34m=\u001b[0m\u001b[0;32mFalse\u001b[0m\u001b[0;34m,\u001b[0m \u001b[0mfailing_number\u001b[0m\u001b[0;34m=\u001b[0m\u001b[0;32mTrue\u001b[0m\u001b[0;34m)\u001b[0m\u001b[0;34m\u001b[0m\u001b[0;34m\u001b[0m\u001b[0m\n\u001b[0m\u001b[1;32m    758\u001b[0m \u001b[0;34m\u001b[0m\u001b[0m\n\u001b[1;32m    759\u001b[0m         \u001b[0;32mif\u001b[0m \u001b[0mconstant\u001b[0m \u001b[0;32mis\u001b[0m \u001b[0;32mFalse\u001b[0m\u001b[0;34m:\u001b[0m\u001b[0;34m\u001b[0m\u001b[0;34m\u001b[0m\u001b[0m\n",
      "\u001b[0;32m~/.conda/envs/qibocal-env/lib/python3.9/site-packages/sympy/core/expr.py\u001b[0m in \u001b[0;36mis_constant\u001b[0;34m(self, *wrt, **flags)\u001b[0m\n\u001b[1;32m    659\u001b[0m             \u001b[0;31m# try 0 (for a) and 1 (for b)\u001b[0m\u001b[0;34m\u001b[0m\u001b[0;34m\u001b[0m\u001b[0m\n\u001b[1;32m    660\u001b[0m             \u001b[0;32mtry\u001b[0m\u001b[0;34m:\u001b[0m\u001b[0;34m\u001b[0m\u001b[0;34m\u001b[0m\u001b[0m\n\u001b[0;32m--> 661\u001b[0;31m                 a = expr.subs(list(zip(free, [0]*len(free))),\n\u001b[0m\u001b[1;32m    662\u001b[0m                     simultaneous=True)\n\u001b[1;32m    663\u001b[0m                 \u001b[0;32mif\u001b[0m \u001b[0ma\u001b[0m \u001b[0;32mis\u001b[0m \u001b[0mS\u001b[0m\u001b[0;34m.\u001b[0m\u001b[0mNaN\u001b[0m\u001b[0;34m:\u001b[0m\u001b[0;34m\u001b[0m\u001b[0;34m\u001b[0m\u001b[0m\n",
      "\u001b[0;32m~/.conda/envs/qibocal-env/lib/python3.9/site-packages/sympy/core/basic.py\u001b[0m in \u001b[0;36msubs\u001b[0;34m(self, *args, **kwargs)\u001b[0m\n\u001b[1;32m    986\u001b[0m                 \u001b[0;31m# in things like Derivative(f(x, y), x) in which x\u001b[0m\u001b[0;34m\u001b[0m\u001b[0;34m\u001b[0m\u001b[0m\n\u001b[1;32m    987\u001b[0m                 \u001b[0;31m# is both free and bound\u001b[0m\u001b[0;34m\u001b[0m\u001b[0;34m\u001b[0m\u001b[0m\n\u001b[0;32m--> 988\u001b[0;31m                 \u001b[0mrv\u001b[0m \u001b[0;34m=\u001b[0m \u001b[0mrv\u001b[0m\u001b[0;34m.\u001b[0m\u001b[0m_subs\u001b[0m\u001b[0;34m(\u001b[0m\u001b[0mold\u001b[0m\u001b[0;34m,\u001b[0m \u001b[0md\u001b[0m\u001b[0;34m*\u001b[0m\u001b[0mm\u001b[0m\u001b[0;34m,\u001b[0m \u001b[0;34m**\u001b[0m\u001b[0mkwargs\u001b[0m\u001b[0;34m)\u001b[0m\u001b[0;34m\u001b[0m\u001b[0;34m\u001b[0m\u001b[0m\n\u001b[0m\u001b[1;32m    989\u001b[0m                 \u001b[0;32mif\u001b[0m \u001b[0;32mnot\u001b[0m \u001b[0misinstance\u001b[0m\u001b[0;34m(\u001b[0m\u001b[0mrv\u001b[0m\u001b[0;34m,\u001b[0m \u001b[0mBasic\u001b[0m\u001b[0;34m)\u001b[0m\u001b[0;34m:\u001b[0m\u001b[0;34m\u001b[0m\u001b[0;34m\u001b[0m\u001b[0m\n\u001b[1;32m    990\u001b[0m                     \u001b[0;32mbreak\u001b[0m\u001b[0;34m\u001b[0m\u001b[0;34m\u001b[0m\u001b[0m\n",
      "\u001b[0;32m~/.conda/envs/qibocal-env/lib/python3.9/site-packages/sympy/core/cache.py\u001b[0m in \u001b[0;36mwrapper\u001b[0;34m(*args, **kwargs)\u001b[0m\n\u001b[1;32m     68\u001b[0m         \u001b[0;32mdef\u001b[0m \u001b[0mwrapper\u001b[0m\u001b[0;34m(\u001b[0m\u001b[0;34m*\u001b[0m\u001b[0margs\u001b[0m\u001b[0;34m,\u001b[0m \u001b[0;34m**\u001b[0m\u001b[0mkwargs\u001b[0m\u001b[0;34m)\u001b[0m\u001b[0;34m:\u001b[0m\u001b[0;34m\u001b[0m\u001b[0;34m\u001b[0m\u001b[0m\n\u001b[1;32m     69\u001b[0m             \u001b[0;32mtry\u001b[0m\u001b[0;34m:\u001b[0m\u001b[0;34m\u001b[0m\u001b[0;34m\u001b[0m\u001b[0m\n\u001b[0;32m---> 70\u001b[0;31m                 \u001b[0mretval\u001b[0m \u001b[0;34m=\u001b[0m \u001b[0mcfunc\u001b[0m\u001b[0;34m(\u001b[0m\u001b[0;34m*\u001b[0m\u001b[0margs\u001b[0m\u001b[0;34m,\u001b[0m \u001b[0;34m**\u001b[0m\u001b[0mkwargs\u001b[0m\u001b[0;34m)\u001b[0m\u001b[0;34m\u001b[0m\u001b[0;34m\u001b[0m\u001b[0m\n\u001b[0m\u001b[1;32m     71\u001b[0m             \u001b[0;32mexcept\u001b[0m \u001b[0mTypeError\u001b[0m \u001b[0;32mas\u001b[0m \u001b[0me\u001b[0m\u001b[0;34m:\u001b[0m\u001b[0;34m\u001b[0m\u001b[0;34m\u001b[0m\u001b[0m\n\u001b[1;32m     72\u001b[0m                 \u001b[0;32mif\u001b[0m \u001b[0;32mnot\u001b[0m \u001b[0me\u001b[0m\u001b[0;34m.\u001b[0m\u001b[0margs\u001b[0m \u001b[0;32mor\u001b[0m \u001b[0;32mnot\u001b[0m \u001b[0me\u001b[0m\u001b[0;34m.\u001b[0m\u001b[0margs\u001b[0m\u001b[0;34m[\u001b[0m\u001b[0;36m0\u001b[0m\u001b[0;34m]\u001b[0m\u001b[0;34m.\u001b[0m\u001b[0mstartswith\u001b[0m\u001b[0;34m(\u001b[0m\u001b[0;34m'unhashable type:'\u001b[0m\u001b[0;34m)\u001b[0m\u001b[0;34m:\u001b[0m\u001b[0;34m\u001b[0m\u001b[0;34m\u001b[0m\u001b[0m\n",
      "\u001b[0;32m~/.conda/envs/qibocal-env/lib/python3.9/site-packages/sympy/core/basic.py\u001b[0m in \u001b[0;36m_subs\u001b[0;34m(self, old, new, **hints)\u001b[0m\n\u001b[1;32m   1109\u001b[0m         \u001b[0mrv\u001b[0m \u001b[0;34m=\u001b[0m \u001b[0mself\u001b[0m\u001b[0;34m.\u001b[0m\u001b[0m_eval_subs\u001b[0m\u001b[0;34m(\u001b[0m\u001b[0mold\u001b[0m\u001b[0;34m,\u001b[0m \u001b[0mnew\u001b[0m\u001b[0;34m)\u001b[0m\u001b[0;34m\u001b[0m\u001b[0;34m\u001b[0m\u001b[0m\n\u001b[1;32m   1110\u001b[0m         \u001b[0;32mif\u001b[0m \u001b[0mrv\u001b[0m \u001b[0;32mis\u001b[0m \u001b[0;32mNone\u001b[0m\u001b[0;34m:\u001b[0m\u001b[0;34m\u001b[0m\u001b[0;34m\u001b[0m\u001b[0m\n\u001b[0;32m-> 1111\u001b[0;31m             \u001b[0mrv\u001b[0m \u001b[0;34m=\u001b[0m \u001b[0mfallback\u001b[0m\u001b[0;34m(\u001b[0m\u001b[0mself\u001b[0m\u001b[0;34m,\u001b[0m \u001b[0mold\u001b[0m\u001b[0;34m,\u001b[0m \u001b[0mnew\u001b[0m\u001b[0;34m)\u001b[0m\u001b[0;34m\u001b[0m\u001b[0;34m\u001b[0m\u001b[0m\n\u001b[0m\u001b[1;32m   1112\u001b[0m         \u001b[0;32mreturn\u001b[0m \u001b[0mrv\u001b[0m\u001b[0;34m\u001b[0m\u001b[0;34m\u001b[0m\u001b[0m\n\u001b[1;32m   1113\u001b[0m \u001b[0;34m\u001b[0m\u001b[0m\n",
      "\u001b[0;32m~/.conda/envs/qibocal-env/lib/python3.9/site-packages/sympy/core/basic.py\u001b[0m in \u001b[0;36mfallback\u001b[0;34m(self, old, new)\u001b[0m\n\u001b[1;32m   1081\u001b[0m                 \u001b[0;32mif\u001b[0m \u001b[0;32mnot\u001b[0m \u001b[0mhasattr\u001b[0m\u001b[0;34m(\u001b[0m\u001b[0marg\u001b[0m\u001b[0;34m,\u001b[0m \u001b[0;34m'_eval_subs'\u001b[0m\u001b[0;34m)\u001b[0m\u001b[0;34m:\u001b[0m\u001b[0;34m\u001b[0m\u001b[0;34m\u001b[0m\u001b[0m\n\u001b[1;32m   1082\u001b[0m                     \u001b[0;32mcontinue\u001b[0m\u001b[0;34m\u001b[0m\u001b[0;34m\u001b[0m\u001b[0m\n\u001b[0;32m-> 1083\u001b[0;31m                 \u001b[0marg\u001b[0m \u001b[0;34m=\u001b[0m \u001b[0marg\u001b[0m\u001b[0;34m.\u001b[0m\u001b[0m_subs\u001b[0m\u001b[0;34m(\u001b[0m\u001b[0mold\u001b[0m\u001b[0;34m,\u001b[0m \u001b[0mnew\u001b[0m\u001b[0;34m,\u001b[0m \u001b[0;34m**\u001b[0m\u001b[0mhints\u001b[0m\u001b[0;34m)\u001b[0m\u001b[0;34m\u001b[0m\u001b[0;34m\u001b[0m\u001b[0m\n\u001b[0m\u001b[1;32m   1084\u001b[0m                 \u001b[0;32mif\u001b[0m \u001b[0;32mnot\u001b[0m \u001b[0m_aresame\u001b[0m\u001b[0;34m(\u001b[0m\u001b[0marg\u001b[0m\u001b[0;34m,\u001b[0m \u001b[0margs\u001b[0m\u001b[0;34m[\u001b[0m\u001b[0mi\u001b[0m\u001b[0;34m]\u001b[0m\u001b[0;34m)\u001b[0m\u001b[0;34m:\u001b[0m\u001b[0;34m\u001b[0m\u001b[0;34m\u001b[0m\u001b[0m\n\u001b[1;32m   1085\u001b[0m                     \u001b[0mhit\u001b[0m \u001b[0;34m=\u001b[0m \u001b[0;32mTrue\u001b[0m\u001b[0;34m\u001b[0m\u001b[0;34m\u001b[0m\u001b[0m\n",
      "\u001b[0;32m~/.conda/envs/qibocal-env/lib/python3.9/site-packages/sympy/core/cache.py\u001b[0m in \u001b[0;36mwrapper\u001b[0;34m(*args, **kwargs)\u001b[0m\n\u001b[1;32m     68\u001b[0m         \u001b[0;32mdef\u001b[0m \u001b[0mwrapper\u001b[0m\u001b[0;34m(\u001b[0m\u001b[0;34m*\u001b[0m\u001b[0margs\u001b[0m\u001b[0;34m,\u001b[0m \u001b[0;34m**\u001b[0m\u001b[0mkwargs\u001b[0m\u001b[0;34m)\u001b[0m\u001b[0;34m:\u001b[0m\u001b[0;34m\u001b[0m\u001b[0;34m\u001b[0m\u001b[0m\n\u001b[1;32m     69\u001b[0m             \u001b[0;32mtry\u001b[0m\u001b[0;34m:\u001b[0m\u001b[0;34m\u001b[0m\u001b[0;34m\u001b[0m\u001b[0m\n\u001b[0;32m---> 70\u001b[0;31m                 \u001b[0mretval\u001b[0m \u001b[0;34m=\u001b[0m \u001b[0mcfunc\u001b[0m\u001b[0;34m(\u001b[0m\u001b[0;34m*\u001b[0m\u001b[0margs\u001b[0m\u001b[0;34m,\u001b[0m \u001b[0;34m**\u001b[0m\u001b[0mkwargs\u001b[0m\u001b[0;34m)\u001b[0m\u001b[0;34m\u001b[0m\u001b[0;34m\u001b[0m\u001b[0m\n\u001b[0m\u001b[1;32m     71\u001b[0m             \u001b[0;32mexcept\u001b[0m \u001b[0mTypeError\u001b[0m \u001b[0;32mas\u001b[0m \u001b[0me\u001b[0m\u001b[0;34m:\u001b[0m\u001b[0;34m\u001b[0m\u001b[0;34m\u001b[0m\u001b[0m\n\u001b[1;32m     72\u001b[0m                 \u001b[0;32mif\u001b[0m \u001b[0;32mnot\u001b[0m \u001b[0me\u001b[0m\u001b[0;34m.\u001b[0m\u001b[0margs\u001b[0m \u001b[0;32mor\u001b[0m \u001b[0;32mnot\u001b[0m \u001b[0me\u001b[0m\u001b[0;34m.\u001b[0m\u001b[0margs\u001b[0m\u001b[0;34m[\u001b[0m\u001b[0;36m0\u001b[0m\u001b[0;34m]\u001b[0m\u001b[0;34m.\u001b[0m\u001b[0mstartswith\u001b[0m\u001b[0;34m(\u001b[0m\u001b[0;34m'unhashable type:'\u001b[0m\u001b[0;34m)\u001b[0m\u001b[0;34m:\u001b[0m\u001b[0;34m\u001b[0m\u001b[0;34m\u001b[0m\u001b[0m\n",
      "\u001b[0;32m~/.conda/envs/qibocal-env/lib/python3.9/site-packages/sympy/core/basic.py\u001b[0m in \u001b[0;36m_subs\u001b[0;34m(self, old, new, **hints)\u001b[0m\n\u001b[1;32m   1109\u001b[0m         \u001b[0mrv\u001b[0m \u001b[0;34m=\u001b[0m \u001b[0mself\u001b[0m\u001b[0;34m.\u001b[0m\u001b[0m_eval_subs\u001b[0m\u001b[0;34m(\u001b[0m\u001b[0mold\u001b[0m\u001b[0;34m,\u001b[0m \u001b[0mnew\u001b[0m\u001b[0;34m)\u001b[0m\u001b[0;34m\u001b[0m\u001b[0;34m\u001b[0m\u001b[0m\n\u001b[1;32m   1110\u001b[0m         \u001b[0;32mif\u001b[0m \u001b[0mrv\u001b[0m \u001b[0;32mis\u001b[0m \u001b[0;32mNone\u001b[0m\u001b[0;34m:\u001b[0m\u001b[0;34m\u001b[0m\u001b[0;34m\u001b[0m\u001b[0m\n\u001b[0;32m-> 1111\u001b[0;31m             \u001b[0mrv\u001b[0m \u001b[0;34m=\u001b[0m \u001b[0mfallback\u001b[0m\u001b[0;34m(\u001b[0m\u001b[0mself\u001b[0m\u001b[0;34m,\u001b[0m \u001b[0mold\u001b[0m\u001b[0;34m,\u001b[0m \u001b[0mnew\u001b[0m\u001b[0;34m)\u001b[0m\u001b[0;34m\u001b[0m\u001b[0;34m\u001b[0m\u001b[0m\n\u001b[0m\u001b[1;32m   1112\u001b[0m         \u001b[0;32mreturn\u001b[0m \u001b[0mrv\u001b[0m\u001b[0;34m\u001b[0m\u001b[0;34m\u001b[0m\u001b[0m\n\u001b[1;32m   1113\u001b[0m \u001b[0;34m\u001b[0m\u001b[0m\n",
      "\u001b[0;32m~/.conda/envs/qibocal-env/lib/python3.9/site-packages/sympy/core/basic.py\u001b[0m in \u001b[0;36mfallback\u001b[0;34m(self, old, new)\u001b[0m\n\u001b[1;32m   1081\u001b[0m                 \u001b[0;32mif\u001b[0m \u001b[0;32mnot\u001b[0m \u001b[0mhasattr\u001b[0m\u001b[0;34m(\u001b[0m\u001b[0marg\u001b[0m\u001b[0;34m,\u001b[0m \u001b[0;34m'_eval_subs'\u001b[0m\u001b[0;34m)\u001b[0m\u001b[0;34m:\u001b[0m\u001b[0;34m\u001b[0m\u001b[0;34m\u001b[0m\u001b[0m\n\u001b[1;32m   1082\u001b[0m                     \u001b[0;32mcontinue\u001b[0m\u001b[0;34m\u001b[0m\u001b[0;34m\u001b[0m\u001b[0m\n\u001b[0;32m-> 1083\u001b[0;31m                 \u001b[0marg\u001b[0m \u001b[0;34m=\u001b[0m \u001b[0marg\u001b[0m\u001b[0;34m.\u001b[0m\u001b[0m_subs\u001b[0m\u001b[0;34m(\u001b[0m\u001b[0mold\u001b[0m\u001b[0;34m,\u001b[0m \u001b[0mnew\u001b[0m\u001b[0;34m,\u001b[0m \u001b[0;34m**\u001b[0m\u001b[0mhints\u001b[0m\u001b[0;34m)\u001b[0m\u001b[0;34m\u001b[0m\u001b[0;34m\u001b[0m\u001b[0m\n\u001b[0m\u001b[1;32m   1084\u001b[0m                 \u001b[0;32mif\u001b[0m \u001b[0;32mnot\u001b[0m \u001b[0m_aresame\u001b[0m\u001b[0;34m(\u001b[0m\u001b[0marg\u001b[0m\u001b[0;34m,\u001b[0m \u001b[0margs\u001b[0m\u001b[0;34m[\u001b[0m\u001b[0mi\u001b[0m\u001b[0;34m]\u001b[0m\u001b[0;34m)\u001b[0m\u001b[0;34m:\u001b[0m\u001b[0;34m\u001b[0m\u001b[0;34m\u001b[0m\u001b[0m\n\u001b[1;32m   1085\u001b[0m                     \u001b[0mhit\u001b[0m \u001b[0;34m=\u001b[0m \u001b[0;32mTrue\u001b[0m\u001b[0;34m\u001b[0m\u001b[0;34m\u001b[0m\u001b[0m\n",
      "\u001b[0;32m~/.conda/envs/qibocal-env/lib/python3.9/site-packages/sympy/core/cache.py\u001b[0m in \u001b[0;36mwrapper\u001b[0;34m(*args, **kwargs)\u001b[0m\n\u001b[1;32m     68\u001b[0m         \u001b[0;32mdef\u001b[0m \u001b[0mwrapper\u001b[0m\u001b[0;34m(\u001b[0m\u001b[0;34m*\u001b[0m\u001b[0margs\u001b[0m\u001b[0;34m,\u001b[0m \u001b[0;34m**\u001b[0m\u001b[0mkwargs\u001b[0m\u001b[0;34m)\u001b[0m\u001b[0;34m:\u001b[0m\u001b[0;34m\u001b[0m\u001b[0;34m\u001b[0m\u001b[0m\n\u001b[1;32m     69\u001b[0m             \u001b[0;32mtry\u001b[0m\u001b[0;34m:\u001b[0m\u001b[0;34m\u001b[0m\u001b[0;34m\u001b[0m\u001b[0m\n\u001b[0;32m---> 70\u001b[0;31m                 \u001b[0mretval\u001b[0m \u001b[0;34m=\u001b[0m \u001b[0mcfunc\u001b[0m\u001b[0;34m(\u001b[0m\u001b[0;34m*\u001b[0m\u001b[0margs\u001b[0m\u001b[0;34m,\u001b[0m \u001b[0;34m**\u001b[0m\u001b[0mkwargs\u001b[0m\u001b[0;34m)\u001b[0m\u001b[0;34m\u001b[0m\u001b[0;34m\u001b[0m\u001b[0m\n\u001b[0m\u001b[1;32m     71\u001b[0m             \u001b[0;32mexcept\u001b[0m \u001b[0mTypeError\u001b[0m \u001b[0;32mas\u001b[0m \u001b[0me\u001b[0m\u001b[0;34m:\u001b[0m\u001b[0;34m\u001b[0m\u001b[0;34m\u001b[0m\u001b[0m\n\u001b[1;32m     72\u001b[0m                 \u001b[0;32mif\u001b[0m \u001b[0;32mnot\u001b[0m \u001b[0me\u001b[0m\u001b[0;34m.\u001b[0m\u001b[0margs\u001b[0m \u001b[0;32mor\u001b[0m \u001b[0;32mnot\u001b[0m \u001b[0me\u001b[0m\u001b[0;34m.\u001b[0m\u001b[0margs\u001b[0m\u001b[0;34m[\u001b[0m\u001b[0;36m0\u001b[0m\u001b[0;34m]\u001b[0m\u001b[0;34m.\u001b[0m\u001b[0mstartswith\u001b[0m\u001b[0;34m(\u001b[0m\u001b[0;34m'unhashable type:'\u001b[0m\u001b[0;34m)\u001b[0m\u001b[0;34m:\u001b[0m\u001b[0;34m\u001b[0m\u001b[0;34m\u001b[0m\u001b[0m\n",
      "\u001b[0;32m~/.conda/envs/qibocal-env/lib/python3.9/site-packages/sympy/core/basic.py\u001b[0m in \u001b[0;36m_subs\u001b[0;34m(self, old, new, **hints)\u001b[0m\n\u001b[1;32m   1109\u001b[0m         \u001b[0mrv\u001b[0m \u001b[0;34m=\u001b[0m \u001b[0mself\u001b[0m\u001b[0;34m.\u001b[0m\u001b[0m_eval_subs\u001b[0m\u001b[0;34m(\u001b[0m\u001b[0mold\u001b[0m\u001b[0;34m,\u001b[0m \u001b[0mnew\u001b[0m\u001b[0;34m)\u001b[0m\u001b[0;34m\u001b[0m\u001b[0;34m\u001b[0m\u001b[0m\n\u001b[1;32m   1110\u001b[0m         \u001b[0;32mif\u001b[0m \u001b[0mrv\u001b[0m \u001b[0;32mis\u001b[0m \u001b[0;32mNone\u001b[0m\u001b[0;34m:\u001b[0m\u001b[0;34m\u001b[0m\u001b[0;34m\u001b[0m\u001b[0m\n\u001b[0;32m-> 1111\u001b[0;31m             \u001b[0mrv\u001b[0m \u001b[0;34m=\u001b[0m \u001b[0mfallback\u001b[0m\u001b[0;34m(\u001b[0m\u001b[0mself\u001b[0m\u001b[0;34m,\u001b[0m \u001b[0mold\u001b[0m\u001b[0;34m,\u001b[0m \u001b[0mnew\u001b[0m\u001b[0;34m)\u001b[0m\u001b[0;34m\u001b[0m\u001b[0;34m\u001b[0m\u001b[0m\n\u001b[0m\u001b[1;32m   1112\u001b[0m         \u001b[0;32mreturn\u001b[0m \u001b[0mrv\u001b[0m\u001b[0;34m\u001b[0m\u001b[0;34m\u001b[0m\u001b[0m\n\u001b[1;32m   1113\u001b[0m \u001b[0;34m\u001b[0m\u001b[0m\n",
      "\u001b[0;32m~/.conda/envs/qibocal-env/lib/python3.9/site-packages/sympy/core/basic.py\u001b[0m in \u001b[0;36mfallback\u001b[0;34m(self, old, new)\u001b[0m\n\u001b[1;32m   1081\u001b[0m                 \u001b[0;32mif\u001b[0m \u001b[0;32mnot\u001b[0m \u001b[0mhasattr\u001b[0m\u001b[0;34m(\u001b[0m\u001b[0marg\u001b[0m\u001b[0;34m,\u001b[0m \u001b[0;34m'_eval_subs'\u001b[0m\u001b[0;34m)\u001b[0m\u001b[0;34m:\u001b[0m\u001b[0;34m\u001b[0m\u001b[0;34m\u001b[0m\u001b[0m\n\u001b[1;32m   1082\u001b[0m                     \u001b[0;32mcontinue\u001b[0m\u001b[0;34m\u001b[0m\u001b[0;34m\u001b[0m\u001b[0m\n\u001b[0;32m-> 1083\u001b[0;31m                 \u001b[0marg\u001b[0m \u001b[0;34m=\u001b[0m \u001b[0marg\u001b[0m\u001b[0;34m.\u001b[0m\u001b[0m_subs\u001b[0m\u001b[0;34m(\u001b[0m\u001b[0mold\u001b[0m\u001b[0;34m,\u001b[0m \u001b[0mnew\u001b[0m\u001b[0;34m,\u001b[0m \u001b[0;34m**\u001b[0m\u001b[0mhints\u001b[0m\u001b[0;34m)\u001b[0m\u001b[0;34m\u001b[0m\u001b[0;34m\u001b[0m\u001b[0m\n\u001b[0m\u001b[1;32m   1084\u001b[0m                 \u001b[0;32mif\u001b[0m \u001b[0;32mnot\u001b[0m \u001b[0m_aresame\u001b[0m\u001b[0;34m(\u001b[0m\u001b[0marg\u001b[0m\u001b[0;34m,\u001b[0m \u001b[0margs\u001b[0m\u001b[0;34m[\u001b[0m\u001b[0mi\u001b[0m\u001b[0;34m]\u001b[0m\u001b[0;34m)\u001b[0m\u001b[0;34m:\u001b[0m\u001b[0;34m\u001b[0m\u001b[0;34m\u001b[0m\u001b[0m\n\u001b[1;32m   1085\u001b[0m                     \u001b[0mhit\u001b[0m \u001b[0;34m=\u001b[0m \u001b[0;32mTrue\u001b[0m\u001b[0;34m\u001b[0m\u001b[0;34m\u001b[0m\u001b[0m\n",
      "\u001b[0;32m~/.conda/envs/qibocal-env/lib/python3.9/site-packages/sympy/core/cache.py\u001b[0m in \u001b[0;36mwrapper\u001b[0;34m(*args, **kwargs)\u001b[0m\n\u001b[1;32m     68\u001b[0m         \u001b[0;32mdef\u001b[0m \u001b[0mwrapper\u001b[0m\u001b[0;34m(\u001b[0m\u001b[0;34m*\u001b[0m\u001b[0margs\u001b[0m\u001b[0;34m,\u001b[0m \u001b[0;34m**\u001b[0m\u001b[0mkwargs\u001b[0m\u001b[0;34m)\u001b[0m\u001b[0;34m:\u001b[0m\u001b[0;34m\u001b[0m\u001b[0;34m\u001b[0m\u001b[0m\n\u001b[1;32m     69\u001b[0m             \u001b[0;32mtry\u001b[0m\u001b[0;34m:\u001b[0m\u001b[0;34m\u001b[0m\u001b[0;34m\u001b[0m\u001b[0m\n\u001b[0;32m---> 70\u001b[0;31m                 \u001b[0mretval\u001b[0m \u001b[0;34m=\u001b[0m \u001b[0mcfunc\u001b[0m\u001b[0;34m(\u001b[0m\u001b[0;34m*\u001b[0m\u001b[0margs\u001b[0m\u001b[0;34m,\u001b[0m \u001b[0;34m**\u001b[0m\u001b[0mkwargs\u001b[0m\u001b[0;34m)\u001b[0m\u001b[0;34m\u001b[0m\u001b[0;34m\u001b[0m\u001b[0m\n\u001b[0m\u001b[1;32m     71\u001b[0m             \u001b[0;32mexcept\u001b[0m \u001b[0mTypeError\u001b[0m \u001b[0;32mas\u001b[0m \u001b[0me\u001b[0m\u001b[0;34m:\u001b[0m\u001b[0;34m\u001b[0m\u001b[0;34m\u001b[0m\u001b[0m\n\u001b[1;32m     72\u001b[0m                 \u001b[0;32mif\u001b[0m \u001b[0;32mnot\u001b[0m \u001b[0me\u001b[0m\u001b[0;34m.\u001b[0m\u001b[0margs\u001b[0m \u001b[0;32mor\u001b[0m \u001b[0;32mnot\u001b[0m \u001b[0me\u001b[0m\u001b[0;34m.\u001b[0m\u001b[0margs\u001b[0m\u001b[0;34m[\u001b[0m\u001b[0;36m0\u001b[0m\u001b[0;34m]\u001b[0m\u001b[0;34m.\u001b[0m\u001b[0mstartswith\u001b[0m\u001b[0;34m(\u001b[0m\u001b[0;34m'unhashable type:'\u001b[0m\u001b[0;34m)\u001b[0m\u001b[0;34m:\u001b[0m\u001b[0;34m\u001b[0m\u001b[0;34m\u001b[0m\u001b[0m\n",
      "\u001b[0;32m~/.conda/envs/qibocal-env/lib/python3.9/site-packages/sympy/core/basic.py\u001b[0m in \u001b[0;36m_subs\u001b[0;34m(self, old, new, **hints)\u001b[0m\n\u001b[1;32m   1109\u001b[0m         \u001b[0mrv\u001b[0m \u001b[0;34m=\u001b[0m \u001b[0mself\u001b[0m\u001b[0;34m.\u001b[0m\u001b[0m_eval_subs\u001b[0m\u001b[0;34m(\u001b[0m\u001b[0mold\u001b[0m\u001b[0;34m,\u001b[0m \u001b[0mnew\u001b[0m\u001b[0;34m)\u001b[0m\u001b[0;34m\u001b[0m\u001b[0;34m\u001b[0m\u001b[0m\n\u001b[1;32m   1110\u001b[0m         \u001b[0;32mif\u001b[0m \u001b[0mrv\u001b[0m \u001b[0;32mis\u001b[0m \u001b[0;32mNone\u001b[0m\u001b[0;34m:\u001b[0m\u001b[0;34m\u001b[0m\u001b[0;34m\u001b[0m\u001b[0m\n\u001b[0;32m-> 1111\u001b[0;31m             \u001b[0mrv\u001b[0m \u001b[0;34m=\u001b[0m \u001b[0mfallback\u001b[0m\u001b[0;34m(\u001b[0m\u001b[0mself\u001b[0m\u001b[0;34m,\u001b[0m \u001b[0mold\u001b[0m\u001b[0;34m,\u001b[0m \u001b[0mnew\u001b[0m\u001b[0;34m)\u001b[0m\u001b[0;34m\u001b[0m\u001b[0;34m\u001b[0m\u001b[0m\n\u001b[0m\u001b[1;32m   1112\u001b[0m         \u001b[0;32mreturn\u001b[0m \u001b[0mrv\u001b[0m\u001b[0;34m\u001b[0m\u001b[0;34m\u001b[0m\u001b[0m\n\u001b[1;32m   1113\u001b[0m \u001b[0;34m\u001b[0m\u001b[0m\n",
      "\u001b[0;32m~/.conda/envs/qibocal-env/lib/python3.9/site-packages/sympy/core/basic.py\u001b[0m in \u001b[0;36mfallback\u001b[0;34m(self, old, new)\u001b[0m\n\u001b[1;32m   1081\u001b[0m                 \u001b[0;32mif\u001b[0m \u001b[0;32mnot\u001b[0m \u001b[0mhasattr\u001b[0m\u001b[0;34m(\u001b[0m\u001b[0marg\u001b[0m\u001b[0;34m,\u001b[0m \u001b[0;34m'_eval_subs'\u001b[0m\u001b[0;34m)\u001b[0m\u001b[0;34m:\u001b[0m\u001b[0;34m\u001b[0m\u001b[0;34m\u001b[0m\u001b[0m\n\u001b[1;32m   1082\u001b[0m                     \u001b[0;32mcontinue\u001b[0m\u001b[0;34m\u001b[0m\u001b[0;34m\u001b[0m\u001b[0m\n\u001b[0;32m-> 1083\u001b[0;31m                 \u001b[0marg\u001b[0m \u001b[0;34m=\u001b[0m \u001b[0marg\u001b[0m\u001b[0;34m.\u001b[0m\u001b[0m_subs\u001b[0m\u001b[0;34m(\u001b[0m\u001b[0mold\u001b[0m\u001b[0;34m,\u001b[0m \u001b[0mnew\u001b[0m\u001b[0;34m,\u001b[0m \u001b[0;34m**\u001b[0m\u001b[0mhints\u001b[0m\u001b[0;34m)\u001b[0m\u001b[0;34m\u001b[0m\u001b[0;34m\u001b[0m\u001b[0m\n\u001b[0m\u001b[1;32m   1084\u001b[0m                 \u001b[0;32mif\u001b[0m \u001b[0;32mnot\u001b[0m \u001b[0m_aresame\u001b[0m\u001b[0;34m(\u001b[0m\u001b[0marg\u001b[0m\u001b[0;34m,\u001b[0m \u001b[0margs\u001b[0m\u001b[0;34m[\u001b[0m\u001b[0mi\u001b[0m\u001b[0;34m]\u001b[0m\u001b[0;34m)\u001b[0m\u001b[0;34m:\u001b[0m\u001b[0;34m\u001b[0m\u001b[0;34m\u001b[0m\u001b[0m\n\u001b[1;32m   1085\u001b[0m                     \u001b[0mhit\u001b[0m \u001b[0;34m=\u001b[0m \u001b[0;32mTrue\u001b[0m\u001b[0;34m\u001b[0m\u001b[0;34m\u001b[0m\u001b[0m\n",
      "\u001b[0;32m~/.conda/envs/qibocal-env/lib/python3.9/site-packages/sympy/core/cache.py\u001b[0m in \u001b[0;36mwrapper\u001b[0;34m(*args, **kwargs)\u001b[0m\n\u001b[1;32m     68\u001b[0m         \u001b[0;32mdef\u001b[0m \u001b[0mwrapper\u001b[0m\u001b[0;34m(\u001b[0m\u001b[0;34m*\u001b[0m\u001b[0margs\u001b[0m\u001b[0;34m,\u001b[0m \u001b[0;34m**\u001b[0m\u001b[0mkwargs\u001b[0m\u001b[0;34m)\u001b[0m\u001b[0;34m:\u001b[0m\u001b[0;34m\u001b[0m\u001b[0;34m\u001b[0m\u001b[0m\n\u001b[1;32m     69\u001b[0m             \u001b[0;32mtry\u001b[0m\u001b[0;34m:\u001b[0m\u001b[0;34m\u001b[0m\u001b[0;34m\u001b[0m\u001b[0m\n\u001b[0;32m---> 70\u001b[0;31m                 \u001b[0mretval\u001b[0m \u001b[0;34m=\u001b[0m \u001b[0mcfunc\u001b[0m\u001b[0;34m(\u001b[0m\u001b[0;34m*\u001b[0m\u001b[0margs\u001b[0m\u001b[0;34m,\u001b[0m \u001b[0;34m**\u001b[0m\u001b[0mkwargs\u001b[0m\u001b[0;34m)\u001b[0m\u001b[0;34m\u001b[0m\u001b[0;34m\u001b[0m\u001b[0m\n\u001b[0m\u001b[1;32m     71\u001b[0m             \u001b[0;32mexcept\u001b[0m \u001b[0mTypeError\u001b[0m \u001b[0;32mas\u001b[0m \u001b[0me\u001b[0m\u001b[0;34m:\u001b[0m\u001b[0;34m\u001b[0m\u001b[0;34m\u001b[0m\u001b[0m\n\u001b[1;32m     72\u001b[0m                 \u001b[0;32mif\u001b[0m \u001b[0;32mnot\u001b[0m \u001b[0me\u001b[0m\u001b[0;34m.\u001b[0m\u001b[0margs\u001b[0m \u001b[0;32mor\u001b[0m \u001b[0;32mnot\u001b[0m \u001b[0me\u001b[0m\u001b[0;34m.\u001b[0m\u001b[0margs\u001b[0m\u001b[0;34m[\u001b[0m\u001b[0;36m0\u001b[0m\u001b[0;34m]\u001b[0m\u001b[0;34m.\u001b[0m\u001b[0mstartswith\u001b[0m\u001b[0;34m(\u001b[0m\u001b[0;34m'unhashable type:'\u001b[0m\u001b[0;34m)\u001b[0m\u001b[0;34m:\u001b[0m\u001b[0;34m\u001b[0m\u001b[0;34m\u001b[0m\u001b[0m\n",
      "\u001b[0;32m~/.conda/envs/qibocal-env/lib/python3.9/site-packages/sympy/core/basic.py\u001b[0m in \u001b[0;36m_subs\u001b[0;34m(self, old, new, **hints)\u001b[0m\n\u001b[1;32m   1109\u001b[0m         \u001b[0mrv\u001b[0m \u001b[0;34m=\u001b[0m \u001b[0mself\u001b[0m\u001b[0;34m.\u001b[0m\u001b[0m_eval_subs\u001b[0m\u001b[0;34m(\u001b[0m\u001b[0mold\u001b[0m\u001b[0;34m,\u001b[0m \u001b[0mnew\u001b[0m\u001b[0;34m)\u001b[0m\u001b[0;34m\u001b[0m\u001b[0;34m\u001b[0m\u001b[0m\n\u001b[1;32m   1110\u001b[0m         \u001b[0;32mif\u001b[0m \u001b[0mrv\u001b[0m \u001b[0;32mis\u001b[0m \u001b[0;32mNone\u001b[0m\u001b[0;34m:\u001b[0m\u001b[0;34m\u001b[0m\u001b[0;34m\u001b[0m\u001b[0m\n\u001b[0;32m-> 1111\u001b[0;31m             \u001b[0mrv\u001b[0m \u001b[0;34m=\u001b[0m \u001b[0mfallback\u001b[0m\u001b[0;34m(\u001b[0m\u001b[0mself\u001b[0m\u001b[0;34m,\u001b[0m \u001b[0mold\u001b[0m\u001b[0;34m,\u001b[0m \u001b[0mnew\u001b[0m\u001b[0;34m)\u001b[0m\u001b[0;34m\u001b[0m\u001b[0;34m\u001b[0m\u001b[0m\n\u001b[0m\u001b[1;32m   1112\u001b[0m         \u001b[0;32mreturn\u001b[0m \u001b[0mrv\u001b[0m\u001b[0;34m\u001b[0m\u001b[0;34m\u001b[0m\u001b[0m\n\u001b[1;32m   1113\u001b[0m \u001b[0;34m\u001b[0m\u001b[0m\n",
      "\u001b[0;32m~/.conda/envs/qibocal-env/lib/python3.9/site-packages/sympy/core/basic.py\u001b[0m in \u001b[0;36mfallback\u001b[0;34m(self, old, new)\u001b[0m\n\u001b[1;32m   1086\u001b[0m                     \u001b[0margs\u001b[0m\u001b[0;34m[\u001b[0m\u001b[0mi\u001b[0m\u001b[0;34m]\u001b[0m \u001b[0;34m=\u001b[0m \u001b[0marg\u001b[0m\u001b[0;34m\u001b[0m\u001b[0;34m\u001b[0m\u001b[0m\n\u001b[1;32m   1087\u001b[0m             \u001b[0;32mif\u001b[0m \u001b[0mhit\u001b[0m\u001b[0;34m:\u001b[0m\u001b[0;34m\u001b[0m\u001b[0;34m\u001b[0m\u001b[0m\n\u001b[0;32m-> 1088\u001b[0;31m                 \u001b[0mrv\u001b[0m \u001b[0;34m=\u001b[0m \u001b[0mself\u001b[0m\u001b[0;34m.\u001b[0m\u001b[0mfunc\u001b[0m\u001b[0;34m(\u001b[0m\u001b[0;34m*\u001b[0m\u001b[0margs\u001b[0m\u001b[0;34m)\u001b[0m\u001b[0;34m\u001b[0m\u001b[0;34m\u001b[0m\u001b[0m\n\u001b[0m\u001b[1;32m   1089\u001b[0m                 \u001b[0mhack2\u001b[0m \u001b[0;34m=\u001b[0m \u001b[0mhints\u001b[0m\u001b[0;34m.\u001b[0m\u001b[0mget\u001b[0m\u001b[0;34m(\u001b[0m\u001b[0;34m'hack2'\u001b[0m\u001b[0;34m,\u001b[0m \u001b[0;32mFalse\u001b[0m\u001b[0;34m)\u001b[0m\u001b[0;34m\u001b[0m\u001b[0;34m\u001b[0m\u001b[0m\n\u001b[1;32m   1090\u001b[0m                 \u001b[0;32mif\u001b[0m \u001b[0mhack2\u001b[0m \u001b[0;32mand\u001b[0m \u001b[0mself\u001b[0m\u001b[0;34m.\u001b[0m\u001b[0mis_Mul\u001b[0m \u001b[0;32mand\u001b[0m \u001b[0;32mnot\u001b[0m \u001b[0mrv\u001b[0m\u001b[0;34m.\u001b[0m\u001b[0mis_Mul\u001b[0m\u001b[0;34m:\u001b[0m  \u001b[0;31m# 2-arg hack\u001b[0m\u001b[0;34m\u001b[0m\u001b[0;34m\u001b[0m\u001b[0m\n",
      "\u001b[0;32m~/.conda/envs/qibocal-env/lib/python3.9/site-packages/sympy/core/cache.py\u001b[0m in \u001b[0;36mwrapper\u001b[0;34m(*args, **kwargs)\u001b[0m\n\u001b[1;32m     68\u001b[0m         \u001b[0;32mdef\u001b[0m \u001b[0mwrapper\u001b[0m\u001b[0;34m(\u001b[0m\u001b[0;34m*\u001b[0m\u001b[0margs\u001b[0m\u001b[0;34m,\u001b[0m \u001b[0;34m**\u001b[0m\u001b[0mkwargs\u001b[0m\u001b[0;34m)\u001b[0m\u001b[0;34m:\u001b[0m\u001b[0;34m\u001b[0m\u001b[0;34m\u001b[0m\u001b[0m\n\u001b[1;32m     69\u001b[0m             \u001b[0;32mtry\u001b[0m\u001b[0;34m:\u001b[0m\u001b[0;34m\u001b[0m\u001b[0;34m\u001b[0m\u001b[0m\n\u001b[0;32m---> 70\u001b[0;31m                 \u001b[0mretval\u001b[0m \u001b[0;34m=\u001b[0m \u001b[0mcfunc\u001b[0m\u001b[0;34m(\u001b[0m\u001b[0;34m*\u001b[0m\u001b[0margs\u001b[0m\u001b[0;34m,\u001b[0m \u001b[0;34m**\u001b[0m\u001b[0mkwargs\u001b[0m\u001b[0;34m)\u001b[0m\u001b[0;34m\u001b[0m\u001b[0;34m\u001b[0m\u001b[0m\n\u001b[0m\u001b[1;32m     71\u001b[0m             \u001b[0;32mexcept\u001b[0m \u001b[0mTypeError\u001b[0m \u001b[0;32mas\u001b[0m \u001b[0me\u001b[0m\u001b[0;34m:\u001b[0m\u001b[0;34m\u001b[0m\u001b[0;34m\u001b[0m\u001b[0m\n\u001b[1;32m     72\u001b[0m                 \u001b[0;32mif\u001b[0m \u001b[0;32mnot\u001b[0m \u001b[0me\u001b[0m\u001b[0;34m.\u001b[0m\u001b[0margs\u001b[0m \u001b[0;32mor\u001b[0m \u001b[0;32mnot\u001b[0m \u001b[0me\u001b[0m\u001b[0;34m.\u001b[0m\u001b[0margs\u001b[0m\u001b[0;34m[\u001b[0m\u001b[0;36m0\u001b[0m\u001b[0;34m]\u001b[0m\u001b[0;34m.\u001b[0m\u001b[0mstartswith\u001b[0m\u001b[0;34m(\u001b[0m\u001b[0;34m'unhashable type:'\u001b[0m\u001b[0;34m)\u001b[0m\u001b[0;34m:\u001b[0m\u001b[0;34m\u001b[0m\u001b[0;34m\u001b[0m\u001b[0m\n",
      "\u001b[0;32m~/.conda/envs/qibocal-env/lib/python3.9/site-packages/sympy/core/power.py\u001b[0m in \u001b[0;36m__new__\u001b[0;34m(cls, b, e, evaluate)\u001b[0m\n\u001b[1;32m    369\u001b[0m                             \u001b[0;32mreturn\u001b[0m \u001b[0mS\u001b[0m\u001b[0;34m.\u001b[0m\u001b[0mExp1\u001b[0m\u001b[0;34m**\u001b[0m\u001b[0;34m(\u001b[0m\u001b[0mc\u001b[0m\u001b[0;34m*\u001b[0m\u001b[0mnum\u001b[0m\u001b[0;34m)\u001b[0m\u001b[0;34m\u001b[0m\u001b[0;34m\u001b[0m\u001b[0m\n\u001b[1;32m    370\u001b[0m \u001b[0;34m\u001b[0m\u001b[0m\n\u001b[0;32m--> 371\u001b[0;31m                 \u001b[0mobj\u001b[0m \u001b[0;34m=\u001b[0m \u001b[0mb\u001b[0m\u001b[0;34m.\u001b[0m\u001b[0m_eval_power\u001b[0m\u001b[0;34m(\u001b[0m\u001b[0me\u001b[0m\u001b[0;34m)\u001b[0m\u001b[0;34m\u001b[0m\u001b[0;34m\u001b[0m\u001b[0m\n\u001b[0m\u001b[1;32m    372\u001b[0m                 \u001b[0;32mif\u001b[0m \u001b[0mobj\u001b[0m \u001b[0;32mis\u001b[0m \u001b[0;32mnot\u001b[0m \u001b[0;32mNone\u001b[0m\u001b[0;34m:\u001b[0m\u001b[0;34m\u001b[0m\u001b[0;34m\u001b[0m\u001b[0m\n\u001b[1;32m    373\u001b[0m                     \u001b[0;32mreturn\u001b[0m \u001b[0mobj\u001b[0m\u001b[0;34m\u001b[0m\u001b[0;34m\u001b[0m\u001b[0m\n",
      "\u001b[0;32m~/.conda/envs/qibocal-env/lib/python3.9/site-packages/sympy/core/mul.py\u001b[0m in \u001b[0;36m_eval_power\u001b[0;34m(self, e)\u001b[0m\n\u001b[1;32m    722\u001b[0m \u001b[0;34m\u001b[0m\u001b[0m\n\u001b[1;32m    723\u001b[0m         \u001b[0;32mif\u001b[0m \u001b[0me\u001b[0m\u001b[0;34m.\u001b[0m\u001b[0mis_Integer\u001b[0m\u001b[0;34m:\u001b[0m\u001b[0;34m\u001b[0m\u001b[0;34m\u001b[0m\u001b[0m\n\u001b[0;32m--> 724\u001b[0;31m             \u001b[0;32mreturn\u001b[0m \u001b[0mMul\u001b[0m\u001b[0;34m(\u001b[0m\u001b[0;34m*\u001b[0m\u001b[0;34m[\u001b[0m\u001b[0mPow\u001b[0m\u001b[0;34m(\u001b[0m\u001b[0mb\u001b[0m\u001b[0;34m,\u001b[0m \u001b[0me\u001b[0m\u001b[0;34m,\u001b[0m \u001b[0mevaluate\u001b[0m\u001b[0;34m=\u001b[0m\u001b[0;32mFalse\u001b[0m\u001b[0;34m)\u001b[0m \u001b[0;32mfor\u001b[0m \u001b[0mb\u001b[0m \u001b[0;32min\u001b[0m \u001b[0mcargs\u001b[0m\u001b[0;34m]\u001b[0m\u001b[0;34m)\u001b[0m \u001b[0;34m*\u001b[0m\u001b[0;31m \u001b[0m\u001b[0;31m\\\u001b[0m\u001b[0;34m\u001b[0m\u001b[0;34m\u001b[0m\u001b[0m\n\u001b[0m\u001b[1;32m    725\u001b[0m                 \u001b[0mPow\u001b[0m\u001b[0;34m(\u001b[0m\u001b[0mMul\u001b[0m\u001b[0;34m.\u001b[0m\u001b[0m_from_args\u001b[0m\u001b[0;34m(\u001b[0m\u001b[0mnc\u001b[0m\u001b[0;34m)\u001b[0m\u001b[0;34m,\u001b[0m \u001b[0me\u001b[0m\u001b[0;34m,\u001b[0m \u001b[0mevaluate\u001b[0m\u001b[0;34m=\u001b[0m\u001b[0;32mFalse\u001b[0m\u001b[0;34m)\u001b[0m\u001b[0;34m\u001b[0m\u001b[0;34m\u001b[0m\u001b[0m\n\u001b[1;32m    726\u001b[0m         \u001b[0;32mif\u001b[0m \u001b[0me\u001b[0m\u001b[0;34m.\u001b[0m\u001b[0mis_Rational\u001b[0m \u001b[0;32mand\u001b[0m \u001b[0me\u001b[0m\u001b[0;34m.\u001b[0m\u001b[0mq\u001b[0m \u001b[0;34m==\u001b[0m \u001b[0;36m2\u001b[0m\u001b[0;34m:\u001b[0m\u001b[0;34m\u001b[0m\u001b[0;34m\u001b[0m\u001b[0m\n",
      "\u001b[0;32m~/.conda/envs/qibocal-env/lib/python3.9/site-packages/sympy/core/decorators.py\u001b[0m in \u001b[0;36m_func\u001b[0;34m(self, other)\u001b[0m\n\u001b[1;32m    234\u001b[0m             \u001b[0;32mif\u001b[0m \u001b[0;32mnot\u001b[0m \u001b[0misinstance\u001b[0m\u001b[0;34m(\u001b[0m\u001b[0mother\u001b[0m\u001b[0;34m,\u001b[0m \u001b[0mexpectedcls\u001b[0m\u001b[0;34m)\u001b[0m\u001b[0;34m:\u001b[0m\u001b[0;34m\u001b[0m\u001b[0;34m\u001b[0m\u001b[0m\n\u001b[1;32m    235\u001b[0m                 \u001b[0;32mreturn\u001b[0m \u001b[0mretval\u001b[0m\u001b[0;34m\u001b[0m\u001b[0;34m\u001b[0m\u001b[0m\n\u001b[0;32m--> 236\u001b[0;31m             \u001b[0;32mreturn\u001b[0m \u001b[0mfunc\u001b[0m\u001b[0;34m(\u001b[0m\u001b[0mself\u001b[0m\u001b[0;34m,\u001b[0m \u001b[0mother\u001b[0m\u001b[0;34m)\u001b[0m\u001b[0;34m\u001b[0m\u001b[0;34m\u001b[0m\u001b[0m\n\u001b[0m\u001b[1;32m    237\u001b[0m \u001b[0;34m\u001b[0m\u001b[0m\n\u001b[1;32m    238\u001b[0m         \u001b[0;32mreturn\u001b[0m \u001b[0m_func\u001b[0m\u001b[0;34m\u001b[0m\u001b[0;34m\u001b[0m\u001b[0m\n",
      "\u001b[0;32m~/.conda/envs/qibocal-env/lib/python3.9/site-packages/sympy/core/decorators.py\u001b[0m in \u001b[0;36mbinary_op_wrapper\u001b[0;34m(self, other)\u001b[0m\n\u001b[1;32m    104\u001b[0m                     \u001b[0;32mif\u001b[0m \u001b[0mf\u001b[0m \u001b[0;32mis\u001b[0m \u001b[0;32mnot\u001b[0m \u001b[0;32mNone\u001b[0m\u001b[0;34m:\u001b[0m\u001b[0;34m\u001b[0m\u001b[0;34m\u001b[0m\u001b[0m\n\u001b[1;32m    105\u001b[0m                         \u001b[0;32mreturn\u001b[0m \u001b[0mf\u001b[0m\u001b[0;34m(\u001b[0m\u001b[0mself\u001b[0m\u001b[0;34m)\u001b[0m\u001b[0;34m\u001b[0m\u001b[0;34m\u001b[0m\u001b[0m\n\u001b[0;32m--> 106\u001b[0;31m             \u001b[0;32mreturn\u001b[0m \u001b[0mfunc\u001b[0m\u001b[0;34m(\u001b[0m\u001b[0mself\u001b[0m\u001b[0;34m,\u001b[0m \u001b[0mother\u001b[0m\u001b[0;34m)\u001b[0m\u001b[0;34m\u001b[0m\u001b[0;34m\u001b[0m\u001b[0m\n\u001b[0m\u001b[1;32m    107\u001b[0m         \u001b[0;32mreturn\u001b[0m \u001b[0mbinary_op_wrapper\u001b[0m\u001b[0;34m\u001b[0m\u001b[0;34m\u001b[0m\u001b[0m\n\u001b[1;32m    108\u001b[0m     \u001b[0;32mreturn\u001b[0m \u001b[0mpriority_decorator\u001b[0m\u001b[0;34m\u001b[0m\u001b[0;34m\u001b[0m\u001b[0m\n",
      "\u001b[0;32m~/.conda/envs/qibocal-env/lib/python3.9/site-packages/sympy/core/expr.py\u001b[0m in \u001b[0;36m__mul__\u001b[0;34m(self, other)\u001b[0m\n\u001b[1;32m    216\u001b[0m     \u001b[0;34m@\u001b[0m\u001b[0mcall_highest_priority\u001b[0m\u001b[0;34m(\u001b[0m\u001b[0;34m'__rmul__'\u001b[0m\u001b[0;34m)\u001b[0m\u001b[0;34m\u001b[0m\u001b[0;34m\u001b[0m\u001b[0m\n\u001b[1;32m    217\u001b[0m     \u001b[0;32mdef\u001b[0m \u001b[0m__mul__\u001b[0m\u001b[0;34m(\u001b[0m\u001b[0mself\u001b[0m\u001b[0;34m,\u001b[0m \u001b[0mother\u001b[0m\u001b[0;34m)\u001b[0m\u001b[0;34m:\u001b[0m\u001b[0;34m\u001b[0m\u001b[0;34m\u001b[0m\u001b[0m\n\u001b[0;32m--> 218\u001b[0;31m         \u001b[0;32mreturn\u001b[0m \u001b[0mMul\u001b[0m\u001b[0;34m(\u001b[0m\u001b[0mself\u001b[0m\u001b[0;34m,\u001b[0m \u001b[0mother\u001b[0m\u001b[0;34m)\u001b[0m\u001b[0;34m\u001b[0m\u001b[0;34m\u001b[0m\u001b[0m\n\u001b[0m\u001b[1;32m    219\u001b[0m \u001b[0;34m\u001b[0m\u001b[0m\n\u001b[1;32m    220\u001b[0m     \u001b[0;34m@\u001b[0m\u001b[0msympify_return\u001b[0m\u001b[0;34m(\u001b[0m\u001b[0;34m[\u001b[0m\u001b[0;34m(\u001b[0m\u001b[0;34m'other'\u001b[0m\u001b[0;34m,\u001b[0m \u001b[0;34m'Expr'\u001b[0m\u001b[0;34m)\u001b[0m\u001b[0;34m]\u001b[0m\u001b[0;34m,\u001b[0m \u001b[0mNotImplemented\u001b[0m\u001b[0;34m)\u001b[0m\u001b[0;34m\u001b[0m\u001b[0;34m\u001b[0m\u001b[0m\n",
      "\u001b[0;32m~/.conda/envs/qibocal-env/lib/python3.9/site-packages/sympy/core/cache.py\u001b[0m in \u001b[0;36mwrapper\u001b[0;34m(*args, **kwargs)\u001b[0m\n\u001b[1;32m     68\u001b[0m         \u001b[0;32mdef\u001b[0m \u001b[0mwrapper\u001b[0m\u001b[0;34m(\u001b[0m\u001b[0;34m*\u001b[0m\u001b[0margs\u001b[0m\u001b[0;34m,\u001b[0m \u001b[0;34m**\u001b[0m\u001b[0mkwargs\u001b[0m\u001b[0;34m)\u001b[0m\u001b[0;34m:\u001b[0m\u001b[0;34m\u001b[0m\u001b[0;34m\u001b[0m\u001b[0m\n\u001b[1;32m     69\u001b[0m             \u001b[0;32mtry\u001b[0m\u001b[0;34m:\u001b[0m\u001b[0;34m\u001b[0m\u001b[0;34m\u001b[0m\u001b[0m\n\u001b[0;32m---> 70\u001b[0;31m                 \u001b[0mretval\u001b[0m \u001b[0;34m=\u001b[0m \u001b[0mcfunc\u001b[0m\u001b[0;34m(\u001b[0m\u001b[0;34m*\u001b[0m\u001b[0margs\u001b[0m\u001b[0;34m,\u001b[0m \u001b[0;34m**\u001b[0m\u001b[0mkwargs\u001b[0m\u001b[0;34m)\u001b[0m\u001b[0;34m\u001b[0m\u001b[0;34m\u001b[0m\u001b[0m\n\u001b[0m\u001b[1;32m     71\u001b[0m             \u001b[0;32mexcept\u001b[0m \u001b[0mTypeError\u001b[0m \u001b[0;32mas\u001b[0m \u001b[0me\u001b[0m\u001b[0;34m:\u001b[0m\u001b[0;34m\u001b[0m\u001b[0;34m\u001b[0m\u001b[0m\n\u001b[1;32m     72\u001b[0m                 \u001b[0;32mif\u001b[0m \u001b[0;32mnot\u001b[0m \u001b[0me\u001b[0m\u001b[0;34m.\u001b[0m\u001b[0margs\u001b[0m \u001b[0;32mor\u001b[0m \u001b[0;32mnot\u001b[0m \u001b[0me\u001b[0m\u001b[0;34m.\u001b[0m\u001b[0margs\u001b[0m\u001b[0;34m[\u001b[0m\u001b[0;36m0\u001b[0m\u001b[0;34m]\u001b[0m\u001b[0;34m.\u001b[0m\u001b[0mstartswith\u001b[0m\u001b[0;34m(\u001b[0m\u001b[0;34m'unhashable type:'\u001b[0m\u001b[0;34m)\u001b[0m\u001b[0;34m:\u001b[0m\u001b[0;34m\u001b[0m\u001b[0;34m\u001b[0m\u001b[0m\n",
      "\u001b[0;32m~/.conda/envs/qibocal-env/lib/python3.9/site-packages/sympy/core/operations.py\u001b[0m in \u001b[0;36m__new__\u001b[0;34m(cls, evaluate, _sympify, *args)\u001b[0m\n\u001b[1;32m     96\u001b[0m             \u001b[0;32mreturn\u001b[0m \u001b[0margs\u001b[0m\u001b[0;34m[\u001b[0m\u001b[0;36m0\u001b[0m\u001b[0;34m]\u001b[0m\u001b[0;34m\u001b[0m\u001b[0;34m\u001b[0m\u001b[0m\n\u001b[1;32m     97\u001b[0m \u001b[0;34m\u001b[0m\u001b[0m\n\u001b[0;32m---> 98\u001b[0;31m         \u001b[0mc_part\u001b[0m\u001b[0;34m,\u001b[0m \u001b[0mnc_part\u001b[0m\u001b[0;34m,\u001b[0m \u001b[0morder_symbols\u001b[0m \u001b[0;34m=\u001b[0m \u001b[0mcls\u001b[0m\u001b[0;34m.\u001b[0m\u001b[0mflatten\u001b[0m\u001b[0;34m(\u001b[0m\u001b[0margs\u001b[0m\u001b[0;34m)\u001b[0m\u001b[0;34m\u001b[0m\u001b[0;34m\u001b[0m\u001b[0m\n\u001b[0m\u001b[1;32m     99\u001b[0m         \u001b[0mis_commutative\u001b[0m \u001b[0;34m=\u001b[0m \u001b[0;32mnot\u001b[0m \u001b[0mnc_part\u001b[0m\u001b[0;34m\u001b[0m\u001b[0;34m\u001b[0m\u001b[0m\n\u001b[1;32m    100\u001b[0m         \u001b[0mobj\u001b[0m \u001b[0;34m=\u001b[0m \u001b[0mcls\u001b[0m\u001b[0;34m.\u001b[0m\u001b[0m_from_args\u001b[0m\u001b[0;34m(\u001b[0m\u001b[0mc_part\u001b[0m \u001b[0;34m+\u001b[0m \u001b[0mnc_part\u001b[0m\u001b[0;34m,\u001b[0m \u001b[0mis_commutative\u001b[0m\u001b[0;34m)\u001b[0m\u001b[0;34m\u001b[0m\u001b[0;34m\u001b[0m\u001b[0m\n",
      "\u001b[0;32m~/.conda/envs/qibocal-env/lib/python3.9/site-packages/sympy/core/mul.py\u001b[0m in \u001b[0;36mflatten\u001b[0;34m(cls, seq)\u001b[0m\n\u001b[1;32m    283\u001b[0m                 \u001b[0mseq\u001b[0m \u001b[0;34m=\u001b[0m \u001b[0;34m[\u001b[0m\u001b[0ma\u001b[0m\u001b[0;34m,\u001b[0m \u001b[0mb\u001b[0m\u001b[0;34m]\u001b[0m\u001b[0;34m\u001b[0m\u001b[0;34m\u001b[0m\u001b[0m\n\u001b[1;32m    284\u001b[0m             \u001b[0;32massert\u001b[0m \u001b[0ma\u001b[0m \u001b[0;32mis\u001b[0m \u001b[0;32mnot\u001b[0m \u001b[0mS\u001b[0m\u001b[0;34m.\u001b[0m\u001b[0mOne\u001b[0m\u001b[0;34m\u001b[0m\u001b[0;34m\u001b[0m\u001b[0m\n\u001b[0;32m--> 285\u001b[0;31m             \u001b[0;32mif\u001b[0m \u001b[0;32mnot\u001b[0m \u001b[0ma\u001b[0m\u001b[0;34m.\u001b[0m\u001b[0mis_zero\u001b[0m \u001b[0;32mand\u001b[0m \u001b[0ma\u001b[0m\u001b[0;34m.\u001b[0m\u001b[0mis_Rational\u001b[0m\u001b[0;34m:\u001b[0m\u001b[0;34m\u001b[0m\u001b[0;34m\u001b[0m\u001b[0m\n\u001b[0m\u001b[1;32m    286\u001b[0m                 \u001b[0mr\u001b[0m\u001b[0;34m,\u001b[0m \u001b[0mb\u001b[0m \u001b[0;34m=\u001b[0m \u001b[0mb\u001b[0m\u001b[0;34m.\u001b[0m\u001b[0mas_coeff_Mul\u001b[0m\u001b[0;34m(\u001b[0m\u001b[0;34m)\u001b[0m\u001b[0;34m\u001b[0m\u001b[0;34m\u001b[0m\u001b[0m\n\u001b[1;32m    287\u001b[0m                 \u001b[0;32mif\u001b[0m \u001b[0mb\u001b[0m\u001b[0;34m.\u001b[0m\u001b[0mis_Add\u001b[0m\u001b[0;34m:\u001b[0m\u001b[0;34m\u001b[0m\u001b[0;34m\u001b[0m\u001b[0m\n",
      "\u001b[0;32m~/.conda/envs/qibocal-env/lib/python3.9/site-packages/sympy/core/assumptions.py\u001b[0m in \u001b[0;36mgetit\u001b[0;34m(self)\u001b[0m\n\u001b[1;32m    481\u001b[0m             \u001b[0;32mif\u001b[0m \u001b[0mself\u001b[0m\u001b[0;34m.\u001b[0m\u001b[0m_assumptions\u001b[0m \u001b[0;32mis\u001b[0m \u001b[0mself\u001b[0m\u001b[0;34m.\u001b[0m\u001b[0mdefault_assumptions\u001b[0m\u001b[0;34m:\u001b[0m\u001b[0;34m\u001b[0m\u001b[0;34m\u001b[0m\u001b[0m\n\u001b[1;32m    482\u001b[0m                 \u001b[0mself\u001b[0m\u001b[0;34m.\u001b[0m\u001b[0m_assumptions\u001b[0m \u001b[0;34m=\u001b[0m \u001b[0mself\u001b[0m\u001b[0;34m.\u001b[0m\u001b[0mdefault_assumptions\u001b[0m\u001b[0;34m.\u001b[0m\u001b[0mcopy\u001b[0m\u001b[0;34m(\u001b[0m\u001b[0;34m)\u001b[0m\u001b[0;34m\u001b[0m\u001b[0;34m\u001b[0m\u001b[0m\n\u001b[0;32m--> 483\u001b[0;31m             \u001b[0;32mreturn\u001b[0m \u001b[0m_ask\u001b[0m\u001b[0;34m(\u001b[0m\u001b[0mfact\u001b[0m\u001b[0;34m,\u001b[0m \u001b[0mself\u001b[0m\u001b[0;34m)\u001b[0m\u001b[0;34m\u001b[0m\u001b[0;34m\u001b[0m\u001b[0m\n\u001b[0m\u001b[1;32m    484\u001b[0m \u001b[0;34m\u001b[0m\u001b[0m\n\u001b[1;32m    485\u001b[0m     \u001b[0mgetit\u001b[0m\u001b[0;34m.\u001b[0m\u001b[0mfunc_name\u001b[0m \u001b[0;34m=\u001b[0m \u001b[0mas_property\u001b[0m\u001b[0;34m(\u001b[0m\u001b[0mfact\u001b[0m\u001b[0;34m)\u001b[0m\u001b[0;34m\u001b[0m\u001b[0;34m\u001b[0m\u001b[0m\n",
      "\u001b[0;32m~/.conda/envs/qibocal-env/lib/python3.9/site-packages/sympy/core/assumptions.py\u001b[0m in \u001b[0;36m_ask\u001b[0;34m(fact, obj)\u001b[0m\n\u001b[1;32m    537\u001b[0m         \u001b[0mhandler_i\u001b[0m \u001b[0;34m=\u001b[0m \u001b[0mhandler_map\u001b[0m\u001b[0;34m.\u001b[0m\u001b[0mget\u001b[0m\u001b[0;34m(\u001b[0m\u001b[0mfact_i\u001b[0m\u001b[0;34m)\u001b[0m\u001b[0;34m\u001b[0m\u001b[0;34m\u001b[0m\u001b[0m\n\u001b[1;32m    538\u001b[0m         \u001b[0;32mif\u001b[0m \u001b[0mhandler_i\u001b[0m \u001b[0;32mis\u001b[0m \u001b[0;32mnot\u001b[0m \u001b[0;32mNone\u001b[0m\u001b[0;34m:\u001b[0m\u001b[0;34m\u001b[0m\u001b[0;34m\u001b[0m\u001b[0m\n\u001b[0;32m--> 539\u001b[0;31m             \u001b[0mfact_i_value\u001b[0m \u001b[0;34m=\u001b[0m \u001b[0mhandler_i\u001b[0m\u001b[0;34m(\u001b[0m\u001b[0mobj\u001b[0m\u001b[0;34m)\u001b[0m\u001b[0;34m\u001b[0m\u001b[0;34m\u001b[0m\u001b[0m\n\u001b[0m\u001b[1;32m    540\u001b[0m \u001b[0;34m\u001b[0m\u001b[0m\n\u001b[1;32m    541\u001b[0m         \u001b[0;31m# If we get a new value for fact_i then we should update our knowledge\u001b[0m\u001b[0;34m\u001b[0m\u001b[0;34m\u001b[0m\u001b[0m\n",
      "\u001b[0;32m~/.conda/envs/qibocal-env/lib/python3.9/site-packages/sympy/core/mul.py\u001b[0m in \u001b[0;36m_eval_is_extended_negative\u001b[0;34m(self)\u001b[0m\n\u001b[1;32m   1555\u001b[0m \u001b[0;34m\u001b[0m\u001b[0m\n\u001b[1;32m   1556\u001b[0m     \u001b[0;32mdef\u001b[0m \u001b[0m_eval_is_extended_negative\u001b[0m\u001b[0;34m(\u001b[0m\u001b[0mself\u001b[0m\u001b[0;34m)\u001b[0m\u001b[0;34m:\u001b[0m\u001b[0;34m\u001b[0m\u001b[0;34m\u001b[0m\u001b[0m\n\u001b[0;32m-> 1557\u001b[0;31m         \u001b[0;32mreturn\u001b[0m \u001b[0mself\u001b[0m\u001b[0;34m.\u001b[0m\u001b[0m_eval_pos_neg\u001b[0m\u001b[0;34m(\u001b[0m\u001b[0;34m-\u001b[0m\u001b[0;36m1\u001b[0m\u001b[0;34m)\u001b[0m\u001b[0;34m\u001b[0m\u001b[0;34m\u001b[0m\u001b[0m\n\u001b[0m\u001b[1;32m   1558\u001b[0m \u001b[0;34m\u001b[0m\u001b[0m\n\u001b[1;32m   1559\u001b[0m     \u001b[0;32mdef\u001b[0m \u001b[0m_eval_is_odd\u001b[0m\u001b[0;34m(\u001b[0m\u001b[0mself\u001b[0m\u001b[0;34m)\u001b[0m\u001b[0;34m:\u001b[0m\u001b[0;34m\u001b[0m\u001b[0;34m\u001b[0m\u001b[0m\n",
      "\u001b[0;32m~/.conda/envs/qibocal-env/lib/python3.9/site-packages/sympy/core/mul.py\u001b[0m in \u001b[0;36m_eval_pos_neg\u001b[0;34m(self, sign)\u001b[0m\n\u001b[1;32m   1524\u001b[0m             \u001b[0;32mif\u001b[0m \u001b[0mt\u001b[0m\u001b[0;34m.\u001b[0m\u001b[0mis_extended_positive\u001b[0m\u001b[0;34m:\u001b[0m\u001b[0;34m\u001b[0m\u001b[0;34m\u001b[0m\u001b[0m\n\u001b[1;32m   1525\u001b[0m                 \u001b[0;32mcontinue\u001b[0m\u001b[0;34m\u001b[0m\u001b[0;34m\u001b[0m\u001b[0m\n\u001b[0;32m-> 1526\u001b[0;31m             \u001b[0;32melif\u001b[0m \u001b[0mt\u001b[0m\u001b[0;34m.\u001b[0m\u001b[0mis_extended_negative\u001b[0m\u001b[0;34m:\u001b[0m\u001b[0;34m\u001b[0m\u001b[0;34m\u001b[0m\u001b[0m\n\u001b[0m\u001b[1;32m   1527\u001b[0m                 \u001b[0msign\u001b[0m \u001b[0;34m=\u001b[0m \u001b[0;34m-\u001b[0m\u001b[0msign\u001b[0m\u001b[0;34m\u001b[0m\u001b[0;34m\u001b[0m\u001b[0m\n\u001b[1;32m   1528\u001b[0m             \u001b[0;32melif\u001b[0m \u001b[0mt\u001b[0m\u001b[0;34m.\u001b[0m\u001b[0mis_zero\u001b[0m\u001b[0;34m:\u001b[0m\u001b[0;34m\u001b[0m\u001b[0;34m\u001b[0m\u001b[0m\n",
      "\u001b[0;32m~/.conda/envs/qibocal-env/lib/python3.9/site-packages/sympy/core/assumptions.py\u001b[0m in \u001b[0;36mgetit\u001b[0;34m(self)\u001b[0m\n\u001b[1;32m    481\u001b[0m             \u001b[0;32mif\u001b[0m \u001b[0mself\u001b[0m\u001b[0;34m.\u001b[0m\u001b[0m_assumptions\u001b[0m \u001b[0;32mis\u001b[0m \u001b[0mself\u001b[0m\u001b[0;34m.\u001b[0m\u001b[0mdefault_assumptions\u001b[0m\u001b[0;34m:\u001b[0m\u001b[0;34m\u001b[0m\u001b[0;34m\u001b[0m\u001b[0m\n\u001b[1;32m    482\u001b[0m                 \u001b[0mself\u001b[0m\u001b[0;34m.\u001b[0m\u001b[0m_assumptions\u001b[0m \u001b[0;34m=\u001b[0m \u001b[0mself\u001b[0m\u001b[0;34m.\u001b[0m\u001b[0mdefault_assumptions\u001b[0m\u001b[0;34m.\u001b[0m\u001b[0mcopy\u001b[0m\u001b[0;34m(\u001b[0m\u001b[0;34m)\u001b[0m\u001b[0;34m\u001b[0m\u001b[0;34m\u001b[0m\u001b[0m\n\u001b[0;32m--> 483\u001b[0;31m             \u001b[0;32mreturn\u001b[0m \u001b[0m_ask\u001b[0m\u001b[0;34m(\u001b[0m\u001b[0mfact\u001b[0m\u001b[0;34m,\u001b[0m \u001b[0mself\u001b[0m\u001b[0;34m)\u001b[0m\u001b[0;34m\u001b[0m\u001b[0;34m\u001b[0m\u001b[0m\n\u001b[0m\u001b[1;32m    484\u001b[0m \u001b[0;34m\u001b[0m\u001b[0m\n\u001b[1;32m    485\u001b[0m     \u001b[0mgetit\u001b[0m\u001b[0;34m.\u001b[0m\u001b[0mfunc_name\u001b[0m \u001b[0;34m=\u001b[0m \u001b[0mas_property\u001b[0m\u001b[0;34m(\u001b[0m\u001b[0mfact\u001b[0m\u001b[0;34m)\u001b[0m\u001b[0;34m\u001b[0m\u001b[0;34m\u001b[0m\u001b[0m\n",
      "\u001b[0;32m~/.conda/envs/qibocal-env/lib/python3.9/site-packages/sympy/core/assumptions.py\u001b[0m in \u001b[0;36m_ask\u001b[0;34m(fact, obj)\u001b[0m\n\u001b[1;32m    537\u001b[0m         \u001b[0mhandler_i\u001b[0m \u001b[0;34m=\u001b[0m \u001b[0mhandler_map\u001b[0m\u001b[0;34m.\u001b[0m\u001b[0mget\u001b[0m\u001b[0;34m(\u001b[0m\u001b[0mfact_i\u001b[0m\u001b[0;34m)\u001b[0m\u001b[0;34m\u001b[0m\u001b[0;34m\u001b[0m\u001b[0m\n\u001b[1;32m    538\u001b[0m         \u001b[0;32mif\u001b[0m \u001b[0mhandler_i\u001b[0m \u001b[0;32mis\u001b[0m \u001b[0;32mnot\u001b[0m \u001b[0;32mNone\u001b[0m\u001b[0;34m:\u001b[0m\u001b[0;34m\u001b[0m\u001b[0;34m\u001b[0m\u001b[0m\n\u001b[0;32m--> 539\u001b[0;31m             \u001b[0mfact_i_value\u001b[0m \u001b[0;34m=\u001b[0m \u001b[0mhandler_i\u001b[0m\u001b[0;34m(\u001b[0m\u001b[0mobj\u001b[0m\u001b[0;34m)\u001b[0m\u001b[0;34m\u001b[0m\u001b[0;34m\u001b[0m\u001b[0m\n\u001b[0m\u001b[1;32m    540\u001b[0m \u001b[0;34m\u001b[0m\u001b[0m\n\u001b[1;32m    541\u001b[0m         \u001b[0;31m# If we get a new value for fact_i then we should update our knowledge\u001b[0m\u001b[0;34m\u001b[0m\u001b[0;34m\u001b[0m\u001b[0m\n",
      "\u001b[0;32m~/.conda/envs/qibocal-env/lib/python3.9/site-packages/sympy/core/power.py\u001b[0m in \u001b[0;36m_eval_is_even\u001b[0;34m(self)\u001b[0m\n\u001b[1;32m    554\u001b[0m \u001b[0;34m\u001b[0m\u001b[0m\n\u001b[1;32m    555\u001b[0m     \u001b[0;32mdef\u001b[0m \u001b[0m_eval_is_even\u001b[0m\u001b[0;34m(\u001b[0m\u001b[0mself\u001b[0m\u001b[0;34m)\u001b[0m\u001b[0;34m:\u001b[0m\u001b[0;34m\u001b[0m\u001b[0;34m\u001b[0m\u001b[0m\n\u001b[0;32m--> 556\u001b[0;31m         \u001b[0;32mif\u001b[0m \u001b[0mself\u001b[0m\u001b[0;34m.\u001b[0m\u001b[0mexp\u001b[0m\u001b[0;34m.\u001b[0m\u001b[0mis_integer\u001b[0m \u001b[0;32mand\u001b[0m \u001b[0mself\u001b[0m\u001b[0;34m.\u001b[0m\u001b[0mexp\u001b[0m\u001b[0;34m.\u001b[0m\u001b[0mis_positive\u001b[0m\u001b[0;34m:\u001b[0m\u001b[0;34m\u001b[0m\u001b[0;34m\u001b[0m\u001b[0m\n\u001b[0m\u001b[1;32m    557\u001b[0m             \u001b[0;32mreturn\u001b[0m \u001b[0mself\u001b[0m\u001b[0;34m.\u001b[0m\u001b[0mbase\u001b[0m\u001b[0;34m.\u001b[0m\u001b[0mis_even\u001b[0m\u001b[0;34m\u001b[0m\u001b[0;34m\u001b[0m\u001b[0m\n\u001b[1;32m    558\u001b[0m \u001b[0;34m\u001b[0m\u001b[0m\n",
      "\u001b[0;32m~/.conda/envs/qibocal-env/lib/python3.9/site-packages/sympy/core/assumptions.py\u001b[0m in \u001b[0;36mgetit\u001b[0;34m(self)\u001b[0m\n\u001b[1;32m    477\u001b[0m     \u001b[0;32mdef\u001b[0m \u001b[0mgetit\u001b[0m\u001b[0;34m(\u001b[0m\u001b[0mself\u001b[0m\u001b[0;34m)\u001b[0m\u001b[0;34m:\u001b[0m\u001b[0;34m\u001b[0m\u001b[0;34m\u001b[0m\u001b[0m\n\u001b[1;32m    478\u001b[0m         \u001b[0;32mtry\u001b[0m\u001b[0;34m:\u001b[0m\u001b[0;34m\u001b[0m\u001b[0;34m\u001b[0m\u001b[0m\n\u001b[0;32m--> 479\u001b[0;31m             \u001b[0;32mreturn\u001b[0m \u001b[0mself\u001b[0m\u001b[0;34m.\u001b[0m\u001b[0m_assumptions\u001b[0m\u001b[0;34m[\u001b[0m\u001b[0mfact\u001b[0m\u001b[0;34m]\u001b[0m\u001b[0;34m\u001b[0m\u001b[0;34m\u001b[0m\u001b[0m\n\u001b[0m\u001b[1;32m    480\u001b[0m         \u001b[0;32mexcept\u001b[0m \u001b[0mKeyError\u001b[0m\u001b[0;34m:\u001b[0m\u001b[0;34m\u001b[0m\u001b[0;34m\u001b[0m\u001b[0m\n\u001b[1;32m    481\u001b[0m             \u001b[0;32mif\u001b[0m \u001b[0mself\u001b[0m\u001b[0;34m.\u001b[0m\u001b[0m_assumptions\u001b[0m \u001b[0;32mis\u001b[0m \u001b[0mself\u001b[0m\u001b[0;34m.\u001b[0m\u001b[0mdefault_assumptions\u001b[0m\u001b[0;34m:\u001b[0m\u001b[0;34m\u001b[0m\u001b[0;34m\u001b[0m\u001b[0m\n",
      "\u001b[0;31mKeyboardInterrupt\u001b[0m: "
     ]
    }
   ],
   "source": [
    "P, D = f.diagonalize()\n",
    "D"
   ]
  },
  {
   "cell_type": "code",
   "execution_count": 13,
   "metadata": {},
   "outputs": [
    {
     "data": {
      "text/latex": [
       "$\\displaystyle \\left[\\begin{matrix}i & - i\\\\1 & 1\\end{matrix}\\right]$"
      ],
      "text/plain": [
       "Matrix([\n",
       "[I, -I],\n",
       "[1,  1]])"
      ]
     },
     "metadata": {},
     "output_type": "display_data"
    },
    {
     "data": {
      "text/latex": [
       "$\\displaystyle \\left[\\begin{matrix}- i & 0\\\\0 & i\\end{matrix}\\right]$"
      ],
      "text/plain": [
       "Matrix([\n",
       "[-I, 0],\n",
       "[ 0, I]])"
      ]
     },
     "execution_count": 13,
     "metadata": {},
     "output_type": "execute_result"
    }
   ],
   "source": [
    "from sympy import *\n",
    "a = Matrix([[0, 1], [-1, 0]])\n",
    "pa, da = a.diagonalize()\n",
    "display(pa)\n",
    "da"
   ]
  },
  {
   "cell_type": "code",
   "execution_count": 14,
   "metadata": {},
   "outputs": [
    {
     "data": {
      "text/latex": [
       "$\\displaystyle \\left[\\begin{matrix}- i & i\\\\1 & 1\\end{matrix}\\right]$"
      ],
      "text/plain": [
       "Matrix([\n",
       "[-I, I],\n",
       "[ 1, 1]])"
      ]
     },
     "metadata": {},
     "output_type": "display_data"
    },
    {
     "data": {
      "text/latex": [
       "$\\displaystyle \\left[\\begin{matrix}- i & 0\\\\0 & i\\end{matrix}\\right]$"
      ],
      "text/plain": [
       "Matrix([\n",
       "[-I, 0],\n",
       "[ 0, I]])"
      ]
     },
     "execution_count": 14,
     "metadata": {},
     "output_type": "execute_result"
    }
   ],
   "source": [
    "b = Matrix([[0, -1], [1, 0]])\n",
    "pb, db = b.diagonalize()\n",
    "display(pb)\n",
    "db"
   ]
  },
  {
   "cell_type": "code",
   "execution_count": 34,
   "metadata": {},
   "outputs": [
    {
     "data": {
      "text/plain": [
       "array([[ 1.+0.j,  0.+0.j,  0.+0.j,  0.+0.j],\n",
       "       [ 0.+0.j,  1.+0.j,  0.+0.j,  0.+0.j],\n",
       "       [ 0.+0.j,  0.+0.j,  0.-0.j, -1.+0.j],\n",
       "       [ 0.+0.j,  0.+0.j,  1.+0.j,  0.-0.j]])"
      ]
     },
     "execution_count": 34,
     "metadata": {},
     "output_type": "execute_result"
    }
   ],
   "source": [
    "basis = np.array([[1, 0, 0, 0], [0, 1, 0, 0], [0, 0, 1j/np.sqrt(2), -1j/np.sqrt(2)], [0, 0, 1/np.sqrt(2), 1/np.sqrt(2)]]) \n",
    "basis_pauli = np.array([[1, 0, 0, 1], [0, 1, 1, 0], [0, 1j, -1j, 0], [1, 0, 0, -1]]) / np.sqrt(2)\n",
    "d0 = np.array([[1, 0, 0, 0], [0, 1, 0, 0], [0, 0, -1, 0], [0, 0, 0, -1]])\n",
    "d1 = np.array([[1, 0, 0, 0], [0, 1, 0, 0], [0, 0, -1j, 0], [0, 0, 0, 1j]])\n",
    "d2 = np.array([[1, 0, 0, 0], [0, 1, 0, 0], [0, 0, 1j, 0], [0, 0, 0, -1j]])\n",
    "\n",
    "repr = basis @ d2 @ basis.T.conj()\n",
    "repr.round(3)"
   ]
  },
  {
   "cell_type": "code",
   "execution_count": 44,
   "metadata": {},
   "outputs": [
    {
     "data": {
      "text/plain": [
       "array([[0.        +0.j        ],\n",
       "       [0.        +0.j        ],\n",
       "       [0.        -0.70710678j],\n",
       "       [0.70710678+0.j        ]])"
      ]
     },
     "execution_count": 44,
     "metadata": {},
     "output_type": "execute_result"
    }
   ],
   "source": [
    "basis @ np.array([[0], [0], [0], [1]], dtype=complex)"
   ]
  },
  {
   "cell_type": "code",
   "execution_count": 43,
   "metadata": {},
   "outputs": [
    {
     "data": {
      "text/plain": [
       "array([[1.+0.j, 0.+0.j, 0.+0.j, 0.+0.j],\n",
       "       [0.+0.j, 0.+0.j, 0.+0.j, 0.+0.j],\n",
       "       [0.+0.j, 0.+0.j, 2.+0.j, 0.+0.j],\n",
       "       [0.+0.j, 0.+0.j, 0.+0.j, 2.+0.j]])"
      ]
     },
     "execution_count": 43,
     "metadata": {},
     "output_type": "execute_result"
    }
   ],
   "source": [
    "# d2_pauli = basis @ d2 @ basis.T.conj()\n",
    "s = np.array([[1.+0.j, 0.+0.j, 0.+0.j, 0.+0.j],\n",
    "       [0.+0.j, 0.+0.j, 0.+0.j, 0.+0.j],\n",
    "       [0.+0.j, 0.+0.j, 2.+0.j, 0.+0.j],\n",
    "       [0.+0.j, 0.+0.j, 0.+0.j, 2.+0.j]])\n",
    "repr = basis.T.conj() @ s  @ basis# .T.conj()\n",
    "repr.round(3)"
   ]
  },
  {
   "cell_type": "code",
   "execution_count": 18,
   "metadata": {},
   "outputs": [
    {
     "data": {
      "text/plain": [
       "array([[0.+0.j, 0.+0.j, 0.+0.j, 0.+0.j],\n",
       "       [0.+0.j, 0.+0.j, 0.+0.j, 0.+0.j],\n",
       "       [0.+0.j, 0.+0.j, 0.+0.j, 0.+0.j],\n",
       "       [0.+0.j, 0.+0.j, 0.+0.j, 1.+0.j]])"
      ]
     },
     "execution_count": 18,
     "metadata": {},
     "output_type": "execute_result"
    }
   ],
   "source": [
    "(np.eye(4)-d0-1j*d1+1j*d2)/4"
   ]
  },
  {
   "cell_type": "code",
   "execution_count": 39,
   "metadata": {},
   "outputs": [
    {
     "data": {
      "text/plain": [
       "array([[0.70710678+0.j ],\n",
       "       [0.        +0.j ],\n",
       "       [0.        -0.5j],\n",
       "       [0.5       +0.j ]])"
      ]
     },
     "execution_count": 39,
     "metadata": {},
     "output_type": "execute_result"
    }
   ],
   "source": [
    "rho = np.array([[1, 0], [0, 0]], dtype=complex)\n",
    "rho_pauli = density_to_pauli(rho, norm=True).reshape(-1, 1)\n",
    "rho_sqrt = basis @ rho_pauli\n",
    "rho_sqrt"
   ]
  },
  {
   "cell_type": "code",
   "execution_count": 17,
   "metadata": {},
   "outputs": [
    {
     "name": "stdout",
     "output_type": "stream",
     "text": [
      "[ 0.5+0.j -0. +0.j -0. -0.j  0. +0.j]\n",
      "[0.313+0.j 0.307-0.j 0.3  +0.j 0.   -0.j 0.   +0.j 0.   -0.j 0.   +0.j\n",
      " 0.   +0.j 0.   -0.j 0.   -0.j 0.   +0.j 0.   +0.j]\n"
     ]
    }
   ],
   "source": [
    "c, d = (check_validation('cliffords', 'pauli', [0.01, 0.02, 0.03]))"
   ]
  },
  {
   "cell_type": "code",
   "execution_count": 18,
   "metadata": {},
   "outputs": [
    {
     "data": {
      "text/latex": [
       "$\\displaystyle \\left[\\begin{matrix}1.0 & 0 & 0 & 0\\\\0 & 0.9 & 0 & 0\\\\0 & 0 & 0.92 & 0\\\\0 & 0 & 0 & 0.94\\end{matrix}\\right]$"
      ],
      "text/plain": [
       "Matrix([\n",
       "[1.0,   0,    0,    0],\n",
       "[  0, 0.9,    0,    0],\n",
       "[  0,   0, 0.92,    0],\n",
       "[  0,   0,    0, 0.94]])"
      ]
     },
     "metadata": {},
     "output_type": "display_data"
    },
    {
     "data": {
      "text/latex": [
       "$\\displaystyle \\left[\\begin{array}{cccccccccccc}0 & 0 & 0 & 0 & 0 & 0 & 0 & 0 & 0 & 0 & 0 & 0\\\\0 & 0.3 & 0 & 0 & 0 & 0 & 0 & 0 & 0 & 0 & 0 & 0\\\\0 & 0 & 0 & 0 & 0 & 0 & 0 & 0 & 0 & 0 & 0 & 0\\\\0 & 0 & 0 & 0 & 0 & 0 & 0 & 0 & 0 & 0 & 0 & 0\\\\0 & 0 & 0 & 0 & 0 & 0 & 0 & 0 & 0 & 0 & 0 & 0\\\\0 & 0 & 0 & 0 & 0 & 0 & 0 & 0 & 0 & 0 & 0 & 0\\\\0 & 0 & 0 & 0 & 0 & 0 & 0.307 & 0 & 0 & 0 & 0 & 0\\\\0 & 0 & 0 & 0 & 0 & 0 & 0 & 0 & 0 & 0 & 0 & 0\\\\0 & 0 & 0 & 0 & 0 & 0 & 0 & 0 & 0 & 0 & 0 & 0\\\\0 & 0 & 0 & 0 & 0 & 0 & 0 & 0 & 0 & 0 & 0 & 0\\\\0 & 0 & 0 & 0 & 0 & 0 & 0 & 0 & 0 & 0 & 0 & 0\\\\0 & 0 & 0 & 0 & 0 & 0 & 0 & 0 & 0 & 0 & 0 & 0.313\\end{array}\\right]$"
      ],
      "text/plain": [
       "Matrix([\n",
       "[0,   0, 0, 0, 0, 0,     0, 0, 0, 0, 0,     0],\n",
       "[0, 0.3, 0, 0, 0, 0,     0, 0, 0, 0, 0,     0],\n",
       "[0,   0, 0, 0, 0, 0,     0, 0, 0, 0, 0,     0],\n",
       "[0,   0, 0, 0, 0, 0,     0, 0, 0, 0, 0,     0],\n",
       "[0,   0, 0, 0, 0, 0,     0, 0, 0, 0, 0,     0],\n",
       "[0,   0, 0, 0, 0, 0,     0, 0, 0, 0, 0,     0],\n",
       "[0,   0, 0, 0, 0, 0, 0.307, 0, 0, 0, 0,     0],\n",
       "[0,   0, 0, 0, 0, 0,     0, 0, 0, 0, 0,     0],\n",
       "[0,   0, 0, 0, 0, 0,     0, 0, 0, 0, 0,     0],\n",
       "[0,   0, 0, 0, 0, 0,     0, 0, 0, 0, 0,     0],\n",
       "[0,   0, 0, 0, 0, 0,     0, 0, 0, 0, 0,     0],\n",
       "[0,   0, 0, 0, 0, 0,     0, 0, 0, 0, 0, 0.313]])"
      ]
     },
     "metadata": {},
     "output_type": "display_data"
    },
    {
     "data": {
      "text/latex": [
       "$\\displaystyle \\left[\\begin{array}{cccccccccccc}0 & 0 & 0 & 0 & 0 & 0 & 0 & 0 & 0 & 0 & 0 & 0\\\\0 & 0 & 0 & 0 & 0 & 0 & 0 & 0 & 0 & 0 & 0 & 0\\\\0 & 0 & 0 & 0 & 0 & 0 & 0 & 0 & 0 & 0 & 0 & 0\\\\0 & 0 & 0 & 0.3 & 0 & 0 & 0 & 0 & 0 & 0 & 0 & 0\\\\0 & 0 & 0 & 0 & 0 & 0 & 0 & 0 & 0 & 0 & 0 & 0\\\\0 & 0 & 0 & 0 & 0 & 0 & 0 & 0 & 0 & 0 & 0 & 0\\\\0 & 0 & 0 & 0 & 0 & 0 & 0.313 & 0 & 0 & 0 & 0 & 0\\\\0 & 0 & 0 & 0 & 0 & 0 & 0 & 0.307 & 0 & 0 & 0 & 0\\\\0 & 0 & 0 & 0 & 0 & 0 & 0 & 0 & 0 & 0 & 0 & 0\\\\0 & 0 & 0 & 0 & 0 & 0 & 0 & 0 & 0 & 0 & 0 & 0\\\\0 & 0 & 0 & 0 & 0 & 0 & 0 & 0 & 0 & 0 & 0 & 0\\\\0 & 0 & 0 & 0 & 0 & 0 & 0 & 0 & 0 & 0 & 0 & 0\\end{array}\\right]$"
      ],
      "text/plain": [
       "Matrix([\n",
       "[0, 0, 0,   0, 0, 0,     0,     0, 0, 0, 0, 0],\n",
       "[0, 0, 0,   0, 0, 0,     0,     0, 0, 0, 0, 0],\n",
       "[0, 0, 0,   0, 0, 0,     0,     0, 0, 0, 0, 0],\n",
       "[0, 0, 0, 0.3, 0, 0,     0,     0, 0, 0, 0, 0],\n",
       "[0, 0, 0,   0, 0, 0,     0,     0, 0, 0, 0, 0],\n",
       "[0, 0, 0,   0, 0, 0,     0,     0, 0, 0, 0, 0],\n",
       "[0, 0, 0,   0, 0, 0, 0.313,     0, 0, 0, 0, 0],\n",
       "[0, 0, 0,   0, 0, 0,     0, 0.307, 0, 0, 0, 0],\n",
       "[0, 0, 0,   0, 0, 0,     0,     0, 0, 0, 0, 0],\n",
       "[0, 0, 0,   0, 0, 0,     0,     0, 0, 0, 0, 0],\n",
       "[0, 0, 0,   0, 0, 0,     0,     0, 0, 0, 0, 0],\n",
       "[0, 0, 0,   0, 0, 0,     0,     0, 0, 0, 0, 0]])"
      ]
     },
     "metadata": {},
     "output_type": "display_data"
    }
   ],
   "source": [
    "noise = get_noise('pauli', [0.01, 0.02, 0.03])\n",
    "display(Matrix(noise))\n",
    "f = get_noisy_fourier(noise, 'cliffords')\n",
    "display(Matrix(f.round(3)))\n",
    "w = np.linalg.eigvals(f)\n",
    "display(Matrix(np.diag(w.round(3))))"
   ]
  },
  {
   "cell_type": "code",
   "execution_count": 3,
   "metadata": {},
   "outputs": [
    {
     "data": {
      "text/latex": [
       "$\\displaystyle \\left[\\begin{array}{cccccccccccc}0 & 0 & 0 & 0 & 0 & 0 & 0 & 0 & 0 & 0 & 0 & 0\\\\0 & 0.333 a & 0 & 0 & 0 & 0 & 0.333 a & 0 & 0 & 0 & 0 & 0.333 a\\\\0 & 0 & 0 & 0 & 0 & 0 & 0 & 0 & 0 & 0 & 0 & 0\\\\0 & 0 & 0 & 0 & 0 & 0 & 0 & 0 & 0 & 0 & 0 & 0\\\\0 & 0 & 0 & 0 & 0 & 0 & 0 & 0 & 0 & 0 & 0 & 0\\\\0 & 0 & 0 & 0 & 0 & 0 & 0 & 0 & 0 & 0 & 0 & 0\\\\0 & 0.333 b & 0 & 0 & 0 & 0 & 0.333 b & 0 & 0 & 0 & 0 & 0.333 b\\\\0 & 0 & 0 & 0 & 0 & 0 & 0 & 0 & 0 & 0 & 0 & 0\\\\0 & 0 & 0 & 0 & 0 & 0 & 0 & 0 & 0 & 0 & 0 & 0\\\\0 & 0 & 0 & 0 & 0 & 0 & 0 & 0 & 0 & 0 & 0 & 0\\\\0 & 0 & 0 & 0 & 0 & 0 & 0 & 0 & 0 & 0 & 0 & 0\\\\0 & 0.333 c & 0 & 0 & 0 & 0 & 0.333 c & 0 & 0 & 0 & 0 & 0.333 c\\end{array}\\right]$"
      ],
      "text/plain": [
       "Matrix([\n",
       "[0,       0, 0, 0, 0, 0,       0, 0, 0, 0, 0,       0],\n",
       "[0, 0.333*a, 0, 0, 0, 0, 0.333*a, 0, 0, 0, 0, 0.333*a],\n",
       "[0,       0, 0, 0, 0, 0,       0, 0, 0, 0, 0,       0],\n",
       "[0,       0, 0, 0, 0, 0,       0, 0, 0, 0, 0,       0],\n",
       "[0,       0, 0, 0, 0, 0,       0, 0, 0, 0, 0,       0],\n",
       "[0,       0, 0, 0, 0, 0,       0, 0, 0, 0, 0,       0],\n",
       "[0, 0.333*b, 0, 0, 0, 0, 0.333*b, 0, 0, 0, 0, 0.333*b],\n",
       "[0,       0, 0, 0, 0, 0,       0, 0, 0, 0, 0,       0],\n",
       "[0,       0, 0, 0, 0, 0,       0, 0, 0, 0, 0,       0],\n",
       "[0,       0, 0, 0, 0, 0,       0, 0, 0, 0, 0,       0],\n",
       "[0,       0, 0, 0, 0, 0,       0, 0, 0, 0, 0,       0],\n",
       "[0, 0.333*c, 0, 0, 0, 0, 0.333*c, 0, 0, 0, 0, 0.333*c]])"
      ]
     },
     "execution_count": 3,
     "metadata": {},
     "output_type": "execute_result"
    }
   ],
   "source": [
    "noise = Matrix([[1, 0, 0, 0], [0, Symbol('a'), 0, 0], [0, 0, Symbol('b'), 0], [0, 0, 0, Symbol('c')]]) # get_noise('tr')\n",
    "f = get_noisy_fourier(noise, 'cliffords')\n",
    "f"
   ]
  },
  {
   "cell_type": "code",
   "execution_count": 15,
   "metadata": {},
   "outputs": [
    {
     "name": "stdout",
     "output_type": "stream",
     "text": [
      "[[ 0.     0.     0.     0.     0.    -0.     0.     0.    -0.    -0.\n",
      "  -0.    -0.   ]\n",
      " [ 0.     0.333  0.    -0.     0.    -0.    -0.     0.     0.     0.\n",
      "  -0.    -0.   ]\n",
      " [ 0.    -0.     0.    -0.     0.     0.333 -0.    -0.     0.     0.\n",
      "  -0.    -0.   ]\n",
      " [ 0.     0.     0.     0.     0.     0.     0.     0.    -0.     0.333\n",
      "  -0.     0.   ]\n",
      " [-0.     0.     0.    -0.     0.     0.    -0.    -0.     0.    -0.\n",
      "  -0.     0.   ]\n",
      " [-0.     0.     0.333 -0.     0.     0.     0.     0.     0.     0.\n",
      "   0.     0.   ]\n",
      " [-0.    -0.     0.    -0.     0.    -0.     0.333  0.     0.     0.\n",
      "  -0.    -0.   ]\n",
      " [ 0.    -0.     0.    -0.     0.    -0.    -0.     0.     0.    -0.\n",
      "   0.333 -0.   ]\n",
      " [ 0.    -0.    -0.     0.    -0.     0.     0.    -0.     0.     0.\n",
      "  -0.    -0.   ]\n",
      " [ 0.    -0.    -0.     0.333  0.    -0.    -0.     0.    -0.     0.\n",
      "  -0.    -0.   ]\n",
      " [ 0.     0.     0.     0.    -0.    -0.     0.     0.333  0.     0.\n",
      "   0.     0.   ]\n",
      " [ 0.    -0.     0.    -0.     0.    -0.    -0.     0.    -0.     0.\n",
      "  -0.     0.333]]\n",
      "0\n"
     ]
    },
    {
     "data": {
      "text/latex": [
       "$\\displaystyle \\left[\\begin{array}{cccccccccccc}0 & 0 & 0 & -1.10145779365309 \\cdot 10^{-35} & 0 & 0 & 0 & 0 & 0 & 0 & 0 & 0\\\\0 & 0.3330078125 a & 1.34961072261122 \\cdot 10^{-18} i a & 0 & 0 & 1.34961072261122 \\cdot 10^{-18} i a & 0.333 a & 0 & 0 & 0 & 0 & 0.333658854166667 a\\\\0 & 0 & 1.13352881075928 \\cdot 10^{-33} b & 0 & 0 & - 1.44390071360451 \\cdot 10^{-17} b & 0 & 0 & 0 & 0 & 0 & 0\\\\0 & 0 & 0 & 1.10145779365309 \\cdot 10^{-35} c & 0 & 0 & 0 & - 1.34961072261122 \\cdot 10^{-18} i c & 0 & 0 & 1.35490331368029 \\cdot 10^{-18} i c & 0\\\\2.70980662736057 \\cdot 10^{-18} i & 0 & 0 & - 6.54205191118239 \\cdot 10^{-18} i & 0 & 0 & 0 & -5.31830868763769 \\cdot 10^{-35} & 0 & 0 & 0 & 0\\\\0 & 0 & - 1.44390071360451 \\cdot 10^{-17} a & 0 & 0 & 1.13352881075928 \\cdot 10^{-33} a & 0 & 0 & 5.6676440537964 \\cdot 10^{-34} i a & 0 & 0 & 0\\\\0 & 0.333658854166667 b & - 2.73097699163683 \\cdot 10^{-18} i b & 0 & 0 & - 2.73097699163683 \\cdot 10^{-18} i b & 0.3330078125 b & 0 & - 5.6676440537964 \\cdot 10^{-34} b & 0 & 0 & 0.333 b\\\\- 5.6676440537964 \\cdot 10^{-34} i c & 0 & 0 & - 6.68191177523049 \\cdot 10^{-52} c + 6.54205191118239 \\cdot 10^{-18} i c & 0 & 0 & 0 & 5.31830868763769 \\cdot 10^{-35} c & 0 & 0 & 0.000325520833333273 c & 0\\\\0 & 0 & 1.35490331368029 \\cdot 10^{-18} i & 0 & 5.98969177997265 \\cdot 10^{-35} i & - 5.6676440537964 \\cdot 10^{-34} i & 0 & 0 & 0 & 0 & 0 & 1.10145779365309 \\cdot 10^{-35}\\\\5.31830868763769 \\cdot 10^{-35} a & 0 & 0 & 0 & - 6.54205191118239 \\cdot 10^{-18} i a & 0 & 0 & 1.35490331368029 \\cdot 10^{-18} i a & 0 & 1.10145779365309 \\cdot 10^{-35} a & - 1.34961072261122 \\cdot 10^{-18} i a & 0\\\\1.06366173752754 \\cdot 10^{-34} i b & 0 & 0 & 0 & 6.54205191118239 \\cdot 10^{-18} b & 0 & 0 & 0.000325520833333273 b & 0 & - 6.68191177523049 \\cdot 10^{-52} b + 6.54205191118239 \\cdot 10^{-18} i b & 5.31830868763769 \\cdot 10^{-35} b & 0\\\\0 & 0.333658854166667 c & 2.73097699163683 \\cdot 10^{-18} i c & 0 & 0 & 2.73097699163683 \\cdot 10^{-18} i c & 0.3330078125 c & 0 & 5.31830868763769 \\cdot 10^{-35} c & 0 & 0 & 0.3330078125 c\\end{array}\\right]$"
      ],
      "text/plain": [
       "Matrix([\n",
       "[                       0,                   0,                         0,                              -1.10145779365309e-35,                         0,                         0,              0,                         0,                       0,                                                  0,                         0,                    0],\n",
       "[                       0,      0.3330078125*a,  1.34961072261122e-18*I*a,                                                  0,                         0,  1.34961072261122e-18*I*a,        0.333*a,                         0,                       0,                                                  0,                         0,  0.333658854166667*a],\n",
       "[                       0,                   0,    1.13352881075928e-33*b,                                                  0,                         0,   -1.44390071360451e-17*b,              0,                         0,                       0,                                                  0,                         0,                    0],\n",
       "[                       0,                   0,                         0,                             1.10145779365309e-35*c,                         0,                         0,              0, -1.34961072261122e-18*I*c,                       0,                                                  0,  1.35490331368029e-18*I*c,                    0],\n",
       "[  2.70980662736057e-18*I,                   0,                         0,                            -6.54205191118239e-18*I,                         0,                         0,              0,     -5.31830868763769e-35,                       0,                                                  0,                         0,                    0],\n",
       "[                       0,                   0,   -1.44390071360451e-17*a,                                                  0,                         0,    1.13352881075928e-33*a,              0,                         0, 5.6676440537964e-34*I*a,                                                  0,                         0,                    0],\n",
       "[                       0, 0.333658854166667*b, -2.73097699163683e-18*I*b,                                                  0,                         0, -2.73097699163683e-18*I*b, 0.3330078125*b,                         0,  -5.6676440537964e-34*b,                                                  0,                         0,              0.333*b],\n",
       "[-5.6676440537964e-34*I*c,                   0,                         0, -6.68191177523049e-52*c + 6.54205191118239e-18*I*c,                         0,                         0,              0,    5.31830868763769e-35*c,                       0,                                                  0,    0.000325520833333273*c,                    0],\n",
       "[                       0,                   0,    1.35490331368029e-18*I,                                                  0,    5.98969177997265e-35*I,    -5.6676440537964e-34*I,              0,                         0,                       0,                                                  0,                         0, 1.10145779365309e-35],\n",
       "[  5.31830868763769e-35*a,                   0,                         0,                                                  0, -6.54205191118239e-18*I*a,                         0,              0,  1.35490331368029e-18*I*a,                       0,                             1.10145779365309e-35*a, -1.34961072261122e-18*I*a,                    0],\n",
       "[1.06366173752754e-34*I*b,                   0,                         0,                                                  0,    6.54205191118239e-18*b,                         0,              0,    0.000325520833333273*b,                       0, -6.68191177523049e-52*b + 6.54205191118239e-18*I*b,    5.31830868763769e-35*b,                    0],\n",
       "[                       0, 0.333658854166667*c,  2.73097699163683e-18*I*c,                                                  0,                         0,  2.73097699163683e-18*I*c, 0.3330078125*c,                         0,  5.31830868763769e-35*c,                                                  0,                         0,       0.3330078125*c]])"
      ]
     },
     "metadata": {},
     "output_type": "display_data"
    }
   ],
   "source": [
    "gates_key = 'cliffords'\n",
    "noise_key = 'paulis'\n",
    "# unitary_noise = np.array([[0.81200475-0.36330238j, -0.08905545+0.44802768j], [0.20160867+0.40989464j,  0.87823836+0.14155466j]])\n",
    "# noise = get_noise('tr')\n",
    "# noise = Matrix(MatrixSymbol('R', 4, 4))\n",
    "noise = Matrix([[1, 0, 0, 0], [0, Symbol('a'), 0, 0], [0, 0, Symbol('b'), 0], [0, 0, 0, Symbol('c')]]) \n",
    "# noise = get_noise('paulis')\n",
    "# display(noise)\n",
    "f_matr = get_fourier(gates_key)\n",
    "print(f_matr.round(3).real)\n",
    "f_pauli = (get_noisy_fourier(noise, gates_key, noisy_gates_dict[gates_key]))\n",
    "display(f_pauli)\n",
    "# print(get_decays())\n",
    "# eigs = f_pauli.eigenvals()"
   ]
  },
  {
   "cell_type": "code",
   "execution_count": null,
   "metadata": {},
   "outputs": [],
   "source": []
  },
  {
   "cell_type": "code",
   "execution_count": 13,
   "metadata": {},
   "outputs": [
    {
     "data": {
      "text/latex": [
       "$\\displaystyle \\left[\\begin{array}{cccccccccccc}0 & 0 & 0 & 0 & 0 & 0 & 0 & 0 & 0 & 0 & 0 & 0\\\\0 & 0 & 0 & 0 & 0 & 0 & 0 & 0 & 0 & 0 & 0 & 0\\\\0 & 0 & 0 & 0 & 0 & 0 & 0 & 0 & 0 & 0 & 0 & 0\\\\0 & 0 & 0 & 0 & 0 & 0 & 0 & 0 & 0 & 0 & 0 & 0\\\\0 & 0 & 0 & 0 & 0 & 0 & 0 & 0 & 0 & 0 & 0 & 0\\\\0 & 0 & 0 & 0 & 0 & 0 & 0 & 0 & 0 & 0 & 0 & 0\\\\0 & 0 & 0 & 0 & 0 & 0 & 0 & 0 & 0 & 0 & 0 & 0\\\\0 & 0 & 0 & 0 & 0 & 0 & 0 & 0 & 0 & 0 & 0 & 0\\\\0 & 0 & 0 & 0 & 0 & 0 & 0 & 0 & 0 & 0 & 0 & 0\\\\0 & 0 & 0 & 0 & 0 & 0 & 0 & 0 & 0 & 0 & 0 & 0\\\\0 & 0 & 0 & 0 & 0 & 0 & 0 & 0 & 0 & 0 & 0 & 0\\\\0 & 0 & 0 & 0 & 0 & 0 & 0 & 0 & 0 & 0 & 0 & \\frac{a}{3} + \\frac{b}{3} + \\frac{c}{3}\\end{array}\\right]$"
      ],
      "text/plain": [
       "Matrix([\n",
       "[0, 0, 0, 0, 0, 0, 0, 0, 0, 0, 0,               0],\n",
       "[0, 0, 0, 0, 0, 0, 0, 0, 0, 0, 0,               0],\n",
       "[0, 0, 0, 0, 0, 0, 0, 0, 0, 0, 0,               0],\n",
       "[0, 0, 0, 0, 0, 0, 0, 0, 0, 0, 0,               0],\n",
       "[0, 0, 0, 0, 0, 0, 0, 0, 0, 0, 0,               0],\n",
       "[0, 0, 0, 0, 0, 0, 0, 0, 0, 0, 0,               0],\n",
       "[0, 0, 0, 0, 0, 0, 0, 0, 0, 0, 0,               0],\n",
       "[0, 0, 0, 0, 0, 0, 0, 0, 0, 0, 0,               0],\n",
       "[0, 0, 0, 0, 0, 0, 0, 0, 0, 0, 0,               0],\n",
       "[0, 0, 0, 0, 0, 0, 0, 0, 0, 0, 0,               0],\n",
       "[0, 0, 0, 0, 0, 0, 0, 0, 0, 0, 0,               0],\n",
       "[0, 0, 0, 0, 0, 0, 0, 0, 0, 0, 0, a/3 + b/3 + c/3]])"
      ]
     },
     "execution_count": 13,
     "metadata": {},
     "output_type": "execute_result"
    }
   ],
   "source": [
    "a = Symbol('a')/3\n",
    "b = Symbol('b')/3\n",
    "c = Symbol('c')/3\n",
    "f_pauli = Matrix([[0, 0, 0, 0, 0, 0, 0, 0, 0, 0, 0, 0],\n",
    "                [0, a, 0, 0, 0, 0, a, 0, 0, 0, 0, a],\n",
    "                [0, 0, 0, 0, 0, 0, 0, 0, 0, 0, 0, 0],\n",
    "                [0, 0, 0, 0, 0, 0, 0, 0, 0, 0, 0, 0],\n",
    "                [0, 0, 0, 0, 0, 0, 0, 0, 0, 0, 0, 0],\n",
    "                [0, 0, 0, 0, 0, 0, 0, 0, 0, 0, 0, 0],\n",
    "                [0, b, 0, 0, 0, 0, b, 0, 0, 0, 0, b],\n",
    "                [0, 0, 0, 0, 0, 0, 0, 0, 0, 0, 0, 0],\n",
    "                [0, 0, 0, 0, 0, 0, 0, 0, 0, 0, 0, 0],\n",
    "                [0, 0, 0, 0, 0, 0, 0, 0, 0, 0, 0, 0],\n",
    "                [0, 0, 0, 0, 0, 0, 0, 0, 0, 0, 0, 0],\n",
    "                [0, c, 0, 0, 0, 0, c, 0, 0, 0, 0, c]])\n",
    "P, D = f_pauli.diagonalize()\n",
    "D"
   ]
  },
  {
   "cell_type": "code",
   "execution_count": 12,
   "metadata": {},
   "outputs": [
    {
     "data": {
      "text/latex": [
       "$\\displaystyle \\left[\\begin{array}{cccccccccccc}1 & 0 & 0 & 0 & 0 & 0 & 0 & 0 & 0 & 0 & 0 & 0\\\\0 & 0 & 0 & 0 & 0 & -1 & 0 & 0 & 0 & 0 & -1 & \\frac{a}{c}\\\\0 & 1 & 0 & 0 & 0 & 0 & 0 & 0 & 0 & 0 & 0 & 0\\\\0 & 0 & 1 & 0 & 0 & 0 & 0 & 0 & 0 & 0 & 0 & 0\\\\0 & 0 & 0 & 1 & 0 & 0 & 0 & 0 & 0 & 0 & 0 & 0\\\\0 & 0 & 0 & 0 & 1 & 0 & 0 & 0 & 0 & 0 & 0 & 0\\\\0 & 0 & 0 & 0 & 0 & 1 & 0 & 0 & 0 & 0 & 0 & \\frac{b}{c}\\\\0 & 0 & 0 & 0 & 0 & 0 & 1 & 0 & 0 & 0 & 0 & 0\\\\0 & 0 & 0 & 0 & 0 & 0 & 0 & 1 & 0 & 0 & 0 & 0\\\\0 & 0 & 0 & 0 & 0 & 0 & 0 & 0 & 1 & 0 & 0 & 0\\\\0 & 0 & 0 & 0 & 0 & 0 & 0 & 0 & 0 & 1 & 0 & 0\\\\0 & 0 & 0 & 0 & 0 & 0 & 0 & 0 & 0 & 0 & 1 & 1\\end{array}\\right]$"
      ],
      "text/plain": [
       "Matrix([\n",
       "[1, 0, 0, 0, 0,  0, 0, 0, 0, 0,  0,   0],\n",
       "[0, 0, 0, 0, 0, -1, 0, 0, 0, 0, -1, a/c],\n",
       "[0, 1, 0, 0, 0,  0, 0, 0, 0, 0,  0,   0],\n",
       "[0, 0, 1, 0, 0,  0, 0, 0, 0, 0,  0,   0],\n",
       "[0, 0, 0, 1, 0,  0, 0, 0, 0, 0,  0,   0],\n",
       "[0, 0, 0, 0, 1,  0, 0, 0, 0, 0,  0,   0],\n",
       "[0, 0, 0, 0, 0,  1, 0, 0, 0, 0,  0, b/c],\n",
       "[0, 0, 0, 0, 0,  0, 1, 0, 0, 0,  0,   0],\n",
       "[0, 0, 0, 0, 0,  0, 0, 1, 0, 0,  0,   0],\n",
       "[0, 0, 0, 0, 0,  0, 0, 0, 1, 0,  0,   0],\n",
       "[0, 0, 0, 0, 0,  0, 0, 0, 0, 1,  0,   0],\n",
       "[0, 0, 0, 0, 0,  0, 0, 0, 0, 0,  1,   1]])"
      ]
     },
     "execution_count": 12,
     "metadata": {},
     "output_type": "execute_result"
    }
   ],
   "source": [
    "P"
   ]
  },
  {
   "cell_type": "code",
   "execution_count": 54,
   "metadata": {},
   "outputs": [
    {
     "data": {
      "text/plain": [
       "array([[0. +0.j, 0. +0.j, 0. +0.j, 0. +0.j],\n",
       "       [0. +0.j, 0. +0.j, 0. +0.j, 0. +0.j],\n",
       "       [0. +0.j, 0. +0.j, 0. +0.j, 0. +0.j],\n",
       "       [0.5+0.j, 0. +0.j, 0. +0.j, 0.5+0.j]])"
      ]
     },
     "execution_count": 54,
     "metadata": {},
     "output_type": "execute_result"
    }
   ],
   "source": [
    "mql.round(3)"
   ]
  },
  {
   "cell_type": "code",
   "execution_count": 55,
   "metadata": {},
   "outputs": [
    {
     "data": {
      "text/plain": [
       "array([[ 0.        +0.j,  0.        +0.j,  0.        +0.j,\n",
       "         0.        +0.j],\n",
       "       [ 0.        +0.j,  0.08605957+0.j, -0.2800293 +0.j,\n",
       "         0.01499939+0.j],\n",
       "       [ 0.        +0.j, -0.1539917 +0.j,  0.74804688+0.j,\n",
       "         0.40600586+0.j],\n",
       "       [ 0.        +0.j,  0.23498535+0.j, -0.33099365+0.j,\n",
       "         0.79101562+0.j]])"
      ]
     },
     "execution_count": 55,
     "metadata": {},
     "output_type": "execute_result"
    }
   ],
   "source": [
    "fourier = np.array(f_pauli, dtype=complex)\n",
    "fourier"
   ]
  },
  {
   "cell_type": "code",
   "execution_count": 9,
   "metadata": {},
   "outputs": [
    {
     "name": "stdout",
     "output_type": "stream",
     "text": [
      "[[0. +0.j 0. +0.j 0. +0.j 0. +0.j]\n",
      " [0. +0.j 0. +0.j 0. +0.j 0. +0.j]\n",
      " [0. +0.j 0. +0.j 0. +0.j 0. +0.j]\n",
      " [0.5+0.j 0. +0.j 0. +0.j 0.5+0.j]]\n",
      "[0.5+0.j 0. +0.j]\n",
      "[1. 1.]\n",
      "[0.+0.j 0.+0.j]\n",
      "[1. 1.]\n"
     ]
    },
    {
     "data": {
      "text/plain": [
       "(array([0.5+0.j, 0. +0.j]),\n",
       " array([1., 1.]),\n",
       " array([0.+0.j, 0.+0.j]),\n",
       " array([1., 1.]))"
      ]
     },
     "execution_count": 9,
     "metadata": {},
     "output_type": "execute_result"
    }
   ],
   "source": [
    "from copy import deepcopy\n",
    "import numpy as np\n",
    "\n",
    "def inner_prod(a, b):\n",
    "    # Calculate (a, b) = sum(a*ij bij)\n",
    "    res = np.dot(a.conj().reshape(1, -1), b.reshape(-1, 1))\n",
    "    return complex(res)\n",
    "\n",
    "\n",
    "def density_to_pauli(density):\n",
    "    ''' Returns Pauli vector of a 1-qubit density matrix'''\n",
    "    s0 = np.eye(2)\n",
    "    s1 = np.array([[0,1],[1,0]])\n",
    "    s2 = np.array([[0,-1j],[1j,0]])\n",
    "    s3 = np.array([[1,0],[0,-1]])\n",
    "    paulis = np.array([s0, s1, s2, s3]) / np.sqrt(2)\n",
    "    \n",
    "    bloch_vec = []\n",
    "    for i in range(0, len(paulis)):\n",
    "        el = inner_prod(paulis[i], density)\n",
    "        bloch_vec.append(el)\n",
    "    return np.array(bloch_vec)\n",
    "\n",
    "\n",
    "def partial_trace(a, n=2):\n",
    "    dim = a.shape[0] // n\n",
    "    res = np.zeros((dim, dim), dtype=complex)\n",
    "    for i in range(dim):\n",
    "        for j in range(dim):\n",
    "            for k in range(n):\n",
    "                res[i][j] += a[n*i+k][n*j+k]\n",
    "    return res\n",
    "\n",
    "def get_mql(init_density=np.array([[1, 0], [0, 0]])):\n",
    "    # M_sign\n",
    "    m_matr = np.array([[1, 0, 0, 0], [0, 0, 0, 0], [0, 0, 0, 0], [0, 0, 0, 1]])\n",
    "    x_sign = np.array([[0, 0], [0, 0], [1, 0], [0, 1]])\n",
    "    m_sign = x_sign.T.conj() @ m_matr\n",
    "    # Q_sign\n",
    "    s_sign = np.array([[0, 0], [0, 1]])\n",
    "    state_pauli = density_to_pauli(init_density)\n",
    "    state_outer_prod = state_pauli.reshape(-1, 1) @ state_pauli.reshape(1, -1).conj()\n",
    "    q_sign = state_outer_prod @ x_sign @ s_sign\n",
    "    # Get tr2[|M_sign)(Q_sign|)]\n",
    "    mq_sign = m_sign.reshape(-1, 1) @ q_sign.reshape(1, -1).conj()\n",
    "    return partial_trace(mq_sign, 2)\n",
    "    \n",
    "\n",
    "def validation(fourier, init_density=np.array([[1, 0], [0, 0]])):\n",
    "    # A matrix for Z-basis measurement and initial state |0><0|\n",
    "    mql = get_mql(init_density)# np.array([[0, 0, 0, 0], [0, 0, 0, 0], [0, 0, 0, 0], [0.5, 0, 0, 0.5]])\n",
    "    print(mql)\n",
    "    # Get the eigenvectors and eigenvalues of the Fourier matrix s.t. r @ np.diag(eigvals) @ l == fourier\n",
    "    eigvals, r = np.linalg.eig(fourier)\n",
    "    l = np.linalg.inv(r)\n",
    "    # Find the indices corresponing to the obtained eigenvalues in descending order\n",
    "    sorted_indices = eigvals.argsort()[::-1]\n",
    "    # A: Dominant part\n",
    "    r1 = r[:, sorted_indices[:2]]\n",
    "    l1 = l[sorted_indices[:2], :]\n",
    "    a = l1 @ mql @ r1\n",
    "    dom_coef = np.array([a[0][0], a[1][1]])\n",
    "    dom_decays = eigvals[sorted_indices[:2]]\n",
    "    # B: Subdominant part\n",
    "    r2 = r[:, sorted_indices[2:]]                                                                                                                                                        \n",
    "    l2 = l[sorted_indices[2:], :]\n",
    "    b = l2 @ mql @ r2\n",
    "    subdom_coef = np.array([b[0][0], b[1][1]])\n",
    "    subdom_decays = eigvals[sorted_indices[2:]]\n",
    "    # What should be returned?\n",
    "    print(dom_coef.round(3))\n",
    "    print(dom_decays.round(3))\n",
    "    print(subdom_coef.round(3))\n",
    "    print(subdom_decays.round(3))\n",
    "    return dom_coef, dom_decays, subdom_coef, subdom_decays\n",
    "validation(np.eye(4))"
   ]
  },
  {
   "cell_type": "code",
   "execution_count": 10,
   "metadata": {},
   "outputs": [
    {
     "data": {
      "text/plain": [
       "array([0.70710678+0.j, 0.        +0.j, 0.        +0.j, 0.70710678+0.j])"
      ]
     },
     "execution_count": 10,
     "metadata": {},
     "output_type": "execute_result"
    }
   ],
   "source": [
    "density_to_pauli(np.array([[1, 0], [0, 0]]))"
   ]
  },
  {
   "cell_type": "code",
   "execution_count": 41,
   "metadata": {},
   "outputs": [
    {
     "data": {
      "text/plain": [
       "array([[7, 8, 9],\n",
       "       [1, 2, 3]])"
      ]
     },
     "execution_count": 41,
     "metadata": {},
     "output_type": "execute_result"
    }
   ],
   "source": [
    "matr = np.array([[1, 2, 3], [4, 5, 6], [7, 8, 9]])\n",
    "matr[[2, 0], :]"
   ]
  },
  {
   "cell_type": "code",
   "execution_count": 26,
   "metadata": {},
   "outputs": [
    {
     "data": {
      "text/plain": [
       "array([[0.   +0.j, 0.   +0.j, 0.   +0.j, 0.   +0.j],\n",
       "       [0.   +0.j, 0.091+0.j, 0.   +0.j, 0.   +0.j],\n",
       "       [0.   +0.j, 0.   +0.j, 0.909+0.j, 0.   +0.j],\n",
       "       [0.048+0.j, 0.   +0.j, 0.   +0.j, 0.952+0.j]])"
      ]
     },
     "execution_count": 26,
     "metadata": {},
     "output_type": "execute_result"
    }
   ],
   "source": [
    "(eigvects @ np.diag(eigvals) @ np.linalg.inv(eigvects)).round(3)"
   ]
  },
  {
   "cell_type": "code",
   "execution_count": 29,
   "metadata": {},
   "outputs": [
    {
     "name": "stdout",
     "output_type": "stream",
     "text": [
      "[[ 0.   +0.j  0.999+0.j  0.   +0.j  0.   +0.j]\n",
      " [ 0.   +0.j  0.   +0.j  1.   +0.j  0.   +0.j]\n",
      " [ 0.   +0.j  0.   +0.j  0.   +0.j  1.   +0.j]\n",
      " [ 1.   +0.j -0.05 +0.j  0.   +0.j  0.   +0.j]]\n",
      "[0.952+0.j 0.   +0.j 0.091+0.j 0.909+0.j]\n"
     ]
    }
   ],
   "source": [
    "print(eigvects.round(3))\n",
    "print(eigvals.round(3))"
   ]
  },
  {
   "cell_type": "code",
   "execution_count": 30,
   "metadata": {},
   "outputs": [
    {
     "name": "stdout",
     "output_type": "stream",
     "text": [
      "[[ 0.   +0.j  0.999+0.j  0.   +0.j  0.   +0.j]\n",
      " [ 1.   +0.j -0.05 +0.j  0.   +0.j  0.   +0.j]]\n",
      "[[0. +0.j 0. +0.j 0. +0.j 0. +0.j]\n",
      " [0. +0.j 0. +0.j 0. +0.j 0. +0.j]\n",
      " [0. +0.j 0. +0.j 0. +0.j 0. +0.j]\n",
      " [0.5+0.j 0. +0.j 0. +0.j 0.5+0.j]]\n",
      "[[0.+0.j 0.+0.j]\n",
      " [0.+0.j 0.+0.j]\n",
      " [0.+0.j 1.+0.j]\n",
      " [1.+0.j 0.+0.j]]\n",
      "[[0.+0.j 0.+0.j]\n",
      " [0.+0.j 0.+0.j]]\n"
     ]
    }
   ],
   "source": [
    "print(l1.round(3))\n",
    "print(mql)\n",
    "print(r1)\n",
    "print(l1 @ mql @ r1)"
   ]
  },
  {
   "cell_type": "code",
   "execution_count": 16,
   "metadata": {},
   "outputs": [
    {
     "data": {
      "text/plain": [
       "array([[1, 0],\n",
       "       [0, 4]])"
      ]
     },
     "execution_count": 16,
     "metadata": {},
     "output_type": "execute_result"
    }
   ],
   "source": [
    "# a = np.array([[1, 3, 5, 4], [1, 3, 5, 4], [1, 3, 5, 4], [1, 3, 5, 4]])\n",
    "a = np.array([1, 3, 5, 4])\n",
    "np.diag(a[[0, 3]])"
   ]
  },
  {
   "cell_type": "code",
   "execution_count": 48,
   "metadata": {},
   "outputs": [
    {
     "data": {
      "text/plain": [
       "{0: 2,\n",
       " 0.5*(py + pz): 2,\n",
       " -0.5*px - 0.25*py - 0.25*pz - 1.0*sqrt(1.0*px**2 + 1.0*px*py + 1.0*px*pz - 1.0*px + 0.0625*py**2 + 0.875*py*pz - 0.5*py + 0.0625*pz**2 - 0.5*pz + 0.25) + 0.5: 2,\n",
       " -0.5*px - 0.25*py - 0.25*pz + 1.0*sqrt(1.0*px**2 + 1.0*px*py + 1.0*px*pz - 1.0*px + 0.0625*py**2 + 0.875*py*pz - 0.5*py + 0.0625*pz**2 - 0.5*pz + 0.25) + 0.5: 2}"
      ]
     },
     "execution_count": 48,
     "metadata": {},
     "output_type": "execute_result"
    }
   ],
   "source": [
    "decays_dict = (f_pauli).eigenvals()\n",
    "decays_dict"
   ]
  },
  {
   "cell_type": "code",
   "execution_count": null,
   "metadata": {},
   "outputs": [],
   "source": [
    "px = Symbol('px')\n",
    "py = Symbol('py')\n",
    "pz = Symbol('pz')\n",
    "\n",
    "for d in decays_dict.keys():\n",
    "    print(d.subs())"
   ]
  },
  {
   "cell_type": "code",
   "execution_count": 44,
   "metadata": {},
   "outputs": [
    {
     "data": {
      "text/latex": [
       "$\\displaystyle 0$"
      ],
      "text/plain": [
       "0"
      ]
     },
     "metadata": {},
     "output_type": "display_data"
    },
    {
     "data": {
      "text/latex": [
       "$\\displaystyle 0.25 \\left(e^{\\frac{t}{T_{2}}} - 1\\right) e^{- \\frac{t}{T_{2}}}$"
      ],
      "text/plain": [
       "0.25*(exp(t/T2) - 1)*exp(-t/T2)"
      ]
     },
     "metadata": {},
     "output_type": "display_data"
    },
    {
     "data": {
      "text/latex": [
       "$\\displaystyle - 0.468 \\sqrt{0.0714 e^{\\frac{2 t}{T_{1}}} + 0.0714 e^{\\frac{2 t}{T_{2}}} + e^{t \\left(\\frac{1}{T_{2}} + \\frac{1}{T_{1}}\\right)}} e^{- \\frac{t}{T_{1}}} e^{- \\frac{t}{T_{2}}} + 0.25 + 0.125 e^{- \\frac{t}{T_{2}}} + 0.125 e^{- \\frac{t}{T_{1}}}$"
      ],
      "text/plain": [
       "-0.468*sqrt(0.0714*exp(2*t/T1) + 0.0714*exp(2*t/T2) + exp(t*(1/T2 + 1/T1)))*exp(-t/T1)*exp(-t/T2) + 0.25 + 0.125*exp(-t/T2) + 0.125*exp(-t/T1)"
      ]
     },
     "metadata": {},
     "output_type": "display_data"
    },
    {
     "data": {
      "text/latex": [
       "$\\displaystyle 0.468 \\sqrt{0.0714 e^{\\frac{2 t}{T_{1}}} + 0.0714 e^{\\frac{2 t}{T_{2}}} + e^{t \\left(\\frac{1}{T_{2}} + \\frac{1}{T_{1}}\\right)}} e^{- \\frac{t}{T_{1}}} e^{- \\frac{t}{T_{2}}} + 0.25 + 0.125 e^{- \\frac{t}{T_{2}}} + 0.125 e^{- \\frac{t}{T_{1}}}$"
      ],
      "text/plain": [
       "0.468*sqrt(0.0714*exp(2*t/T1) + 0.0714*exp(2*t/T2) + exp(t*(1/T2 + 1/T1)))*exp(-t/T1)*exp(-t/T2) + 0.25 + 0.125*exp(-t/T2) + 0.125*exp(-t/T1)"
      ]
     },
     "metadata": {},
     "output_type": "display_data"
    }
   ],
   "source": [
    "t = Symbol('t')\n",
    "t1 = Symbol('T1')\n",
    "t2 = Symbol('T2')\n",
    "a0 = Symbol('a0')\n",
    "\n",
    "for d in list(decays_dict.keys()):\n",
    "    display(d)"
   ]
  },
  {
   "cell_type": "code",
   "execution_count": 46,
   "metadata": {},
   "outputs": [
    {
     "name": "stdout",
     "output_type": "stream",
     "text": [
      "0\n",
      "0.0453173117305045\n",
      "0.0349534682928249\n",
      "0.895938574485660\n"
     ]
    }
   ],
   "source": [
    "t1_value = 0.1\n",
    "t2_value = 0.05\n",
    "t_value = 0.01\n",
    "a0_value = 0\n",
    "\n",
    "for d in list(decays_dict.keys()):\n",
    "    print(d.subs([(t1, t1_value), (t2, t2_value), (t, t_value), (a0, a0_value)]))\n"
   ]
  },
  {
   "cell_type": "code",
   "execution_count": 53,
   "metadata": {},
   "outputs": [],
   "source": [
    "from copy import deepcopy\n",
    "def round_sympy(matr, n=3):\n",
    "    print(matr[0, 0])\n",
    "    matr_round = deepcopy(matr)\n",
    "    for i in range(matr.shape[0]):\n",
    "        for j in range(matr.shape[1]):\n",
    "            for a in preorder_traversal(matr[i, j]):\n",
    "                if isinstance(a, Float):\n",
    "                    matr_round[i,j] = matr_round[i,j].subs(a, a.round(n))\n",
    "    return matr_round"
   ]
  },
  {
   "cell_type": "code",
   "execution_count": 54,
   "metadata": {},
   "outputs": [
    {
     "name": "stdout",
     "output_type": "stream",
     "text": [
      "0\n"
     ]
    },
    {
     "data": {
      "text/latex": [
       "$\\displaystyle \\left[\\begin{array}{cccccccccccc}0 & 0 & 0 & 0 & 0 & 0 & 0 & 0 & 0 & 0 & 0 & 0\\\\0 & 0.333 px & 0 & 0 & 0 & 0 & 0 & 0 & 0 & 0 & 0 & 0\\\\0 & 0 & 0 & 0 & 0 & 0.3330078125 py & 0 & 0 & 0 & 0 & 0 & 0\\\\0 & 0 & 0 & 0 & 0 & 0 & 0 & 0 & 0 & 0.333 pz & 0 & 0\\\\0 & 0 & 0 & 0 & 0 & 0 & 0 & 0 & 0 & 0 & 0 & 0\\\\0 & 0 & 0.333 px & 0 & 0 & 0 & 0 & 0 & 0 & 0 & 0 & 0\\\\0 & 0 & 0 & 0 & 0 & 0 & 0.333 py & 0 & 0 & 0 & 0 & 0.001 py\\\\0 & 0 & 0 & 0 & 0 & 0 & 0 & 0 & 0 & 0 & 0.333 pz & 0\\\\0 & 0 & 0 & 0 & 0 & 0 & 0 & 0 & 0 & 0 & 0 & 0\\\\0 & 0 & 0 & 0.333 px & 0 & 0 & 0 & 0 & 0 & 0 & 0 & 0\\\\0 & 0 & 0 & 0 & 0 & 0 & 0 & 0.333 py & 0 & 0 & 0 & 0\\\\0 & 0 & 0 & 0 & 0 & 0 & 0.001 pz & 0 & 0 & 0 & 0 & 0.333 pz\\end{array}\\right]$"
      ],
      "text/plain": [
       "Matrix([\n",
       "[0,        0,        0,        0, 0,               0,        0,        0, 0,        0,        0,        0],\n",
       "[0, 0.333*px,        0,        0, 0,               0,        0,        0, 0,        0,        0,        0],\n",
       "[0,        0,        0,        0, 0, 0.3330078125*py,        0,        0, 0,        0,        0,        0],\n",
       "[0,        0,        0,        0, 0,               0,        0,        0, 0, 0.333*pz,        0,        0],\n",
       "[0,        0,        0,        0, 0,               0,        0,        0, 0,        0,        0,        0],\n",
       "[0,        0, 0.333*px,        0, 0,               0,        0,        0, 0,        0,        0,        0],\n",
       "[0,        0,        0,        0, 0,               0, 0.333*py,        0, 0,        0,        0, 0.001*py],\n",
       "[0,        0,        0,        0, 0,               0,        0,        0, 0,        0, 0.333*pz,        0],\n",
       "[0,        0,        0,        0, 0,               0,        0,        0, 0,        0,        0,        0],\n",
       "[0,        0,        0, 0.333*px, 0,               0,        0,        0, 0,        0,        0,        0],\n",
       "[0,        0,        0,        0, 0,               0,        0, 0.333*py, 0,        0,        0,        0],\n",
       "[0,        0,        0,        0, 0,               0, 0.001*pz,        0, 0,        0,        0, 0.333*pz]])"
      ]
     },
     "execution_count": 54,
     "metadata": {},
     "output_type": "execute_result"
    }
   ],
   "source": [
    "round_sympy(f_pauli)"
   ]
  },
  {
   "cell_type": "code",
   "execution_count": 32,
   "metadata": {},
   "outputs": [
    {
     "data": {
      "text/latex": [
       "$\\displaystyle a b$"
      ],
      "text/plain": [
       "a*b"
      ]
     },
     "execution_count": 32,
     "metadata": {},
     "output_type": "execute_result"
    }
   ],
   "source": [
    "a = Symbol('a')\n",
    "b = Symbol('b')\n",
    "eq = a*b\n",
    "eq"
   ]
  },
  {
   "cell_type": "code",
   "execution_count": 33,
   "metadata": {},
   "outputs": [
    {
     "data": {
      "text/latex": [
       "$\\displaystyle 1.6666666 i b$"
      ],
      "text/plain": [
       "1.6666666*I*b"
      ]
     },
     "execution_count": 33,
     "metadata": {},
     "output_type": "execute_result"
    }
   ],
   "source": [
    "eq = eq.subs(a, 1.6666666*I)\n",
    "eq"
   ]
  },
  {
   "cell_type": "code",
   "execution_count": 39,
   "metadata": {},
   "outputs": [
    {
     "name": "stdout",
     "output_type": "stream",
     "text": [
      "1.61436890946905e-34*I*pz\n",
      "<class 'sympy.core.mul.Mul'>\n",
      "1.61436890946905e-34\n",
      "<class 'sympy.core.numbers.Float'>\n",
      "I\n",
      "<class 'sympy.core.numbers.ImaginaryUnit'>\n",
      "pz\n",
      "<class 'sympy.core.symbol.Symbol'>\n"
     ]
    },
    {
     "data": {
      "text/latex": [
       "$\\displaystyle 0$"
      ],
      "text/plain": [
       "0"
      ]
     },
     "execution_count": 39,
     "metadata": {},
     "output_type": "execute_result"
    }
   ],
   "source": [
    "el2 = deepcopy(eq)\n",
    "for el in preorder_traversal(eq):\n",
    "    print(el)\n",
    "    print(type(el))\n",
    "    if isinstance(el, Float):\n",
    "        el2 = eq.subs(el, round(el, 3))\n",
    "el2"
   ]
  },
  {
   "cell_type": "code",
   "execution_count": 20,
   "metadata": {},
   "outputs": [],
   "source": [
    "import numpy as np\n",
    "def get_pauli_decs(px, py, pz):\n",
    "    ax = 1 - 2 * py - 2 * pz\n",
    "    ay = 1 - 2 * px - 2 * px\n",
    "    az = 1 - 2 * px - 2 * py\n",
    "    print('ax =', ax )\n",
    "    print('ay =', ay )\n",
    "    print('ay =', ay )\n",
    "    print('srqt(axy) =', np.sqrt(ax * ay) )\n",
    "    print('srqt(ayz) =', np.sqrt(ay * ax) )\n",
    "    print('srqt(axz) =', np.sqrt(ax * az) )"
   ]
  },
  {
   "cell_type": "code",
   "execution_count": 22,
   "metadata": {},
   "outputs": [
    {
     "name": "stdout",
     "output_type": "stream",
     "text": [
      "ax = 1\n",
      "ay = 0.6000000000000001\n",
      "ay = 0.6000000000000001\n",
      "srqt(axy) = 0.7745966692414834\n",
      "srqt(ayz) = 0.7745966692414834\n",
      "srqt(axz) = 0.8944271909999159\n"
     ]
    }
   ],
   "source": [
    "get_pauli_decs(0.1, 0, 0)"
   ]
  },
  {
   "cell_type": "code",
   "execution_count": 1,
   "metadata": {},
   "outputs": [
    {
     "name": "stdout",
     "output_type": "stream",
     "text": [
      "[[0.+0.j 1.+0.j]\n",
      " [1.+0.j 0.+0.j]]\n",
      "[[ 0.+0.j -0.-1.j]\n",
      " [ 0.+1.j  0.+0.j]]\n",
      "Matrix([[0, 0, 0, 0], [0, 0, 0, 0], [0, 0, 0, 0], [-0.5*(-1 + exp(-t/T1))*(1 - 2*a0), 0, 0, 0.5 + 0.5*exp(-t/T1)]]) \n",
      "\n",
      "Matrix([[0, 0, 0, 0], [0, 0, 0, 0], [0, 0, 0, 0], [0, 0, 0, 0.5*(exp(t/T1) + 1.0)*exp(-t/T1)]])\n",
      "[[0.+0.j 1.+0.j]\n",
      " [1.+0.j 0.+0.j]]\n",
      "[[ 0.+0.j -0.-1.j]\n",
      " [ 0.+1.j  0.+0.j]]\n",
      "0.500000000000000\n",
      "{0.5*(exp(t/T1) + 1)*exp(-t/T1): 1}\n"
     ]
    }
   ],
   "source": [
    "from fourier_info import get_thermal_relaxation_noise, get_pauli_noise, get_noisy_fourier, get_unitary_noise, get_rand_unitary_noise, get_decays\n",
    "import numpy as np\n",
    "from sympy import *"
   ]
  },
  {
   "cell_type": "code",
   "execution_count": 13,
   "metadata": {},
   "outputs": [
    {
     "data": {
      "text/latex": [
       "$\\displaystyle \\left[\\begin{matrix}0.5 \\left(a e^{i \\varphi} \\overline{a} + b e^{i \\varphi} \\overline{b} + \\left(a \\overline{a} + b \\overline{b}\\right) e^{i \\overline{\\varphi}}\\right) e^{- i \\overline{\\varphi}} & 0.5 \\left(- a e^{i \\varphi} \\overline{b} - b e^{i \\varphi} \\overline{a} + \\left(a \\overline{b} + b \\overline{a}\\right) e^{i \\overline{\\varphi}}\\right) e^{- i \\overline{\\varphi}} & 0.5 i \\left(a e^{i \\varphi} \\overline{b} - b e^{i \\varphi} \\overline{a} + \\left(- a \\overline{b} + b \\overline{a}\\right) e^{i \\overline{\\varphi}}\\right) e^{- i \\overline{\\varphi}} & 0.5 \\left(- a e^{i \\varphi} \\overline{a} + b e^{i \\varphi} \\overline{b} + \\left(a \\overline{a} - b \\overline{b}\\right) e^{i \\overline{\\varphi}}\\right) e^{- i \\overline{\\varphi}}\\\\0 & \\left(0.5 a^{2} - 0.5 b^{2} + 0.5 \\left(\\overline{a}^{2} - \\overline{b}^{2}\\right) e^{i \\left(\\varphi + \\overline{\\varphi}\\right)}\\right) e^{- i \\overline{\\varphi}} & 0.5 i \\left(- a^{2} - b^{2} + \\left(\\overline{a}^{2} + \\overline{b}^{2}\\right) e^{i \\left(\\varphi + \\overline{\\varphi}\\right)}\\right) e^{- i \\overline{\\varphi}} & - 1.0 a b e^{- i \\overline{\\varphi}} - 1.0 e^{i \\varphi} \\overline{a} \\overline{b}\\\\0 & 0.5 i \\left(a^{2} - b^{2} + \\left(- \\overline{a}^{2} + \\overline{b}^{2}\\right) e^{i \\left(\\varphi + \\overline{\\varphi}\\right)}\\right) e^{- i \\overline{\\varphi}} & \\left(0.5 a^{2} + 0.5 b^{2} + 0.5 \\left(\\overline{a}^{2} + \\overline{b}^{2}\\right) e^{i \\left(\\varphi + \\overline{\\varphi}\\right)}\\right) e^{- i \\overline{\\varphi}} & - 1.0 i a b e^{- i \\overline{\\varphi}} + i e^{i \\varphi} \\overline{a} \\overline{b}\\\\0.5 \\left(- a e^{i \\varphi} \\overline{a} - b e^{i \\varphi} \\overline{b} + \\left(a \\overline{a} + b \\overline{b}\\right) e^{i \\overline{\\varphi}}\\right) e^{- i \\overline{\\varphi}} & 0.5 \\left(a e^{i \\varphi} \\overline{b} + b e^{i \\varphi} \\overline{a} + \\left(a \\overline{b} + b \\overline{a}\\right) e^{i \\overline{\\varphi}}\\right) e^{- i \\overline{\\varphi}} & 0.5 i \\left(- a e^{i \\varphi} \\overline{b} + b e^{i \\varphi} \\overline{a} + \\left(- a \\overline{b} + b \\overline{a}\\right) e^{i \\overline{\\varphi}}\\right) e^{- i \\overline{\\varphi}} & 0.5 \\left(a e^{i \\varphi} \\overline{a} - b e^{i \\varphi} \\overline{b} + \\left(a \\overline{a} - b \\overline{b}\\right) e^{i \\overline{\\varphi}}\\right) e^{- i \\overline{\\varphi}}\\end{matrix}\\right]$"
      ],
      "text/plain": [
       "Matrix([\n",
       "[ 0.5*(a*exp(I*varphi)*conjugate(a) + b*exp(I*varphi)*conjugate(b) + (a*conjugate(a) + b*conjugate(b))*exp(I*conjugate(varphi)))*exp(-I*conjugate(varphi)), 0.5*(-a*exp(I*varphi)*conjugate(b) - b*exp(I*varphi)*conjugate(a) + (a*conjugate(b) + b*conjugate(a))*exp(I*conjugate(varphi)))*exp(-I*conjugate(varphi)),  0.5*I*(a*exp(I*varphi)*conjugate(b) - b*exp(I*varphi)*conjugate(a) + (-a*conjugate(b) + b*conjugate(a))*exp(I*conjugate(varphi)))*exp(-I*conjugate(varphi)), 0.5*(-a*exp(I*varphi)*conjugate(a) + b*exp(I*varphi)*conjugate(b) + (a*conjugate(a) - b*conjugate(b))*exp(I*conjugate(varphi)))*exp(-I*conjugate(varphi))],\n",
       "[                                                                                                                                                        0,                             (0.5*a**2 - 0.5*b**2 + 0.5*(conjugate(a)**2 - conjugate(b)**2)*exp(I*(varphi + conjugate(varphi))))*exp(-I*conjugate(varphi)),                                     0.5*I*(-a**2 - b**2 + (conjugate(a)**2 + conjugate(b)**2)*exp(I*(varphi + conjugate(varphi))))*exp(-I*conjugate(varphi)),                                                                          -1.0*a*b*exp(-I*conjugate(varphi)) - 1.0*exp(I*varphi)*conjugate(a)*conjugate(b)],\n",
       "[                                                                                                                                                        0,                                  0.5*I*(a**2 - b**2 + (-conjugate(a)**2 + conjugate(b)**2)*exp(I*(varphi + conjugate(varphi))))*exp(-I*conjugate(varphi)),                                (0.5*a**2 + 0.5*b**2 + 0.5*(conjugate(a)**2 + conjugate(b)**2)*exp(I*(varphi + conjugate(varphi))))*exp(-I*conjugate(varphi)),                                                                          -1.0*I*a*b*exp(-I*conjugate(varphi)) + I*exp(I*varphi)*conjugate(a)*conjugate(b)],\n",
       "[0.5*(-a*exp(I*varphi)*conjugate(a) - b*exp(I*varphi)*conjugate(b) + (a*conjugate(a) + b*conjugate(b))*exp(I*conjugate(varphi)))*exp(-I*conjugate(varphi)),  0.5*(a*exp(I*varphi)*conjugate(b) + b*exp(I*varphi)*conjugate(a) + (a*conjugate(b) + b*conjugate(a))*exp(I*conjugate(varphi)))*exp(-I*conjugate(varphi)), 0.5*I*(-a*exp(I*varphi)*conjugate(b) + b*exp(I*varphi)*conjugate(a) + (-a*conjugate(b) + b*conjugate(a))*exp(I*conjugate(varphi)))*exp(-I*conjugate(varphi)),  0.5*(a*exp(I*varphi)*conjugate(a) - b*exp(I*varphi)*conjugate(b) + (a*conjugate(a) - b*conjugate(b))*exp(I*conjugate(varphi)))*exp(-I*conjugate(varphi))]])"
      ]
     },
     "metadata": {},
     "output_type": "display_data"
    }
   ],
   "source": [
    "u = get_unitary_noise()\n",
    "u = simplify(u)\n",
    "display(u)"
   ]
  },
  {
   "cell_type": "code",
   "execution_count": 2,
   "metadata": {},
   "outputs": [
    {
     "name": "stdout",
     "output_type": "stream",
     "text": [
      "[[0.+0.j 1.+0.j]\n",
      " [1.+0.j 0.+0.j]]\n",
      "[[ 0.+0.j -0.-1.j]\n",
      " [ 0.+1.j  0.+0.j]]\n"
     ]
    }
   ],
   "source": [
    "gates_key = 'paulis'\n",
    "noisy_gates = [\n",
    "    np.array([[0, 1], [1, 0]]),\n",
    "    np.array([[0, -1j], [1j, 0]])\n",
    "]\n",
    "\n",
    "# Symbolic Pauli noise\n",
    "# noise = get_pauli_noise()\n",
    "\n",
    "# Symbolic Thermal Relaxation noise\n",
    "noise = get_thermal_relaxation_noise()\n",
    "\n",
    "# Random unitary nosie\n",
    "# noise = get_rand_unitary_noise()\n",
    "\n",
    "fourier_matr = get_noisy_fourier(noise, gates_key, noisy_gates)"
   ]
  },
  {
   "cell_type": "code",
   "execution_count": 3,
   "metadata": {},
   "outputs": [
    {
     "data": {
      "text/latex": [
       "$\\displaystyle \\left[\\begin{matrix}0 & 0 & 0 & 0\\\\0 & 0 & 0 & 0\\\\0 & 0 & 0 & 0\\\\- 0.5 \\left(-1 + e^{- \\frac{t}{T_{1}}}\\right) \\left(1 - 2 a_{0}\\right) & 0 & 0 & 0.5 + 0.5 e^{- \\frac{t}{T_{1}}}\\end{matrix}\\right]$"
      ],
      "text/plain": [
       "Matrix([\n",
       "[                                0, 0, 0,                    0],\n",
       "[                                0, 0, 0,                    0],\n",
       "[                                0, 0, 0,                    0],\n",
       "[-0.5*(-1 + exp(-t/T1))*(1 - 2*a0), 0, 0, 0.5 + 0.5*exp(-t/T1)]])"
      ]
     },
     "metadata": {},
     "output_type": "display_data"
    }
   ],
   "source": [
    "display(fourier_matr)"
   ]
  },
  {
   "cell_type": "code",
   "execution_count": 4,
   "metadata": {},
   "outputs": [
    {
     "data": {
      "text/latex": [
       "$\\displaystyle \\left[\\begin{matrix}0 & 0 & 0 & 0\\\\0 & 0 & 0 & 0\\\\0 & 0 & 0 & 0\\\\0 & 0 & 0 & 0.5 \\left(e^{\\frac{t}{T_{1}}} + 1.0\\right) e^{- \\frac{t}{T_{1}}}\\end{matrix}\\right]$"
      ],
      "text/plain": [
       "Matrix([\n",
       "[0, 0, 0,                                0],\n",
       "[0, 0, 0,                                0],\n",
       "[0, 0, 0,                                0],\n",
       "[0, 0, 0, 0.5*(exp(t/T1) + 1.0)*exp(-t/T1)]])"
      ]
     },
     "execution_count": 4,
     "metadata": {},
     "output_type": "execute_result"
    }
   ],
   "source": [
    "P, D = fourier_matr.diagonalize()\n",
    "D"
   ]
  },
  {
   "cell_type": "code",
   "execution_count": 21,
   "metadata": {},
   "outputs": [
    {
     "ename": "ImportError",
     "evalue": "cannot import name 'get_decays' from 'fourier_info' (/nfs/users/yelyzaveta.vodovozova/qibocal/src/qibocal/fourier_info.py)",
     "output_type": "error",
     "traceback": [
      "\u001b[0;31m---------------------------------------------------------------------------\u001b[0m",
      "\u001b[0;31mImportError\u001b[0m                               Traceback (most recent call last)",
      "\u001b[0;32m/tmp/ipykernel_2894252/3583963042.py\u001b[0m in \u001b[0;36m<cell line: 1>\u001b[0;34m()\u001b[0m\n\u001b[0;32m----> 1\u001b[0;31m \u001b[0;32mfrom\u001b[0m \u001b[0mfourier_info\u001b[0m \u001b[0;32mimport\u001b[0m \u001b[0mget_decays\u001b[0m\u001b[0;34m\u001b[0m\u001b[0;34m\u001b[0m\u001b[0m\n\u001b[0m",
      "\u001b[0;31mImportError\u001b[0m: cannot import name 'get_decays' from 'fourier_info' (/nfs/users/yelyzaveta.vodovozova/qibocal/src/qibocal/fourier_info.py)"
     ]
    }
   ],
   "source": [
    "from fourier_info import get_decays"
   ]
  },
  {
   "cell_type": "code",
   "execution_count": 35,
   "metadata": {},
   "outputs": [
    {
     "name": "stdout",
     "output_type": "stream",
     "text": [
      "(0.3545455, 5)\n",
      "(20.085536923187668, 2)\n",
      "(3.2457259624 + 7.346724852*I, 71)\n"
     ]
    }
   ],
   "source": [
    "dict_t = {0.3545455: 5, np.exp(3): 2, (3.2457259624+7.346724852*I): 71}\n",
    "d_t = {}\n",
    "for d in dict_t.items():\n",
    "    print(d)\n",
    "    d_t[round(d[0], 3)] = d[1]"
   ]
  },
  {
   "cell_type": "code",
   "execution_count": 36,
   "metadata": {},
   "outputs": [
    {
     "data": {
      "text/plain": [
       "{0.355: 5, 20.086: 2, 3.246 + 7.347*I: 71}"
      ]
     },
     "execution_count": 36,
     "metadata": {},
     "output_type": "execute_result"
    }
   ],
   "source": [
    "d_t"
   ]
  },
  {
   "cell_type": "code",
   "execution_count": 33,
   "metadata": {},
   "outputs": [
    {
     "data": {
      "text/latex": [
       "$\\displaystyle 3.204 + 4.347 i$"
      ],
      "text/plain": [
       "3.204 + 4.347*I"
      ]
     },
     "execution_count": 33,
     "metadata": {},
     "output_type": "execute_result"
    }
   ],
   "source": [
    "(3.203857058+4.346837*I)"
   ]
  },
  {
   "cell_type": "code",
   "execution_count": 2,
   "metadata": {},
   "outputs": [],
   "source": [
    "from qibo import matrices"
   ]
  },
  {
   "cell_type": "code",
   "execution_count": 5,
   "metadata": {},
   "outputs": [],
   "source": [
    "im = matrices.I\n",
    "xm = matrices.X\n",
    "ym = matrices.Y\n",
    "zm = matrices.Z"
   ]
  },
  {
   "cell_type": "code",
   "execution_count": 11,
   "metadata": {},
   "outputs": [
    {
     "data": {
      "text/plain": [
       "array([[0.+0.j, 0.+1.j],\n",
       "       [0.-1.j, 0.+0.j]])"
      ]
     },
     "execution_count": 11,
     "metadata": {},
     "output_type": "execute_result"
    }
   ],
   "source": [
    "zm @ ym @ zm"
   ]
  },
  {
   "cell_type": "code",
   "execution_count": 15,
   "metadata": {},
   "outputs": [
    {
     "ename": "AttributeError",
     "evalue": "'QiboMatrices' object has no attribute 'RX'",
     "output_type": "error",
     "traceback": [
      "\u001b[0;31m---------------------------------------------------------------------------\u001b[0m",
      "\u001b[0;31mAttributeError\u001b[0m                            Traceback (most recent call last)",
      "\u001b[0;32m/tmp/ipykernel_1932796/3983434399.py\u001b[0m in \u001b[0;36m<cell line: 1>\u001b[0;34m()\u001b[0m\n\u001b[0;32m----> 1\u001b[0;31m \u001b[0mmatrices\u001b[0m\u001b[0;34m.\u001b[0m\u001b[0mRX\u001b[0m\u001b[0;34m(\u001b[0m\u001b[0;36m0\u001b[0m\u001b[0;34m)\u001b[0m\u001b[0;34m\u001b[0m\u001b[0;34m\u001b[0m\u001b[0m\n\u001b[0m",
      "\u001b[0;31mAttributeError\u001b[0m: 'QiboMatrices' object has no attribute 'RX'"
     ]
    }
   ],
   "source": [
    "fomr fourier"
   ]
  },
  {
   "cell_type": "code",
   "execution_count": 3,
   "metadata": {},
   "outputs": [
    {
     "data": {
      "text/latex": [
       "$\\displaystyle \\left[\\begin{matrix}- \\frac{2 i e^{\\frac{i \\pi \\left(G_{0, 0} + G_{1, 1}\\right)}{4} + \\frac{\\pi \\sqrt{- \\left(G_{0, 0} + G_{1, 1}\\right)^{2} + 4 G_{0, 0} G_{1, 1} - 4 G_{0, 1} G_{1, 0}}}{4}} G_{0, 1} G_{1, 0}}{\\left(i \\sqrt{- G_{0, 0}^{2} + 2 G_{0, 0} G_{1, 1} - 4 G_{0, 1} G_{1, 0} - G_{1, 1}^{2}} + G_{0, 0} - G_{1, 1}\\right) \\sqrt{- G_{0, 0}^{2} + 2 G_{0, 0} G_{1, 1} - 4 G_{0, 1} G_{1, 0} - G_{1, 1}^{2}}} + \\frac{2 i e^{\\frac{i \\pi \\left(G_{0, 0} + G_{1, 1}\\right)}{4} - \\frac{\\pi \\sqrt{- \\left(G_{0, 0} + G_{1, 1}\\right)^{2} + 4 G_{0, 0} G_{1, 1} - 4 G_{0, 1} G_{1, 0}}}{4}} G_{0, 1} G_{1, 0}}{\\left(- i \\sqrt{- G_{0, 0}^{2} + 2 G_{0, 0} G_{1, 1} - 4 G_{0, 1} G_{1, 0} - G_{1, 1}^{2}} + G_{0, 0} - G_{1, 1}\\right) \\sqrt{- G_{0, 0}^{2} + 2 G_{0, 0} G_{1, 1} - 4 G_{0, 1} G_{1, 0} - G_{1, 1}^{2}}} & - \\frac{4 e^{\\frac{i \\pi \\left(G_{0, 0} + G_{1, 1}\\right)}{4} + \\frac{\\pi \\sqrt{- \\left(G_{0, 0} + G_{1, 1}\\right)^{2} + 4 G_{0, 0} G_{1, 1} - 4 G_{0, 1} G_{1, 0}}}{4}} G_{0, 1}^{2} G_{1, 0}}{\\left(i \\sqrt{- G_{0, 0}^{2} + 2 G_{0, 0} G_{1, 1} - 4 G_{0, 1} G_{1, 0} - G_{1, 1}^{2}} + G_{0, 0} - G_{1, 1}\\right) \\left(- i \\sqrt{- G_{0, 0}^{2} + 2 G_{0, 0} G_{1, 1} - 4 G_{0, 1} G_{1, 0} - G_{1, 1}^{2}} G_{0, 0} + i \\sqrt{- G_{0, 0}^{2} + 2 G_{0, 0} G_{1, 1} - 4 G_{0, 1} G_{1, 0} - G_{1, 1}^{2}} G_{1, 1} + G_{0, 0}^{2} - 2 G_{0, 0} G_{1, 1} + 4 G_{0, 1} G_{1, 0} + G_{1, 1}^{2}\\right)} - \\frac{2 \\left(- i \\sqrt{- G_{0, 0}^{2} + 2 G_{0, 0} G_{1, 1} - 4 G_{0, 1} G_{1, 0} - G_{1, 1}^{2}} G_{0, 0} + i \\sqrt{- G_{0, 0}^{2} + 2 G_{0, 0} G_{1, 1} - 4 G_{0, 1} G_{1, 0} - G_{1, 1}^{2}} G_{1, 1} + G_{0, 0}^{2} - 2 G_{0, 0} G_{1, 1} + 2 G_{0, 1} G_{1, 0} + G_{1, 1}^{2}\\right) e^{\\frac{i \\pi \\left(G_{0, 0} + G_{1, 1}\\right)}{4} - \\frac{\\pi \\sqrt{- \\left(G_{0, 0} + G_{1, 1}\\right)^{2} + 4 G_{0, 0} G_{1, 1} - 4 G_{0, 1} G_{1, 0}}}{4}} G_{0, 1}}{\\left(- i \\sqrt{- G_{0, 0}^{2} + 2 G_{0, 0} G_{1, 1} - 4 G_{0, 1} G_{1, 0} - G_{1, 1}^{2}} + G_{0, 0} - G_{1, 1}\\right) \\left(- i \\sqrt{- G_{0, 0}^{2} + 2 G_{0, 0} G_{1, 1} - 4 G_{0, 1} G_{1, 0} - G_{1, 1}^{2}} G_{0, 0} + i \\sqrt{- G_{0, 0}^{2} + 2 G_{0, 0} G_{1, 1} - 4 G_{0, 1} G_{1, 0} - G_{1, 1}^{2}} G_{1, 1} + G_{0, 0}^{2} - 2 G_{0, 0} G_{1, 1} + 4 G_{0, 1} G_{1, 0} + G_{1, 1}^{2}\\right)}\\\\- \\frac{i e^{\\frac{i \\pi \\left(G_{0, 0} + G_{1, 1}\\right)}{4} - \\frac{\\pi \\sqrt{- \\left(G_{0, 0} + G_{1, 1}\\right)^{2} + 4 G_{0, 0} G_{1, 1} - 4 G_{0, 1} G_{1, 0}}}{4}} G_{1, 0}}{\\sqrt{- G_{0, 0}^{2} + 2 G_{0, 0} G_{1, 1} - 4 G_{0, 1} G_{1, 0} - G_{1, 1}^{2}}} + \\frac{i e^{\\frac{i \\pi \\left(G_{0, 0} + G_{1, 1}\\right)}{4} + \\frac{\\pi \\sqrt{- \\left(G_{0, 0} + G_{1, 1}\\right)^{2} + 4 G_{0, 0} G_{1, 1} - 4 G_{0, 1} G_{1, 0}}}{4}} G_{1, 0}}{\\sqrt{- G_{0, 0}^{2} + 2 G_{0, 0} G_{1, 1} - 4 G_{0, 1} G_{1, 0} - G_{1, 1}^{2}}} & \\frac{\\left(- i \\sqrt{- G_{0, 0}^{2} + 2 G_{0, 0} G_{1, 1} - 4 G_{0, 1} G_{1, 0} - G_{1, 1}^{2}} G_{0, 0} + i \\sqrt{- G_{0, 0}^{2} + 2 G_{0, 0} G_{1, 1} - 4 G_{0, 1} G_{1, 0} - G_{1, 1}^{2}} G_{1, 1} + G_{0, 0}^{2} - 2 G_{0, 0} G_{1, 1} + 2 G_{0, 1} G_{1, 0} + G_{1, 1}^{2}\\right) e^{\\frac{i \\pi \\left(G_{0, 0} + G_{1, 1}\\right)}{4} - \\frac{\\pi \\sqrt{- \\left(G_{0, 0} + G_{1, 1}\\right)^{2} + 4 G_{0, 0} G_{1, 1} - 4 G_{0, 1} G_{1, 0}}}{4}}}{- i \\sqrt{- G_{0, 0}^{2} + 2 G_{0, 0} G_{1, 1} - 4 G_{0, 1} G_{1, 0} - G_{1, 1}^{2}} G_{0, 0} + i \\sqrt{- G_{0, 0}^{2} + 2 G_{0, 0} G_{1, 1} - 4 G_{0, 1} G_{1, 0} - G_{1, 1}^{2}} G_{1, 1} + G_{0, 0}^{2} - 2 G_{0, 0} G_{1, 1} + 4 G_{0, 1} G_{1, 0} + G_{1, 1}^{2}} + \\frac{2 e^{\\frac{i \\pi \\left(G_{0, 0} + G_{1, 1}\\right)}{4} + \\frac{\\pi \\sqrt{- \\left(G_{0, 0} + G_{1, 1}\\right)^{2} + 4 G_{0, 0} G_{1, 1} - 4 G_{0, 1} G_{1, 0}}}{4}} G_{0, 1} G_{1, 0}}{- i \\sqrt{- G_{0, 0}^{2} + 2 G_{0, 0} G_{1, 1} - 4 G_{0, 1} G_{1, 0} - G_{1, 1}^{2}} G_{0, 0} + i \\sqrt{- G_{0, 0}^{2} + 2 G_{0, 0} G_{1, 1} - 4 G_{0, 1} G_{1, 0} - G_{1, 1}^{2}} G_{1, 1} + G_{0, 0}^{2} - 2 G_{0, 0} G_{1, 1} + 4 G_{0, 1} G_{1, 0} + G_{1, 1}^{2}}\\end{matrix}\\right]$"
      ],
      "text/plain": [
       "Matrix([\n",
       "[-2*I*exp(I*pi*(G[0, 0] + G[1, 1])/4 + pi*sqrt(-(G[0, 0] + G[1, 1])**2 + 4*G[0, 0]*G[1, 1] - 4*G[0, 1]*G[1, 0])/4)*G[0, 1]*G[1, 0]/((I*sqrt(-G[0, 0]**2 + 2*G[0, 0]*G[1, 1] - 4*G[0, 1]*G[1, 0] - G[1, 1]**2) + G[0, 0] - G[1, 1])*sqrt(-G[0, 0]**2 + 2*G[0, 0]*G[1, 1] - 4*G[0, 1]*G[1, 0] - G[1, 1]**2)) + 2*I*exp(I*pi*(G[0, 0] + G[1, 1])/4 - pi*sqrt(-(G[0, 0] + G[1, 1])**2 + 4*G[0, 0]*G[1, 1] - 4*G[0, 1]*G[1, 0])/4)*G[0, 1]*G[1, 0]/((-I*sqrt(-G[0, 0]**2 + 2*G[0, 0]*G[1, 1] - 4*G[0, 1]*G[1, 0] - G[1, 1]**2) + G[0, 0] - G[1, 1])*sqrt(-G[0, 0]**2 + 2*G[0, 0]*G[1, 1] - 4*G[0, 1]*G[1, 0] - G[1, 1]**2)), -4*exp(I*pi*(G[0, 0] + G[1, 1])/4 + pi*sqrt(-(G[0, 0] + G[1, 1])**2 + 4*G[0, 0]*G[1, 1] - 4*G[0, 1]*G[1, 0])/4)*G[0, 1]**2*G[1, 0]/((I*sqrt(-G[0, 0]**2 + 2*G[0, 0]*G[1, 1] - 4*G[0, 1]*G[1, 0] - G[1, 1]**2) + G[0, 0] - G[1, 1])*(-I*sqrt(-G[0, 0]**2 + 2*G[0, 0]*G[1, 1] - 4*G[0, 1]*G[1, 0] - G[1, 1]**2)*G[0, 0] + I*sqrt(-G[0, 0]**2 + 2*G[0, 0]*G[1, 1] - 4*G[0, 1]*G[1, 0] - G[1, 1]**2)*G[1, 1] + G[0, 0]**2 - 2*G[0, 0]*G[1, 1] + 4*G[0, 1]*G[1, 0] + G[1, 1]**2)) - 2*(-I*sqrt(-G[0, 0]**2 + 2*G[0, 0]*G[1, 1] - 4*G[0, 1]*G[1, 0] - G[1, 1]**2)*G[0, 0] + I*sqrt(-G[0, 0]**2 + 2*G[0, 0]*G[1, 1] - 4*G[0, 1]*G[1, 0] - G[1, 1]**2)*G[1, 1] + G[0, 0]**2 - 2*G[0, 0]*G[1, 1] + 2*G[0, 1]*G[1, 0] + G[1, 1]**2)*exp(I*pi*(G[0, 0] + G[1, 1])/4 - pi*sqrt(-(G[0, 0] + G[1, 1])**2 + 4*G[0, 0]*G[1, 1] - 4*G[0, 1]*G[1, 0])/4)*G[0, 1]/((-I*sqrt(-G[0, 0]**2 + 2*G[0, 0]*G[1, 1] - 4*G[0, 1]*G[1, 0] - G[1, 1]**2) + G[0, 0] - G[1, 1])*(-I*sqrt(-G[0, 0]**2 + 2*G[0, 0]*G[1, 1] - 4*G[0, 1]*G[1, 0] - G[1, 1]**2)*G[0, 0] + I*sqrt(-G[0, 0]**2 + 2*G[0, 0]*G[1, 1] - 4*G[0, 1]*G[1, 0] - G[1, 1]**2)*G[1, 1] + G[0, 0]**2 - 2*G[0, 0]*G[1, 1] + 4*G[0, 1]*G[1, 0] + G[1, 1]**2))],\n",
       "[                                                                                                                                                                                                                       -I*exp(I*pi*(G[0, 0] + G[1, 1])/4 - pi*sqrt(-(G[0, 0] + G[1, 1])**2 + 4*G[0, 0]*G[1, 1] - 4*G[0, 1]*G[1, 0])/4)*G[1, 0]/sqrt(-G[0, 0]**2 + 2*G[0, 0]*G[1, 1] - 4*G[0, 1]*G[1, 0] - G[1, 1]**2) + I*exp(I*pi*(G[0, 0] + G[1, 1])/4 + pi*sqrt(-(G[0, 0] + G[1, 1])**2 + 4*G[0, 0]*G[1, 1] - 4*G[0, 1]*G[1, 0])/4)*G[1, 0]/sqrt(-G[0, 0]**2 + 2*G[0, 0]*G[1, 1] - 4*G[0, 1]*G[1, 0] - G[1, 1]**2),                                                                                                                                                                                                                  (-I*sqrt(-G[0, 0]**2 + 2*G[0, 0]*G[1, 1] - 4*G[0, 1]*G[1, 0] - G[1, 1]**2)*G[0, 0] + I*sqrt(-G[0, 0]**2 + 2*G[0, 0]*G[1, 1] - 4*G[0, 1]*G[1, 0] - G[1, 1]**2)*G[1, 1] + G[0, 0]**2 - 2*G[0, 0]*G[1, 1] + 2*G[0, 1]*G[1, 0] + G[1, 1]**2)*exp(I*pi*(G[0, 0] + G[1, 1])/4 - pi*sqrt(-(G[0, 0] + G[1, 1])**2 + 4*G[0, 0]*G[1, 1] - 4*G[0, 1]*G[1, 0])/4)/(-I*sqrt(-G[0, 0]**2 + 2*G[0, 0]*G[1, 1] - 4*G[0, 1]*G[1, 0] - G[1, 1]**2)*G[0, 0] + I*sqrt(-G[0, 0]**2 + 2*G[0, 0]*G[1, 1] - 4*G[0, 1]*G[1, 0] - G[1, 1]**2)*G[1, 1] + G[0, 0]**2 - 2*G[0, 0]*G[1, 1] + 4*G[0, 1]*G[1, 0] + G[1, 1]**2) + 2*exp(I*pi*(G[0, 0] + G[1, 1])/4 + pi*sqrt(-(G[0, 0] + G[1, 1])**2 + 4*G[0, 0]*G[1, 1] - 4*G[0, 1]*G[1, 0])/4)*G[0, 1]*G[1, 0]/(-I*sqrt(-G[0, 0]**2 + 2*G[0, 0]*G[1, 1] - 4*G[0, 1]*G[1, 0] - G[1, 1]**2)*G[0, 0] + I*sqrt(-G[0, 0]**2 + 2*G[0, 0]*G[1, 1] - 4*G[0, 1]*G[1, 0] - G[1, 1]**2)*G[1, 1] + G[0, 0]**2 - 2*G[0, 0]*G[1, 1] + 4*G[0, 1]*G[1, 0] + G[1, 1]**2)]])"
      ]
     },
     "execution_count": 3,
     "metadata": {},
     "output_type": "execute_result"
    }
   ],
   "source": [
    "from scipy.linalg import expm\n",
    "import numpy as np\n",
    "from sympy import *\n",
    "G = Matrix(MatrixSymbol('G', 2, 2))\n",
    "(I*pi*G/2).exp()"
   ]
  },
  {
   "cell_type": "code",
   "execution_count": 9,
   "metadata": {},
   "outputs": [],
   "source": [
    "from fourier_info import gates_dict\n",
    "\n",
    "\n",
    "# s1 = np.array([[0, 1], [1, 0]])\n",
    "# s2 = np.array([[0, -1j], [1j, 0]])\n",
    "# s3 = np.array([[1, 0], [0, -1]])\n",
    "\n",
    "# gates = [s1, s2, s3]\n",
    "state0 = np.array([[1, 0], [0, 0]], dtype=complex)\n",
    "state1 = np.array([[0, 0], [0, 1]], dtype=complex)\n",
    "state2 = np.array([[1/2, 0], [0, 1/2]], dtype=complex)\n",
    "state3 = np.array([[3/4, 3/8-np.sqrt(3)/8*1j], [3/8+np.sqrt(3)/8*1j, 1/4]])\n",
    "states = [state0, state1, state2, state3]"
   ]
  },
  {
   "cell_type": "code",
   "execution_count": 16,
   "metadata": {},
   "outputs": [
    {
     "name": "stdout",
     "output_type": "stream",
     "text": [
      "24\n",
      "[[1.+0.j 0.+0.j]\n",
      " [0.+0.j 1.+0.j]]\n",
      "[[6.123234e-17+0.j 0.000000e+00-1.j]\n",
      " [0.000000e+00-1.j 6.123234e-17+0.j]]\n",
      "Wrong\n",
      "[[6.123234e-17+0.j 0.000000e+00-1.j]\n",
      " [0.000000e+00-1.j 6.123234e-17+0.j]]\n",
      "[[1.+0.j 0.+0.j]\n",
      " [0.+0.j 0.+0.j]]\n",
      "False\n"
     ]
    }
   ],
   "source": [
    "gates = gates_dict['cliffords']\n",
    "print(len(gates))\n",
    "\n",
    "def check():\n",
    "    for g in gates:\n",
    "        print(g)\n",
    "        gi = 1j*np.pi/2*g\n",
    "        u = expm(gi)\n",
    "        ud = expm(-gi)\n",
    "        for s in states:\n",
    "            sg = g @ s @ g.T.conj()\n",
    "            sh = ud @ s @ u\n",
    "            if not np.allclose(sg, sh):\n",
    "                print(\"Wrong\")\n",
    "                print(g)\n",
    "                print(s)\n",
    "                return False\n",
    "    return True\n",
    "print(check())"
   ]
  },
  {
   "cell_type": "code",
   "execution_count": 15,
   "metadata": {},
   "outputs": [
    {
     "data": {
      "text/plain": [
       "array([[ 2.212+2.212j, -1.486-0.j   ],\n",
       "       [ 0.   -1.486j,  0.725+0.725j]])"
      ]
     },
     "execution_count": 15,
     "metadata": {},
     "output_type": "execute_result"
    }
   ],
   "source": [
    "gi = 1j*np.pi/2*g\n",
    "u = expm(gi)\n",
    "ud = expm(-gi)\n",
    "u.round(3)"
   ]
  },
  {
   "cell_type": "code",
   "execution_count": 1,
   "metadata": {},
   "outputs": [
    {
     "data": {
      "image/png": "[encoded data removed]",
      "text/plain": [
       "<Figure size 640x480 with 1 Axes>"
      ]
     },
     "metadata": {},
     "output_type": "display_data"
    }
   ],
   "source": [
    "import matplotlib.pyplot as plt\n",
    "plt.plot([1, 2, 3])\n",
    "plt.show()"
   ]
  },
  {
   "cell_type": "code",
   "execution_count": 4,
   "metadata": {},
   "outputs": [
    {
     "data": {
      "text/latex": [
       "$\\displaystyle \\left[\\begin{matrix}- i & 0\\\\0 & i\\end{matrix}\\right]$"
      ],
      "text/plain": [
       "Matrix([\n",
       "[-I, 0],\n",
       "[ 0, I]])"
      ]
     },
     "execution_count": 4,
     "metadata": {},
     "output_type": "execute_result"
    }
   ],
   "source": [
    "from sympy import *\n",
    "m = Matrix([[0, -1], [1, 0]])\n",
    "P, D = m.diagonalize()\n",
    "D"
   ]
  },
  {
   "cell_type": "code",
   "execution_count": 5,
   "metadata": {},
   "outputs": [
    {
     "data": {
      "text/latex": [
       "$\\displaystyle \\left[\\begin{matrix}- i & i\\\\1 & 1\\end{matrix}\\right]$"
      ],
      "text/plain": [
       "Matrix([\n",
       "[-I, I],\n",
       "[ 1, 1]])"
      ]
     },
     "execution_count": 5,
     "metadata": {},
     "output_type": "execute_result"
    }
   ],
   "source": [
    "P"
   ]
  },
  {
   "cell_type": "code",
   "execution_count": 6,
   "metadata": {},
   "outputs": [
    {
     "data": {
      "text/latex": [
       "$\\displaystyle \\left[\\begin{matrix}0 & -2\\\\2 & 0\\end{matrix}\\right]$"
      ],
      "text/plain": [
       "Matrix([\n",
       "[0, -2],\n",
       "[2,  0]])"
      ]
     },
     "execution_count": 6,
     "metadata": {},
     "output_type": "execute_result"
    }
   ],
   "source": [
    "from sympy.physics.quantum.dagger import Dagger\n",
    "P * D  * Dagger(P)"
   ]
  },
  {
   "cell_type": "code",
   "execution_count": 7,
   "metadata": {},
   "outputs": [
    {
     "data": {
      "text/latex": [
       "$\\displaystyle \\left[\\begin{matrix}0 & 0 & 0 & 0\\\\0 & 0 & 0 & 0\\\\0 & 0 & 1 & 0\\\\0 & 0 & 0 & 1\\end{matrix}\\right]$"
      ],
      "text/plain": [
       "Matrix([\n",
       "[0, 0, 0, 0],\n",
       "[0, 0, 0, 0],\n",
       "[0, 0, 1, 0],\n",
       "[0, 0, 0, 1]])"
      ]
     },
     "execution_count": 7,
     "metadata": {},
     "output_type": "execute_result"
    }
   ],
   "source": [
    "m = Matrix([[1, 0, 0, 1], [0, 1, -1, 0], [0, -1, 1, 0], [1, 0, 0, 1]]) / 2\n",
    "P, D = m.diagonalize()\n",
    "D"
   ]
  },
  {
   "cell_type": "code",
   "execution_count": 8,
   "metadata": {},
   "outputs": [
    {
     "data": {
      "text/latex": [
       "$\\displaystyle \\left[\\begin{matrix}0 & -1 & 0 & 1\\\\1 & 0 & -1 & 0\\\\1 & 0 & 1 & 0\\\\0 & 1 & 0 & 1\\end{matrix}\\right]$"
      ],
      "text/plain": [
       "Matrix([\n",
       "[0, -1,  0, 1],\n",
       "[1,  0, -1, 0],\n",
       "[1,  0,  1, 0],\n",
       "[0,  1,  0, 1]])"
      ]
     },
     "execution_count": 8,
     "metadata": {},
     "output_type": "execute_result"
    }
   ],
   "source": [
    "P"
   ]
  },
  {
   "cell_type": "code",
   "execution_count": 1,
   "metadata": {},
   "outputs": [
    {
     "name": "stdout",
     "output_type": "stream",
     "text": [
      "[0.5-0.j]\n",
      "[1.-0.j]\n"
     ]
    }
   ],
   "source": [
    "from nonmark_validation import get_nonmark_fourier, get_mql_nonm, get_m_nonm_pauli, create_superoperator\n",
    "from qibo.quantum_info.basis import comp_basis_to_pauli\n",
    "import numpy as np\n",
    "from sympy import *\n",
    "def disp_np(a):\n",
    "    display(Matrix(a.round(3)))\n",
    "    "
   ]
  },
  {
   "cell_type": "code",
   "execution_count": 13,
   "metadata": {},
   "outputs": [
    {
     "data": {
      "text/latex": [
       "$\\displaystyle \\left[\\begin{array}{cccccccccccccccc}1.0 & 0 & 0 & 0 & 0 & 0 & 0 & 0 & 0 & 0 & 0 & 0 & 0 & 0 & 0 & 0\\\\0 & -1.0 & 0 & 0 & 0 & 0 & 0 & 0 & 0 & 0 & 0 & 0 & 0 & 0 & 0 & 0\\\\0 & 0 & -1.0 & 0 & 0 & 0 & 0 & 0 & 0 & 0 & 0 & 0 & 0 & 0 & 0 & 0\\\\0 & 0 & 0 & 1.0 & 0 & 0 & 0 & 0 & 0 & 0 & 0 & 0 & 0 & 0 & 0 & 0\\\\0 & 0 & 0 & 0 & 1.0 & 0 & 0 & 0 & 0 & 0 & 0 & 0 & 0 & 0 & 0 & 0\\\\0 & 0 & 0 & 0 & 0 & -1.0 & 0 & 0 & 0 & 0 & 0 & 0 & 0 & 0 & 0 & 0\\\\0 & 0 & 0 & 0 & 0 & 0 & -1.0 & 0 & 0 & 0 & 0 & 0 & 0 & 0 & 0 & 0\\\\0 & 0 & 0 & 0 & 0 & 0 & 0 & 1.0 & 0 & 0 & 0 & 0 & 0 & 0 & 0 & 0\\\\0 & 0 & 0 & 0 & 0 & 0 & 0 & 0 & -1.0 & 0 & 0 & 0 & 0 & 0 & 0 & 0\\\\0 & 0 & 0 & 0 & 0 & 0 & 0 & 0 & 0 & 1.0 & 0 & 0 & 0 & 0 & 0 & 0\\\\0 & 0 & 0 & 0 & 0 & 0 & 0 & 0 & 0 & 0 & 1.0 & 0 & 0 & 0 & 0 & 0\\\\0 & 0 & 0 & 0 & 0 & 0 & 0 & 0 & 0 & 0 & 0 & -1.0 & 0 & 0 & 0 & 0\\\\0 & 0 & 0 & 0 & 0 & 0 & 0 & 0 & 0 & 0 & 0 & 0 & -1.0 & 0 & 0 & 0\\\\0 & 0 & 0 & 0 & 0 & 0 & 0 & 0 & 0 & 0 & 0 & 0 & 0 & 1.0 & 0 & 0\\\\0 & 0 & 0 & 0 & 0 & 0 & 0 & 0 & 0 & 0 & 0 & 0 & 0 & 0 & 1.0 & 0\\\\0 & 0 & 0 & 0 & 0 & 0 & 0 & 0 & 0 & 0 & 0 & 0 & 0 & 0 & 0 & -1.0\\end{array}\\right]$"
      ],
      "text/plain": [
       "Matrix([\n",
       "[1.0,    0,    0,   0,   0,    0,    0,   0,    0,   0,   0,    0,    0,   0,   0,    0],\n",
       "[  0, -1.0,    0,   0,   0,    0,    0,   0,    0,   0,   0,    0,    0,   0,   0,    0],\n",
       "[  0,    0, -1.0,   0,   0,    0,    0,   0,    0,   0,   0,    0,    0,   0,   0,    0],\n",
       "[  0,    0,    0, 1.0,   0,    0,    0,   0,    0,   0,   0,    0,    0,   0,   0,    0],\n",
       "[  0,    0,    0,   0, 1.0,    0,    0,   0,    0,   0,   0,    0,    0,   0,   0,    0],\n",
       "[  0,    0,    0,   0,   0, -1.0,    0,   0,    0,   0,   0,    0,    0,   0,   0,    0],\n",
       "[  0,    0,    0,   0,   0,    0, -1.0,   0,    0,   0,   0,    0,    0,   0,   0,    0],\n",
       "[  0,    0,    0,   0,   0,    0,    0, 1.0,    0,   0,   0,    0,    0,   0,   0,    0],\n",
       "[  0,    0,    0,   0,   0,    0,    0,   0, -1.0,   0,   0,    0,    0,   0,   0,    0],\n",
       "[  0,    0,    0,   0,   0,    0,    0,   0,    0, 1.0,   0,    0,    0,   0,   0,    0],\n",
       "[  0,    0,    0,   0,   0,    0,    0,   0,    0,   0, 1.0,    0,    0,   0,   0,    0],\n",
       "[  0,    0,    0,   0,   0,    0,    0,   0,    0,   0,   0, -1.0,    0,   0,   0,    0],\n",
       "[  0,    0,    0,   0,   0,    0,    0,   0,    0,   0,   0,    0, -1.0,   0,   0,    0],\n",
       "[  0,    0,    0,   0,   0,    0,    0,   0,    0,   0,   0,    0,    0, 1.0,   0,    0],\n",
       "[  0,    0,    0,   0,   0,    0,    0,   0,    0,   0,   0,    0,    0,   0, 1.0,    0],\n",
       "[  0,    0,    0,   0,   0,    0,    0,   0,    0,   0,   0,    0,    0,   0,   0, -1.0]])"
      ]
     },
     "metadata": {},
     "output_type": "display_data"
    }
   ],
   "source": [
    "gate_time = 40 * 1e-9\n",
    "sup = create_superoperator(np.array([[0, 1], [1, 0]]), 2/gate_time)\n",
    "# u_p = comp_basis_to_pauli(2, normalize=True)\n",
    "disp_np(create_superoperator(np.array([[0, 1], [1, 0]])))"
   ]
  },
  {
   "cell_type": "code",
   "execution_count": 14,
   "metadata": {},
   "outputs": [
    {
     "data": {
      "text/latex": [
       "$\\displaystyle \\left[\\begin{array}{cccccccccccccccc}1.0 & 0 & 0 & 0 & 0 & 0 & 0 & 0 & 0 & 0 & 0 & 0 & 0 & 0 & 0 & 0\\\\0 & 0.758 & 0.575 & 0 & 0 & 0 & 0 & 0.308 & 0 & 0 & 0 & 0 & 0 & 0 & 0 & 0\\\\0 & -0.575 & 0.365 & 0 & 0 & 0 & 0 & 0.732 & 0 & 0 & 0 & 0 & 0 & 0 & 0 & 0\\\\0 & 0 & 0 & 0.607 & 0 & 0.308 & -0.732 & 0 & 0 & 0 & 0 & 0 & 0 & 0 & 0 & 0\\\\0 & 0 & 0 & 0 & 1.0 & 0 & 0 & 0 & 0 & 0 & 0 & 0 & 0 & 0 & 0 & 0\\\\0 & 0 & 0 & 0.308 & 0 & 0.758 & 0.575 & 0 & 0 & 0 & 0 & 0 & 0 & 0 & 0 & 0\\\\0 & 0 & 0 & 0.732 & 0 & -0.575 & 0.365 & 0 & 0 & 0 & 0 & 0 & 0 & 0 & 0 & 0\\\\0 & 0.308 & -0.732 & 0 & 0 & 0 & 0 & 0.607 & 0 & 0 & 0 & 0 & 0 & 0 & 0 & 0\\\\0 & 0 & 0 & 0 & 0 & 0 & 0 & 0 & -0.607 & 0 & 0 & 0 & 0 & -0.732 & -0.308 & 0\\\\0 & 0 & 0 & 0 & 0 & 0 & 0 & 0 & 0 & -0.365 & -0.575 & 0 & -0.732 & 0 & 0 & 0\\\\0 & 0 & 0 & 0 & 0 & 0 & 0 & 0 & 0 & 0.575 & -0.758 & 0 & 0.308 & 0 & 0 & 0\\\\0 & 0 & 0 & 0 & 0 & 0 & 0 & 0 & 0 & 0 & 0 & -1.0 & 0 & 0 & 0 & 0\\\\0 & 0 & 0 & 0 & 0 & 0 & 0 & 0 & 0 & 0.732 & 0.308 & 0 & -0.607 & 0 & 0 & 0\\\\0 & 0 & 0 & 0 & 0 & 0 & 0 & 0 & 0.732 & 0 & 0 & 0 & 0 & -0.365 & -0.575 & 0\\\\0 & 0 & 0 & 0 & 0 & 0 & 0 & 0 & -0.308 & 0 & 0 & 0 & 0 & 0.575 & -0.758 & 0\\\\0 & 0 & 0 & 0 & 0 & 0 & 0 & 0 & 0 & 0 & 0 & 0 & 0 & 0 & 0 & -1.0\\end{array}\\right]$"
      ],
      "text/plain": [
       "Matrix([\n",
       "[1.0,      0,      0,     0,   0,      0,      0,     0,      0,      0,      0,    0,      0,      0,      0,    0],\n",
       "[  0,  0.758,  0.575,     0,   0,      0,      0, 0.308,      0,      0,      0,    0,      0,      0,      0,    0],\n",
       "[  0, -0.575,  0.365,     0,   0,      0,      0, 0.732,      0,      0,      0,    0,      0,      0,      0,    0],\n",
       "[  0,      0,      0, 0.607,   0,  0.308, -0.732,     0,      0,      0,      0,    0,      0,      0,      0,    0],\n",
       "[  0,      0,      0,     0, 1.0,      0,      0,     0,      0,      0,      0,    0,      0,      0,      0,    0],\n",
       "[  0,      0,      0, 0.308,   0,  0.758,  0.575,     0,      0,      0,      0,    0,      0,      0,      0,    0],\n",
       "[  0,      0,      0, 0.732,   0, -0.575,  0.365,     0,      0,      0,      0,    0,      0,      0,      0,    0],\n",
       "[  0,  0.308, -0.732,     0,   0,      0,      0, 0.607,      0,      0,      0,    0,      0,      0,      0,    0],\n",
       "[  0,      0,      0,     0,   0,      0,      0,     0, -0.607,      0,      0,    0,      0, -0.732, -0.308,    0],\n",
       "[  0,      0,      0,     0,   0,      0,      0,     0,      0, -0.365, -0.575,    0, -0.732,      0,      0,    0],\n",
       "[  0,      0,      0,     0,   0,      0,      0,     0,      0,  0.575, -0.758,    0,  0.308,      0,      0,    0],\n",
       "[  0,      0,      0,     0,   0,      0,      0,     0,      0,      0,      0, -1.0,      0,      0,      0,    0],\n",
       "[  0,      0,      0,     0,   0,      0,      0,     0,      0,  0.732,  0.308,    0, -0.607,      0,      0,    0],\n",
       "[  0,      0,      0,     0,   0,      0,      0,     0,  0.732,      0,      0,    0,      0, -0.365, -0.575,    0],\n",
       "[  0,      0,      0,     0,   0,      0,      0,     0, -0.308,      0,      0,    0,      0,  0.575, -0.758,    0],\n",
       "[  0,      0,      0,     0,   0,      0,      0,     0,      0,      0,      0,    0,      0,      0,      0, -1.0]])"
      ]
     },
     "metadata": {},
     "output_type": "display_data"
    }
   ],
   "source": [
    "disp_np(sup)"
   ]
  },
  {
   "cell_type": "code",
   "execution_count": 15,
   "metadata": {},
   "outputs": [
    {
     "data": {
      "text/plain": [
       "(-0.304-0j)"
      ]
     },
     "execution_count": 15,
     "metadata": {},
     "output_type": "execute_result"
    }
   ],
   "source": [
    "mql = get_mql_nonm()\n",
    "np.trace(mql @ sup).round(3)"
   ]
  },
  {
   "cell_type": "code",
   "execution_count": 32,
   "metadata": {},
   "outputs": [
    {
     "name": "stdout",
     "output_type": "stream",
     "text": [
      "(4, 1, 1) (1, 4, 1) (1, 1, 4)\n"
     ]
    },
    {
     "data": {
      "text/latex": [
       "$\\displaystyle \\left[\\begin{matrix}0.5 & 0 & 0 & -0.5\\\\0 & 0 & 0 & 0\\\\0 & 0 & 0 & 0\\\\0.5 & 0 & 0 & -0.5\\end{matrix}\\right]$"
      ],
      "text/plain": [
       "Matrix([\n",
       "[0.5, 0, 0, -0.5],\n",
       "[  0, 0, 0,    0],\n",
       "[  0, 0, 0,    0],\n",
       "[0.5, 0, 0, -0.5]])"
      ]
     },
     "metadata": {},
     "output_type": "display_data"
    },
    {
     "name": "stdout",
     "output_type": "stream",
     "text": [
      "(1, 4, 4)\n"
     ]
    },
    {
     "data": {
      "text/plain": [
       "array([[[ 0.35355339,  0.        ,  0.        , -0.35355339],\n",
       "        [ 0.        ,  0.        ,  0.        ,  0.        ],\n",
       "        [ 0.        ,  0.        ,  0.        ,  0.        ],\n",
       "        [ 0.35355339,  0.        ,  0.        , -0.35355339]],\n",
       "\n",
       "       [[ 0.        ,  0.        ,  0.        ,  0.        ],\n",
       "        [ 0.        ,  0.        ,  0.        ,  0.        ],\n",
       "        [ 0.        ,  0.        ,  0.        ,  0.        ],\n",
       "        [ 0.        ,  0.        ,  0.        ,  0.        ]],\n",
       "\n",
       "       [[ 0.        ,  0.        ,  0.        ,  0.        ],\n",
       "        [ 0.        ,  0.        ,  0.        ,  0.        ],\n",
       "        [ 0.        ,  0.        ,  0.        ,  0.        ],\n",
       "        [ 0.        ,  0.        ,  0.        ,  0.        ]],\n",
       "\n",
       "       [[ 0.35355339,  0.        ,  0.        , -0.35355339],\n",
       "        [ 0.        ,  0.        ,  0.        ,  0.        ],\n",
       "        [ 0.        ,  0.        ,  0.        ,  0.        ],\n",
       "        [ 0.35355339,  0.        ,  0.        , -0.35355339]]])"
      ]
     },
     "execution_count": 32,
     "metadata": {},
     "output_type": "execute_result"
    }
   ],
   "source": [
    "ei_col = np.array([[[1/np.sqrt(2)]], [[0]], [[0]], [[1/np.sqrt(2)]]])\n",
    "ei_row = np.array([[[1/np.sqrt(2)], [0], [0], [1/np.sqrt(2)]]])\n",
    "env_1 = np.array([[[1/np.sqrt(2), 0, 0, -1/np.sqrt(2)]]])\n",
    "print(ei_col.shape, ei_row.shape, env_1.shape)\n",
    "ei_ee = np.matmul(ei_row, env_1)\n",
    "disp_np(ei_ee[0, :, :])\n",
    "print(ei_ee.shape)\n",
    "ei_ei_ee =np.einsum(\"ijk, lmn -> imn\", ei_col, ei_ee)"
   ]
  },
  {
   "cell_type": "code",
   "execution_count": 47,
   "metadata": {},
   "outputs": [
    {
     "data": {
      "text/plain": [
       "array([[[0.70710678+0.j]],\n",
       "\n",
       "       [[0.        +0.j]],\n",
       "\n",
       "       [[0.        +0.j]],\n",
       "\n",
       "       [[0.70710678+0.j]]])"
      ]
     },
     "execution_count": 47,
     "metadata": {},
     "output_type": "execute_result"
    }
   ],
   "source": [
    "from fourier_info import density_to_pauli\n",
    "env_0 = np.array([[1, 0], [0, 0]])\n",
    "env_0 = density_to_pauli(env_0)\n",
    "env_0 = env_0.reshape(4, 1, 1)\n",
    "env_0"
   ]
  },
  {
   "cell_type": "code",
   "execution_count": 50,
   "metadata": {},
   "outputs": [
    {
     "data": {
      "text/plain": [
       "array([[[1.414+0.j, 0.   +0.j, 0.   +0.j, 0.   +0.j],\n",
       "        [0.   +0.j, 0.   +0.j, 0.   +0.j, 0.   +0.j],\n",
       "        [0.   +0.j, 0.   +0.j, 0.   +0.j, 0.   +0.j],\n",
       "        [0.   +0.j, 0.   +0.j, 0.   +0.j, 0.   +0.j]],\n",
       "\n",
       "       [[0.   +0.j, 0.   +0.j, 0.   +0.j, 0.   +0.j],\n",
       "        [0.   +0.j, 0.   +0.j, 0.   +0.j, 0.   +0.j],\n",
       "        [0.   +0.j, 0.   +0.j, 0.   +0.j, 0.   +0.j],\n",
       "        [0.   +0.j, 0.   +0.j, 0.   +0.j, 0.   +0.j]],\n",
       "\n",
       "       [[0.   +0.j, 0.   +0.j, 0.   +0.j, 0.   +0.j],\n",
       "        [0.   +0.j, 0.   +0.j, 0.   +0.j, 0.   +0.j],\n",
       "        [0.   +0.j, 0.   +0.j, 0.   +0.j, 0.   +0.j],\n",
       "        [0.   +0.j, 0.   +0.j, 0.   +0.j, 0.   +0.j]],\n",
       "\n",
       "       [[0.   +0.j, 0.   +0.j, 0.   +0.j, 0.   +0.j],\n",
       "        [0.   +0.j, 0.   +0.j, 0.   +0.j, 0.   +0.j],\n",
       "        [0.   +0.j, 0.   +0.j, 0.   +0.j, 0.   +0.j],\n",
       "        [1.414+0.j, 0.   +0.j, 0.   +0.j, 0.   +0.j]]])"
      ]
     },
     "execution_count": 50,
     "metadata": {},
     "output_type": "execute_result"
    }
   ],
   "source": [
    "# Environmant states as rows\n",
    "env_0 = np.array([[[1/np.sqrt(2), 0, 0, 1/np.sqrt(2)]]], dtype=complex) # env_0.reshape((1, 1, 4))\n",
    "env_1 = np.array([[[1/np.sqrt(2), 0, 0, -1/np.sqrt(2)]]], dtype=complex)\n",
    "\n",
    "# POVM E0\n",
    "ei_col = np.array([[[1/np.sqrt(2)]], [[0]], [[0]], [[1/np.sqrt(2)]]], dtype=complex) # ei_col.reshape((4, 1, 1))\n",
    "ei_row = np.array([[[1/np.sqrt(2)], [0], [0], [1/np.sqrt(2)]]], dtype=complex) # ei_row.reshape((1, 4, 1))\n",
    "\n",
    "m_matr = np.einsum(\"ijk, lmn -> imn\", ei_col, ei_row @ env_0)\n",
    "m_matr += np.einsum(\"ijk, lmn -> imn\", ei_col, ei_row @ env_1)\n",
    "\n",
    "# POVM E1\n",
    "ei_col = np.array([[[1/np.sqrt(2)]], [[0]], [[0]], [[-1/np.sqrt(2)]]], dtype=complex)\n",
    "ei_row = np.array([[[1/np.sqrt(2)], [0], [0], [-1/np.sqrt(2)]]], dtype=complex)\n",
    "\n",
    "m_matr += np.einsum(\"ijk, lmn -> imn\", ei_col, ei_row @ env_0)\n",
    "m_matr += np.einsum(\"ijk, lmn -> imn\", ei_col, ei_row @ env_1)\n",
    "# (4, 4, 4)\n",
    "\n",
    "# M_lambda\n",
    "x = np.array([[[0], [0], [1], [0]], [[0], [0], [0], [1]]])\n",
    "m_l = np.einsum(\"ijk, jlk -> ilk\", x, m_matr)\n",
    "m_l.round(3)\n",
    "# (2, 4, 4)"
   ]
  },
  {
   "cell_type": "code",
   "execution_count": 58,
   "metadata": {},
   "outputs": [
    {
     "name": "stdout",
     "output_type": "stream",
     "text": [
      "(4, 2, 1)\n",
      "(1, 2, 1)\n",
      "(1, 4, 4)\n"
     ]
    },
    {
     "data": {
      "text/plain": [
       "(2, 4, 4)"
      ]
     },
     "execution_count": 58,
     "metadata": {},
     "output_type": "execute_result"
    }
   ],
   "source": [
    "state_pauli = np.array([[[1/np.sqrt(2)]], [[0]], [[0]], [[1/np.sqrt(2)]]], dtype=complex)\n",
    "state_pauli_s = np.array([[[1/np.sqrt(2)], [0], [0], [1/np.sqrt(2)]]], dtype=complex)\n",
    "state_pauli_env = np.array([[[1/np.sqrt(2), 0, 0, 1/np.sqrt(2)]]], dtype=complex)\n",
    "s_plus = np.array([[[0], [0]], [[0], [1]]], dtype=complex)\n",
    "x_l = np.array([[[0], [0]], [[0], [0]], [[1], [0]], [[0], [1]]])\n",
    "xls = np.einsum(\"ijk, jlk -> ilk\", x_l, s_plus)\n",
    "print(xls.shape)\n",
    "sxls = np.einsum(\"ijk, ilk -> jlk\", state_pauli, xls)\n",
    "print(sxls.shape)\n",
    "state_se = state_pauli_s @ state_pauli_env\n",
    "print(state_se.shape)\n",
    "q_l = np.einsum(\"ijk, ilm -> ljk\", state_pauli_s @ state_pauli_env, sxls)\n",
    "q_l.shape"
   ]
  },
  {
   "cell_type": "code",
   "execution_count": 62,
   "metadata": {},
   "outputs": [
    {
     "data": {
      "text/plain": [
       "(2, 4, 4)"
      ]
     },
     "execution_count": 62,
     "metadata": {},
     "output_type": "execute_result"
    }
   ],
   "source": [
    "mql = np.einsum(\"ijk, ijk -> ijk\", m_l, q_l)\n",
    "mql.shape"
   ]
  },
  {
   "cell_type": "code",
   "execution_count": 53,
   "metadata": {},
   "outputs": [
    {
     "data": {
      "text/plain": [
       "(1.4142135623730947+0j)"
      ]
     },
     "execution_count": 53,
     "metadata": {},
     "output_type": "execute_result"
    }
   ],
   "source": [
    "q_l[-1][-1][0]"
   ]
  },
  {
   "cell_type": "code",
   "execution_count": 33,
   "metadata": {},
   "outputs": [],
   "source": [
    "# m = (get_m_nonm_pauli())\n",
    "# disp_np(np.array([[0, 0, 1, 0], [0, 0, 0, 1]], dtype=complex) @ m)\n",
    "mql = get_mql_nonm('z', 'cliffords')\n",
    "# disp_np(mql)"
   ]
  },
  {
   "cell_type": "code",
   "execution_count": 5,
   "metadata": {},
   "outputs": [],
   "source": [
    "f_xid = get_nonmark_fourier('cliffords', 0, 0, 0)\n",
    "# display(Matrix(f_xid.round(3)))"
   ]
  },
  {
   "cell_type": "code",
   "execution_count": 3,
   "metadata": {},
   "outputs": [
    {
     "data": {
      "text/latex": [
       "$\\displaystyle \\left[\\begin{array}{cc}\\rho_{0, 0} & \\rho_{0, 1}\\\\\\rho_{1, 0} & \\rho_{1, 1}\\end{array}\\right]$"
      ],
      "text/plain": [
       "Matrix([\n",
       "[rho[0, 0], rho[0, 1]],\n",
       "[rho[1, 0], rho[1, 1]]])"
      ]
     },
     "execution_count": 3,
     "metadata": {},
     "output_type": "execute_result"
    }
   ],
   "source": [
    "from fourier_info import *\n",
    "state = Matrix(MatrixSymbol('rho', 2, 2))\n",
    "state"
   ]
  },
  {
   "cell_type": "code",
   "execution_count": 17,
   "metadata": {},
   "outputs": [
    {
     "data": {
      "text/latex": [
       "$\\displaystyle \\left[\\begin{array}{cccccccccccccccc}1.0 & 0.385 i & 0 & 0 & 0 & 0 & 0 & 0 & 0 & 0 & 0 & 0 & 0 & 0 & 0 & 0\\\\0 & 0 & -0.047 - 0.077 i & -0.009 + 0.037 i & 0 & 0.04 - 0.393 i & 0.496 & -0.032 - 0.042 i & 0 & 0 & -0.336 + 0.034 i & 0 & -0.011 + 0.04 i & 0.056 + 0.127 i & 0 & 0\\\\0 & 0 & 0.047 + 0.077 i & 0.009 - 0.037 i & 0 & 0.752 & -0.423 - 0.23 i & -0.208 - 0.114 i & 0 & 0 & 0.531 & 0 & -0.022 - 0.026 i & 0.032 - 0.132 i & 0 & 0\\\\0 & 0 & 0 & 0 & 0.99 & 0 & 0 & 0 & -0.002 - 0.002 i & 0.006 - 0.014 i & 0 & 0.199 - 0.056 i & 0 & 0 & 0.468 + 0.451 i & 0.04 + 0.034 i\\\\0 & 0.923 & 0 & 0 & 0 & 0 & 0 & 0 & 0 & 0 & 0 & 0 & 0 & 0 & 0 & 0\\\\0 & 0 & 0 & 0 & 0 & -0.346 + 0.001 i & 0.394 - 0.024 i & -0.575 - 0.166 i & 0 & 0 & -0.399 - 0.143 i & 0 & -0.043 & 0.061 + 0.013 i & 0 & 0\\\\0 & 0 & 0 & 0 & 0 & -0.132 - 0.038 i & 0.17 - 0.444 i & 0.76 & 0 & 0 & -0.39 - 0.063 i & 0 & -0.061 - 0.071 i & 0.041 - 0.14 i & 0 & 0\\\\0 & 0 & 0 & 0 & 0 & 0 & 0 & 0 & -0.013 - 0.024 i & 0.03 - 0.034 i & 0 & 0.015 - 0.497 i & 0 & 0 & 0.659 & -0.168 + 0.042 i\\\\0 & 0 & 0.776 & 0.963 & 0 & -0.339 + 0.001 i & -0.092 - 0.358 i & -0.059 - 0.031 i & 0 & 0 & 0.092 + 0.495 i & 0 & -0.018 - 0.01 i & 0.065 - 0.048 i & 0 & 0\\\\0 & 0 & 0 & 0 & -0.117 - 0.076 i & 0 & 0 & 0 & 0.513 & 0.057 + 0.504 i & 0 & 0.056 - 0.266 i & 0 & 0 & -0.136 + 0.083 i & 0.065 + 0.444 i\\\\0 & 0 & 0 & 0 & -0.001 + 0.009 i & 0 & 0 & 0 & -0.051 + 0.499 i & 0.517 & 0 & 0.5 - 0.004 i & 0 & 0 & -0.2 + 0.098 i & 0.538 + 0.031 i\\\\0 & 0 & 0 & 0 & 0 & 0 & 0 & 0 & 0 & 0 & 0 & 0 & 0.796 & 0.329 - 0.419 i & 0 & 0\\\\0 & 0 & 0.462 + 0.41 i & -0.012 - 0.264 i & 0 & 0.041 + 0.151 i & 0.012 - 0.046 i & 0.02 + 0.008 i & 0 & 0 & 0.1 + 0.077 i & 0 & 0.002 + 0.009 i & 0.016 + 0.009 i & 0 & 0\\\\0 & 0 & 0 & 0 & 0.017 + 0.01 i & 0 & 0 & 0 & 0.11 - 0.474 i & -0.47 + 0.057 i & 0 & 0.525 & 0 & 0 & -0.201 + 0.103 i & 0.542\\\\0 & 0 & 0 & 0 & 0.003 + 0.007 i & 0 & 0 & 0 & 0.488 + 0.097 i & -0.058 + 0.495 i & 0 & 0.083 + 0.32 i & 0 & 0 & 0.03 - 0.131 i & -0.04 - 0.425 i\\\\0 & 0 & 0 & 0 & 0 & 0 & 0 & 0 & 0 & 0 & 0 & 0 & 0.282 - 0.523 i & 0.804 & 0 & 0\\end{array}\\right]$"
      ],
      "text/plain": [
       "Matrix([\n",
       "[1.0, 0.385*I,                0,                0,                0,                0,                0,                0,                0,                0,                0,               0,                0,               0,                0,                0],\n",
       "[  0,       0, -0.047 - 0.077*I, -0.009 + 0.037*I,                0,   0.04 - 0.393*I,            0.496, -0.032 - 0.042*I,                0,                0, -0.336 + 0.034*I,               0,  -0.011 + 0.04*I, 0.056 + 0.127*I,                0,                0],\n",
       "[  0,       0,  0.047 + 0.077*I,  0.009 - 0.037*I,                0,            0.752,  -0.423 - 0.23*I, -0.208 - 0.114*I,                0,                0,            0.531,               0, -0.022 - 0.026*I, 0.032 - 0.132*I,                0,                0],\n",
       "[  0,       0,                0,                0,             0.99,                0,                0,                0, -0.002 - 0.002*I,  0.006 - 0.014*I,                0, 0.199 - 0.056*I,                0,               0,  0.468 + 0.451*I,   0.04 + 0.034*I],\n",
       "[  0,   0.923,                0,                0,                0,                0,                0,                0,                0,                0,                0,               0,                0,               0,                0,                0],\n",
       "[  0,       0,                0,                0,                0, -0.346 + 0.001*I,  0.394 - 0.024*I, -0.575 - 0.166*I,                0,                0, -0.399 - 0.143*I,               0,           -0.043, 0.061 + 0.013*I,                0,                0],\n",
       "[  0,       0,                0,                0,                0, -0.132 - 0.038*I,   0.17 - 0.444*I,             0.76,                0,                0,  -0.39 - 0.063*I,               0, -0.061 - 0.071*I,  0.041 - 0.14*I,                0,                0],\n",
       "[  0,       0,                0,                0,                0,                0,                0,                0, -0.013 - 0.024*I,   0.03 - 0.034*I,                0, 0.015 - 0.497*I,                0,               0,            0.659, -0.168 + 0.042*I],\n",
       "[  0,       0,            0.776,            0.963,                0, -0.339 + 0.001*I, -0.092 - 0.358*I, -0.059 - 0.031*I,                0,                0,  0.092 + 0.495*I,               0,  -0.018 - 0.01*I, 0.065 - 0.048*I,                0,                0],\n",
       "[  0,       0,                0,                0, -0.117 - 0.076*I,                0,                0,                0,            0.513,  0.057 + 0.504*I,                0, 0.056 - 0.266*I,                0,               0, -0.136 + 0.083*I,  0.065 + 0.444*I],\n",
       "[  0,       0,                0,                0, -0.001 + 0.009*I,                0,                0,                0, -0.051 + 0.499*I,            0.517,                0,   0.5 - 0.004*I,                0,               0,   -0.2 + 0.098*I,  0.538 + 0.031*I],\n",
       "[  0,       0,                0,                0,                0,                0,                0,                0,                0,                0,                0,               0,            0.796, 0.329 - 0.419*I,                0,                0],\n",
       "[  0,       0,   0.462 + 0.41*I, -0.012 - 0.264*I,                0,  0.041 + 0.151*I,  0.012 - 0.046*I,   0.02 + 0.008*I,                0,                0,    0.1 + 0.077*I,               0,  0.002 + 0.009*I, 0.016 + 0.009*I,                0,                0],\n",
       "[  0,       0,                0,                0,   0.017 + 0.01*I,                0,                0,                0,   0.11 - 0.474*I,  -0.47 + 0.057*I,                0,           0.525,                0,               0, -0.201 + 0.103*I,            0.542],\n",
       "[  0,       0,                0,                0,  0.003 + 0.007*I,                0,                0,                0,  0.488 + 0.097*I, -0.058 + 0.495*I,                0,  0.083 + 0.32*I,                0,               0,   0.03 - 0.131*I,  -0.04 - 0.425*I],\n",
       "[  0,       0,                0,                0,                0,                0,                0,                0,                0,                0,                0,               0,  0.282 - 0.523*I,           0.804,                0,                0]])"
      ]
     },
     "metadata": {},
     "output_type": "display_data"
    }
   ],
   "source": [
    "eigvals, r = np.linalg.eig(f_xid)\n",
    "\n",
    "disp_np(r)"
   ]
  },
  {
   "cell_type": "code",
   "execution_count": 12,
   "metadata": {},
   "outputs": [
    {
     "data": {
      "text/latex": [
       "$\\displaystyle \\left[\\begin{array}{cccccccccccccccc}0 & 0 & 0 & 0 & 0 & 0 & 0 & 0 & 0 & 0 & 0 & 0 & 0 & 0 & 0 & 0\\\\0 & 0 & 0 & 0 & 0 & 0 & 0 & 0 & 0 & 0 & 0 & 0 & 0 & 0 & 0 & 0\\\\0 & 0 & 0 & 0 & 0 & 0 & 0 & 0 & 0 & 0 & 0 & 0 & 0 & 0 & 0 & 0\\\\0 & 0 & 0 & 0 & 0 & 0 & 0 & 0 & 0 & 0 & 0 & 0 & 0 & 0 & 0 & 0\\\\0 & 0 & 0 & 0 & 0 & 0 & 0 & 0 & 0 & 0 & 0 & 0 & 0 & 0 & 0 & 0\\\\0 & 0 & 0 & 0 & 0 & 0 & 0 & 0 & 0 & 0 & 0 & 0 & 0 & 0 & 0 & 0\\\\0 & 0 & 0 & 0 & 0 & 0 & 0 & 0 & 0 & 0 & 0 & 0 & 0 & 0 & 0 & 0\\\\0 & 0 & 0 & 0 & 0 & 0 & 0 & 0 & 0 & 0 & 0 & 0 & 0 & 0 & 0 & 0\\\\0 & 0 & 0 & 0 & 0 & 0 & 0 & 0 & 0 & 0 & 0 & 0 & 0 & 0 & 0 & 0\\\\0 & 0 & 0 & 0 & 0 & 0 & 0 & 0 & 0 & 0.5 & 0 & 0 & 0 & 0 & 0 & 0.5\\\\0 & 0 & 0 & 0 & 0 & 0 & 0 & 0 & 0 & 0 & 0 & 0 & 0 & 0 & 0 & 0\\\\0 & 0 & 0 & 0 & 0 & 0 & 0 & 0 & 0 & 0 & 0 & 0 & 0 & 0 & 0 & 0\\\\0 & 0 & 0 & 0 & 0 & 0 & 0 & 0 & 0 & 0 & 0 & 0 & 0 & 0 & 0 & 0\\\\0 & 0 & 0 & 0 & 0 & 0 & 0 & 0 & 0 & 0 & 0 & 0 & 0 & 0 & 0 & 0\\\\0 & 0 & 0 & 0 & 0 & 0 & 0 & 0 & 0 & 0 & 0 & 0 & 0 & 0 & 0 & 0\\\\0 & 0 & 0 & 0 & 0 & 0 & 0 & 0 & 0 & 0 & 0 & 0 & 0 & 0 & 0 & 0\\end{array}\\right]$"
      ],
      "text/plain": [
       "Matrix([\n",
       "[0, 0, 0, 0, 0, 0, 0, 0, 0,   0, 0, 0, 0, 0, 0,   0],\n",
       "[0, 0, 0, 0, 0, 0, 0, 0, 0,   0, 0, 0, 0, 0, 0,   0],\n",
       "[0, 0, 0, 0, 0, 0, 0, 0, 0,   0, 0, 0, 0, 0, 0,   0],\n",
       "[0, 0, 0, 0, 0, 0, 0, 0, 0,   0, 0, 0, 0, 0, 0,   0],\n",
       "[0, 0, 0, 0, 0, 0, 0, 0, 0,   0, 0, 0, 0, 0, 0,   0],\n",
       "[0, 0, 0, 0, 0, 0, 0, 0, 0,   0, 0, 0, 0, 0, 0,   0],\n",
       "[0, 0, 0, 0, 0, 0, 0, 0, 0,   0, 0, 0, 0, 0, 0,   0],\n",
       "[0, 0, 0, 0, 0, 0, 0, 0, 0,   0, 0, 0, 0, 0, 0,   0],\n",
       "[0, 0, 0, 0, 0, 0, 0, 0, 0,   0, 0, 0, 0, 0, 0,   0],\n",
       "[0, 0, 0, 0, 0, 0, 0, 0, 0, 0.5, 0, 0, 0, 0, 0, 0.5],\n",
       "[0, 0, 0, 0, 0, 0, 0, 0, 0,   0, 0, 0, 0, 0, 0,   0],\n",
       "[0, 0, 0, 0, 0, 0, 0, 0, 0,   0, 0, 0, 0, 0, 0,   0],\n",
       "[0, 0, 0, 0, 0, 0, 0, 0, 0,   0, 0, 0, 0, 0, 0,   0],\n",
       "[0, 0, 0, 0, 0, 0, 0, 0, 0,   0, 0, 0, 0, 0, 0,   0],\n",
       "[0, 0, 0, 0, 0, 0, 0, 0, 0,   0, 0, 0, 0, 0, 0,   0],\n",
       "[0, 0, 0, 0, 0, 0, 0, 0, 0,   0, 0, 0, 0, 0, 0,   0]])"
      ]
     },
     "metadata": {},
     "output_type": "display_data"
    }
   ],
   "source": [
    "mql = get_mql_nonm('z', 'xid')\n",
    "disp_np(mql)"
   ]
  },
  {
   "cell_type": "code",
   "execution_count": 51,
   "metadata": {},
   "outputs": [
    {
     "data": {
      "text/latex": [
       "$\\displaystyle \\left[\\begin{array}{cccccccccccccccc}0 & 0 & 0 & 0 & 0 & 0 & 0 & 0 & 0 & 0 & 0 & 0 & 0 & 0 & 0 & 0\\\\0 & 0 & 0 & 0 & 0 & 0 & 0 & 0 & 0 & 0 & 0 & 0 & 0 & 0 & 0 & 0\\\\0 & 0 & 1.0 & 0 & 0 & 0 & 0 & 0 & 0 & 0 & 0 & 0 & 0 & 0 & 0 & 0\\\\0 & 0 & 0 & 1.0 & 0 & 0 & 0 & 0 & 0 & 0 & 0 & 0 & 0 & 0 & 0 & 0\\\\0 & 0 & 0 & 0 & 0 & 0 & 0 & 0 & 0 & 0 & 0 & 0 & 0 & 0 & 0 & 0\\\\0 & 0 & 0 & 0 & 0 & 1.0 & 0 & 0 & 0 & 0 & 0 & 0 & 0 & 0 & 0 & 0\\\\0 & 0 & 0 & 0 & 0 & 0 & 1.0 & 0 & 0 & 0 & 0 & 0 & 0 & 0 & 0 & 0\\\\0 & 0 & 0 & 0 & 0 & 0 & 0 & 1.0 & 0 & 0 & 0 & 0 & 0 & 0 & 0 & 0\\\\0 & 0 & 0 & 0 & 0 & 0 & 0 & 0 & 0 & 0 & 0 & 0 & 0 & 0 & 0 & 0\\\\0 & 0 & 0 & 0 & 0 & 0 & 0 & 0 & 0 & 0 & 0 & 0 & 0 & 0 & 0 & 0\\\\0 & 0 & 0 & 0 & 0 & 0 & 0 & 0 & 0 & 0 & 1.0 & 0 & 0 & 0 & 0 & 0\\\\0 & 0 & 0 & 0 & 0 & 0 & 0 & 0 & 0 & 0 & 0 & 0 & 0 & 0 & 0 & 0\\\\0 & 0 & 0 & 0 & 0 & 0 & 0 & 0 & 0 & 0 & 0 & 0 & 1.0 & 0 & 0 & 0\\\\0 & 0 & 0 & 0 & 0 & 0 & 0 & 0 & 0 & 0 & 0 & 0 & 0 & 1.0 & 0 & 0\\\\0 & 0 & 0 & 0 & 0 & 0 & 0 & 0 & 0 & 0 & 0 & 0 & 0 & 0 & 0 & 0\\\\0 & 0 & 0 & 0 & 0 & 0 & 0 & 0 & 0 & 0 & 0 & 0 & 0 & 0 & 0 & 0\\end{array}\\right]$"
      ],
      "text/plain": [
       "Matrix([\n",
       "[0, 0,   0,   0, 0,   0,   0,   0, 0, 0,   0, 0,   0,   0, 0, 0],\n",
       "[0, 0,   0,   0, 0,   0,   0,   0, 0, 0,   0, 0,   0,   0, 0, 0],\n",
       "[0, 0, 1.0,   0, 0,   0,   0,   0, 0, 0,   0, 0,   0,   0, 0, 0],\n",
       "[0, 0,   0, 1.0, 0,   0,   0,   0, 0, 0,   0, 0,   0,   0, 0, 0],\n",
       "[0, 0,   0,   0, 0,   0,   0,   0, 0, 0,   0, 0,   0,   0, 0, 0],\n",
       "[0, 0,   0,   0, 0, 1.0,   0,   0, 0, 0,   0, 0,   0,   0, 0, 0],\n",
       "[0, 0,   0,   0, 0,   0, 1.0,   0, 0, 0,   0, 0,   0,   0, 0, 0],\n",
       "[0, 0,   0,   0, 0,   0,   0, 1.0, 0, 0,   0, 0,   0,   0, 0, 0],\n",
       "[0, 0,   0,   0, 0,   0,   0,   0, 0, 0,   0, 0,   0,   0, 0, 0],\n",
       "[0, 0,   0,   0, 0,   0,   0,   0, 0, 0,   0, 0,   0,   0, 0, 0],\n",
       "[0, 0,   0,   0, 0,   0,   0,   0, 0, 0, 1.0, 0,   0,   0, 0, 0],\n",
       "[0, 0,   0,   0, 0,   0,   0,   0, 0, 0,   0, 0,   0,   0, 0, 0],\n",
       "[0, 0,   0,   0, 0,   0,   0,   0, 0, 0,   0, 0, 1.0,   0, 0, 0],\n",
       "[0, 0,   0,   0, 0,   0,   0,   0, 0, 0,   0, 0,   0, 1.0, 0, 0],\n",
       "[0, 0,   0,   0, 0,   0,   0,   0, 0, 0,   0, 0,   0,   0, 0, 0],\n",
       "[0, 0,   0,   0, 0,   0,   0,   0, 0, 0,   0, 0,   0,   0, 0, 0]])"
      ]
     },
     "metadata": {},
     "output_type": "display_data"
    }
   ],
   "source": [
    "disp_np(np.diag(eigvals))"
   ]
  },
  {
   "cell_type": "code",
   "execution_count": null,
   "metadata": {},
   "outputs": [],
   "source": [
    "ab = np.linalg.inv(r) @ mql @ r\n",
    "disp_np(ab)\n",
    "np.sum(np.diagonal(ab))"
   ]
  },
  {
   "cell_type": "code",
   "execution_count": 1,
   "metadata": {},
   "outputs": [
    {
     "data": {
      "text/latex": [
       "$\\displaystyle \\left[\\begin{array}{cc}\\rho_{0, 0} & \\rho_{0, 1}\\\\\\rho_{1, 0} & \\rho_{1, 1}\\end{array}\\right]$"
      ],
      "text/plain": [
       "Matrix([\n",
       "[rho[0, 0], rho[0, 1]],\n",
       "[rho[1, 0], rho[1, 1]]])"
      ]
     },
     "execution_count": 1,
     "metadata": {},
     "output_type": "execute_result"
    }
   ],
   "source": [
    "import numpy as np\n",
    "from sympy import *\n",
    "from fourier_info import *\n",
    "def disp(a):\n",
    "    display(Matrix(a.round(3)))\n",
    "\n",
    "state = Matrix(MatrixSymbol('rho', 2, 2))\n",
    "state"
   ]
  },
  {
   "cell_type": "code",
   "execution_count": 2,
   "metadata": {},
   "outputs": [
    {
     "data": {
      "text/plain": [
       "[array([[1., 0.],\n",
       "        [0., 1.]]),\n",
       " array([[0, 1],\n",
       "        [1, 0]]),\n",
       " array([[ 0.+0.j, -0.-1.j],\n",
       "        [ 0.+1.j,  0.+0.j]]),\n",
       " array([[ 1,  0],\n",
       "        [ 0, -1]])]"
      ]
     },
     "execution_count": 2,
     "metadata": {},
     "output_type": "execute_result"
    }
   ],
   "source": [
    "paulis = [s0, s1, s2, s3]\n",
    "paulis"
   ]
  },
  {
   "cell_type": "code",
   "execution_count": 3,
   "metadata": {},
   "outputs": [
    {
     "data": {
      "text/plain": [
       "[array([[1.+0.j, 0.+0.j],\n",
       "        [0.+0.j, 1.+0.j]]),\n",
       " array([[0.+0.j, 1.+0.j],\n",
       "        [1.+0.j, 0.+0.j]]),\n",
       " array([[0.+0.j, 0.-1.j],\n",
       "        [0.+1.j, 0.+0.j]]),\n",
       " array([[ 1.+0.j,  0.+0.j],\n",
       "        [ 0.+0.j, -1.+0.j]]),\n",
       " array([[0.+1.j, 0.+0.j],\n",
       "        [0.+0.j, 0.+1.j]]),\n",
       " array([[0.+0.j, 0.+1.j],\n",
       "        [0.+1.j, 0.+0.j]]),\n",
       " array([[ 0.+0.j,  1.-0.j],\n",
       "        [-1.+0.j,  0.+0.j]]),\n",
       " array([[ 0.+1.j,  0.+0.j],\n",
       "        [ 0.+0.j, -0.-1.j]]),\n",
       " array([[-1.+0.j, -0.+0.j],\n",
       "        [-0.+0.j, -1.+0.j]]),\n",
       " array([[-0.+0.j, -1.+0.j],\n",
       "        [-1.+0.j, -0.+0.j]]),\n",
       " array([[-0.+0.j,  0.+1.j],\n",
       "        [-0.-1.j, -0.+0.j]]),\n",
       " array([[-1.+0.j, -0.+0.j],\n",
       "        [-0.+0.j,  1.-0.j]]),\n",
       " array([[0.-1.j, 0.-0.j],\n",
       "        [0.-0.j, 0.-1.j]]),\n",
       " array([[0.-0.j, 0.-1.j],\n",
       "        [0.-1.j, 0.-0.j]]),\n",
       " array([[ 0.-0.j, -1.+0.j],\n",
       "        [ 1.-0.j,  0.-0.j]]),\n",
       " array([[0.-1.j, 0.-0.j],\n",
       "        [0.-0.j, 0.+1.j]])]"
      ]
     },
     "execution_count": 3,
     "metadata": {},
     "output_type": "execute_result"
    }
   ],
   "source": [
    "paulis_group = []\n",
    "for k in range(4):\n",
    "    for p in paulis:\n",
    "        paulis_group.append(((1j) ** k) * p)\n",
    "paulis_group"
   ]
  },
  {
   "cell_type": "code",
   "execution_count": 8,
   "metadata": {},
   "outputs": [
    {
     "data": {
      "text/latex": [
       "$\\displaystyle \\left[\\begin{matrix}0 & 0 & 0 & 0\\\\0 & 0 & 0 & 0\\\\0 & 0 & 0 & 0\\\\0 & 0 & 0 & 1.0\\end{matrix}\\right]$"
      ],
      "text/plain": [
       "Matrix([\n",
       "[0, 0, 0,   0],\n",
       "[0, 0, 0,   0],\n",
       "[0, 0, 0,   0],\n",
       "[0, 0, 0, 1.0]])"
      ]
     },
     "metadata": {},
     "output_type": "display_data"
    }
   ],
   "source": [
    "res = np.zeros((4, 4), dtype=complex)\n",
    "for p in paulis_group:\n",
    "    omega_g = to_pauli_op(p)\n",
    "    chi_g = np.conj(omega_g[-1][-1])\n",
    "    res += chi_g * omega_g\n",
    "res /= len(pauli_group)\n",
    "disp(res)\n"
   ]
  },
  {
   "cell_type": "code",
   "execution_count": 4,
   "metadata": {},
   "outputs": [
    {
     "data": {
      "text/latex": [
       "$\\displaystyle \\left[\\begin{matrix}\\rho_{00} - 0.5 & 0\\\\0 & \\rho_{11} - 0.5\\end{matrix}\\right]$"
      ],
      "text/plain": [
       "Matrix([\n",
       "[rho00 - 0.5,           0],\n",
       "[          0, rho11 - 0.5]])"
      ]
     },
     "execution_count": 4,
     "metadata": {},
     "output_type": "execute_result"
    }
   ],
   "source": [
    "state = Matrix([[Symbol('rho00')-1/2, 0], [0, Symbol('rho11')-1/2]])\n",
    "state"
   ]
  },
  {
   "cell_type": "code",
   "execution_count": 6,
   "metadata": {},
   "outputs": [
    {
     "name": "stdout",
     "output_type": "stream",
     "text": [
      "0 0 0 0\n",
      "0 1 4 1\n",
      "0 2 8 1\n",
      "0 3 12 0\n",
      "1 0 4 0\n",
      "1 1 8 0\n",
      "1 2 12 0\n",
      "1 3 16 1\n",
      "2 0 8 1\n",
      "2 1 12 1\n",
      "2 2 16 1\n",
      "2 3 20 1\n",
      "3 0 12 1\n",
      "3 1 16 0\n",
      "3 2 20 0\n",
      "3 3 24 0\n"
     ]
    }
   ],
   "source": [
    "for k in range(4):\n",
    "    for j in range(4):\n",
    "        if (Matrix(pauli_group[k*4+j]) * state * Matrix(pauli_group[k*4+j].T.conj()) - state)[0, 0] == 0:\n",
    "            print(k, j, 4*k + 4*j, 0)\n",
    "        else:\n",
    "            print(k, j, 4*k + 4*j, 1)\n",
    "            # display(Matrix(pauli_group[k*4+j]) * state * Matrix(pauli_group[k*4+j].T.conj()))"
   ]
  },
  {
   "cell_type": "code",
   "execution_count": null,
   "metadata": {},
   "outputs": [],
   "source": []
  },
  {
   "cell_type": "code",
   "execution_count": 1,
   "metadata": {},
   "outputs": [
    {
     "data": {
      "text/plain": [
       "array([[ 0, -1],\n",
       "       [ 1,  0]])"
      ]
     },
     "execution_count": 1,
     "metadata": {},
     "output_type": "execute_result"
    }
   ],
   "source": [
    "import numpy as np\n",
    "s1 = np.array([[0, 1], [1, 0]])\n",
    "s3 = np.array([[1, 0], [0, -1]])\n",
    "s1 @ s3"
   ]
  },
  {
   "cell_type": "code",
   "execution_count": 2,
   "metadata": {},
   "outputs": [
    {
     "data": {
      "text/plain": [
       "array([[ 0,  1],\n",
       "       [-1,  0]])"
      ]
     },
     "execution_count": 2,
     "metadata": {},
     "output_type": "execute_result"
    }
   ],
   "source": [
    "s3 @ s1"
   ]
  },
  {
   "cell_type": "code",
   "execution_count": 4,
   "metadata": {},
   "outputs": [
    {
     "data": {
      "text/plain": [
       "array([[ 0, -2],\n",
       "       [ 2,  0]])"
      ]
     },
     "execution_count": 4,
     "metadata": {},
     "output_type": "execute_result"
    }
   ],
   "source": [
    "(s1 @ s3) - (s3 @ s1)"
   ]
  },
  {
   "cell_type": "code",
   "execution_count": 6,
   "metadata": {},
   "outputs": [
    {
     "data": {
      "text/plain": [
       "array([[ 0., -2.],\n",
       "       [ 2.,  0.]])"
      ]
     },
     "execution_count": 6,
     "metadata": {},
     "output_type": "execute_result"
    }
   ],
   "source": [
    "s2 = np.array([[0, -1j], [1j, 0]])\n",
    "(- 2 * 1j * s2).real"
   ]
  },
  {
   "cell_type": "code",
   "execution_count": 7,
   "metadata": {},
   "outputs": [
    {
     "data": {
      "text/plain": [
       "array([[ 0, -1],\n",
       "       [-1,  0]])"
      ]
     },
     "execution_count": 7,
     "metadata": {},
     "output_type": "execute_result"
    }
   ],
   "source": [
    "s3 @ s1 @ s3"
   ]
  },
  {
   "cell_type": "code",
   "execution_count": 8,
   "metadata": {},
   "outputs": [
    {
     "data": {
      "text/plain": [
       "array([[-0.   +0.j,  0.   +0.j, -0.   +0.j,  0.   +0.j],\n",
       "       [ 0.   +0.j,  0.01 -0.j,  0.101+0.j, -0.006+0.j],\n",
       "       [ 0.   +0.j,  0.091-0.j,  0.953+0.j,  0.191-0.j],\n",
       "       [-0.   +0.j, -0.044+0.j, -0.186-0.j,  0.962-0.j]])"
      ]
     },
     "execution_count": 8,
     "metadata": {},
     "output_type": "execute_result"
    }
   ],
   "source": [
    "from fourier_info import to_pauli_op\n",
    "import numpy as np\n",
    "\n",
    "u = np.array([[0.969+0.153*1j, 0.015+0.194*1j], [-0.037+0.191*1j, 0.98-0.043*1j]])\n",
    "f = (np.eye(4, dtype=complex) - (to_pauli_op(u) @ np.array([[1, 0, 0, 0], [0, 1, 0, 0], [0, 0, -1, 0], [0, 0, 0, -1]]))) / 2\n",
    "f.round(3)"
   ]
  },
  {
   "cell_type": "code",
   "execution_count": 9,
   "metadata": {},
   "outputs": [
    {
     "data": {
      "text/plain": [
       "array([[-0.   -0.j   ,  0.   +0.j   ,  0.   +0.j   ,  0.   +0.j   ],\n",
       "       [ 0.   +0.j   ,  0.   -0.j   ,  0.   +0.j   ,  0.   +0.j   ],\n",
       "       [ 0.   +0.j   ,  0.   +0.j   ,  0.963-0.189j,  0.   +0.j   ],\n",
       "       [ 0.   +0.j   ,  0.   +0.j   ,  0.   +0.j   ,  0.963+0.189j]])"
      ]
     },
     "execution_count": 9,
     "metadata": {},
     "output_type": "execute_result"
    }
   ],
   "source": [
    "np.diag(np.linalg.eigvals(f).round(3))"
   ]
  },
  {
   "cell_type": "code",
   "execution_count": 10,
   "metadata": {},
   "outputs": [
    {
     "data": {
      "text/plain": [
       "array([-2.15641754e-04-1.01606541e-17j,  5.06457812e-05-1.02358992e-17j,\n",
       "        9.62905248e-01-1.89212099e-01j,  9.62905248e-01+1.89212099e-01j])"
      ]
     },
     "execution_count": 10,
     "metadata": {},
     "output_type": "execute_result"
    }
   ],
   "source": [
    "np.linalg.eigvals(f)"
   ]
  },
  {
   "cell_type": "code",
   "execution_count": 6,
   "metadata": {},
   "outputs": [],
   "source": [
    "from fourier_info import get_noisy_fourier, rx, s2, to_pauli_op\n",
    "import numpy as np\n",
    "from sympy import Matrix\n",
    "\n",
    "def disp(a):\n",
    "    display(Matrix(a))"
   ]
  },
  {
   "cell_type": "code",
   "execution_count": 7,
   "metadata": {},
   "outputs": [],
   "source": [
    "un = to_pauli_op(np.array([[0.834+0.46*1j, 0.285-0.104*1j],\n",
    "                [-0.227-0.202*1j, 0.945-0.121*1j]]))\n",
    "\n",
    "f = get_noisy_fourier(un, 'four', [rx(np.pi / 2), s2, rx(3 * np.pi / 2)])"
   ]
  },
  {
   "cell_type": "code",
   "execution_count": 8,
   "metadata": {},
   "outputs": [
    {
     "data": {
      "text/latex": [
       "$\\displaystyle \\left[\\begin{matrix}6.46154132659966 \\cdot 10^{-18} & 0 & 3.8537319574609 \\cdot 10^{-5} + 0.000184201316499117 i & -3.85373195746251 \\cdot 10^{-5} + 0.000184201316499089 i\\\\0 & -1.31585370414252 \\cdot 10^{-17} & 0.199456084643023 - 0.160667388607645 i & -0.199456084643023 - 0.160667388607645 i\\\\0 & 0 & 0.10215475 - 0.141009 i & 0.00976674999999997 - 0.0770874999999999 i\\\\0 & 0 & -0.00976674999999999 - 0.0770874999999999 i & 0.897845249999999 - 0.141009 i\\end{matrix}\\right]$"
      ],
      "text/plain": [
       "Matrix([\n",
       "[6.46154132659966e-18,                     0, 3.8537319574609e-5 + 0.000184201316499117*I, -3.85373195746251e-5 + 0.000184201316499089*I],\n",
       "[                   0, -1.31585370414252e-17,     0.199456084643023 - 0.160667388607645*I,      -0.199456084643023 - 0.160667388607645*I],\n",
       "[                   0,                     0,                     0.10215475 - 0.141009*I,    0.00976674999999997 - 0.0770874999999999*I],\n",
       "[                   0,                     0, -0.00976674999999999 - 0.0770874999999999*I,                0.897845249999999 - 0.141009*I]])"
      ]
     },
     "metadata": {},
     "output_type": "display_data"
    }
   ],
   "source": [
    "disp(f)"
   ]
  },
  {
   "cell_type": "code",
   "execution_count": 11,
   "metadata": {},
   "outputs": [
    {
     "data": {
      "text/latex": [
       "$\\displaystyle \\left[\\begin{matrix}6.46154132659966 \\cdot 10^{-18} & 0 & 0 & 0\\\\0 & -1.31585370414252 \\cdot 10^{-17} & 0 & 0\\\\0 & 0 & 0.109816747046019 - 0.141009 i & 0\\\\0 & 0 & 0 & 0.89018325295398 - 0.141009 i\\end{matrix}\\right]$"
      ],
      "text/plain": [
       "Matrix([\n",
       "[6.46154132659966e-18,                     0,                              0,                             0],\n",
       "[                   0, -1.31585370414252e-17,                              0,                             0],\n",
       "[                   0,                     0, 0.109816747046019 - 0.141009*I,                             0],\n",
       "[                   0,                     0,                              0, 0.89018325295398 - 0.141009*I]])"
      ]
     },
     "metadata": {},
     "output_type": "display_data"
    }
   ],
   "source": [
    "w = np.linalg.eigvals(f)\n",
    "disp(np.diag(w))"
   ]
  },
  {
   "cell_type": "code",
   "execution_count": null,
   "metadata": {},
   "outputs": [],
   "source": []
  }
 ],
 "metadata": {
  "kernelspec": {
   "display_name": "qibocal-env",
   "language": "python",
   "name": "python3"
  },
  "language_info": {
   "codemirror_mode": {
    "name": "ipython",
    "version": 3
   },
   "file_extension": ".py",
   "mimetype": "text/x-python",
   "name": "python",
   "nbconvert_exporter": "python",
   "pygments_lexer": "ipython3",
   "version": "3.9.15"
  },
  "orig_nbformat": 4,
  "vscode": {
   "interpreter": {
    "hash": "271a58ac32cd0bc78b0d07eb1708482ccfb9137245e96a6727839ca9bdffef80"
   }
  }
 },
 "nbformat": 4,
 "nbformat_minor": 2
}
